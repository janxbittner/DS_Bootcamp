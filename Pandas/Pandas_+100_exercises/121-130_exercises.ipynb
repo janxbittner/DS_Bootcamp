{
 "cells": [
  {
   "cell_type": "markdown",
   "metadata": {
    "id": "zeLOLmTj1kBM"
   },
   "source": [
    "### <a name='0'></a>Import libraries"
   ]
  },
  {
   "cell_type": "code",
   "execution_count": 1,
   "metadata": {
    "id": "HXMB7SMe1Wnz"
   },
   "outputs": [
    {
     "data": {
      "text/plain": [
       "'1.19.2'"
      ]
     },
     "execution_count": 1,
     "metadata": {},
     "output_type": "execute_result"
    }
   ],
   "source": [
    "import numpy as np\n",
    "import pandas as pd\n",
    "import matplotlib.pyplot as plt\n",
    "import seaborn as sns\n",
    "\n",
    "sns.set()\n",
    "np.__version__"
   ]
  },
  {
   "cell_type": "markdown",
   "metadata": {
    "id": "d1KXPVTVcwTX"
   },
   "source": [
    "Function _fetch_financial_data()_ download data from stocks. It will be used in this exercise.To download stocks information about company call the function with its short name.\n",
    "\n",
    "Some examples of short name of companies:\n",
    "* AMZN - Amazon\n",
    "* GOOGL - Google\n",
    "* MSFT - Microsoft\n",
    "* AAPL - Apple\n",
    "* NKE - Nike\n",
    "* WMT - Walmart"
   ]
  },
  {
   "cell_type": "code",
   "execution_count": 2,
   "metadata": {
    "id": "gTRegewub5oK"
   },
   "outputs": [],
   "source": [
    "def fetch_financial_data(company='AMZN'):\n",
    "    \"\"\"\n",
    "    This function fetches stock market quotations.\n",
    "    \"\"\"\n",
    "    import pandas_datareader.data as web\n",
    "    return web.DataReader(name=company, data_source='stooq')"
   ]
  },
  {
   "cell_type": "markdown",
   "metadata": {
    "id": "cyc70pMe1oCg"
   },
   "source": [
    "### <a name='1'></a> Exercise 121\n",
    "Use the function called _fetch_financial_data()_ and download stock informationabout Google (Alphabet). Then assign values to variable _google_ and show object _google_."
   ]
  },
  {
   "cell_type": "code",
   "execution_count": 3,
   "metadata": {
    "id": "LtMEvHZicna7"
   },
   "outputs": [
    {
     "data": {
      "text/html": [
       "<div>\n",
       "<style scoped>\n",
       "    .dataframe tbody tr th:only-of-type {\n",
       "        vertical-align: middle;\n",
       "    }\n",
       "\n",
       "    .dataframe tbody tr th {\n",
       "        vertical-align: top;\n",
       "    }\n",
       "\n",
       "    .dataframe thead th {\n",
       "        text-align: right;\n",
       "    }\n",
       "</style>\n",
       "<table border=\"1\" class=\"dataframe\">\n",
       "  <thead>\n",
       "    <tr style=\"text-align: right;\">\n",
       "      <th></th>\n",
       "      <th>Open</th>\n",
       "      <th>High</th>\n",
       "      <th>Low</th>\n",
       "      <th>Close</th>\n",
       "      <th>Volume</th>\n",
       "    </tr>\n",
       "    <tr>\n",
       "      <th>Date</th>\n",
       "      <th></th>\n",
       "      <th></th>\n",
       "      <th></th>\n",
       "      <th></th>\n",
       "      <th></th>\n",
       "    </tr>\n",
       "  </thead>\n",
       "  <tbody>\n",
       "    <tr>\n",
       "      <th>2021-03-04</th>\n",
       "      <td>2014.869</td>\n",
       "      <td>2074.59</td>\n",
       "      <td>2005.43</td>\n",
       "      <td>2033.93</td>\n",
       "      <td>2460786</td>\n",
       "    </tr>\n",
       "    <tr>\n",
       "      <th>2021-03-03</th>\n",
       "      <td>2051.950</td>\n",
       "      <td>2075.99</td>\n",
       "      <td>1994.00</td>\n",
       "      <td>2011.41</td>\n",
       "      <td>1694645</td>\n",
       "    </tr>\n",
       "    <tr>\n",
       "      <th>2021-03-02</th>\n",
       "      <td>2064.840</td>\n",
       "      <td>2094.74</td>\n",
       "      <td>2056.67</td>\n",
       "      <td>2064.48</td>\n",
       "      <td>1278184</td>\n",
       "    </tr>\n",
       "    <tr>\n",
       "      <th>2021-03-01</th>\n",
       "      <td>2048.000</td>\n",
       "      <td>2076.23</td>\n",
       "      <td>2034.42</td>\n",
       "      <td>2069.66</td>\n",
       "      <td>1303089</td>\n",
       "    </tr>\n",
       "    <tr>\n",
       "      <th>2021-02-26</th>\n",
       "      <td>2029.950</td>\n",
       "      <td>2056.52</td>\n",
       "      <td>2001.01</td>\n",
       "      <td>2021.91</td>\n",
       "      <td>2002064</td>\n",
       "    </tr>\n",
       "    <tr>\n",
       "      <th>...</th>\n",
       "      <td>...</td>\n",
       "      <td>...</td>\n",
       "      <td>...</td>\n",
       "      <td>...</td>\n",
       "      <td>...</td>\n",
       "    </tr>\n",
       "    <tr>\n",
       "      <th>2016-03-11</th>\n",
       "      <td>739.950</td>\n",
       "      <td>744.90</td>\n",
       "      <td>736.70</td>\n",
       "      <td>744.87</td>\n",
       "      <td>1195783</td>\n",
       "    </tr>\n",
       "    <tr>\n",
       "      <th>2016-03-10</th>\n",
       "      <td>727.790</td>\n",
       "      <td>736.54</td>\n",
       "      <td>723.29</td>\n",
       "      <td>732.17</td>\n",
       "      <td>2230811</td>\n",
       "    </tr>\n",
       "    <tr>\n",
       "      <th>2016-03-09</th>\n",
       "      <td>715.165</td>\n",
       "      <td>726.24</td>\n",
       "      <td>712.66</td>\n",
       "      <td>725.41</td>\n",
       "      <td>1349753</td>\n",
       "    </tr>\n",
       "    <tr>\n",
       "      <th>2016-03-08</th>\n",
       "      <td>708.390</td>\n",
       "      <td>722.25</td>\n",
       "      <td>704.00</td>\n",
       "      <td>713.53</td>\n",
       "      <td>2159235</td>\n",
       "    </tr>\n",
       "    <tr>\n",
       "      <th>2016-03-07</th>\n",
       "      <td>725.150</td>\n",
       "      <td>727.21</td>\n",
       "      <td>705.14</td>\n",
       "      <td>712.80</td>\n",
       "      <td>2533911</td>\n",
       "    </tr>\n",
       "  </tbody>\n",
       "</table>\n",
       "<p>1258 rows × 5 columns</p>\n",
       "</div>"
      ],
      "text/plain": [
       "                Open     High      Low    Close   Volume\n",
       "Date                                                    \n",
       "2021-03-04  2014.869  2074.59  2005.43  2033.93  2460786\n",
       "2021-03-03  2051.950  2075.99  1994.00  2011.41  1694645\n",
       "2021-03-02  2064.840  2094.74  2056.67  2064.48  1278184\n",
       "2021-03-01  2048.000  2076.23  2034.42  2069.66  1303089\n",
       "2021-02-26  2029.950  2056.52  2001.01  2021.91  2002064\n",
       "...              ...      ...      ...      ...      ...\n",
       "2016-03-11   739.950   744.90   736.70   744.87  1195783\n",
       "2016-03-10   727.790   736.54   723.29   732.17  2230811\n",
       "2016-03-09   715.165   726.24   712.66   725.41  1349753\n",
       "2016-03-08   708.390   722.25   704.00   713.53  2159235\n",
       "2016-03-07   725.150   727.21   705.14   712.80  2533911\n",
       "\n",
       "[1258 rows x 5 columns]"
      ]
     },
     "execution_count": 3,
     "metadata": {},
     "output_type": "execute_result"
    }
   ],
   "source": [
    "google = fetch_financial_data('GOOGL')\n",
    "google"
   ]
  },
  {
   "cell_type": "markdown",
   "metadata": {
    "id": "J9pY1rtr1sC0"
   },
   "source": [
    "### <a name='2'></a> Exercise 122\n",
    "Print information about variable _google_."
   ]
  },
  {
   "cell_type": "code",
   "execution_count": 4,
   "metadata": {
    "id": "0QE4WiIDeGqy"
   },
   "outputs": [
    {
     "name": "stdout",
     "output_type": "stream",
     "text": [
      "<class 'pandas.core.frame.DataFrame'>\n",
      "DatetimeIndex: 1258 entries, 2021-03-04 to 2016-03-07\n",
      "Data columns (total 5 columns):\n",
      " #   Column  Non-Null Count  Dtype  \n",
      "---  ------  --------------  -----  \n",
      " 0   Open    1258 non-null   float64\n",
      " 1   High    1258 non-null   float64\n",
      " 2   Low     1258 non-null   float64\n",
      " 3   Close   1258 non-null   float64\n",
      " 4   Volume  1258 non-null   int64  \n",
      "dtypes: float64(4), int64(1)\n",
      "memory usage: 59.0 KB\n"
     ]
    }
   ],
   "source": [
    "google.info()"
   ]
  },
  {
   "cell_type": "markdown",
   "metadata": {
    "id": "yic8GlyieMAv"
   },
   "source": [
    "Print basic statistics from variable _google_."
   ]
  },
  {
   "cell_type": "code",
   "execution_count": 5,
   "metadata": {
    "id": "8CiWPVl0eJ2B"
   },
   "outputs": [
    {
     "data": {
      "text/html": [
       "<div>\n",
       "<style scoped>\n",
       "    .dataframe tbody tr th:only-of-type {\n",
       "        vertical-align: middle;\n",
       "    }\n",
       "\n",
       "    .dataframe tbody tr th {\n",
       "        vertical-align: top;\n",
       "    }\n",
       "\n",
       "    .dataframe thead th {\n",
       "        text-align: right;\n",
       "    }\n",
       "</style>\n",
       "<table border=\"1\" class=\"dataframe\">\n",
       "  <thead>\n",
       "    <tr style=\"text-align: right;\">\n",
       "      <th></th>\n",
       "      <th>Open</th>\n",
       "      <th>High</th>\n",
       "      <th>Low</th>\n",
       "      <th>Close</th>\n",
       "      <th>Volume</th>\n",
       "    </tr>\n",
       "  </thead>\n",
       "  <tbody>\n",
       "    <tr>\n",
       "      <th>count</th>\n",
       "      <td>1258.000000</td>\n",
       "      <td>1258.000000</td>\n",
       "      <td>1258.000000</td>\n",
       "      <td>1258.000000</td>\n",
       "      <td>1.258000e+03</td>\n",
       "    </tr>\n",
       "    <tr>\n",
       "      <th>mean</th>\n",
       "      <td>1139.488114</td>\n",
       "      <td>1150.730260</td>\n",
       "      <td>1128.611760</td>\n",
       "      <td>1140.126231</td>\n",
       "      <td>1.728993e+06</td>\n",
       "    </tr>\n",
       "    <tr>\n",
       "      <th>std</th>\n",
       "      <td>292.999528</td>\n",
       "      <td>298.110856</td>\n",
       "      <td>289.303841</td>\n",
       "      <td>293.760262</td>\n",
       "      <td>8.414142e+05</td>\n",
       "    </tr>\n",
       "    <tr>\n",
       "      <th>min</th>\n",
       "      <td>682.490000</td>\n",
       "      <td>683.325000</td>\n",
       "      <td>672.660000</td>\n",
       "      <td>681.140000</td>\n",
       "      <td>4.656380e+05</td>\n",
       "    </tr>\n",
       "    <tr>\n",
       "      <th>25%</th>\n",
       "      <td>940.325000</td>\n",
       "      <td>945.106250</td>\n",
       "      <td>933.952500</td>\n",
       "      <td>940.172500</td>\n",
       "      <td>1.189504e+06</td>\n",
       "    </tr>\n",
       "    <tr>\n",
       "      <th>50%</th>\n",
       "      <td>1110.210000</td>\n",
       "      <td>1119.155000</td>\n",
       "      <td>1096.530000</td>\n",
       "      <td>1107.770000</td>\n",
       "      <td>1.525496e+06</td>\n",
       "    </tr>\n",
       "    <tr>\n",
       "      <th>75%</th>\n",
       "      <td>1265.155000</td>\n",
       "      <td>1275.589900</td>\n",
       "      <td>1252.085000</td>\n",
       "      <td>1264.420000</td>\n",
       "      <td>1.978642e+06</td>\n",
       "    </tr>\n",
       "    <tr>\n",
       "      <th>max</th>\n",
       "      <td>2107.790000</td>\n",
       "      <td>2145.140000</td>\n",
       "      <td>2093.330000</td>\n",
       "      <td>2118.620000</td>\n",
       "      <td>6.658855e+06</td>\n",
       "    </tr>\n",
       "  </tbody>\n",
       "</table>\n",
       "</div>"
      ],
      "text/plain": [
       "              Open         High          Low        Close        Volume\n",
       "count  1258.000000  1258.000000  1258.000000  1258.000000  1.258000e+03\n",
       "mean   1139.488114  1150.730260  1128.611760  1140.126231  1.728993e+06\n",
       "std     292.999528   298.110856   289.303841   293.760262  8.414142e+05\n",
       "min     682.490000   683.325000   672.660000   681.140000  4.656380e+05\n",
       "25%     940.325000   945.106250   933.952500   940.172500  1.189504e+06\n",
       "50%    1110.210000  1119.155000  1096.530000  1107.770000  1.525496e+06\n",
       "75%    1265.155000  1275.589900  1252.085000  1264.420000  1.978642e+06\n",
       "max    2107.790000  2145.140000  2093.330000  2118.620000  6.658855e+06"
      ]
     },
     "execution_count": 5,
     "metadata": {},
     "output_type": "execute_result"
    }
   ],
   "source": [
    "google.describe()"
   ]
  },
  {
   "cell_type": "markdown",
   "metadata": {
    "id": "OwKsy3HRf1Z5"
   },
   "source": [
    "Set print options to show only two numbers after point.\n",
    "Print again google stats."
   ]
  },
  {
   "cell_type": "code",
   "execution_count": 6,
   "metadata": {
    "id": "mskz01W_gCy0"
   },
   "outputs": [
    {
     "data": {
      "text/html": [
       "<div>\n",
       "<style scoped>\n",
       "    .dataframe tbody tr th:only-of-type {\n",
       "        vertical-align: middle;\n",
       "    }\n",
       "\n",
       "    .dataframe tbody tr th {\n",
       "        vertical-align: top;\n",
       "    }\n",
       "\n",
       "    .dataframe thead th {\n",
       "        text-align: right;\n",
       "    }\n",
       "</style>\n",
       "<table border=\"1\" class=\"dataframe\">\n",
       "  <thead>\n",
       "    <tr style=\"text-align: right;\">\n",
       "      <th></th>\n",
       "      <th>Open</th>\n",
       "      <th>High</th>\n",
       "      <th>Low</th>\n",
       "      <th>Close</th>\n",
       "      <th>Volume</th>\n",
       "    </tr>\n",
       "  </thead>\n",
       "  <tbody>\n",
       "    <tr>\n",
       "      <th>count</th>\n",
       "      <td>1258.00</td>\n",
       "      <td>1258.00</td>\n",
       "      <td>1258.00</td>\n",
       "      <td>1258.00</td>\n",
       "      <td>1.26e+03</td>\n",
       "    </tr>\n",
       "    <tr>\n",
       "      <th>mean</th>\n",
       "      <td>1139.49</td>\n",
       "      <td>1150.73</td>\n",
       "      <td>1128.61</td>\n",
       "      <td>1140.13</td>\n",
       "      <td>1.73e+06</td>\n",
       "    </tr>\n",
       "    <tr>\n",
       "      <th>std</th>\n",
       "      <td>293.00</td>\n",
       "      <td>298.11</td>\n",
       "      <td>289.30</td>\n",
       "      <td>293.76</td>\n",
       "      <td>8.41e+05</td>\n",
       "    </tr>\n",
       "    <tr>\n",
       "      <th>min</th>\n",
       "      <td>682.49</td>\n",
       "      <td>683.33</td>\n",
       "      <td>672.66</td>\n",
       "      <td>681.14</td>\n",
       "      <td>4.66e+05</td>\n",
       "    </tr>\n",
       "    <tr>\n",
       "      <th>25%</th>\n",
       "      <td>940.33</td>\n",
       "      <td>945.11</td>\n",
       "      <td>933.95</td>\n",
       "      <td>940.17</td>\n",
       "      <td>1.19e+06</td>\n",
       "    </tr>\n",
       "    <tr>\n",
       "      <th>50%</th>\n",
       "      <td>1110.21</td>\n",
       "      <td>1119.16</td>\n",
       "      <td>1096.53</td>\n",
       "      <td>1107.77</td>\n",
       "      <td>1.53e+06</td>\n",
       "    </tr>\n",
       "    <tr>\n",
       "      <th>75%</th>\n",
       "      <td>1265.16</td>\n",
       "      <td>1275.59</td>\n",
       "      <td>1252.09</td>\n",
       "      <td>1264.42</td>\n",
       "      <td>1.98e+06</td>\n",
       "    </tr>\n",
       "    <tr>\n",
       "      <th>max</th>\n",
       "      <td>2107.79</td>\n",
       "      <td>2145.14</td>\n",
       "      <td>2093.33</td>\n",
       "      <td>2118.62</td>\n",
       "      <td>6.66e+06</td>\n",
       "    </tr>\n",
       "  </tbody>\n",
       "</table>\n",
       "</div>"
      ],
      "text/plain": [
       "          Open     High      Low    Close    Volume\n",
       "count  1258.00  1258.00  1258.00  1258.00  1.26e+03\n",
       "mean   1139.49  1150.73  1128.61  1140.13  1.73e+06\n",
       "std     293.00   298.11   289.30   293.76  8.41e+05\n",
       "min     682.49   683.33   672.66   681.14  4.66e+05\n",
       "25%     940.33   945.11   933.95   940.17  1.19e+06\n",
       "50%    1110.21  1119.16  1096.53  1107.77  1.53e+06\n",
       "75%    1265.16  1275.59  1252.09  1264.42  1.98e+06\n",
       "max    2107.79  2145.14  2093.33  2118.62  6.66e+06"
      ]
     },
     "execution_count": 6,
     "metadata": {},
     "output_type": "execute_result"
    }
   ],
   "source": [
    "pd.set_option(\"precision\", 2)\n",
    "google.describe()"
   ]
  },
  {
   "cell_type": "markdown",
   "metadata": {
    "id": "iEXHrwHwheyo"
   },
   "source": [
    "Set print option to not show e-notation. Print agian google statistics."
   ]
  },
  {
   "cell_type": "code",
   "execution_count": 7,
   "metadata": {
    "id": "qdosioVRhGfC"
   },
   "outputs": [
    {
     "data": {
      "text/html": [
       "<div>\n",
       "<style scoped>\n",
       "    .dataframe tbody tr th:only-of-type {\n",
       "        vertical-align: middle;\n",
       "    }\n",
       "\n",
       "    .dataframe tbody tr th {\n",
       "        vertical-align: top;\n",
       "    }\n",
       "\n",
       "    .dataframe thead th {\n",
       "        text-align: right;\n",
       "    }\n",
       "</style>\n",
       "<table border=\"1\" class=\"dataframe\">\n",
       "  <thead>\n",
       "    <tr style=\"text-align: right;\">\n",
       "      <th></th>\n",
       "      <th>Open</th>\n",
       "      <th>High</th>\n",
       "      <th>Low</th>\n",
       "      <th>Close</th>\n",
       "      <th>Volume</th>\n",
       "    </tr>\n",
       "  </thead>\n",
       "  <tbody>\n",
       "    <tr>\n",
       "      <th>count</th>\n",
       "      <td>1258.00</td>\n",
       "      <td>1258.00</td>\n",
       "      <td>1258.00</td>\n",
       "      <td>1258.00</td>\n",
       "      <td>1258.00</td>\n",
       "    </tr>\n",
       "    <tr>\n",
       "      <th>mean</th>\n",
       "      <td>1139.49</td>\n",
       "      <td>1150.73</td>\n",
       "      <td>1128.61</td>\n",
       "      <td>1140.13</td>\n",
       "      <td>1728993.16</td>\n",
       "    </tr>\n",
       "    <tr>\n",
       "      <th>std</th>\n",
       "      <td>293.00</td>\n",
       "      <td>298.11</td>\n",
       "      <td>289.30</td>\n",
       "      <td>293.76</td>\n",
       "      <td>841414.16</td>\n",
       "    </tr>\n",
       "    <tr>\n",
       "      <th>min</th>\n",
       "      <td>682.49</td>\n",
       "      <td>683.33</td>\n",
       "      <td>672.66</td>\n",
       "      <td>681.14</td>\n",
       "      <td>465638.00</td>\n",
       "    </tr>\n",
       "    <tr>\n",
       "      <th>25%</th>\n",
       "      <td>940.33</td>\n",
       "      <td>945.11</td>\n",
       "      <td>933.95</td>\n",
       "      <td>940.17</td>\n",
       "      <td>1189504.50</td>\n",
       "    </tr>\n",
       "    <tr>\n",
       "      <th>50%</th>\n",
       "      <td>1110.21</td>\n",
       "      <td>1119.16</td>\n",
       "      <td>1096.53</td>\n",
       "      <td>1107.77</td>\n",
       "      <td>1525495.50</td>\n",
       "    </tr>\n",
       "    <tr>\n",
       "      <th>75%</th>\n",
       "      <td>1265.16</td>\n",
       "      <td>1275.59</td>\n",
       "      <td>1252.09</td>\n",
       "      <td>1264.42</td>\n",
       "      <td>1978641.75</td>\n",
       "    </tr>\n",
       "    <tr>\n",
       "      <th>max</th>\n",
       "      <td>2107.79</td>\n",
       "      <td>2145.14</td>\n",
       "      <td>2093.33</td>\n",
       "      <td>2118.62</td>\n",
       "      <td>6658855.00</td>\n",
       "    </tr>\n",
       "  </tbody>\n",
       "</table>\n",
       "</div>"
      ],
      "text/plain": [
       "         Open    High     Low   Close     Volume\n",
       "count 1258.00 1258.00 1258.00 1258.00    1258.00\n",
       "mean  1139.49 1150.73 1128.61 1140.13 1728993.16\n",
       "std    293.00  298.11  289.30  293.76  841414.16\n",
       "min    682.49  683.33  672.66  681.14  465638.00\n",
       "25%    940.33  945.11  933.95  940.17 1189504.50\n",
       "50%   1110.21 1119.16 1096.53 1107.77 1525495.50\n",
       "75%   1265.16 1275.59 1252.09 1264.42 1978641.75\n",
       "max   2107.79 2145.14 2093.33 2118.62 6658855.00"
      ]
     },
     "execution_count": 7,
     "metadata": {},
     "output_type": "execute_result"
    }
   ],
   "source": [
    "pd.set_option('display.float_format', lambda x: '%.2f' % x)\n",
    "google.describe()"
   ]
  },
  {
   "cell_type": "markdown",
   "metadata": {
    "id": "p12duQuPlWSU"
   },
   "source": [
    "Plot(_Close_) values for object _google_."
   ]
  },
  {
   "cell_type": "code",
   "execution_count": 8,
   "metadata": {
    "id": "tmpm-uiAlKgv"
   },
   "outputs": [
    {
     "data": {
      "image/png": "[encoded data removed]",
      "text/plain": [
       "<Figure size 432x288 with 1 Axes>"
      ]
     },
     "metadata": {},
     "output_type": "display_data"
    }
   ],
   "source": [
    "plt.plot(google.Close)\n",
    "plt.title('Close price', fontdict=None, loc='center', pad=None)\n",
    "plt.ylabel('pirce in $')\n",
    "plt.xlabel('date')\n",
    "_= plt.show()"
   ]
  },
  {
   "cell_type": "markdown",
   "metadata": {
    "id": "XQLYT2m11wVG"
   },
   "source": [
    "### <a name='3'></a> Exercise 123\n",
    "Zamień indeks _Date_ na kolumnę. Przypisz trwale zmiany do zniennej _google_."
   ]
  },
  {
   "cell_type": "code",
   "execution_count": 9,
   "metadata": {
    "id": "Ac1OnxjOh3fa"
   },
   "outputs": [],
   "source": [
    "google = google.reset_index()"
   ]
  },
  {
   "cell_type": "code",
   "execution_count": 10,
   "metadata": {},
   "outputs": [
    {
     "data": {
      "text/html": [
       "<div>\n",
       "<style scoped>\n",
       "    .dataframe tbody tr th:only-of-type {\n",
       "        vertical-align: middle;\n",
       "    }\n",
       "\n",
       "    .dataframe tbody tr th {\n",
       "        vertical-align: top;\n",
       "    }\n",
       "\n",
       "    .dataframe thead th {\n",
       "        text-align: right;\n",
       "    }\n",
       "</style>\n",
       "<table border=\"1\" class=\"dataframe\">\n",
       "  <thead>\n",
       "    <tr style=\"text-align: right;\">\n",
       "      <th></th>\n",
       "      <th>Date</th>\n",
       "      <th>Open</th>\n",
       "      <th>High</th>\n",
       "      <th>Low</th>\n",
       "      <th>Close</th>\n",
       "      <th>Volume</th>\n",
       "    </tr>\n",
       "  </thead>\n",
       "  <tbody>\n",
       "    <tr>\n",
       "      <th>0</th>\n",
       "      <td>2021-03-04</td>\n",
       "      <td>2014.87</td>\n",
       "      <td>2074.59</td>\n",
       "      <td>2005.43</td>\n",
       "      <td>2033.93</td>\n",
       "      <td>2460786</td>\n",
       "    </tr>\n",
       "    <tr>\n",
       "      <th>1</th>\n",
       "      <td>2021-03-03</td>\n",
       "      <td>2051.95</td>\n",
       "      <td>2075.99</td>\n",
       "      <td>1994.00</td>\n",
       "      <td>2011.41</td>\n",
       "      <td>1694645</td>\n",
       "    </tr>\n",
       "    <tr>\n",
       "      <th>2</th>\n",
       "      <td>2021-03-02</td>\n",
       "      <td>2064.84</td>\n",
       "      <td>2094.74</td>\n",
       "      <td>2056.67</td>\n",
       "      <td>2064.48</td>\n",
       "      <td>1278184</td>\n",
       "    </tr>\n",
       "    <tr>\n",
       "      <th>3</th>\n",
       "      <td>2021-03-01</td>\n",
       "      <td>2048.00</td>\n",
       "      <td>2076.23</td>\n",
       "      <td>2034.42</td>\n",
       "      <td>2069.66</td>\n",
       "      <td>1303089</td>\n",
       "    </tr>\n",
       "    <tr>\n",
       "      <th>4</th>\n",
       "      <td>2021-02-26</td>\n",
       "      <td>2029.95</td>\n",
       "      <td>2056.52</td>\n",
       "      <td>2001.01</td>\n",
       "      <td>2021.91</td>\n",
       "      <td>2002064</td>\n",
       "    </tr>\n",
       "    <tr>\n",
       "      <th>...</th>\n",
       "      <td>...</td>\n",
       "      <td>...</td>\n",
       "      <td>...</td>\n",
       "      <td>...</td>\n",
       "      <td>...</td>\n",
       "      <td>...</td>\n",
       "    </tr>\n",
       "    <tr>\n",
       "      <th>1253</th>\n",
       "      <td>2016-03-11</td>\n",
       "      <td>739.95</td>\n",
       "      <td>744.90</td>\n",
       "      <td>736.70</td>\n",
       "      <td>744.87</td>\n",
       "      <td>1195783</td>\n",
       "    </tr>\n",
       "    <tr>\n",
       "      <th>1254</th>\n",
       "      <td>2016-03-10</td>\n",
       "      <td>727.79</td>\n",
       "      <td>736.54</td>\n",
       "      <td>723.29</td>\n",
       "      <td>732.17</td>\n",
       "      <td>2230811</td>\n",
       "    </tr>\n",
       "    <tr>\n",
       "      <th>1255</th>\n",
       "      <td>2016-03-09</td>\n",
       "      <td>715.16</td>\n",
       "      <td>726.24</td>\n",
       "      <td>712.66</td>\n",
       "      <td>725.41</td>\n",
       "      <td>1349753</td>\n",
       "    </tr>\n",
       "    <tr>\n",
       "      <th>1256</th>\n",
       "      <td>2016-03-08</td>\n",
       "      <td>708.39</td>\n",
       "      <td>722.25</td>\n",
       "      <td>704.00</td>\n",
       "      <td>713.53</td>\n",
       "      <td>2159235</td>\n",
       "    </tr>\n",
       "    <tr>\n",
       "      <th>1257</th>\n",
       "      <td>2016-03-07</td>\n",
       "      <td>725.15</td>\n",
       "      <td>727.21</td>\n",
       "      <td>705.14</td>\n",
       "      <td>712.80</td>\n",
       "      <td>2533911</td>\n",
       "    </tr>\n",
       "  </tbody>\n",
       "</table>\n",
       "<p>1258 rows × 6 columns</p>\n",
       "</div>"
      ],
      "text/plain": [
       "           Date    Open    High     Low   Close   Volume\n",
       "0    2021-03-04 2014.87 2074.59 2005.43 2033.93  2460786\n",
       "1    2021-03-03 2051.95 2075.99 1994.00 2011.41  1694645\n",
       "2    2021-03-02 2064.84 2094.74 2056.67 2064.48  1278184\n",
       "3    2021-03-01 2048.00 2076.23 2034.42 2069.66  1303089\n",
       "4    2021-02-26 2029.95 2056.52 2001.01 2021.91  2002064\n",
       "...         ...     ...     ...     ...     ...      ...\n",
       "1253 2016-03-11  739.95  744.90  736.70  744.87  1195783\n",
       "1254 2016-03-10  727.79  736.54  723.29  732.17  2230811\n",
       "1255 2016-03-09  715.16  726.24  712.66  725.41  1349753\n",
       "1256 2016-03-08  708.39  722.25  704.00  713.53  2159235\n",
       "1257 2016-03-07  725.15  727.21  705.14  712.80  2533911\n",
       "\n",
       "[1258 rows x 6 columns]"
      ]
     },
     "execution_count": 10,
     "metadata": {},
     "output_type": "execute_result"
    }
   ],
   "source": [
    "google"
   ]
  },
  {
   "cell_type": "markdown",
   "metadata": {
    "id": "SRfQiXpGiXBc"
   },
   "source": [
    "Create two new columns in _google_ first with _'Month'_  number and second with _'Year'_."
   ]
  },
  {
   "cell_type": "code",
   "execution_count": 11,
   "metadata": {
    "id": "S32izk-BiL_q"
   },
   "outputs": [],
   "source": [
    "google['Month'] = google.Date.dt.month\n",
    "google['Year'] = google.Date.dt.year"
   ]
  },
  {
   "cell_type": "code",
   "execution_count": 12,
   "metadata": {},
   "outputs": [
    {
     "data": {
      "text/html": [
       "<div>\n",
       "<style scoped>\n",
       "    .dataframe tbody tr th:only-of-type {\n",
       "        vertical-align: middle;\n",
       "    }\n",
       "\n",
       "    .dataframe tbody tr th {\n",
       "        vertical-align: top;\n",
       "    }\n",
       "\n",
       "    .dataframe thead th {\n",
       "        text-align: right;\n",
       "    }\n",
       "</style>\n",
       "<table border=\"1\" class=\"dataframe\">\n",
       "  <thead>\n",
       "    <tr style=\"text-align: right;\">\n",
       "      <th></th>\n",
       "      <th>Date</th>\n",
       "      <th>Open</th>\n",
       "      <th>High</th>\n",
       "      <th>Low</th>\n",
       "      <th>Close</th>\n",
       "      <th>Volume</th>\n",
       "      <th>Month</th>\n",
       "      <th>Year</th>\n",
       "    </tr>\n",
       "  </thead>\n",
       "  <tbody>\n",
       "    <tr>\n",
       "      <th>0</th>\n",
       "      <td>2021-03-04</td>\n",
       "      <td>2014.87</td>\n",
       "      <td>2074.59</td>\n",
       "      <td>2005.43</td>\n",
       "      <td>2033.93</td>\n",
       "      <td>2460786</td>\n",
       "      <td>3</td>\n",
       "      <td>2021</td>\n",
       "    </tr>\n",
       "    <tr>\n",
       "      <th>1</th>\n",
       "      <td>2021-03-03</td>\n",
       "      <td>2051.95</td>\n",
       "      <td>2075.99</td>\n",
       "      <td>1994.00</td>\n",
       "      <td>2011.41</td>\n",
       "      <td>1694645</td>\n",
       "      <td>3</td>\n",
       "      <td>2021</td>\n",
       "    </tr>\n",
       "    <tr>\n",
       "      <th>2</th>\n",
       "      <td>2021-03-02</td>\n",
       "      <td>2064.84</td>\n",
       "      <td>2094.74</td>\n",
       "      <td>2056.67</td>\n",
       "      <td>2064.48</td>\n",
       "      <td>1278184</td>\n",
       "      <td>3</td>\n",
       "      <td>2021</td>\n",
       "    </tr>\n",
       "    <tr>\n",
       "      <th>3</th>\n",
       "      <td>2021-03-01</td>\n",
       "      <td>2048.00</td>\n",
       "      <td>2076.23</td>\n",
       "      <td>2034.42</td>\n",
       "      <td>2069.66</td>\n",
       "      <td>1303089</td>\n",
       "      <td>3</td>\n",
       "      <td>2021</td>\n",
       "    </tr>\n",
       "    <tr>\n",
       "      <th>4</th>\n",
       "      <td>2021-02-26</td>\n",
       "      <td>2029.95</td>\n",
       "      <td>2056.52</td>\n",
       "      <td>2001.01</td>\n",
       "      <td>2021.91</td>\n",
       "      <td>2002064</td>\n",
       "      <td>2</td>\n",
       "      <td>2021</td>\n",
       "    </tr>\n",
       "    <tr>\n",
       "      <th>...</th>\n",
       "      <td>...</td>\n",
       "      <td>...</td>\n",
       "      <td>...</td>\n",
       "      <td>...</td>\n",
       "      <td>...</td>\n",
       "      <td>...</td>\n",
       "      <td>...</td>\n",
       "      <td>...</td>\n",
       "    </tr>\n",
       "    <tr>\n",
       "      <th>1253</th>\n",
       "      <td>2016-03-11</td>\n",
       "      <td>739.95</td>\n",
       "      <td>744.90</td>\n",
       "      <td>736.70</td>\n",
       "      <td>744.87</td>\n",
       "      <td>1195783</td>\n",
       "      <td>3</td>\n",
       "      <td>2016</td>\n",
       "    </tr>\n",
       "    <tr>\n",
       "      <th>1254</th>\n",
       "      <td>2016-03-10</td>\n",
       "      <td>727.79</td>\n",
       "      <td>736.54</td>\n",
       "      <td>723.29</td>\n",
       "      <td>732.17</td>\n",
       "      <td>2230811</td>\n",
       "      <td>3</td>\n",
       "      <td>2016</td>\n",
       "    </tr>\n",
       "    <tr>\n",
       "      <th>1255</th>\n",
       "      <td>2016-03-09</td>\n",
       "      <td>715.16</td>\n",
       "      <td>726.24</td>\n",
       "      <td>712.66</td>\n",
       "      <td>725.41</td>\n",
       "      <td>1349753</td>\n",
       "      <td>3</td>\n",
       "      <td>2016</td>\n",
       "    </tr>\n",
       "    <tr>\n",
       "      <th>1256</th>\n",
       "      <td>2016-03-08</td>\n",
       "      <td>708.39</td>\n",
       "      <td>722.25</td>\n",
       "      <td>704.00</td>\n",
       "      <td>713.53</td>\n",
       "      <td>2159235</td>\n",
       "      <td>3</td>\n",
       "      <td>2016</td>\n",
       "    </tr>\n",
       "    <tr>\n",
       "      <th>1257</th>\n",
       "      <td>2016-03-07</td>\n",
       "      <td>725.15</td>\n",
       "      <td>727.21</td>\n",
       "      <td>705.14</td>\n",
       "      <td>712.80</td>\n",
       "      <td>2533911</td>\n",
       "      <td>3</td>\n",
       "      <td>2016</td>\n",
       "    </tr>\n",
       "  </tbody>\n",
       "</table>\n",
       "<p>1258 rows × 8 columns</p>\n",
       "</div>"
      ],
      "text/plain": [
       "           Date    Open    High     Low   Close   Volume  Month  Year\n",
       "0    2021-03-04 2014.87 2074.59 2005.43 2033.93  2460786      3  2021\n",
       "1    2021-03-03 2051.95 2075.99 1994.00 2011.41  1694645      3  2021\n",
       "2    2021-03-02 2064.84 2094.74 2056.67 2064.48  1278184      3  2021\n",
       "3    2021-03-01 2048.00 2076.23 2034.42 2069.66  1303089      3  2021\n",
       "4    2021-02-26 2029.95 2056.52 2001.01 2021.91  2002064      2  2021\n",
       "...         ...     ...     ...     ...     ...      ...    ...   ...\n",
       "1253 2016-03-11  739.95  744.90  736.70  744.87  1195783      3  2016\n",
       "1254 2016-03-10  727.79  736.54  723.29  732.17  2230811      3  2016\n",
       "1255 2016-03-09  715.16  726.24  712.66  725.41  1349753      3  2016\n",
       "1256 2016-03-08  708.39  722.25  704.00  713.53  2159235      3  2016\n",
       "1257 2016-03-07  725.15  727.21  705.14  712.80  2533911      3  2016\n",
       "\n",
       "[1258 rows x 8 columns]"
      ]
     },
     "execution_count": 12,
     "metadata": {},
     "output_type": "execute_result"
    }
   ],
   "source": [
    "google"
   ]
  },
  {
   "cell_type": "markdown",
   "metadata": {
    "id": "4xTKSUzg10MK"
   },
   "source": [
    "### <a name='4'></a> Exercise 124\n",
    "Compute average (_Close_) price for each year."
   ]
  },
  {
   "cell_type": "code",
   "execution_count": 13,
   "metadata": {
    "id": "wSFs7z0Qi3Y7"
   },
   "outputs": [
    {
     "data": {
      "text/plain": [
       "Year\n",
       "2016    769.87\n",
       "2017    939.77\n",
       "2018   1122.05\n",
       "2019   1191.22\n",
       "2020   1478.99\n",
       "2021   1940.16\n",
       "Name: Close, dtype: float64"
      ]
     },
     "execution_count": 13,
     "metadata": {},
     "output_type": "execute_result"
    }
   ],
   "source": [
    "google.groupby(by='Year')['Close'].mean()"
   ]
  },
  {
   "cell_type": "markdown",
   "metadata": {
    "id": "DSqQjdS4j-wl"
   },
   "source": [
    "Plot result using the _plot()_ function."
   ]
  },
  {
   "cell_type": "code",
   "execution_count": 14,
   "metadata": {
    "id": "0nBtvC2tjaTK"
   },
   "outputs": [
    {
     "data": {
      "image/png": "[encoded data removed]",
      "text/plain": [
       "<Figure size 432x288 with 1 Axes>"
      ]
     },
     "metadata": {},
     "output_type": "display_data"
    }
   ],
   "source": [
    "_= google.groupby(by='Year')['Close'].mean().plot()"
   ]
  },
  {
   "cell_type": "markdown",
   "metadata": {
    "id": "RduPz9PDkR2-"
   },
   "source": [
    "Compute average (_Close_) price for month."
   ]
  },
  {
   "cell_type": "code",
   "execution_count": 15,
   "metadata": {
    "id": "4Vd83xT_kIsg"
   },
   "outputs": [
    {
     "data": {
      "text/plain": [
       "Month\n",
       "1    1250.95\n",
       "2    1314.21\n",
       "3    1057.02\n",
       "4    1027.07\n",
       "5    1057.08\n",
       "6    1070.44\n",
       "7    1123.99\n",
       "8    1133.65\n",
       "9    1133.02\n",
       "10   1145.27\n",
       "11   1182.34\n",
       "12   1212.18\n",
       "Name: Close, dtype: float64"
      ]
     },
     "execution_count": 15,
     "metadata": {},
     "output_type": "execute_result"
    }
   ],
   "source": [
    "google.groupby(by='Month')['Close'].mean()"
   ]
  },
  {
   "cell_type": "markdown",
   "metadata": {
    "id": "ytITHhjjkaoO"
   },
   "source": [
    "Plot result using the _plot()_ function."
   ]
  },
  {
   "cell_type": "code",
   "execution_count": 16,
   "metadata": {
    "id": "ob02yPQRkK3E"
   },
   "outputs": [
    {
     "data": {
      "image/png": "[encoded data removed]",
      "text/plain": [
       "<Figure size 432x288 with 1 Axes>"
      ]
     },
     "metadata": {},
     "output_type": "display_data"
    }
   ],
   "source": [
    "_= google.groupby(by='Month')['Close'].mean().plot()"
   ]
  },
  {
   "cell_type": "markdown",
   "metadata": {},
   "source": [
    "Return 3 the weakest month by close price."
   ]
  },
  {
   "cell_type": "code",
   "execution_count": 17,
   "metadata": {},
   "outputs": [
    {
     "data": {
      "text/plain": [
       "Month\n",
       "4   1027.07\n",
       "3   1057.02\n",
       "5   1057.08\n",
       "Name: Close, dtype: float64"
      ]
     },
     "execution_count": 17,
     "metadata": {},
     "output_type": "execute_result"
    }
   ],
   "source": [
    "google.groupby(by='Month')['Close'].mean().nsmallest(3)"
   ]
  },
  {
   "cell_type": "markdown",
   "metadata": {
    "id": "o3HKIKlP15Ro"
   },
   "source": [
    "### <a name='5'></a> Exercise 125\n",
    "Group data in _google_ by year then by month.Then compute average close price."
   ]
  },
  {
   "cell_type": "code",
   "execution_count": 18,
   "metadata": {
    "id": "DptCcOtNkokd"
   },
   "outputs": [
    {
     "data": {
      "text/plain": [
       "Year  Month\n",
       "2016  3        749.21\n",
       "      4        756.66\n",
       "      5        726.53\n",
       "      6        719.61\n",
       "      7        741.06\n",
       "                ...  \n",
       "2020  11      1743.39\n",
       "      12      1767.71\n",
       "2021  1       1800.20\n",
       "      2       2058.09\n",
       "      3       2044.87\n",
       "Name: Close, Length: 61, dtype: float64"
      ]
     },
     "execution_count": 18,
     "metadata": {},
     "output_type": "execute_result"
    }
   ],
   "source": [
    "google.groupby(by=['Year','Month'])['Close'].mean()"
   ]
  },
  {
   "cell_type": "markdown",
   "metadata": {
    "id": "PunXd_Ey16so"
   },
   "source": [
    "### <a name='6'></a> Exercise 126\n",
    "Return index number where column _Close_ has the highest value."
   ]
  },
  {
   "cell_type": "code",
   "execution_count": 19,
   "metadata": {
    "id": "PIUT3b7Rm7v1"
   },
   "outputs": [
    {
     "data": {
      "text/plain": [
       "11   2118.62\n",
       "Name: Close, dtype: float64"
      ]
     },
     "execution_count": 19,
     "metadata": {},
     "output_type": "execute_result"
    }
   ],
   "source": [
    "google.Close.nlargest(1)"
   ]
  },
  {
   "cell_type": "markdown",
   "metadata": {
    "id": "WETiC6NEnPm0"
   },
   "source": [
    "Return row from _google_ with highest close value as DataFrame."
   ]
  },
  {
   "cell_type": "code",
   "execution_count": 20,
   "metadata": {
    "id": "XccuGttMnL_d"
   },
   "outputs": [
    {
     "data": {
      "text/html": [
       "<div>\n",
       "<style scoped>\n",
       "    .dataframe tbody tr th:only-of-type {\n",
       "        vertical-align: middle;\n",
       "    }\n",
       "\n",
       "    .dataframe tbody tr th {\n",
       "        vertical-align: top;\n",
       "    }\n",
       "\n",
       "    .dataframe thead th {\n",
       "        text-align: right;\n",
       "    }\n",
       "</style>\n",
       "<table border=\"1\" class=\"dataframe\">\n",
       "  <thead>\n",
       "    <tr style=\"text-align: right;\">\n",
       "      <th></th>\n",
       "      <th>Date</th>\n",
       "      <th>Open</th>\n",
       "      <th>High</th>\n",
       "      <th>Low</th>\n",
       "      <th>Close</th>\n",
       "      <th>Volume</th>\n",
       "      <th>Month</th>\n",
       "      <th>Year</th>\n",
       "    </tr>\n",
       "  </thead>\n",
       "  <tbody>\n",
       "    <tr>\n",
       "      <th>11</th>\n",
       "      <td>2021-02-17</td>\n",
       "      <td>2093.98</td>\n",
       "      <td>2122.44</td>\n",
       "      <td>2088.35</td>\n",
       "      <td>2118.62</td>\n",
       "      <td>1015177</td>\n",
       "      <td>2</td>\n",
       "      <td>2021</td>\n",
       "    </tr>\n",
       "  </tbody>\n",
       "</table>\n",
       "</div>"
      ],
      "text/plain": [
       "         Date    Open    High     Low   Close   Volume  Month  Year\n",
       "11 2021-02-17 2093.98 2122.44 2088.35 2118.62  1015177      2  2021"
      ]
     },
     "execution_count": 20,
     "metadata": {},
     "output_type": "execute_result"
    }
   ],
   "source": [
    "google.iloc[[google.Close.argmax()]]"
   ]
  },
  {
   "cell_type": "markdown",
   "metadata": {
    "id": "hOhqDRz618Tx"
   },
   "source": [
    "### <a name='7'></a> Exercise 127\n",
    "Return from object _google_ columns _Date_, _Open_, _Close_, _Volume_.\n",
    "But don't change the _google_ object!\n"
   ]
  },
  {
   "cell_type": "code",
   "execution_count": 21,
   "metadata": {
    "id": "P17Vtv4imw28"
   },
   "outputs": [
    {
     "data": {
      "text/html": [
       "<div>\n",
       "<style scoped>\n",
       "    .dataframe tbody tr th:only-of-type {\n",
       "        vertical-align: middle;\n",
       "    }\n",
       "\n",
       "    .dataframe tbody tr th {\n",
       "        vertical-align: top;\n",
       "    }\n",
       "\n",
       "    .dataframe thead th {\n",
       "        text-align: right;\n",
       "    }\n",
       "</style>\n",
       "<table border=\"1\" class=\"dataframe\">\n",
       "  <thead>\n",
       "    <tr style=\"text-align: right;\">\n",
       "      <th></th>\n",
       "      <th>Date</th>\n",
       "      <th>Open</th>\n",
       "      <th>Close</th>\n",
       "      <th>Volume</th>\n",
       "    </tr>\n",
       "  </thead>\n",
       "  <tbody>\n",
       "    <tr>\n",
       "      <th>0</th>\n",
       "      <td>2021-03-04</td>\n",
       "      <td>2014.87</td>\n",
       "      <td>2033.93</td>\n",
       "      <td>2460786</td>\n",
       "    </tr>\n",
       "    <tr>\n",
       "      <th>1</th>\n",
       "      <td>2021-03-03</td>\n",
       "      <td>2051.95</td>\n",
       "      <td>2011.41</td>\n",
       "      <td>1694645</td>\n",
       "    </tr>\n",
       "    <tr>\n",
       "      <th>2</th>\n",
       "      <td>2021-03-02</td>\n",
       "      <td>2064.84</td>\n",
       "      <td>2064.48</td>\n",
       "      <td>1278184</td>\n",
       "    </tr>\n",
       "    <tr>\n",
       "      <th>3</th>\n",
       "      <td>2021-03-01</td>\n",
       "      <td>2048.00</td>\n",
       "      <td>2069.66</td>\n",
       "      <td>1303089</td>\n",
       "    </tr>\n",
       "    <tr>\n",
       "      <th>4</th>\n",
       "      <td>2021-02-26</td>\n",
       "      <td>2029.95</td>\n",
       "      <td>2021.91</td>\n",
       "      <td>2002064</td>\n",
       "    </tr>\n",
       "    <tr>\n",
       "      <th>...</th>\n",
       "      <td>...</td>\n",
       "      <td>...</td>\n",
       "      <td>...</td>\n",
       "      <td>...</td>\n",
       "    </tr>\n",
       "    <tr>\n",
       "      <th>1253</th>\n",
       "      <td>2016-03-11</td>\n",
       "      <td>739.95</td>\n",
       "      <td>744.87</td>\n",
       "      <td>1195783</td>\n",
       "    </tr>\n",
       "    <tr>\n",
       "      <th>1254</th>\n",
       "      <td>2016-03-10</td>\n",
       "      <td>727.79</td>\n",
       "      <td>732.17</td>\n",
       "      <td>2230811</td>\n",
       "    </tr>\n",
       "    <tr>\n",
       "      <th>1255</th>\n",
       "      <td>2016-03-09</td>\n",
       "      <td>715.16</td>\n",
       "      <td>725.41</td>\n",
       "      <td>1349753</td>\n",
       "    </tr>\n",
       "    <tr>\n",
       "      <th>1256</th>\n",
       "      <td>2016-03-08</td>\n",
       "      <td>708.39</td>\n",
       "      <td>713.53</td>\n",
       "      <td>2159235</td>\n",
       "    </tr>\n",
       "    <tr>\n",
       "      <th>1257</th>\n",
       "      <td>2016-03-07</td>\n",
       "      <td>725.15</td>\n",
       "      <td>712.80</td>\n",
       "      <td>2533911</td>\n",
       "    </tr>\n",
       "  </tbody>\n",
       "</table>\n",
       "<p>1258 rows × 4 columns</p>\n",
       "</div>"
      ],
      "text/plain": [
       "           Date    Open   Close   Volume\n",
       "0    2021-03-04 2014.87 2033.93  2460786\n",
       "1    2021-03-03 2051.95 2011.41  1694645\n",
       "2    2021-03-02 2064.84 2064.48  1278184\n",
       "3    2021-03-01 2048.00 2069.66  1303089\n",
       "4    2021-02-26 2029.95 2021.91  2002064\n",
       "...         ...     ...     ...      ...\n",
       "1253 2016-03-11  739.95  744.87  1195783\n",
       "1254 2016-03-10  727.79  732.17  2230811\n",
       "1255 2016-03-09  715.16  725.41  1349753\n",
       "1256 2016-03-08  708.39  713.53  2159235\n",
       "1257 2016-03-07  725.15  712.80  2533911\n",
       "\n",
       "[1258 rows x 4 columns]"
      ]
     },
     "execution_count": 21,
     "metadata": {},
     "output_type": "execute_result"
    }
   ],
   "source": [
    "google[['Date','Open','Close','Volume']]"
   ]
  },
  {
   "cell_type": "markdown",
   "metadata": {
    "id": "TXUd_4631-gw"
   },
   "source": [
    "### <a name='8'></a> Exercise 128\n",
    "Set index values from column _Date_. Show the _google_ object."
   ]
  },
  {
   "cell_type": "code",
   "execution_count": 22,
   "metadata": {
    "id": "E4zwlRNFoMMz"
   },
   "outputs": [
    {
     "data": {
      "text/html": [
       "<div>\n",
       "<style scoped>\n",
       "    .dataframe tbody tr th:only-of-type {\n",
       "        vertical-align: middle;\n",
       "    }\n",
       "\n",
       "    .dataframe tbody tr th {\n",
       "        vertical-align: top;\n",
       "    }\n",
       "\n",
       "    .dataframe thead th {\n",
       "        text-align: right;\n",
       "    }\n",
       "</style>\n",
       "<table border=\"1\" class=\"dataframe\">\n",
       "  <thead>\n",
       "    <tr style=\"text-align: right;\">\n",
       "      <th></th>\n",
       "      <th>Open</th>\n",
       "      <th>High</th>\n",
       "      <th>Low</th>\n",
       "      <th>Close</th>\n",
       "      <th>Volume</th>\n",
       "      <th>Month</th>\n",
       "      <th>Year</th>\n",
       "    </tr>\n",
       "    <tr>\n",
       "      <th>Date</th>\n",
       "      <th></th>\n",
       "      <th></th>\n",
       "      <th></th>\n",
       "      <th></th>\n",
       "      <th></th>\n",
       "      <th></th>\n",
       "      <th></th>\n",
       "    </tr>\n",
       "  </thead>\n",
       "  <tbody>\n",
       "    <tr>\n",
       "      <th>2021-03-04</th>\n",
       "      <td>2014.87</td>\n",
       "      <td>2074.59</td>\n",
       "      <td>2005.43</td>\n",
       "      <td>2033.93</td>\n",
       "      <td>2460786</td>\n",
       "      <td>3</td>\n",
       "      <td>2021</td>\n",
       "    </tr>\n",
       "    <tr>\n",
       "      <th>2021-03-03</th>\n",
       "      <td>2051.95</td>\n",
       "      <td>2075.99</td>\n",
       "      <td>1994.00</td>\n",
       "      <td>2011.41</td>\n",
       "      <td>1694645</td>\n",
       "      <td>3</td>\n",
       "      <td>2021</td>\n",
       "    </tr>\n",
       "    <tr>\n",
       "      <th>2021-03-02</th>\n",
       "      <td>2064.84</td>\n",
       "      <td>2094.74</td>\n",
       "      <td>2056.67</td>\n",
       "      <td>2064.48</td>\n",
       "      <td>1278184</td>\n",
       "      <td>3</td>\n",
       "      <td>2021</td>\n",
       "    </tr>\n",
       "    <tr>\n",
       "      <th>2021-03-01</th>\n",
       "      <td>2048.00</td>\n",
       "      <td>2076.23</td>\n",
       "      <td>2034.42</td>\n",
       "      <td>2069.66</td>\n",
       "      <td>1303089</td>\n",
       "      <td>3</td>\n",
       "      <td>2021</td>\n",
       "    </tr>\n",
       "    <tr>\n",
       "      <th>2021-02-26</th>\n",
       "      <td>2029.95</td>\n",
       "      <td>2056.52</td>\n",
       "      <td>2001.01</td>\n",
       "      <td>2021.91</td>\n",
       "      <td>2002064</td>\n",
       "      <td>2</td>\n",
       "      <td>2021</td>\n",
       "    </tr>\n",
       "    <tr>\n",
       "      <th>...</th>\n",
       "      <td>...</td>\n",
       "      <td>...</td>\n",
       "      <td>...</td>\n",
       "      <td>...</td>\n",
       "      <td>...</td>\n",
       "      <td>...</td>\n",
       "      <td>...</td>\n",
       "    </tr>\n",
       "    <tr>\n",
       "      <th>2016-03-11</th>\n",
       "      <td>739.95</td>\n",
       "      <td>744.90</td>\n",
       "      <td>736.70</td>\n",
       "      <td>744.87</td>\n",
       "      <td>1195783</td>\n",
       "      <td>3</td>\n",
       "      <td>2016</td>\n",
       "    </tr>\n",
       "    <tr>\n",
       "      <th>2016-03-10</th>\n",
       "      <td>727.79</td>\n",
       "      <td>736.54</td>\n",
       "      <td>723.29</td>\n",
       "      <td>732.17</td>\n",
       "      <td>2230811</td>\n",
       "      <td>3</td>\n",
       "      <td>2016</td>\n",
       "    </tr>\n",
       "    <tr>\n",
       "      <th>2016-03-09</th>\n",
       "      <td>715.16</td>\n",
       "      <td>726.24</td>\n",
       "      <td>712.66</td>\n",
       "      <td>725.41</td>\n",
       "      <td>1349753</td>\n",
       "      <td>3</td>\n",
       "      <td>2016</td>\n",
       "    </tr>\n",
       "    <tr>\n",
       "      <th>2016-03-08</th>\n",
       "      <td>708.39</td>\n",
       "      <td>722.25</td>\n",
       "      <td>704.00</td>\n",
       "      <td>713.53</td>\n",
       "      <td>2159235</td>\n",
       "      <td>3</td>\n",
       "      <td>2016</td>\n",
       "    </tr>\n",
       "    <tr>\n",
       "      <th>2016-03-07</th>\n",
       "      <td>725.15</td>\n",
       "      <td>727.21</td>\n",
       "      <td>705.14</td>\n",
       "      <td>712.80</td>\n",
       "      <td>2533911</td>\n",
       "      <td>3</td>\n",
       "      <td>2016</td>\n",
       "    </tr>\n",
       "  </tbody>\n",
       "</table>\n",
       "<p>1258 rows × 7 columns</p>\n",
       "</div>"
      ],
      "text/plain": [
       "              Open    High     Low   Close   Volume  Month  Year\n",
       "Date                                                            \n",
       "2021-03-04 2014.87 2074.59 2005.43 2033.93  2460786      3  2021\n",
       "2021-03-03 2051.95 2075.99 1994.00 2011.41  1694645      3  2021\n",
       "2021-03-02 2064.84 2094.74 2056.67 2064.48  1278184      3  2021\n",
       "2021-03-01 2048.00 2076.23 2034.42 2069.66  1303089      3  2021\n",
       "2021-02-26 2029.95 2056.52 2001.01 2021.91  2002064      2  2021\n",
       "...            ...     ...     ...     ...      ...    ...   ...\n",
       "2016-03-11  739.95  744.90  736.70  744.87  1195783      3  2016\n",
       "2016-03-10  727.79  736.54  723.29  732.17  2230811      3  2016\n",
       "2016-03-09  715.16  726.24  712.66  725.41  1349753      3  2016\n",
       "2016-03-08  708.39  722.25  704.00  713.53  2159235      3  2016\n",
       "2016-03-07  725.15  727.21  705.14  712.80  2533911      3  2016\n",
       "\n",
       "[1258 rows x 7 columns]"
      ]
     },
     "execution_count": 22,
     "metadata": {},
     "output_type": "execute_result"
    }
   ],
   "source": [
    "google = google.set_index('Date')\n",
    "google"
   ]
  },
  {
   "cell_type": "markdown",
   "metadata": {
    "id": "tgI6xEn-2AQo"
   },
   "source": [
    "### <a name='9'></a> Exercise 129\n",
    "Delete permanently columns _Year_ i _Month_ from _google_. Show the _google_ object."
   ]
  },
  {
   "cell_type": "code",
   "execution_count": 23,
   "metadata": {
    "id": "Qpy5zTecoY1T"
   },
   "outputs": [
    {
     "data": {
      "text/html": [
       "<div>\n",
       "<style scoped>\n",
       "    .dataframe tbody tr th:only-of-type {\n",
       "        vertical-align: middle;\n",
       "    }\n",
       "\n",
       "    .dataframe tbody tr th {\n",
       "        vertical-align: top;\n",
       "    }\n",
       "\n",
       "    .dataframe thead th {\n",
       "        text-align: right;\n",
       "    }\n",
       "</style>\n",
       "<table border=\"1\" class=\"dataframe\">\n",
       "  <thead>\n",
       "    <tr style=\"text-align: right;\">\n",
       "      <th></th>\n",
       "      <th>Open</th>\n",
       "      <th>High</th>\n",
       "      <th>Low</th>\n",
       "      <th>Close</th>\n",
       "      <th>Volume</th>\n",
       "    </tr>\n",
       "    <tr>\n",
       "      <th>Date</th>\n",
       "      <th></th>\n",
       "      <th></th>\n",
       "      <th></th>\n",
       "      <th></th>\n",
       "      <th></th>\n",
       "    </tr>\n",
       "  </thead>\n",
       "  <tbody>\n",
       "    <tr>\n",
       "      <th>2021-03-04</th>\n",
       "      <td>2014.87</td>\n",
       "      <td>2074.59</td>\n",
       "      <td>2005.43</td>\n",
       "      <td>2033.93</td>\n",
       "      <td>2460786</td>\n",
       "    </tr>\n",
       "    <tr>\n",
       "      <th>2021-03-03</th>\n",
       "      <td>2051.95</td>\n",
       "      <td>2075.99</td>\n",
       "      <td>1994.00</td>\n",
       "      <td>2011.41</td>\n",
       "      <td>1694645</td>\n",
       "    </tr>\n",
       "    <tr>\n",
       "      <th>2021-03-02</th>\n",
       "      <td>2064.84</td>\n",
       "      <td>2094.74</td>\n",
       "      <td>2056.67</td>\n",
       "      <td>2064.48</td>\n",
       "      <td>1278184</td>\n",
       "    </tr>\n",
       "    <tr>\n",
       "      <th>2021-03-01</th>\n",
       "      <td>2048.00</td>\n",
       "      <td>2076.23</td>\n",
       "      <td>2034.42</td>\n",
       "      <td>2069.66</td>\n",
       "      <td>1303089</td>\n",
       "    </tr>\n",
       "    <tr>\n",
       "      <th>2021-02-26</th>\n",
       "      <td>2029.95</td>\n",
       "      <td>2056.52</td>\n",
       "      <td>2001.01</td>\n",
       "      <td>2021.91</td>\n",
       "      <td>2002064</td>\n",
       "    </tr>\n",
       "    <tr>\n",
       "      <th>...</th>\n",
       "      <td>...</td>\n",
       "      <td>...</td>\n",
       "      <td>...</td>\n",
       "      <td>...</td>\n",
       "      <td>...</td>\n",
       "    </tr>\n",
       "    <tr>\n",
       "      <th>2016-03-11</th>\n",
       "      <td>739.95</td>\n",
       "      <td>744.90</td>\n",
       "      <td>736.70</td>\n",
       "      <td>744.87</td>\n",
       "      <td>1195783</td>\n",
       "    </tr>\n",
       "    <tr>\n",
       "      <th>2016-03-10</th>\n",
       "      <td>727.79</td>\n",
       "      <td>736.54</td>\n",
       "      <td>723.29</td>\n",
       "      <td>732.17</td>\n",
       "      <td>2230811</td>\n",
       "    </tr>\n",
       "    <tr>\n",
       "      <th>2016-03-09</th>\n",
       "      <td>715.16</td>\n",
       "      <td>726.24</td>\n",
       "      <td>712.66</td>\n",
       "      <td>725.41</td>\n",
       "      <td>1349753</td>\n",
       "    </tr>\n",
       "    <tr>\n",
       "      <th>2016-03-08</th>\n",
       "      <td>708.39</td>\n",
       "      <td>722.25</td>\n",
       "      <td>704.00</td>\n",
       "      <td>713.53</td>\n",
       "      <td>2159235</td>\n",
       "    </tr>\n",
       "    <tr>\n",
       "      <th>2016-03-07</th>\n",
       "      <td>725.15</td>\n",
       "      <td>727.21</td>\n",
       "      <td>705.14</td>\n",
       "      <td>712.80</td>\n",
       "      <td>2533911</td>\n",
       "    </tr>\n",
       "  </tbody>\n",
       "</table>\n",
       "<p>1258 rows × 5 columns</p>\n",
       "</div>"
      ],
      "text/plain": [
       "              Open    High     Low   Close   Volume\n",
       "Date                                               \n",
       "2021-03-04 2014.87 2074.59 2005.43 2033.93  2460786\n",
       "2021-03-03 2051.95 2075.99 1994.00 2011.41  1694645\n",
       "2021-03-02 2064.84 2094.74 2056.67 2064.48  1278184\n",
       "2021-03-01 2048.00 2076.23 2034.42 2069.66  1303089\n",
       "2021-02-26 2029.95 2056.52 2001.01 2021.91  2002064\n",
       "...            ...     ...     ...     ...      ...\n",
       "2016-03-11  739.95  744.90  736.70  744.87  1195783\n",
       "2016-03-10  727.79  736.54  723.29  732.17  2230811\n",
       "2016-03-09  715.16  726.24  712.66  725.41  1349753\n",
       "2016-03-08  708.39  722.25  704.00  713.53  2159235\n",
       "2016-03-07  725.15  727.21  705.14  712.80  2533911\n",
       "\n",
       "[1258 rows x 5 columns]"
      ]
     },
     "execution_count": 23,
     "metadata": {},
     "output_type": "execute_result"
    }
   ],
   "source": [
    "google = google.drop(columns = ['Year','Month'])\n",
    "google"
   ]
  },
  {
   "cell_type": "markdown",
   "metadata": {
    "id": "wxhpf-uq2B1I"
   },
   "source": [
    "### <a name='10'></a> Exercise 130\n",
    "Translate columns name into Polish:\n",
    "* Open -> Otwarcie\n",
    "* High -> Najwyzszy\n",
    "* Low -> Najnizszy\n",
    "* Close -> Zamkniecie\n",
    "* Volume -> Wolumen\n",
    "\n",
    "to the _google_ object and show the result."
   ]
  },
  {
   "cell_type": "code",
   "execution_count": 24,
   "metadata": {
    "id": "YFc0KW6URsuc"
   },
   "outputs": [
    {
     "data": {
      "text/html": [
       "<div>\n",
       "<style scoped>\n",
       "    .dataframe tbody tr th:only-of-type {\n",
       "        vertical-align: middle;\n",
       "    }\n",
       "\n",
       "    .dataframe tbody tr th {\n",
       "        vertical-align: top;\n",
       "    }\n",
       "\n",
       "    .dataframe thead th {\n",
       "        text-align: right;\n",
       "    }\n",
       "</style>\n",
       "<table border=\"1\" class=\"dataframe\">\n",
       "  <thead>\n",
       "    <tr style=\"text-align: right;\">\n",
       "      <th></th>\n",
       "      <th>Otwarcie</th>\n",
       "      <th>Najwyzszy</th>\n",
       "      <th>Najnizszy</th>\n",
       "      <th>Zamkniecie</th>\n",
       "      <th>Wolumen</th>\n",
       "    </tr>\n",
       "    <tr>\n",
       "      <th>Date</th>\n",
       "      <th></th>\n",
       "      <th></th>\n",
       "      <th></th>\n",
       "      <th></th>\n",
       "      <th></th>\n",
       "    </tr>\n",
       "  </thead>\n",
       "  <tbody>\n",
       "    <tr>\n",
       "      <th>2021-03-04</th>\n",
       "      <td>2014.87</td>\n",
       "      <td>2074.59</td>\n",
       "      <td>2005.43</td>\n",
       "      <td>2033.93</td>\n",
       "      <td>2460786</td>\n",
       "    </tr>\n",
       "    <tr>\n",
       "      <th>2021-03-03</th>\n",
       "      <td>2051.95</td>\n",
       "      <td>2075.99</td>\n",
       "      <td>1994.00</td>\n",
       "      <td>2011.41</td>\n",
       "      <td>1694645</td>\n",
       "    </tr>\n",
       "    <tr>\n",
       "      <th>2021-03-02</th>\n",
       "      <td>2064.84</td>\n",
       "      <td>2094.74</td>\n",
       "      <td>2056.67</td>\n",
       "      <td>2064.48</td>\n",
       "      <td>1278184</td>\n",
       "    </tr>\n",
       "    <tr>\n",
       "      <th>2021-03-01</th>\n",
       "      <td>2048.00</td>\n",
       "      <td>2076.23</td>\n",
       "      <td>2034.42</td>\n",
       "      <td>2069.66</td>\n",
       "      <td>1303089</td>\n",
       "    </tr>\n",
       "    <tr>\n",
       "      <th>2021-02-26</th>\n",
       "      <td>2029.95</td>\n",
       "      <td>2056.52</td>\n",
       "      <td>2001.01</td>\n",
       "      <td>2021.91</td>\n",
       "      <td>2002064</td>\n",
       "    </tr>\n",
       "    <tr>\n",
       "      <th>...</th>\n",
       "      <td>...</td>\n",
       "      <td>...</td>\n",
       "      <td>...</td>\n",
       "      <td>...</td>\n",
       "      <td>...</td>\n",
       "    </tr>\n",
       "    <tr>\n",
       "      <th>2016-03-11</th>\n",
       "      <td>739.95</td>\n",
       "      <td>744.90</td>\n",
       "      <td>736.70</td>\n",
       "      <td>744.87</td>\n",
       "      <td>1195783</td>\n",
       "    </tr>\n",
       "    <tr>\n",
       "      <th>2016-03-10</th>\n",
       "      <td>727.79</td>\n",
       "      <td>736.54</td>\n",
       "      <td>723.29</td>\n",
       "      <td>732.17</td>\n",
       "      <td>2230811</td>\n",
       "    </tr>\n",
       "    <tr>\n",
       "      <th>2016-03-09</th>\n",
       "      <td>715.16</td>\n",
       "      <td>726.24</td>\n",
       "      <td>712.66</td>\n",
       "      <td>725.41</td>\n",
       "      <td>1349753</td>\n",
       "    </tr>\n",
       "    <tr>\n",
       "      <th>2016-03-08</th>\n",
       "      <td>708.39</td>\n",
       "      <td>722.25</td>\n",
       "      <td>704.00</td>\n",
       "      <td>713.53</td>\n",
       "      <td>2159235</td>\n",
       "    </tr>\n",
       "    <tr>\n",
       "      <th>2016-03-07</th>\n",
       "      <td>725.15</td>\n",
       "      <td>727.21</td>\n",
       "      <td>705.14</td>\n",
       "      <td>712.80</td>\n",
       "      <td>2533911</td>\n",
       "    </tr>\n",
       "  </tbody>\n",
       "</table>\n",
       "<p>1258 rows × 5 columns</p>\n",
       "</div>"
      ],
      "text/plain": [
       "            Otwarcie  Najwyzszy  Najnizszy  Zamkniecie  Wolumen\n",
       "Date                                                           \n",
       "2021-03-04   2014.87    2074.59    2005.43     2033.93  2460786\n",
       "2021-03-03   2051.95    2075.99    1994.00     2011.41  1694645\n",
       "2021-03-02   2064.84    2094.74    2056.67     2064.48  1278184\n",
       "2021-03-01   2048.00    2076.23    2034.42     2069.66  1303089\n",
       "2021-02-26   2029.95    2056.52    2001.01     2021.91  2002064\n",
       "...              ...        ...        ...         ...      ...\n",
       "2016-03-11    739.95     744.90     736.70      744.87  1195783\n",
       "2016-03-10    727.79     736.54     723.29      732.17  2230811\n",
       "2016-03-09    715.16     726.24     712.66      725.41  1349753\n",
       "2016-03-08    708.39     722.25     704.00      713.53  2159235\n",
       "2016-03-07    725.15     727.21     705.14      712.80  2533911\n",
       "\n",
       "[1258 rows x 5 columns]"
      ]
     },
     "execution_count": 24,
     "metadata": {},
     "output_type": "execute_result"
    }
   ],
   "source": [
    "google.columns = ['Otwarcie', 'Najwyzszy', 'Najnizszy', 'Zamkniecie', 'Wolumen']\n",
    "google"
   ]
  }
 ],
 "metadata": {
  "colab": {
   "collapsed_sections": [],
   "name": "121-130_exercises.ipynb",
   "provenance": []
  },
  "kernelspec": {
   "display_name": "Python 3",
   "language": "python",
   "name": "python3"
  },
  "language_info": {
   "codemirror_mode": {
    "name": "ipython",
    "version": 3
   },
   "file_extension": ".py",
   "mimetype": "text/x-python",
   "name": "python",
   "nbconvert_exporter": "python",
   "pygments_lexer": "ipython3",
   "version": "3.8.5"
  },
  "nbTranslate": {
   "displayLangs": [
    "*"
   ],
   "hotkey": "alt-t",
   "langInMainMenu": true,
   "sourceLang": "en",
   "targetLang": "fr",
   "useGoogleTranslate": true
  }
 },
 "nbformat": 4,
 "nbformat_minor": 1
}
