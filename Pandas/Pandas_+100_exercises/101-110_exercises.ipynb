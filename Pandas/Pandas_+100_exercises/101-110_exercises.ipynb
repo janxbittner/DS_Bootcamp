{
 "cells": [
  {
   "cell_type": "markdown",
   "metadata": {
    "id": "zeLOLmTj1kBM"
   },
   "source": [
    "### <a name='0'></a>Import libraries"
   ]
  },
  {
   "cell_type": "code",
   "execution_count": 1,
   "metadata": {
    "id": "HXMB7SMe1Wnz"
   },
   "outputs": [
    {
     "data": {
      "text/plain": [
       "'1.1.5'"
      ]
     },
     "execution_count": 1,
     "metadata": {},
     "output_type": "execute_result"
    }
   ],
   "source": [
    "import numpy as np\n",
    "import pandas as pd\n",
    "\n",
    "pd.__version__"
   ]
  },
  {
   "cell_type": "markdown",
   "metadata": {
    "id": "cyc70pMe1oCg"
   },
   "source": [
    "### <a name='1'></a> Exercise 101\n",
    "From the list given below:\n",
    "\n",
    "\n",
    "```\n",
    "stocks = ['PLW', 'CDR', '11B', 'TEN']\n",
    "```\n",
    "Create object type series.\n",
    "\n",
    "__Excepted result:__\n",
    "\n",
    "\n",
    "```\n",
    "0    PLW\n",
    "1    CDR\n",
    "2    11B\n",
    "3    TEN\n",
    "dtype: object\n",
    "```\n",
    "\n",
    "\n",
    "\n"
   ]
  },
  {
   "cell_type": "code",
   "execution_count": 2,
   "metadata": {
    "id": "GDGFmMI9BJ_D"
   },
   "outputs": [
    {
     "data": {
      "text/plain": [
       "0    PLW\n",
       "1    CDR\n",
       "2    11B\n",
       "3    TEN\n",
       "dtype: object"
      ]
     },
     "execution_count": 2,
     "metadata": {},
     "output_type": "execute_result"
    }
   ],
   "source": [
    "stocks = ['PLW', 'CDR', '11B', 'TEN']\n",
    "# Solution\n",
    "pd.Series(stocks)"
   ]
  },
  {
   "cell_type": "markdown",
   "metadata": {
    "id": "J9pY1rtr1sC0"
   },
   "source": [
    "### <a name='2'></a> Exercise 102\n",
    "From the dictionary given below:\n",
    "\n",
    "\n",
    "```\n",
    "stocks = {'PLW': 387.00, 'CDR': 339.5, 'TEN': 349.5, '11B': 391.0}\n",
    "```\n",
    "Create object Series and assign it into variable _quotations_.\n",
    "\n",
    "__Excepted result:__\n",
    "\n",
    "\n",
    "```\n",
    "PLW    387.0\n",
    "CDR    339.5\n",
    "TEN    349.5\n",
    "11B    391.0\n",
    "dtype: float64\n",
    "```\n",
    "\n",
    "\n",
    "\n"
   ]
  },
  {
   "cell_type": "code",
   "execution_count": 3,
   "metadata": {
    "id": "Qxkr7Q_DB79J"
   },
   "outputs": [
    {
     "data": {
      "text/plain": [
       "PLW    387.0\n",
       "CDR    339.5\n",
       "TEN    349.5\n",
       "11B    391.0\n",
       "dtype: float64"
      ]
     },
     "execution_count": 3,
     "metadata": {},
     "output_type": "execute_result"
    }
   ],
   "source": [
    "stocks = {'PLW': 387.00, 'CDR': 339.5, 'TEN': 349.5, '11B': 391.0}\n",
    "\n",
    "# Solution\n",
    "quotations= pd.Series(stocks)\n",
    "quotations"
   ]
  },
  {
   "cell_type": "markdown",
   "metadata": {
    "id": "XQLYT2m11wVG"
   },
   "source": [
    "### <a name='3'></a> Exercise 103\n",
    "Transform variable _quotations_ to list.\n",
    "\n",
    "__Excepted result:__\n",
    "\n",
    "\n",
    "```\n",
    "[387.0, 339.5, 349.5, 391.0]\n",
    "```\n",
    "\n"
   ]
  },
  {
   "cell_type": "code",
   "execution_count": 4,
   "metadata": {
    "id": "d0GEZKMGCgKt"
   },
   "outputs": [
    {
     "data": {
      "text/plain": [
       "[387.0, 339.5, 349.5, 391.0]"
      ]
     },
     "execution_count": 4,
     "metadata": {},
     "output_type": "execute_result"
    }
   ],
   "source": [
    "# Solution\n",
    "quotations.to_list()"
   ]
  },
  {
   "cell_type": "markdown",
   "metadata": {
    "id": "JQtZ-hYaGp7h"
   },
   "source": [
    "Transform the object _quotations_ to _numpy array_."
   ]
  },
  {
   "cell_type": "code",
   "execution_count": 5,
   "metadata": {
    "id": "0fMS1VvoGmyG"
   },
   "outputs": [
    {
     "data": {
      "text/plain": [
       "array([387. , 339.5, 349.5, 391. ])"
      ]
     },
     "execution_count": 5,
     "metadata": {},
     "output_type": "execute_result"
    }
   ],
   "source": [
    "# Solution\n",
    "quotations.values"
   ]
  },
  {
   "cell_type": "markdown",
   "metadata": {
    "id": "4xTKSUzg10MK"
   },
   "source": [
    "### <a name='4'></a> Exercise 104\n",
    "Transform the object _quotations_ to format _DataFrame_. Set column name as _price_."
   ]
  },
  {
   "cell_type": "code",
   "execution_count": 6,
   "metadata": {
    "id": "ygDJC3NmD_M6"
   },
   "outputs": [
    {
     "data": {
      "text/html": [
       "<div>\n",
       "<style scoped>\n",
       "    .dataframe tbody tr th:only-of-type {\n",
       "        vertical-align: middle;\n",
       "    }\n",
       "\n",
       "    .dataframe tbody tr th {\n",
       "        vertical-align: top;\n",
       "    }\n",
       "\n",
       "    .dataframe thead th {\n",
       "        text-align: right;\n",
       "    }\n",
       "</style>\n",
       "<table border=\"1\" class=\"dataframe\">\n",
       "  <thead>\n",
       "    <tr style=\"text-align: right;\">\n",
       "      <th></th>\n",
       "      <th>price</th>\n",
       "    </tr>\n",
       "  </thead>\n",
       "  <tbody>\n",
       "    <tr>\n",
       "      <th>PLW</th>\n",
       "      <td>387.0</td>\n",
       "    </tr>\n",
       "    <tr>\n",
       "      <th>CDR</th>\n",
       "      <td>339.5</td>\n",
       "    </tr>\n",
       "    <tr>\n",
       "      <th>TEN</th>\n",
       "      <td>349.5</td>\n",
       "    </tr>\n",
       "    <tr>\n",
       "      <th>11B</th>\n",
       "      <td>391.0</td>\n",
       "    </tr>\n",
       "  </tbody>\n",
       "</table>\n",
       "</div>"
      ],
      "text/plain": [
       "     price\n",
       "PLW  387.0\n",
       "CDR  339.5\n",
       "TEN  349.5\n",
       "11B  391.0"
      ]
     },
     "execution_count": 6,
     "metadata": {},
     "output_type": "execute_result"
    }
   ],
   "source": [
    "# Solution\n",
    "pd.DataFrame(quotations,columns = ['price'])"
   ]
  },
  {
   "cell_type": "markdown",
   "metadata": {
    "id": "o3HKIKlP15Ro"
   },
   "source": [
    "### <a name='5'></a> Exercise 105\n",
    "Using _numpy_ library create the object _Series_ showed below:\n",
    "\n",
    "\n",
    "```\n",
    "101    10.0\n",
    "102    20.0\n",
    "103    30.0\n",
    "104    40.0\n",
    "105    50.0\n",
    "106    60.0\n",
    "107    70.0\n",
    "108    80.0\n",
    "109    90.0\n",
    "dtype: float64\n",
    "```\n",
    "\n"
   ]
  },
  {
   "cell_type": "code",
   "execution_count": 7,
   "metadata": {
    "id": "78evbbA2ELsX"
   },
   "outputs": [
    {
     "data": {
      "text/plain": [
       "101    10.0\n",
       "102    20.0\n",
       "103    30.0\n",
       "104    40.0\n",
       "105    50.0\n",
       "106    60.0\n",
       "107    70.0\n",
       "108    80.0\n",
       "109    90.0\n",
       "dtype: float64"
      ]
     },
     "execution_count": 7,
     "metadata": {},
     "output_type": "execute_result"
    }
   ],
   "source": [
    "# Solution\n",
    "pd.Series(data = np.arange(10.0,100.0,10.0,dtype = 'float64'),\n",
    "         index = np.arange(101,110,1,dtype = int))"
   ]
  },
  {
   "cell_type": "markdown",
   "metadata": {
    "id": "PunXd_Ey16so"
   },
   "source": [
    "### <a name='6'></a> Exercise 106\n",
    "The object type _Series_ is given below:\n",
    "\n",
    "```\n",
    "series = pd.Series(['001', '002', '003', '004'], list('abcd'))\n",
    "```\n",
    "Convert values in object from _series_ to _int 64_.\n",
    "\n"
   ]
  },
  {
   "cell_type": "code",
   "execution_count": 8,
   "metadata": {
    "id": "Ve_jsXz7FiPI"
   },
   "outputs": [
    {
     "data": {
      "text/plain": [
       "a    1\n",
       "b    2\n",
       "c    3\n",
       "d    4\n",
       "dtype: int64"
      ]
     },
     "execution_count": 8,
     "metadata": {},
     "output_type": "execute_result"
    }
   ],
   "source": [
    "series = pd.Series(['001', '002', '003', '004'], list('abcd'))\n",
    "\n",
    "# Solution\n",
    "series.astype('int64')"
   ]
  },
  {
   "cell_type": "markdown",
   "metadata": {
    "id": "M9Xadb-hGRiD"
   },
   "source": [
    "Convert data type of values in  _series_ to _float_."
   ]
  },
  {
   "cell_type": "code",
   "execution_count": 9,
   "metadata": {
    "id": "Fa7dEamIGQdr"
   },
   "outputs": [
    {
     "data": {
      "text/plain": [
       "a    1.0\n",
       "b    2.0\n",
       "c    3.0\n",
       "d    4.0\n",
       "dtype: float64"
      ]
     },
     "execution_count": 9,
     "metadata": {},
     "output_type": "execute_result"
    }
   ],
   "source": [
    "# Solution\n",
    "series.astype('float64')"
   ]
  },
  {
   "cell_type": "markdown",
   "metadata": {
    "id": "hOhqDRz618Tx"
   },
   "source": [
    "### <a name='7'></a> Exercise 107\n",
    "From the object _quotations_ given below:\n",
    "\n",
    "```\n",
    "stocks = {'PLW': 387.00, 'CDR': 339.5, 'TEN': 349.5, '11B': 391.0}\n",
    "quotations = pd.Series(data=stocks)\n",
    "```\n",
    "Add two elements:\n",
    "* index: BBT, value: 25.5\n",
    "* index: F51, value: 19.2\n",
    "\n",
    "__Excepted result:__\n",
    "\n",
    "\n",
    "```\n",
    "PLW    387.0\n",
    "CDR    339.5\n",
    "TEN    349.5\n",
    "11B    391.0\n",
    "BBT     25.5\n",
    "F51     19.2\n",
    "dtype: float64\n",
    "```\n",
    "\n",
    "\n"
   ]
  },
  {
   "cell_type": "code",
   "execution_count": 10,
   "metadata": {
    "id": "ujz9ReTUHGeQ"
   },
   "outputs": [
    {
     "data": {
      "text/plain": [
       "PLW    387.0\n",
       "CDR    339.5\n",
       "TEN    349.5\n",
       "11B    391.0\n",
       "BBT     25.5\n",
       "F51     19.2\n",
       "dtype: float64"
      ]
     },
     "execution_count": 10,
     "metadata": {},
     "output_type": "execute_result"
    }
   ],
   "source": [
    "stocks = {'PLW': 387.00, 'CDR': 339.5, 'TEN': 349.5, '11B': 391.0}\n",
    "quotations = pd.Series(data=stocks)\n",
    "\n",
    "# Solution\n",
    "quotations['BBT'] = 25.5\n",
    "quotations['F51'] = 19.2\n",
    "quotations"
   ]
  },
  {
   "cell_type": "markdown",
   "metadata": {
    "id": "TXUd_4631-gw"
   },
   "source": [
    "### <a name='8'></a> Exercise 108\n",
    "Obiekt _quotations_ z poprzedniego ćwiczenia przekształć do obiektu typu _DataFrame_. Zresetuj indeks i nadaj nazwy kolumn '_ticker_' oraz _'price'_."
   ]
  },
  {
   "cell_type": "code",
   "execution_count": 11,
   "metadata": {
    "id": "hthuSwq4IX9w"
   },
   "outputs": [
    {
     "data": {
      "text/html": [
       "<div>\n",
       "<style scoped>\n",
       "    .dataframe tbody tr th:only-of-type {\n",
       "        vertical-align: middle;\n",
       "    }\n",
       "\n",
       "    .dataframe tbody tr th {\n",
       "        vertical-align: top;\n",
       "    }\n",
       "\n",
       "    .dataframe thead th {\n",
       "        text-align: right;\n",
       "    }\n",
       "</style>\n",
       "<table border=\"1\" class=\"dataframe\">\n",
       "  <thead>\n",
       "    <tr style=\"text-align: right;\">\n",
       "      <th></th>\n",
       "      <th>ticker</th>\n",
       "      <th>price</th>\n",
       "    </tr>\n",
       "  </thead>\n",
       "  <tbody>\n",
       "    <tr>\n",
       "      <th>0</th>\n",
       "      <td>PLW</td>\n",
       "      <td>387.0</td>\n",
       "    </tr>\n",
       "    <tr>\n",
       "      <th>1</th>\n",
       "      <td>CDR</td>\n",
       "      <td>339.5</td>\n",
       "    </tr>\n",
       "    <tr>\n",
       "      <th>2</th>\n",
       "      <td>TEN</td>\n",
       "      <td>349.5</td>\n",
       "    </tr>\n",
       "    <tr>\n",
       "      <th>3</th>\n",
       "      <td>11B</td>\n",
       "      <td>391.0</td>\n",
       "    </tr>\n",
       "    <tr>\n",
       "      <th>4</th>\n",
       "      <td>BBT</td>\n",
       "      <td>25.5</td>\n",
       "    </tr>\n",
       "    <tr>\n",
       "      <th>5</th>\n",
       "      <td>F51</td>\n",
       "      <td>19.2</td>\n",
       "    </tr>\n",
       "  </tbody>\n",
       "</table>\n",
       "</div>"
      ],
      "text/plain": [
       "  ticker  price\n",
       "0    PLW  387.0\n",
       "1    CDR  339.5\n",
       "2    TEN  349.5\n",
       "3    11B  391.0\n",
       "4    BBT   25.5\n",
       "5    F51   19.2"
      ]
     },
     "execution_count": 11,
     "metadata": {},
     "output_type": "execute_result"
    }
   ],
   "source": [
    "# Solution\n",
    "DF = pd.DataFrame(data = quotations).reset_index()\n",
    "DF.columns = ['ticker','price']\n",
    "DF"
   ]
  },
  {
   "cell_type": "markdown",
   "metadata": {
    "id": "tgI6xEn-2AQo"
   },
   "source": [
    "### <a name='9'></a> Exercise 109\n",
    "Create the object _DataFrame_ with values showed below then assign to variable _companies_:\n",
    "\n",
    "|    | company   |   price | ticker   |\n",
    "|---:|:----------|--------:|:---------|\n",
    "|  0 | Amazon    |  2375   | AMZN.US  |\n",
    "|  1 | Microsoft |   178.6 | MSFT.US  |\n",
    "|  2 | Facebook  |   179.2 | FB.US    |\n",
    "\n",
    "\n",
    "\n"
   ]
  },
  {
   "cell_type": "code",
   "execution_count": 12,
   "metadata": {
    "id": "PjdpHMVMLRjb"
   },
   "outputs": [
    {
     "data": {
      "text/html": [
       "<div>\n",
       "<style scoped>\n",
       "    .dataframe tbody tr th:only-of-type {\n",
       "        vertical-align: middle;\n",
       "    }\n",
       "\n",
       "    .dataframe tbody tr th {\n",
       "        vertical-align: top;\n",
       "    }\n",
       "\n",
       "    .dataframe thead th {\n",
       "        text-align: right;\n",
       "    }\n",
       "</style>\n",
       "<table border=\"1\" class=\"dataframe\">\n",
       "  <thead>\n",
       "    <tr style=\"text-align: right;\">\n",
       "      <th></th>\n",
       "      <th>company</th>\n",
       "      <th>price</th>\n",
       "      <th>ticker</th>\n",
       "    </tr>\n",
       "  </thead>\n",
       "  <tbody>\n",
       "    <tr>\n",
       "      <th>0</th>\n",
       "      <td>Amazon</td>\n",
       "      <td>2375.0</td>\n",
       "      <td>AMZN.US</td>\n",
       "    </tr>\n",
       "    <tr>\n",
       "      <th>1</th>\n",
       "      <td>Microsoft</td>\n",
       "      <td>178.6</td>\n",
       "      <td>MSFT.US</td>\n",
       "    </tr>\n",
       "    <tr>\n",
       "      <th>2</th>\n",
       "      <td>Facebook</td>\n",
       "      <td>179.2</td>\n",
       "      <td>FB.US</td>\n",
       "    </tr>\n",
       "  </tbody>\n",
       "</table>\n",
       "</div>"
      ],
      "text/plain": [
       "     company   price   ticker\n",
       "0     Amazon  2375.0  AMZN.US\n",
       "1  Microsoft   178.6  MSFT.US\n",
       "2   Facebook   179.2    FB.US"
      ]
     },
     "execution_count": 12,
     "metadata": {},
     "output_type": "execute_result"
    }
   ],
   "source": [
    "# Solution\n",
    "companies = pd.DataFrame(data = {'company':['Amazon','Microsoft','Facebook'],\n",
    "                     'price':[2375,178.6,179.2],\n",
    "                     'ticker':['AMZN.US','MSFT.US','FB.US']})\n",
    "companies"
   ]
  },
  {
   "cell_type": "markdown",
   "metadata": {
    "id": "wxhpf-uq2B1I"
   },
   "source": [
    "### <a name='10'></a> Exercise 110\n",
    "Transform the first column in _companies_ to index. "
   ]
  },
  {
   "cell_type": "code",
   "execution_count": 13,
   "metadata": {
    "id": "YFc0KW6URsuc"
   },
   "outputs": [
    {
     "data": {
      "text/html": [
       "<div>\n",
       "<style scoped>\n",
       "    .dataframe tbody tr th:only-of-type {\n",
       "        vertical-align: middle;\n",
       "    }\n",
       "\n",
       "    .dataframe tbody tr th {\n",
       "        vertical-align: top;\n",
       "    }\n",
       "\n",
       "    .dataframe thead th {\n",
       "        text-align: right;\n",
       "    }\n",
       "</style>\n",
       "<table border=\"1\" class=\"dataframe\">\n",
       "  <thead>\n",
       "    <tr style=\"text-align: right;\">\n",
       "      <th></th>\n",
       "      <th>price</th>\n",
       "      <th>ticker</th>\n",
       "    </tr>\n",
       "    <tr>\n",
       "      <th>company</th>\n",
       "      <th></th>\n",
       "      <th></th>\n",
       "    </tr>\n",
       "  </thead>\n",
       "  <tbody>\n",
       "    <tr>\n",
       "      <th>Amazon</th>\n",
       "      <td>2375.0</td>\n",
       "      <td>AMZN.US</td>\n",
       "    </tr>\n",
       "    <tr>\n",
       "      <th>Microsoft</th>\n",
       "      <td>178.6</td>\n",
       "      <td>MSFT.US</td>\n",
       "    </tr>\n",
       "    <tr>\n",
       "      <th>Facebook</th>\n",
       "      <td>179.2</td>\n",
       "      <td>FB.US</td>\n",
       "    </tr>\n",
       "  </tbody>\n",
       "</table>\n",
       "</div>"
      ],
      "text/plain": [
       "            price   ticker\n",
       "company                   \n",
       "Amazon     2375.0  AMZN.US\n",
       "Microsoft   178.6  MSFT.US\n",
       "Facebook    179.2    FB.US"
      ]
     },
     "execution_count": 13,
     "metadata": {},
     "output_type": "execute_result"
    }
   ],
   "source": [
    "# Solution\n",
    "companies = companies.set_index('company')\n",
    "companies"
   ]
  },
  {
   "cell_type": "markdown",
   "metadata": {
    "id": "HqlVvbOFNkOM"
   },
   "source": [
    "Cut index _Facebook_ from the object _companies_."
   ]
  },
  {
   "cell_type": "code",
   "execution_count": 14,
   "metadata": {
    "id": "62A931aoNEDO"
   },
   "outputs": [
    {
     "data": {
      "text/html": [
       "<div>\n",
       "<style scoped>\n",
       "    .dataframe tbody tr th:only-of-type {\n",
       "        vertical-align: middle;\n",
       "    }\n",
       "\n",
       "    .dataframe tbody tr th {\n",
       "        vertical-align: top;\n",
       "    }\n",
       "\n",
       "    .dataframe thead th {\n",
       "        text-align: right;\n",
       "    }\n",
       "</style>\n",
       "<table border=\"1\" class=\"dataframe\">\n",
       "  <thead>\n",
       "    <tr style=\"text-align: right;\">\n",
       "      <th></th>\n",
       "      <th>price</th>\n",
       "      <th>ticker</th>\n",
       "    </tr>\n",
       "    <tr>\n",
       "      <th>company</th>\n",
       "      <th></th>\n",
       "      <th></th>\n",
       "    </tr>\n",
       "  </thead>\n",
       "  <tbody>\n",
       "    <tr>\n",
       "      <th>Facebook</th>\n",
       "      <td>179.2</td>\n",
       "      <td>FB.US</td>\n",
       "    </tr>\n",
       "  </tbody>\n",
       "</table>\n",
       "</div>"
      ],
      "text/plain": [
       "          price ticker\n",
       "company               \n",
       "Facebook  179.2  FB.US"
      ]
     },
     "execution_count": 14,
     "metadata": {},
     "output_type": "execute_result"
    }
   ],
   "source": [
    "# Solution\n",
    "companies[companies.index == 'Facebook']"
   ]
  },
  {
   "cell_type": "markdown",
   "metadata": {
    "id": "mu_Kav5POAO0"
   },
   "source": [
    "Return the stock price of _Microsoft_"
   ]
  },
  {
   "cell_type": "code",
   "execution_count": 15,
   "metadata": {
    "id": "m180ZDfuNjVN"
   },
   "outputs": [
    {
     "name": "stdout",
     "output_type": "stream",
     "text": [
      "The stock price of Microsoft company is 178.6\n"
     ]
    }
   ],
   "source": [
    "# Solution\n",
    "print(f'The stock price of Microsoft company is {companies.loc[\"Microsoft\",\"price\"]}')"
   ]
  }
 ],
 "metadata": {
  "colab": {
   "collapsed_sections": [],
   "name": "101-110_exercises.ipynb",
   "provenance": []
  },
  "kernelspec": {
   "display_name": "Python 3",
   "language": "python",
   "name": "python3"
  },
  "language_info": {
   "codemirror_mode": {
    "name": "ipython",
    "version": 3
   },
   "file_extension": ".py",
   "mimetype": "text/x-python",
   "name": "python",
   "nbconvert_exporter": "python",
   "pygments_lexer": "ipython3",
   "version": "3.8.5"
  },
  "nbTranslate": {
   "displayLangs": [
    "*"
   ],
   "hotkey": "alt-t",
   "langInMainMenu": true,
   "sourceLang": "en",
   "targetLang": "fr",
   "useGoogleTranslate": true
  }
 },
 "nbformat": 4,
 "nbformat_minor": 1
}
