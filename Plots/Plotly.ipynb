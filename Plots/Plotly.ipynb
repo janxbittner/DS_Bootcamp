{
 "cells": [
  {
   "cell_type": "markdown",
   "metadata": {},
   "source": [
    "Import modules:"
   ]
  },
  {
   "cell_type": "code",
   "execution_count": 1,
   "metadata": {},
   "outputs": [],
   "source": [
    "import plotly.graph_objects as go"
   ]
  },
  {
   "cell_type": "markdown",
   "metadata": {},
   "source": [
    "# Bar chart"
   ]
  },
  {
   "cell_type": "code",
   "execution_count": 95,
   "metadata": {},
   "outputs": [
    {
     "data": {
      "application/vnd.plotly.v1+json": {
       "config": {
        "plotlyServerURL": "https://plotly.com"
       },
       "data": [
        {
         "type": "bar",
         "y": [
          2,
          3,
          3.5,
          4
         ]
        }
       ],
       "layout": {
        "template": {
         "data": {
          "bar": [
           {
            "error_x": {
             "color": "#f2f5fa"
            },
            "error_y": {
             "color": "#f2f5fa"
            },
            "marker": {
             "line": {
              "color": "rgb(17,17,17)",
              "width": 0.5
             }
            },
            "type": "bar"
           }
          ],
          "barpolar": [
           {
            "marker": {
             "line": {
              "color": "rgb(17,17,17)",
              "width": 0.5
             }
            },
            "type": "barpolar"
           }
          ],
          "carpet": [
           {
            "aaxis": {
             "endlinecolor": "#A2B1C6",
             "gridcolor": "#506784",
             "linecolor": "#506784",
             "minorgridcolor": "#506784",
             "startlinecolor": "#A2B1C6"
            },
            "baxis": {
             "endlinecolor": "#A2B1C6",
             "gridcolor": "#506784",
             "linecolor": "#506784",
             "minorgridcolor": "#506784",
             "startlinecolor": "#A2B1C6"
            },
            "type": "carpet"
           }
          ],
          "choropleth": [
           {
            "colorbar": {
             "outlinewidth": 0,
             "ticks": ""
            },
            "type": "choropleth"
           }
          ],
          "contour": [
           {
            "colorbar": {
             "outlinewidth": 0,
             "ticks": ""
            },
            "colorscale": [
             [
              0,
              "#0d0887"
             ],
             [
              0.1111111111111111,
              "#46039f"
             ],
             [
              0.2222222222222222,
              "#7201a8"
             ],
             [
              0.3333333333333333,
              "#9c179e"
             ],
             [
              0.4444444444444444,
              "#bd3786"
             ],
             [
              0.5555555555555556,
              "#d8576b"
             ],
             [
              0.6666666666666666,
              "#ed7953"
             ],
             [
              0.7777777777777778,
              "#fb9f3a"
             ],
             [
              0.8888888888888888,
              "#fdca26"
             ],
             [
              1,
              "#f0f921"
             ]
            ],
            "type": "contour"
           }
          ],
          "contourcarpet": [
           {
            "colorbar": {
             "outlinewidth": 0,
             "ticks": ""
            },
            "type": "contourcarpet"
           }
          ],
          "heatmap": [
           {
            "colorbar": {
             "outlinewidth": 0,
             "ticks": ""
            },
            "colorscale": [
             [
              0,
              "#0d0887"
             ],
             [
              0.1111111111111111,
              "#46039f"
             ],
             [
              0.2222222222222222,
              "#7201a8"
             ],
             [
              0.3333333333333333,
              "#9c179e"
             ],
             [
              0.4444444444444444,
              "#bd3786"
             ],
             [
              0.5555555555555556,
              "#d8576b"
             ],
             [
              0.6666666666666666,
              "#ed7953"
             ],
             [
              0.7777777777777778,
              "#fb9f3a"
             ],
             [
              0.8888888888888888,
              "#fdca26"
             ],
             [
              1,
              "#f0f921"
             ]
            ],
            "type": "heatmap"
           }
          ],
          "heatmapgl": [
           {
            "colorbar": {
             "outlinewidth": 0,
             "ticks": ""
            },
            "colorscale": [
             [
              0,
              "#0d0887"
             ],
             [
              0.1111111111111111,
              "#46039f"
             ],
             [
              0.2222222222222222,
              "#7201a8"
             ],
             [
              0.3333333333333333,
              "#9c179e"
             ],
             [
              0.4444444444444444,
              "#bd3786"
             ],
             [
              0.5555555555555556,
              "#d8576b"
             ],
             [
              0.6666666666666666,
              "#ed7953"
             ],
             [
              0.7777777777777778,
              "#fb9f3a"
             ],
             [
              0.8888888888888888,
              "#fdca26"
             ],
             [
              1,
              "#f0f921"
             ]
            ],
            "type": "heatmapgl"
           }
          ],
          "histogram": [
           {
            "marker": {
             "colorbar": {
              "outlinewidth": 0,
              "ticks": ""
             }
            },
            "type": "histogram"
           }
          ],
          "histogram2d": [
           {
            "colorbar": {
             "outlinewidth": 0,
             "ticks": ""
            },
            "colorscale": [
             [
              0,
              "#0d0887"
             ],
             [
              0.1111111111111111,
              "#46039f"
             ],
             [
              0.2222222222222222,
              "#7201a8"
             ],
             [
              0.3333333333333333,
              "#9c179e"
             ],
             [
              0.4444444444444444,
              "#bd3786"
             ],
             [
              0.5555555555555556,
              "#d8576b"
             ],
             [
              0.6666666666666666,
              "#ed7953"
             ],
             [
              0.7777777777777778,
              "#fb9f3a"
             ],
             [
              0.8888888888888888,
              "#fdca26"
             ],
             [
              1,
              "#f0f921"
             ]
            ],
            "type": "histogram2d"
           }
          ],
          "histogram2dcontour": [
           {
            "colorbar": {
             "outlinewidth": 0,
             "ticks": ""
            },
            "colorscale": [
             [
              0,
              "#0d0887"
             ],
             [
              0.1111111111111111,
              "#46039f"
             ],
             [
              0.2222222222222222,
              "#7201a8"
             ],
             [
              0.3333333333333333,
              "#9c179e"
             ],
             [
              0.4444444444444444,
              "#bd3786"
             ],
             [
              0.5555555555555556,
              "#d8576b"
             ],
             [
              0.6666666666666666,
              "#ed7953"
             ],
             [
              0.7777777777777778,
              "#fb9f3a"
             ],
             [
              0.8888888888888888,
              "#fdca26"
             ],
             [
              1,
              "#f0f921"
             ]
            ],
            "type": "histogram2dcontour"
           }
          ],
          "mesh3d": [
           {
            "colorbar": {
             "outlinewidth": 0,
             "ticks": ""
            },
            "type": "mesh3d"
           }
          ],
          "parcoords": [
           {
            "line": {
             "colorbar": {
              "outlinewidth": 0,
              "ticks": ""
             }
            },
            "type": "parcoords"
           }
          ],
          "pie": [
           {
            "automargin": true,
            "type": "pie"
           }
          ],
          "scatter": [
           {
            "marker": {
             "line": {
              "color": "#283442"
             }
            },
            "type": "scatter"
           }
          ],
          "scatter3d": [
           {
            "line": {
             "colorbar": {
              "outlinewidth": 0,
              "ticks": ""
             }
            },
            "marker": {
             "colorbar": {
              "outlinewidth": 0,
              "ticks": ""
             }
            },
            "type": "scatter3d"
           }
          ],
          "scattercarpet": [
           {
            "marker": {
             "colorbar": {
              "outlinewidth": 0,
              "ticks": ""
             }
            },
            "type": "scattercarpet"
           }
          ],
          "scattergeo": [
           {
            "marker": {
             "colorbar": {
              "outlinewidth": 0,
              "ticks": ""
             }
            },
            "type": "scattergeo"
           }
          ],
          "scattergl": [
           {
            "marker": {
             "line": {
              "color": "#283442"
             }
            },
            "type": "scattergl"
           }
          ],
          "scattermapbox": [
           {
            "marker": {
             "colorbar": {
              "outlinewidth": 0,
              "ticks": ""
             }
            },
            "type": "scattermapbox"
           }
          ],
          "scatterpolar": [
           {
            "marker": {
             "colorbar": {
              "outlinewidth": 0,
              "ticks": ""
             }
            },
            "type": "scatterpolar"
           }
          ],
          "scatterpolargl": [
           {
            "marker": {
             "colorbar": {
              "outlinewidth": 0,
              "ticks": ""
             }
            },
            "type": "scatterpolargl"
           }
          ],
          "scatterternary": [
           {
            "marker": {
             "colorbar": {
              "outlinewidth": 0,
              "ticks": ""
             }
            },
            "type": "scatterternary"
           }
          ],
          "surface": [
           {
            "colorbar": {
             "outlinewidth": 0,
             "ticks": ""
            },
            "colorscale": [
             [
              0,
              "#0d0887"
             ],
             [
              0.1111111111111111,
              "#46039f"
             ],
             [
              0.2222222222222222,
              "#7201a8"
             ],
             [
              0.3333333333333333,
              "#9c179e"
             ],
             [
              0.4444444444444444,
              "#bd3786"
             ],
             [
              0.5555555555555556,
              "#d8576b"
             ],
             [
              0.6666666666666666,
              "#ed7953"
             ],
             [
              0.7777777777777778,
              "#fb9f3a"
             ],
             [
              0.8888888888888888,
              "#fdca26"
             ],
             [
              1,
              "#f0f921"
             ]
            ],
            "type": "surface"
           }
          ],
          "table": [
           {
            "cells": {
             "fill": {
              "color": "#506784"
             },
             "line": {
              "color": "rgb(17,17,17)"
             }
            },
            "header": {
             "fill": {
              "color": "#2a3f5f"
             },
             "line": {
              "color": "rgb(17,17,17)"
             }
            },
            "type": "table"
           }
          ]
         },
         "layout": {
          "annotationdefaults": {
           "arrowcolor": "#f2f5fa",
           "arrowhead": 0,
           "arrowwidth": 1
          },
          "coloraxis": {
           "colorbar": {
            "outlinewidth": 0,
            "ticks": ""
           }
          },
          "colorscale": {
           "diverging": [
            [
             0,
             "#8e0152"
            ],
            [
             0.1,
             "#c51b7d"
            ],
            [
             0.2,
             "#de77ae"
            ],
            [
             0.3,
             "#f1b6da"
            ],
            [
             0.4,
             "#fde0ef"
            ],
            [
             0.5,
             "#f7f7f7"
            ],
            [
             0.6,
             "#e6f5d0"
            ],
            [
             0.7,
             "#b8e186"
            ],
            [
             0.8,
             "#7fbc41"
            ],
            [
             0.9,
             "#4d9221"
            ],
            [
             1,
             "#276419"
            ]
           ],
           "sequential": [
            [
             0,
             "#0d0887"
            ],
            [
             0.1111111111111111,
             "#46039f"
            ],
            [
             0.2222222222222222,
             "#7201a8"
            ],
            [
             0.3333333333333333,
             "#9c179e"
            ],
            [
             0.4444444444444444,
             "#bd3786"
            ],
            [
             0.5555555555555556,
             "#d8576b"
            ],
            [
             0.6666666666666666,
             "#ed7953"
            ],
            [
             0.7777777777777778,
             "#fb9f3a"
            ],
            [
             0.8888888888888888,
             "#fdca26"
            ],
            [
             1,
             "#f0f921"
            ]
           ],
           "sequentialminus": [
            [
             0,
             "#0d0887"
            ],
            [
             0.1111111111111111,
             "#46039f"
            ],
            [
             0.2222222222222222,
             "#7201a8"
            ],
            [
             0.3333333333333333,
             "#9c179e"
            ],
            [
             0.4444444444444444,
             "#bd3786"
            ],
            [
             0.5555555555555556,
             "#d8576b"
            ],
            [
             0.6666666666666666,
             "#ed7953"
            ],
            [
             0.7777777777777778,
             "#fb9f3a"
            ],
            [
             0.8888888888888888,
             "#fdca26"
            ],
            [
             1,
             "#f0f921"
            ]
           ]
          },
          "colorway": [
           "#636efa",
           "#EF553B",
           "#00cc96",
           "#ab63fa",
           "#FFA15A",
           "#19d3f3",
           "#FF6692",
           "#B6E880",
           "#FF97FF",
           "#FECB52"
          ],
          "font": {
           "color": "#f2f5fa"
          },
          "geo": {
           "bgcolor": "rgb(17,17,17)",
           "lakecolor": "rgb(17,17,17)",
           "landcolor": "rgb(17,17,17)",
           "showlakes": true,
           "showland": true,
           "subunitcolor": "#506784"
          },
          "hoverlabel": {
           "align": "left"
          },
          "hovermode": "closest",
          "mapbox": {
           "style": "dark"
          },
          "paper_bgcolor": "rgb(17,17,17)",
          "plot_bgcolor": "rgb(17,17,17)",
          "polar": {
           "angularaxis": {
            "gridcolor": "#506784",
            "linecolor": "#506784",
            "ticks": ""
           },
           "bgcolor": "rgb(17,17,17)",
           "radialaxis": {
            "gridcolor": "#506784",
            "linecolor": "#506784",
            "ticks": ""
           }
          },
          "scene": {
           "xaxis": {
            "backgroundcolor": "rgb(17,17,17)",
            "gridcolor": "#506784",
            "gridwidth": 2,
            "linecolor": "#506784",
            "showbackground": true,
            "ticks": "",
            "zerolinecolor": "#C8D4E3"
           },
           "yaxis": {
            "backgroundcolor": "rgb(17,17,17)",
            "gridcolor": "#506784",
            "gridwidth": 2,
            "linecolor": "#506784",
            "showbackground": true,
            "ticks": "",
            "zerolinecolor": "#C8D4E3"
           },
           "zaxis": {
            "backgroundcolor": "rgb(17,17,17)",
            "gridcolor": "#506784",
            "gridwidth": 2,
            "linecolor": "#506784",
            "showbackground": true,
            "ticks": "",
            "zerolinecolor": "#C8D4E3"
           }
          },
          "shapedefaults": {
           "line": {
            "color": "#f2f5fa"
           }
          },
          "sliderdefaults": {
           "bgcolor": "#C8D4E3",
           "bordercolor": "rgb(17,17,17)",
           "borderwidth": 1,
           "tickwidth": 0
          },
          "ternary": {
           "aaxis": {
            "gridcolor": "#506784",
            "linecolor": "#506784",
            "ticks": ""
           },
           "baxis": {
            "gridcolor": "#506784",
            "linecolor": "#506784",
            "ticks": ""
           },
           "bgcolor": "rgb(17,17,17)",
           "caxis": {
            "gridcolor": "#506784",
            "linecolor": "#506784",
            "ticks": ""
           }
          },
          "title": {
           "x": 0.05
          },
          "updatemenudefaults": {
           "bgcolor": "#506784",
           "borderwidth": 0
          },
          "xaxis": {
           "automargin": true,
           "gridcolor": "#283442",
           "linecolor": "#506784",
           "ticks": "",
           "title": {
            "standoff": 15
           },
           "zerolinecolor": "#283442",
           "zerolinewidth": 2
          },
          "yaxis": {
           "automargin": true,
           "gridcolor": "#283442",
           "linecolor": "#506784",
           "ticks": "",
           "title": {
            "standoff": 15
           },
           "zerolinecolor": "#283442",
           "zerolinewidth": 2
          }
         }
        },
        "title": {
         "text": "Bar chart"
        }
       }
      },
      "text/html": [
       "<div>                            <div id=\"e712fa64-c02d-4a95-99ca-4ed982015574\" class=\"plotly-graph-div\" style=\"height:525px; width:100%;\"></div>            <script type=\"text/javascript\">                require([\"plotly\"], function(Plotly) {                    window.PLOTLYENV=window.PLOTLYENV || {};                                    if (document.getElementById(\"e712fa64-c02d-4a95-99ca-4ed982015574\")) {                    Plotly.newPlot(                        \"e712fa64-c02d-4a95-99ca-4ed982015574\",                        [{\"type\": \"bar\", \"y\": [2, 3, 3.5, 4]}],                        {\"template\": {\"data\": {\"bar\": [{\"error_x\": {\"color\": \"#f2f5fa\"}, \"error_y\": {\"color\": \"#f2f5fa\"}, \"marker\": {\"line\": {\"color\": \"rgb(17,17,17)\", \"width\": 0.5}}, \"type\": \"bar\"}], \"barpolar\": [{\"marker\": {\"line\": {\"color\": \"rgb(17,17,17)\", \"width\": 0.5}}, \"type\": \"barpolar\"}], \"carpet\": [{\"aaxis\": {\"endlinecolor\": \"#A2B1C6\", \"gridcolor\": \"#506784\", \"linecolor\": \"#506784\", \"minorgridcolor\": \"#506784\", \"startlinecolor\": \"#A2B1C6\"}, \"baxis\": {\"endlinecolor\": \"#A2B1C6\", \"gridcolor\": \"#506784\", \"linecolor\": \"#506784\", \"minorgridcolor\": \"#506784\", \"startlinecolor\": \"#A2B1C6\"}, \"type\": \"carpet\"}], \"choropleth\": [{\"colorbar\": {\"outlinewidth\": 0, \"ticks\": \"\"}, \"type\": \"choropleth\"}], \"contour\": [{\"colorbar\": {\"outlinewidth\": 0, \"ticks\": \"\"}, \"colorscale\": [[0.0, \"#0d0887\"], [0.1111111111111111, \"#46039f\"], [0.2222222222222222, \"#7201a8\"], [0.3333333333333333, \"#9c179e\"], [0.4444444444444444, \"#bd3786\"], [0.5555555555555556, \"#d8576b\"], [0.6666666666666666, \"#ed7953\"], [0.7777777777777778, \"#fb9f3a\"], [0.8888888888888888, \"#fdca26\"], [1.0, \"#f0f921\"]], \"type\": \"contour\"}], \"contourcarpet\": [{\"colorbar\": {\"outlinewidth\": 0, \"ticks\": \"\"}, \"type\": \"contourcarpet\"}], \"heatmap\": [{\"colorbar\": {\"outlinewidth\": 0, \"ticks\": \"\"}, \"colorscale\": [[0.0, \"#0d0887\"], [0.1111111111111111, \"#46039f\"], [0.2222222222222222, \"#7201a8\"], [0.3333333333333333, \"#9c179e\"], [0.4444444444444444, \"#bd3786\"], [0.5555555555555556, \"#d8576b\"], [0.6666666666666666, \"#ed7953\"], [0.7777777777777778, \"#fb9f3a\"], [0.8888888888888888, \"#fdca26\"], [1.0, \"#f0f921\"]], \"type\": \"heatmap\"}], \"heatmapgl\": [{\"colorbar\": {\"outlinewidth\": 0, \"ticks\": \"\"}, \"colorscale\": [[0.0, \"#0d0887\"], [0.1111111111111111, \"#46039f\"], [0.2222222222222222, \"#7201a8\"], [0.3333333333333333, \"#9c179e\"], [0.4444444444444444, \"#bd3786\"], [0.5555555555555556, \"#d8576b\"], [0.6666666666666666, \"#ed7953\"], [0.7777777777777778, \"#fb9f3a\"], [0.8888888888888888, \"#fdca26\"], [1.0, \"#f0f921\"]], \"type\": \"heatmapgl\"}], \"histogram\": [{\"marker\": {\"colorbar\": {\"outlinewidth\": 0, \"ticks\": \"\"}}, \"type\": \"histogram\"}], \"histogram2d\": [{\"colorbar\": {\"outlinewidth\": 0, \"ticks\": \"\"}, \"colorscale\": [[0.0, \"#0d0887\"], [0.1111111111111111, \"#46039f\"], [0.2222222222222222, \"#7201a8\"], [0.3333333333333333, \"#9c179e\"], [0.4444444444444444, \"#bd3786\"], [0.5555555555555556, \"#d8576b\"], [0.6666666666666666, \"#ed7953\"], [0.7777777777777778, \"#fb9f3a\"], [0.8888888888888888, \"#fdca26\"], [1.0, \"#f0f921\"]], \"type\": \"histogram2d\"}], \"histogram2dcontour\": [{\"colorbar\": {\"outlinewidth\": 0, \"ticks\": \"\"}, \"colorscale\": [[0.0, \"#0d0887\"], [0.1111111111111111, \"#46039f\"], [0.2222222222222222, \"#7201a8\"], [0.3333333333333333, \"#9c179e\"], [0.4444444444444444, \"#bd3786\"], [0.5555555555555556, \"#d8576b\"], [0.6666666666666666, \"#ed7953\"], [0.7777777777777778, \"#fb9f3a\"], [0.8888888888888888, \"#fdca26\"], [1.0, \"#f0f921\"]], \"type\": \"histogram2dcontour\"}], \"mesh3d\": [{\"colorbar\": {\"outlinewidth\": 0, \"ticks\": \"\"}, \"type\": \"mesh3d\"}], \"parcoords\": [{\"line\": {\"colorbar\": {\"outlinewidth\": 0, \"ticks\": \"\"}}, \"type\": \"parcoords\"}], \"pie\": [{\"automargin\": true, \"type\": \"pie\"}], \"scatter\": [{\"marker\": {\"line\": {\"color\": \"#283442\"}}, \"type\": \"scatter\"}], \"scatter3d\": [{\"line\": {\"colorbar\": {\"outlinewidth\": 0, \"ticks\": \"\"}}, \"marker\": {\"colorbar\": {\"outlinewidth\": 0, \"ticks\": \"\"}}, \"type\": \"scatter3d\"}], \"scattercarpet\": [{\"marker\": {\"colorbar\": {\"outlinewidth\": 0, \"ticks\": \"\"}}, \"type\": \"scattercarpet\"}], \"scattergeo\": [{\"marker\": {\"colorbar\": {\"outlinewidth\": 0, \"ticks\": \"\"}}, \"type\": \"scattergeo\"}], \"scattergl\": [{\"marker\": {\"line\": {\"color\": \"#283442\"}}, \"type\": \"scattergl\"}], \"scattermapbox\": [{\"marker\": {\"colorbar\": {\"outlinewidth\": 0, \"ticks\": \"\"}}, \"type\": \"scattermapbox\"}], \"scatterpolar\": [{\"marker\": {\"colorbar\": {\"outlinewidth\": 0, \"ticks\": \"\"}}, \"type\": \"scatterpolar\"}], \"scatterpolargl\": [{\"marker\": {\"colorbar\": {\"outlinewidth\": 0, \"ticks\": \"\"}}, \"type\": \"scatterpolargl\"}], \"scatterternary\": [{\"marker\": {\"colorbar\": {\"outlinewidth\": 0, \"ticks\": \"\"}}, \"type\": \"scatterternary\"}], \"surface\": [{\"colorbar\": {\"outlinewidth\": 0, \"ticks\": \"\"}, \"colorscale\": [[0.0, \"#0d0887\"], [0.1111111111111111, \"#46039f\"], [0.2222222222222222, \"#7201a8\"], [0.3333333333333333, \"#9c179e\"], [0.4444444444444444, \"#bd3786\"], [0.5555555555555556, \"#d8576b\"], [0.6666666666666666, \"#ed7953\"], [0.7777777777777778, \"#fb9f3a\"], [0.8888888888888888, \"#fdca26\"], [1.0, \"#f0f921\"]], \"type\": \"surface\"}], \"table\": [{\"cells\": {\"fill\": {\"color\": \"#506784\"}, \"line\": {\"color\": \"rgb(17,17,17)\"}}, \"header\": {\"fill\": {\"color\": \"#2a3f5f\"}, \"line\": {\"color\": \"rgb(17,17,17)\"}}, \"type\": \"table\"}]}, \"layout\": {\"annotationdefaults\": {\"arrowcolor\": \"#f2f5fa\", \"arrowhead\": 0, \"arrowwidth\": 1}, \"coloraxis\": {\"colorbar\": {\"outlinewidth\": 0, \"ticks\": \"\"}}, \"colorscale\": {\"diverging\": [[0, \"#8e0152\"], [0.1, \"#c51b7d\"], [0.2, \"#de77ae\"], [0.3, \"#f1b6da\"], [0.4, \"#fde0ef\"], [0.5, \"#f7f7f7\"], [0.6, \"#e6f5d0\"], [0.7, \"#b8e186\"], [0.8, \"#7fbc41\"], [0.9, \"#4d9221\"], [1, \"#276419\"]], \"sequential\": [[0.0, \"#0d0887\"], [0.1111111111111111, \"#46039f\"], [0.2222222222222222, \"#7201a8\"], [0.3333333333333333, \"#9c179e\"], [0.4444444444444444, \"#bd3786\"], [0.5555555555555556, \"#d8576b\"], [0.6666666666666666, \"#ed7953\"], [0.7777777777777778, \"#fb9f3a\"], [0.8888888888888888, \"#fdca26\"], [1.0, \"#f0f921\"]], \"sequentialminus\": [[0.0, \"#0d0887\"], [0.1111111111111111, \"#46039f\"], [0.2222222222222222, \"#7201a8\"], [0.3333333333333333, \"#9c179e\"], [0.4444444444444444, \"#bd3786\"], [0.5555555555555556, \"#d8576b\"], [0.6666666666666666, \"#ed7953\"], [0.7777777777777778, \"#fb9f3a\"], [0.8888888888888888, \"#fdca26\"], [1.0, \"#f0f921\"]]}, \"colorway\": [\"#636efa\", \"#EF553B\", \"#00cc96\", \"#ab63fa\", \"#FFA15A\", \"#19d3f3\", \"#FF6692\", \"#B6E880\", \"#FF97FF\", \"#FECB52\"], \"font\": {\"color\": \"#f2f5fa\"}, \"geo\": {\"bgcolor\": \"rgb(17,17,17)\", \"lakecolor\": \"rgb(17,17,17)\", \"landcolor\": \"rgb(17,17,17)\", \"showlakes\": true, \"showland\": true, \"subunitcolor\": \"#506784\"}, \"hoverlabel\": {\"align\": \"left\"}, \"hovermode\": \"closest\", \"mapbox\": {\"style\": \"dark\"}, \"paper_bgcolor\": \"rgb(17,17,17)\", \"plot_bgcolor\": \"rgb(17,17,17)\", \"polar\": {\"angularaxis\": {\"gridcolor\": \"#506784\", \"linecolor\": \"#506784\", \"ticks\": \"\"}, \"bgcolor\": \"rgb(17,17,17)\", \"radialaxis\": {\"gridcolor\": \"#506784\", \"linecolor\": \"#506784\", \"ticks\": \"\"}}, \"scene\": {\"xaxis\": {\"backgroundcolor\": \"rgb(17,17,17)\", \"gridcolor\": \"#506784\", \"gridwidth\": 2, \"linecolor\": \"#506784\", \"showbackground\": true, \"ticks\": \"\", \"zerolinecolor\": \"#C8D4E3\"}, \"yaxis\": {\"backgroundcolor\": \"rgb(17,17,17)\", \"gridcolor\": \"#506784\", \"gridwidth\": 2, \"linecolor\": \"#506784\", \"showbackground\": true, \"ticks\": \"\", \"zerolinecolor\": \"#C8D4E3\"}, \"zaxis\": {\"backgroundcolor\": \"rgb(17,17,17)\", \"gridcolor\": \"#506784\", \"gridwidth\": 2, \"linecolor\": \"#506784\", \"showbackground\": true, \"ticks\": \"\", \"zerolinecolor\": \"#C8D4E3\"}}, \"shapedefaults\": {\"line\": {\"color\": \"#f2f5fa\"}}, \"sliderdefaults\": {\"bgcolor\": \"#C8D4E3\", \"bordercolor\": \"rgb(17,17,17)\", \"borderwidth\": 1, \"tickwidth\": 0}, \"ternary\": {\"aaxis\": {\"gridcolor\": \"#506784\", \"linecolor\": \"#506784\", \"ticks\": \"\"}, \"baxis\": {\"gridcolor\": \"#506784\", \"linecolor\": \"#506784\", \"ticks\": \"\"}, \"bgcolor\": \"rgb(17,17,17)\", \"caxis\": {\"gridcolor\": \"#506784\", \"linecolor\": \"#506784\", \"ticks\": \"\"}}, \"title\": {\"x\": 0.05}, \"updatemenudefaults\": {\"bgcolor\": \"#506784\", \"borderwidth\": 0}, \"xaxis\": {\"automargin\": true, \"gridcolor\": \"#283442\", \"linecolor\": \"#506784\", \"ticks\": \"\", \"title\": {\"standoff\": 15}, \"zerolinecolor\": \"#283442\", \"zerolinewidth\": 2}, \"yaxis\": {\"automargin\": true, \"gridcolor\": \"#283442\", \"linecolor\": \"#506784\", \"ticks\": \"\", \"title\": {\"standoff\": 15}, \"zerolinecolor\": \"#283442\", \"zerolinewidth\": 2}}}, \"title\": {\"text\": \"Bar chart\"}},                        {\"responsive\": true}                    ).then(function(){\n",
       "                            \n",
       "var gd = document.getElementById('e712fa64-c02d-4a95-99ca-4ed982015574');\n",
       "var x = new MutationObserver(function (mutations, observer) {{\n",
       "        var display = window.getComputedStyle(gd).display;\n",
       "        if (!display || display === 'none') {{\n",
       "            console.log([gd, 'removed!']);\n",
       "            Plotly.purge(gd);\n",
       "            observer.disconnect();\n",
       "        }}\n",
       "}});\n",
       "\n",
       "// Listen for the removal of the full notebook cells\n",
       "var notebookContainer = gd.closest('#notebook-container');\n",
       "if (notebookContainer) {{\n",
       "    x.observe(notebookContainer, {childList: true});\n",
       "}}\n",
       "\n",
       "// Listen for the clearing of the current output cell\n",
       "var outputEl = gd.closest('.output');\n",
       "if (outputEl) {{\n",
       "    x.observe(outputEl, {childList: true});\n",
       "}}\n",
       "\n",
       "                        })                };                });            </script>        </div>"
      ]
     },
     "metadata": {},
     "output_type": "display_data"
    }
   ],
   "source": [
    "fig = go.Figure(\n",
    "    data = go.Bar(y = [2,3,3.5,4]),\n",
    "    layout = go.Layout(title_text= 'Bar chart'))\n",
    "\n",
    "fig.update_layout(template = 'plotly_dark')\n",
    "fig.write_html('bar.html')\n",
    "\n",
    "fig.show()"
   ]
  },
  {
   "cell_type": "markdown",
   "metadata": {},
   "source": [
    "# Pie and donout chart"
   ]
  },
  {
   "cell_type": "markdown",
   "metadata": {},
   "source": [
    "Data load:"
   ]
  },
  {
   "cell_type": "code",
   "execution_count": 12,
   "metadata": {},
   "outputs": [
    {
     "data": {
      "text/html": [
       "<div>\n",
       "<style scoped>\n",
       "    .dataframe tbody tr th:only-of-type {\n",
       "        vertical-align: middle;\n",
       "    }\n",
       "\n",
       "    .dataframe tbody tr th {\n",
       "        vertical-align: top;\n",
       "    }\n",
       "\n",
       "    .dataframe thead th {\n",
       "        text-align: right;\n",
       "    }\n",
       "</style>\n",
       "<table border=\"1\" class=\"dataframe\">\n",
       "  <thead>\n",
       "    <tr style=\"text-align: right;\">\n",
       "      <th></th>\n",
       "      <th>carat</th>\n",
       "      <th>cut</th>\n",
       "      <th>color</th>\n",
       "      <th>clarity</th>\n",
       "      <th>depth</th>\n",
       "      <th>table</th>\n",
       "      <th>price</th>\n",
       "      <th>x</th>\n",
       "      <th>y</th>\n",
       "      <th>z</th>\n",
       "    </tr>\n",
       "  </thead>\n",
       "  <tbody>\n",
       "    <tr>\n",
       "      <th>0</th>\n",
       "      <td>0.23</td>\n",
       "      <td>Ideal</td>\n",
       "      <td>E</td>\n",
       "      <td>SI2</td>\n",
       "      <td>61.5</td>\n",
       "      <td>55.0</td>\n",
       "      <td>326</td>\n",
       "      <td>3.95</td>\n",
       "      <td>3.98</td>\n",
       "      <td>2.43</td>\n",
       "    </tr>\n",
       "    <tr>\n",
       "      <th>1</th>\n",
       "      <td>0.21</td>\n",
       "      <td>Premium</td>\n",
       "      <td>E</td>\n",
       "      <td>SI1</td>\n",
       "      <td>59.8</td>\n",
       "      <td>61.0</td>\n",
       "      <td>326</td>\n",
       "      <td>3.89</td>\n",
       "      <td>3.84</td>\n",
       "      <td>2.31</td>\n",
       "    </tr>\n",
       "    <tr>\n",
       "      <th>2</th>\n",
       "      <td>0.23</td>\n",
       "      <td>Good</td>\n",
       "      <td>E</td>\n",
       "      <td>VS1</td>\n",
       "      <td>56.9</td>\n",
       "      <td>65.0</td>\n",
       "      <td>327</td>\n",
       "      <td>4.05</td>\n",
       "      <td>4.07</td>\n",
       "      <td>2.31</td>\n",
       "    </tr>\n",
       "  </tbody>\n",
       "</table>\n",
       "</div>"
      ],
      "text/plain": [
       "   carat      cut color clarity  depth  table  price     x     y     z\n",
       "0   0.23    Ideal     E     SI2   61.5   55.0    326  3.95  3.98  2.43\n",
       "1   0.21  Premium     E     SI1   59.8   61.0    326  3.89  3.84  2.31\n",
       "2   0.23     Good     E     VS1   56.9   65.0    327  4.05  4.07  2.31"
      ]
     },
     "execution_count": 12,
     "metadata": {},
     "output_type": "execute_result"
    }
   ],
   "source": [
    "from seaborn import load_dataset\n",
    "df = load_dataset('diamonds')\n",
    "df.head(3)"
   ]
  },
  {
   "cell_type": "markdown",
   "metadata": {},
   "source": [
    "Pie plot with types of cut:"
   ]
  },
  {
   "cell_type": "code",
   "execution_count": 69,
   "metadata": {},
   "outputs": [
    {
     "data": {
      "application/vnd.plotly.v1+json": {
       "config": {
        "plotlyServerURL": "https://plotly.com"
       },
       "data": [
        {
         "hoverinfo": "label+percent",
         "labels": [
          "Ideal",
          "Premium",
          "Very Good",
          "Good",
          "Fair"
         ],
         "marker": {
          "colors": [
           "rgb(255,255,204)",
           "rgb(255,237,160)",
           "rgb(254,217,118)",
           "rgb(254,178,76)",
           "rgb(253,141,60)",
           "rgb(252,78,42)",
           "rgb(227,26,28)",
           "rgb(189,0,38)",
           "rgb(128,0,38)"
          ],
          "line": {
           "color": "#000000",
           "width": 2
          }
         },
         "textfont": {
          "size": 20
         },
         "textinfo": "value",
         "type": "pie",
         "values": [
          21551,
          13791,
          12082,
          4906,
          1610
         ]
        }
       ],
       "layout": {
        "template": {
         "data": {
          "bar": [
           {
            "error_x": {
             "color": "#f2f5fa"
            },
            "error_y": {
             "color": "#f2f5fa"
            },
            "marker": {
             "line": {
              "color": "rgb(17,17,17)",
              "width": 0.5
             }
            },
            "type": "bar"
           }
          ],
          "barpolar": [
           {
            "marker": {
             "line": {
              "color": "rgb(17,17,17)",
              "width": 0.5
             }
            },
            "type": "barpolar"
           }
          ],
          "carpet": [
           {
            "aaxis": {
             "endlinecolor": "#A2B1C6",
             "gridcolor": "#506784",
             "linecolor": "#506784",
             "minorgridcolor": "#506784",
             "startlinecolor": "#A2B1C6"
            },
            "baxis": {
             "endlinecolor": "#A2B1C6",
             "gridcolor": "#506784",
             "linecolor": "#506784",
             "minorgridcolor": "#506784",
             "startlinecolor": "#A2B1C6"
            },
            "type": "carpet"
           }
          ],
          "choropleth": [
           {
            "colorbar": {
             "outlinewidth": 0,
             "ticks": ""
            },
            "type": "choropleth"
           }
          ],
          "contour": [
           {
            "colorbar": {
             "outlinewidth": 0,
             "ticks": ""
            },
            "colorscale": [
             [
              0,
              "#0d0887"
             ],
             [
              0.1111111111111111,
              "#46039f"
             ],
             [
              0.2222222222222222,
              "#7201a8"
             ],
             [
              0.3333333333333333,
              "#9c179e"
             ],
             [
              0.4444444444444444,
              "#bd3786"
             ],
             [
              0.5555555555555556,
              "#d8576b"
             ],
             [
              0.6666666666666666,
              "#ed7953"
             ],
             [
              0.7777777777777778,
              "#fb9f3a"
             ],
             [
              0.8888888888888888,
              "#fdca26"
             ],
             [
              1,
              "#f0f921"
             ]
            ],
            "type": "contour"
           }
          ],
          "contourcarpet": [
           {
            "colorbar": {
             "outlinewidth": 0,
             "ticks": ""
            },
            "type": "contourcarpet"
           }
          ],
          "heatmap": [
           {
            "colorbar": {
             "outlinewidth": 0,
             "ticks": ""
            },
            "colorscale": [
             [
              0,
              "#0d0887"
             ],
             [
              0.1111111111111111,
              "#46039f"
             ],
             [
              0.2222222222222222,
              "#7201a8"
             ],
             [
              0.3333333333333333,
              "#9c179e"
             ],
             [
              0.4444444444444444,
              "#bd3786"
             ],
             [
              0.5555555555555556,
              "#d8576b"
             ],
             [
              0.6666666666666666,
              "#ed7953"
             ],
             [
              0.7777777777777778,
              "#fb9f3a"
             ],
             [
              0.8888888888888888,
              "#fdca26"
             ],
             [
              1,
              "#f0f921"
             ]
            ],
            "type": "heatmap"
           }
          ],
          "heatmapgl": [
           {
            "colorbar": {
             "outlinewidth": 0,
             "ticks": ""
            },
            "colorscale": [
             [
              0,
              "#0d0887"
             ],
             [
              0.1111111111111111,
              "#46039f"
             ],
             [
              0.2222222222222222,
              "#7201a8"
             ],
             [
              0.3333333333333333,
              "#9c179e"
             ],
             [
              0.4444444444444444,
              "#bd3786"
             ],
             [
              0.5555555555555556,
              "#d8576b"
             ],
             [
              0.6666666666666666,
              "#ed7953"
             ],
             [
              0.7777777777777778,
              "#fb9f3a"
             ],
             [
              0.8888888888888888,
              "#fdca26"
             ],
             [
              1,
              "#f0f921"
             ]
            ],
            "type": "heatmapgl"
           }
          ],
          "histogram": [
           {
            "marker": {
             "colorbar": {
              "outlinewidth": 0,
              "ticks": ""
             }
            },
            "type": "histogram"
           }
          ],
          "histogram2d": [
           {
            "colorbar": {
             "outlinewidth": 0,
             "ticks": ""
            },
            "colorscale": [
             [
              0,
              "#0d0887"
             ],
             [
              0.1111111111111111,
              "#46039f"
             ],
             [
              0.2222222222222222,
              "#7201a8"
             ],
             [
              0.3333333333333333,
              "#9c179e"
             ],
             [
              0.4444444444444444,
              "#bd3786"
             ],
             [
              0.5555555555555556,
              "#d8576b"
             ],
             [
              0.6666666666666666,
              "#ed7953"
             ],
             [
              0.7777777777777778,
              "#fb9f3a"
             ],
             [
              0.8888888888888888,
              "#fdca26"
             ],
             [
              1,
              "#f0f921"
             ]
            ],
            "type": "histogram2d"
           }
          ],
          "histogram2dcontour": [
           {
            "colorbar": {
             "outlinewidth": 0,
             "ticks": ""
            },
            "colorscale": [
             [
              0,
              "#0d0887"
             ],
             [
              0.1111111111111111,
              "#46039f"
             ],
             [
              0.2222222222222222,
              "#7201a8"
             ],
             [
              0.3333333333333333,
              "#9c179e"
             ],
             [
              0.4444444444444444,
              "#bd3786"
             ],
             [
              0.5555555555555556,
              "#d8576b"
             ],
             [
              0.6666666666666666,
              "#ed7953"
             ],
             [
              0.7777777777777778,
              "#fb9f3a"
             ],
             [
              0.8888888888888888,
              "#fdca26"
             ],
             [
              1,
              "#f0f921"
             ]
            ],
            "type": "histogram2dcontour"
           }
          ],
          "mesh3d": [
           {
            "colorbar": {
             "outlinewidth": 0,
             "ticks": ""
            },
            "type": "mesh3d"
           }
          ],
          "parcoords": [
           {
            "line": {
             "colorbar": {
              "outlinewidth": 0,
              "ticks": ""
             }
            },
            "type": "parcoords"
           }
          ],
          "pie": [
           {
            "automargin": true,
            "type": "pie"
           }
          ],
          "scatter": [
           {
            "marker": {
             "line": {
              "color": "#283442"
             }
            },
            "type": "scatter"
           }
          ],
          "scatter3d": [
           {
            "line": {
             "colorbar": {
              "outlinewidth": 0,
              "ticks": ""
             }
            },
            "marker": {
             "colorbar": {
              "outlinewidth": 0,
              "ticks": ""
             }
            },
            "type": "scatter3d"
           }
          ],
          "scattercarpet": [
           {
            "marker": {
             "colorbar": {
              "outlinewidth": 0,
              "ticks": ""
             }
            },
            "type": "scattercarpet"
           }
          ],
          "scattergeo": [
           {
            "marker": {
             "colorbar": {
              "outlinewidth": 0,
              "ticks": ""
             }
            },
            "type": "scattergeo"
           }
          ],
          "scattergl": [
           {
            "marker": {
             "line": {
              "color": "#283442"
             }
            },
            "type": "scattergl"
           }
          ],
          "scattermapbox": [
           {
            "marker": {
             "colorbar": {
              "outlinewidth": 0,
              "ticks": ""
             }
            },
            "type": "scattermapbox"
           }
          ],
          "scatterpolar": [
           {
            "marker": {
             "colorbar": {
              "outlinewidth": 0,
              "ticks": ""
             }
            },
            "type": "scatterpolar"
           }
          ],
          "scatterpolargl": [
           {
            "marker": {
             "colorbar": {
              "outlinewidth": 0,
              "ticks": ""
             }
            },
            "type": "scatterpolargl"
           }
          ],
          "scatterternary": [
           {
            "marker": {
             "colorbar": {
              "outlinewidth": 0,
              "ticks": ""
             }
            },
            "type": "scatterternary"
           }
          ],
          "surface": [
           {
            "colorbar": {
             "outlinewidth": 0,
             "ticks": ""
            },
            "colorscale": [
             [
              0,
              "#0d0887"
             ],
             [
              0.1111111111111111,
              "#46039f"
             ],
             [
              0.2222222222222222,
              "#7201a8"
             ],
             [
              0.3333333333333333,
              "#9c179e"
             ],
             [
              0.4444444444444444,
              "#bd3786"
             ],
             [
              0.5555555555555556,
              "#d8576b"
             ],
             [
              0.6666666666666666,
              "#ed7953"
             ],
             [
              0.7777777777777778,
              "#fb9f3a"
             ],
             [
              0.8888888888888888,
              "#fdca26"
             ],
             [
              1,
              "#f0f921"
             ]
            ],
            "type": "surface"
           }
          ],
          "table": [
           {
            "cells": {
             "fill": {
              "color": "#506784"
             },
             "line": {
              "color": "rgb(17,17,17)"
             }
            },
            "header": {
             "fill": {
              "color": "#2a3f5f"
             },
             "line": {
              "color": "rgb(17,17,17)"
             }
            },
            "type": "table"
           }
          ]
         },
         "layout": {
          "annotationdefaults": {
           "arrowcolor": "#f2f5fa",
           "arrowhead": 0,
           "arrowwidth": 1
          },
          "coloraxis": {
           "colorbar": {
            "outlinewidth": 0,
            "ticks": ""
           }
          },
          "colorscale": {
           "diverging": [
            [
             0,
             "#8e0152"
            ],
            [
             0.1,
             "#c51b7d"
            ],
            [
             0.2,
             "#de77ae"
            ],
            [
             0.3,
             "#f1b6da"
            ],
            [
             0.4,
             "#fde0ef"
            ],
            [
             0.5,
             "#f7f7f7"
            ],
            [
             0.6,
             "#e6f5d0"
            ],
            [
             0.7,
             "#b8e186"
            ],
            [
             0.8,
             "#7fbc41"
            ],
            [
             0.9,
             "#4d9221"
            ],
            [
             1,
             "#276419"
            ]
           ],
           "sequential": [
            [
             0,
             "#0d0887"
            ],
            [
             0.1111111111111111,
             "#46039f"
            ],
            [
             0.2222222222222222,
             "#7201a8"
            ],
            [
             0.3333333333333333,
             "#9c179e"
            ],
            [
             0.4444444444444444,
             "#bd3786"
            ],
            [
             0.5555555555555556,
             "#d8576b"
            ],
            [
             0.6666666666666666,
             "#ed7953"
            ],
            [
             0.7777777777777778,
             "#fb9f3a"
            ],
            [
             0.8888888888888888,
             "#fdca26"
            ],
            [
             1,
             "#f0f921"
            ]
           ],
           "sequentialminus": [
            [
             0,
             "#0d0887"
            ],
            [
             0.1111111111111111,
             "#46039f"
            ],
            [
             0.2222222222222222,
             "#7201a8"
            ],
            [
             0.3333333333333333,
             "#9c179e"
            ],
            [
             0.4444444444444444,
             "#bd3786"
            ],
            [
             0.5555555555555556,
             "#d8576b"
            ],
            [
             0.6666666666666666,
             "#ed7953"
            ],
            [
             0.7777777777777778,
             "#fb9f3a"
            ],
            [
             0.8888888888888888,
             "#fdca26"
            ],
            [
             1,
             "#f0f921"
            ]
           ]
          },
          "colorway": [
           "#636efa",
           "#EF553B",
           "#00cc96",
           "#ab63fa",
           "#FFA15A",
           "#19d3f3",
           "#FF6692",
           "#B6E880",
           "#FF97FF",
           "#FECB52"
          ],
          "font": {
           "color": "#f2f5fa"
          },
          "geo": {
           "bgcolor": "rgb(17,17,17)",
           "lakecolor": "rgb(17,17,17)",
           "landcolor": "rgb(17,17,17)",
           "showlakes": true,
           "showland": true,
           "subunitcolor": "#506784"
          },
          "hoverlabel": {
           "align": "left"
          },
          "hovermode": "closest",
          "mapbox": {
           "style": "dark"
          },
          "paper_bgcolor": "rgb(17,17,17)",
          "plot_bgcolor": "rgb(17,17,17)",
          "polar": {
           "angularaxis": {
            "gridcolor": "#506784",
            "linecolor": "#506784",
            "ticks": ""
           },
           "bgcolor": "rgb(17,17,17)",
           "radialaxis": {
            "gridcolor": "#506784",
            "linecolor": "#506784",
            "ticks": ""
           }
          },
          "scene": {
           "xaxis": {
            "backgroundcolor": "rgb(17,17,17)",
            "gridcolor": "#506784",
            "gridwidth": 2,
            "linecolor": "#506784",
            "showbackground": true,
            "ticks": "",
            "zerolinecolor": "#C8D4E3"
           },
           "yaxis": {
            "backgroundcolor": "rgb(17,17,17)",
            "gridcolor": "#506784",
            "gridwidth": 2,
            "linecolor": "#506784",
            "showbackground": true,
            "ticks": "",
            "zerolinecolor": "#C8D4E3"
           },
           "zaxis": {
            "backgroundcolor": "rgb(17,17,17)",
            "gridcolor": "#506784",
            "gridwidth": 2,
            "linecolor": "#506784",
            "showbackground": true,
            "ticks": "",
            "zerolinecolor": "#C8D4E3"
           }
          },
          "shapedefaults": {
           "line": {
            "color": "#f2f5fa"
           }
          },
          "sliderdefaults": {
           "bgcolor": "#C8D4E3",
           "bordercolor": "rgb(17,17,17)",
           "borderwidth": 1,
           "tickwidth": 0
          },
          "ternary": {
           "aaxis": {
            "gridcolor": "#506784",
            "linecolor": "#506784",
            "ticks": ""
           },
           "baxis": {
            "gridcolor": "#506784",
            "linecolor": "#506784",
            "ticks": ""
           },
           "bgcolor": "rgb(17,17,17)",
           "caxis": {
            "gridcolor": "#506784",
            "linecolor": "#506784",
            "ticks": ""
           }
          },
          "title": {
           "x": 0.05
          },
          "updatemenudefaults": {
           "bgcolor": "#506784",
           "borderwidth": 0
          },
          "xaxis": {
           "automargin": true,
           "gridcolor": "#283442",
           "linecolor": "#506784",
           "ticks": "",
           "title": {
            "standoff": 15
           },
           "zerolinecolor": "#283442",
           "zerolinewidth": 2
          },
          "yaxis": {
           "automargin": true,
           "gridcolor": "#283442",
           "linecolor": "#506784",
           "ticks": "",
           "title": {
            "standoff": 15
           },
           "zerolinecolor": "#283442",
           "zerolinewidth": 2
          }
         }
        }
       }
      },
      "text/html": [
       "<div>                            <div id=\"d20cdde0-416b-41e0-bb1f-fb370d55c13c\" class=\"plotly-graph-div\" style=\"height:525px; width:100%;\"></div>            <script type=\"text/javascript\">                require([\"plotly\"], function(Plotly) {                    window.PLOTLYENV=window.PLOTLYENV || {};                                    if (document.getElementById(\"d20cdde0-416b-41e0-bb1f-fb370d55c13c\")) {                    Plotly.newPlot(                        \"d20cdde0-416b-41e0-bb1f-fb370d55c13c\",                        [{\"hoverinfo\": \"label+percent\", \"labels\": [\"Ideal\", \"Premium\", \"Very Good\", \"Good\", \"Fair\"], \"marker\": {\"colors\": [\"rgb(255,255,204)\", \"rgb(255,237,160)\", \"rgb(254,217,118)\", \"rgb(254,178,76)\", \"rgb(253,141,60)\", \"rgb(252,78,42)\", \"rgb(227,26,28)\", \"rgb(189,0,38)\", \"rgb(128,0,38)\"], \"line\": {\"color\": \"#000000\", \"width\": 2}}, \"textfont\": {\"size\": 20}, \"textinfo\": \"value\", \"type\": \"pie\", \"values\": [21551, 13791, 12082, 4906, 1610]}],                        {\"template\": {\"data\": {\"bar\": [{\"error_x\": {\"color\": \"#f2f5fa\"}, \"error_y\": {\"color\": \"#f2f5fa\"}, \"marker\": {\"line\": {\"color\": \"rgb(17,17,17)\", \"width\": 0.5}}, \"type\": \"bar\"}], \"barpolar\": [{\"marker\": {\"line\": {\"color\": \"rgb(17,17,17)\", \"width\": 0.5}}, \"type\": \"barpolar\"}], \"carpet\": [{\"aaxis\": {\"endlinecolor\": \"#A2B1C6\", \"gridcolor\": \"#506784\", \"linecolor\": \"#506784\", \"minorgridcolor\": \"#506784\", \"startlinecolor\": \"#A2B1C6\"}, \"baxis\": {\"endlinecolor\": \"#A2B1C6\", \"gridcolor\": \"#506784\", \"linecolor\": \"#506784\", \"minorgridcolor\": \"#506784\", \"startlinecolor\": \"#A2B1C6\"}, \"type\": \"carpet\"}], \"choropleth\": [{\"colorbar\": {\"outlinewidth\": 0, \"ticks\": \"\"}, \"type\": \"choropleth\"}], \"contour\": [{\"colorbar\": {\"outlinewidth\": 0, \"ticks\": \"\"}, \"colorscale\": [[0.0, \"#0d0887\"], [0.1111111111111111, \"#46039f\"], [0.2222222222222222, \"#7201a8\"], [0.3333333333333333, \"#9c179e\"], [0.4444444444444444, \"#bd3786\"], [0.5555555555555556, \"#d8576b\"], [0.6666666666666666, \"#ed7953\"], [0.7777777777777778, \"#fb9f3a\"], [0.8888888888888888, \"#fdca26\"], [1.0, \"#f0f921\"]], \"type\": \"contour\"}], \"contourcarpet\": [{\"colorbar\": {\"outlinewidth\": 0, \"ticks\": \"\"}, \"type\": \"contourcarpet\"}], \"heatmap\": [{\"colorbar\": {\"outlinewidth\": 0, \"ticks\": \"\"}, \"colorscale\": [[0.0, \"#0d0887\"], [0.1111111111111111, \"#46039f\"], [0.2222222222222222, \"#7201a8\"], [0.3333333333333333, \"#9c179e\"], [0.4444444444444444, \"#bd3786\"], [0.5555555555555556, \"#d8576b\"], [0.6666666666666666, \"#ed7953\"], [0.7777777777777778, \"#fb9f3a\"], [0.8888888888888888, \"#fdca26\"], [1.0, \"#f0f921\"]], \"type\": \"heatmap\"}], \"heatmapgl\": [{\"colorbar\": {\"outlinewidth\": 0, \"ticks\": \"\"}, \"colorscale\": [[0.0, \"#0d0887\"], [0.1111111111111111, \"#46039f\"], [0.2222222222222222, \"#7201a8\"], [0.3333333333333333, \"#9c179e\"], [0.4444444444444444, \"#bd3786\"], [0.5555555555555556, \"#d8576b\"], [0.6666666666666666, \"#ed7953\"], [0.7777777777777778, \"#fb9f3a\"], [0.8888888888888888, \"#fdca26\"], [1.0, \"#f0f921\"]], \"type\": \"heatmapgl\"}], \"histogram\": [{\"marker\": {\"colorbar\": {\"outlinewidth\": 0, \"ticks\": \"\"}}, \"type\": \"histogram\"}], \"histogram2d\": [{\"colorbar\": {\"outlinewidth\": 0, \"ticks\": \"\"}, \"colorscale\": [[0.0, \"#0d0887\"], [0.1111111111111111, \"#46039f\"], [0.2222222222222222, \"#7201a8\"], [0.3333333333333333, \"#9c179e\"], [0.4444444444444444, \"#bd3786\"], [0.5555555555555556, \"#d8576b\"], [0.6666666666666666, \"#ed7953\"], [0.7777777777777778, \"#fb9f3a\"], [0.8888888888888888, \"#fdca26\"], [1.0, \"#f0f921\"]], \"type\": \"histogram2d\"}], \"histogram2dcontour\": [{\"colorbar\": {\"outlinewidth\": 0, \"ticks\": \"\"}, \"colorscale\": [[0.0, \"#0d0887\"], [0.1111111111111111, \"#46039f\"], [0.2222222222222222, \"#7201a8\"], [0.3333333333333333, \"#9c179e\"], [0.4444444444444444, \"#bd3786\"], [0.5555555555555556, \"#d8576b\"], [0.6666666666666666, \"#ed7953\"], [0.7777777777777778, \"#fb9f3a\"], [0.8888888888888888, \"#fdca26\"], [1.0, \"#f0f921\"]], \"type\": \"histogram2dcontour\"}], \"mesh3d\": [{\"colorbar\": {\"outlinewidth\": 0, \"ticks\": \"\"}, \"type\": \"mesh3d\"}], \"parcoords\": [{\"line\": {\"colorbar\": {\"outlinewidth\": 0, \"ticks\": \"\"}}, \"type\": \"parcoords\"}], \"pie\": [{\"automargin\": true, \"type\": \"pie\"}], \"scatter\": [{\"marker\": {\"line\": {\"color\": \"#283442\"}}, \"type\": \"scatter\"}], \"scatter3d\": [{\"line\": {\"colorbar\": {\"outlinewidth\": 0, \"ticks\": \"\"}}, \"marker\": {\"colorbar\": {\"outlinewidth\": 0, \"ticks\": \"\"}}, \"type\": \"scatter3d\"}], \"scattercarpet\": [{\"marker\": {\"colorbar\": {\"outlinewidth\": 0, \"ticks\": \"\"}}, \"type\": \"scattercarpet\"}], \"scattergeo\": [{\"marker\": {\"colorbar\": {\"outlinewidth\": 0, \"ticks\": \"\"}}, \"type\": \"scattergeo\"}], \"scattergl\": [{\"marker\": {\"line\": {\"color\": \"#283442\"}}, \"type\": \"scattergl\"}], \"scattermapbox\": [{\"marker\": {\"colorbar\": {\"outlinewidth\": 0, \"ticks\": \"\"}}, \"type\": \"scattermapbox\"}], \"scatterpolar\": [{\"marker\": {\"colorbar\": {\"outlinewidth\": 0, \"ticks\": \"\"}}, \"type\": \"scatterpolar\"}], \"scatterpolargl\": [{\"marker\": {\"colorbar\": {\"outlinewidth\": 0, \"ticks\": \"\"}}, \"type\": \"scatterpolargl\"}], \"scatterternary\": [{\"marker\": {\"colorbar\": {\"outlinewidth\": 0, \"ticks\": \"\"}}, \"type\": \"scatterternary\"}], \"surface\": [{\"colorbar\": {\"outlinewidth\": 0, \"ticks\": \"\"}, \"colorscale\": [[0.0, \"#0d0887\"], [0.1111111111111111, \"#46039f\"], [0.2222222222222222, \"#7201a8\"], [0.3333333333333333, \"#9c179e\"], [0.4444444444444444, \"#bd3786\"], [0.5555555555555556, \"#d8576b\"], [0.6666666666666666, \"#ed7953\"], [0.7777777777777778, \"#fb9f3a\"], [0.8888888888888888, \"#fdca26\"], [1.0, \"#f0f921\"]], \"type\": \"surface\"}], \"table\": [{\"cells\": {\"fill\": {\"color\": \"#506784\"}, \"line\": {\"color\": \"rgb(17,17,17)\"}}, \"header\": {\"fill\": {\"color\": \"#2a3f5f\"}, \"line\": {\"color\": \"rgb(17,17,17)\"}}, \"type\": \"table\"}]}, \"layout\": {\"annotationdefaults\": {\"arrowcolor\": \"#f2f5fa\", \"arrowhead\": 0, \"arrowwidth\": 1}, \"coloraxis\": {\"colorbar\": {\"outlinewidth\": 0, \"ticks\": \"\"}}, \"colorscale\": {\"diverging\": [[0, \"#8e0152\"], [0.1, \"#c51b7d\"], [0.2, \"#de77ae\"], [0.3, \"#f1b6da\"], [0.4, \"#fde0ef\"], [0.5, \"#f7f7f7\"], [0.6, \"#e6f5d0\"], [0.7, \"#b8e186\"], [0.8, \"#7fbc41\"], [0.9, \"#4d9221\"], [1, \"#276419\"]], \"sequential\": [[0.0, \"#0d0887\"], [0.1111111111111111, \"#46039f\"], [0.2222222222222222, \"#7201a8\"], [0.3333333333333333, \"#9c179e\"], [0.4444444444444444, \"#bd3786\"], [0.5555555555555556, \"#d8576b\"], [0.6666666666666666, \"#ed7953\"], [0.7777777777777778, \"#fb9f3a\"], [0.8888888888888888, \"#fdca26\"], [1.0, \"#f0f921\"]], \"sequentialminus\": [[0.0, \"#0d0887\"], [0.1111111111111111, \"#46039f\"], [0.2222222222222222, \"#7201a8\"], [0.3333333333333333, \"#9c179e\"], [0.4444444444444444, \"#bd3786\"], [0.5555555555555556, \"#d8576b\"], [0.6666666666666666, \"#ed7953\"], [0.7777777777777778, \"#fb9f3a\"], [0.8888888888888888, \"#fdca26\"], [1.0, \"#f0f921\"]]}, \"colorway\": [\"#636efa\", \"#EF553B\", \"#00cc96\", \"#ab63fa\", \"#FFA15A\", \"#19d3f3\", \"#FF6692\", \"#B6E880\", \"#FF97FF\", \"#FECB52\"], \"font\": {\"color\": \"#f2f5fa\"}, \"geo\": {\"bgcolor\": \"rgb(17,17,17)\", \"lakecolor\": \"rgb(17,17,17)\", \"landcolor\": \"rgb(17,17,17)\", \"showlakes\": true, \"showland\": true, \"subunitcolor\": \"#506784\"}, \"hoverlabel\": {\"align\": \"left\"}, \"hovermode\": \"closest\", \"mapbox\": {\"style\": \"dark\"}, \"paper_bgcolor\": \"rgb(17,17,17)\", \"plot_bgcolor\": \"rgb(17,17,17)\", \"polar\": {\"angularaxis\": {\"gridcolor\": \"#506784\", \"linecolor\": \"#506784\", \"ticks\": \"\"}, \"bgcolor\": \"rgb(17,17,17)\", \"radialaxis\": {\"gridcolor\": \"#506784\", \"linecolor\": \"#506784\", \"ticks\": \"\"}}, \"scene\": {\"xaxis\": {\"backgroundcolor\": \"rgb(17,17,17)\", \"gridcolor\": \"#506784\", \"gridwidth\": 2, \"linecolor\": \"#506784\", \"showbackground\": true, \"ticks\": \"\", \"zerolinecolor\": \"#C8D4E3\"}, \"yaxis\": {\"backgroundcolor\": \"rgb(17,17,17)\", \"gridcolor\": \"#506784\", \"gridwidth\": 2, \"linecolor\": \"#506784\", \"showbackground\": true, \"ticks\": \"\", \"zerolinecolor\": \"#C8D4E3\"}, \"zaxis\": {\"backgroundcolor\": \"rgb(17,17,17)\", \"gridcolor\": \"#506784\", \"gridwidth\": 2, \"linecolor\": \"#506784\", \"showbackground\": true, \"ticks\": \"\", \"zerolinecolor\": \"#C8D4E3\"}}, \"shapedefaults\": {\"line\": {\"color\": \"#f2f5fa\"}}, \"sliderdefaults\": {\"bgcolor\": \"#C8D4E3\", \"bordercolor\": \"rgb(17,17,17)\", \"borderwidth\": 1, \"tickwidth\": 0}, \"ternary\": {\"aaxis\": {\"gridcolor\": \"#506784\", \"linecolor\": \"#506784\", \"ticks\": \"\"}, \"baxis\": {\"gridcolor\": \"#506784\", \"linecolor\": \"#506784\", \"ticks\": \"\"}, \"bgcolor\": \"rgb(17,17,17)\", \"caxis\": {\"gridcolor\": \"#506784\", \"linecolor\": \"#506784\", \"ticks\": \"\"}}, \"title\": {\"x\": 0.05}, \"updatemenudefaults\": {\"bgcolor\": \"#506784\", \"borderwidth\": 0}, \"xaxis\": {\"automargin\": true, \"gridcolor\": \"#283442\", \"linecolor\": \"#506784\", \"ticks\": \"\", \"title\": {\"standoff\": 15}, \"zerolinecolor\": \"#283442\", \"zerolinewidth\": 2}, \"yaxis\": {\"automargin\": true, \"gridcolor\": \"#283442\", \"linecolor\": \"#506784\", \"ticks\": \"\", \"title\": {\"standoff\": 15}, \"zerolinecolor\": \"#283442\", \"zerolinewidth\": 2}}}},                        {\"responsive\": true}                    ).then(function(){\n",
       "                            \n",
       "var gd = document.getElementById('d20cdde0-416b-41e0-bb1f-fb370d55c13c');\n",
       "var x = new MutationObserver(function (mutations, observer) {{\n",
       "        var display = window.getComputedStyle(gd).display;\n",
       "        if (!display || display === 'none') {{\n",
       "            console.log([gd, 'removed!']);\n",
       "            Plotly.purge(gd);\n",
       "            observer.disconnect();\n",
       "        }}\n",
       "}});\n",
       "\n",
       "// Listen for the removal of the full notebook cells\n",
       "var notebookContainer = gd.closest('#notebook-container');\n",
       "if (notebookContainer) {{\n",
       "    x.observe(notebookContainer, {childList: true});\n",
       "}}\n",
       "\n",
       "// Listen for the clearing of the current output cell\n",
       "var outputEl = gd.closest('.output');\n",
       "if (outputEl) {{\n",
       "    x.observe(outputEl, {childList: true});\n",
       "}}\n",
       "\n",
       "                        })                };                });            </script>        </div>"
      ]
     },
     "metadata": {},
     "output_type": "display_data"
    }
   ],
   "source": [
    "import plotly.express as px\n",
    "\n",
    "fig = go.Figure(data=[go.Pie(labels=df.cut.value_counts().keys().tolist(),\n",
    "                             values=df.cut.value_counts().tolist())])\n",
    "fig.update_traces(hoverinfo='label+percent', textinfo='value', textfont_size=20,\n",
    "                  marker=dict(colors=px.colors.sequential.YlOrRd, line=dict(color='#000000', width=2)))\n",
    "fig.update_layout(template = 'plotly_dark')\n",
    "fig.show()"
   ]
  },
  {
   "cell_type": "markdown",
   "metadata": {},
   "source": [
    "# Sankey diagram"
   ]
  },
  {
   "cell_type": "code",
   "execution_count": 72,
   "metadata": {},
   "outputs": [
    {
     "data": {
      "application/vnd.plotly.v1+json": {
       "config": {
        "plotlyServerURL": "https://plotly.com"
       },
       "data": [
        {
         "link": {
          "source": [
           0,
           0,
           1,
           1,
           1,
           2,
           3,
           3,
           4,
           4,
           5,
           5
          ],
          "target": [
           3,
           4,
           3,
           4,
           5,
           5,
           6,
           7,
           7,
           6,
           6,
           7
          ],
          "value": [
           13,
           10,
           12,
           8,
           15,
           17,
           10,
           15,
           12,
           6,
           16,
           16
          ]
         },
         "node": {
          "label": [
           "Server",
           "Mobile",
           "Web",
           "Question",
           "Feature",
           "Bug",
           "Open",
           "Closed"
          ],
          "line": {
           "color": "black",
           "width": 0.5
          },
          "pad": 15,
          "thickness": 20
         },
         "type": "sankey"
        }
       ],
       "layout": {
        "font": {
         "color": "white",
         "size": 10
        },
        "paper_bgcolor": "black",
        "plot_bgcolor": "black",
        "template": {
         "data": {
          "bar": [
           {
            "error_x": {
             "color": "#2a3f5f"
            },
            "error_y": {
             "color": "#2a3f5f"
            },
            "marker": {
             "line": {
              "color": "#E5ECF6",
              "width": 0.5
             }
            },
            "type": "bar"
           }
          ],
          "barpolar": [
           {
            "marker": {
             "line": {
              "color": "#E5ECF6",
              "width": 0.5
             }
            },
            "type": "barpolar"
           }
          ],
          "carpet": [
           {
            "aaxis": {
             "endlinecolor": "#2a3f5f",
             "gridcolor": "white",
             "linecolor": "white",
             "minorgridcolor": "white",
             "startlinecolor": "#2a3f5f"
            },
            "baxis": {
             "endlinecolor": "#2a3f5f",
             "gridcolor": "white",
             "linecolor": "white",
             "minorgridcolor": "white",
             "startlinecolor": "#2a3f5f"
            },
            "type": "carpet"
           }
          ],
          "choropleth": [
           {
            "colorbar": {
             "outlinewidth": 0,
             "ticks": ""
            },
            "type": "choropleth"
           }
          ],
          "contour": [
           {
            "colorbar": {
             "outlinewidth": 0,
             "ticks": ""
            },
            "colorscale": [
             [
              0,
              "#0d0887"
             ],
             [
              0.1111111111111111,
              "#46039f"
             ],
             [
              0.2222222222222222,
              "#7201a8"
             ],
             [
              0.3333333333333333,
              "#9c179e"
             ],
             [
              0.4444444444444444,
              "#bd3786"
             ],
             [
              0.5555555555555556,
              "#d8576b"
             ],
             [
              0.6666666666666666,
              "#ed7953"
             ],
             [
              0.7777777777777778,
              "#fb9f3a"
             ],
             [
              0.8888888888888888,
              "#fdca26"
             ],
             [
              1,
              "#f0f921"
             ]
            ],
            "type": "contour"
           }
          ],
          "contourcarpet": [
           {
            "colorbar": {
             "outlinewidth": 0,
             "ticks": ""
            },
            "type": "contourcarpet"
           }
          ],
          "heatmap": [
           {
            "colorbar": {
             "outlinewidth": 0,
             "ticks": ""
            },
            "colorscale": [
             [
              0,
              "#0d0887"
             ],
             [
              0.1111111111111111,
              "#46039f"
             ],
             [
              0.2222222222222222,
              "#7201a8"
             ],
             [
              0.3333333333333333,
              "#9c179e"
             ],
             [
              0.4444444444444444,
              "#bd3786"
             ],
             [
              0.5555555555555556,
              "#d8576b"
             ],
             [
              0.6666666666666666,
              "#ed7953"
             ],
             [
              0.7777777777777778,
              "#fb9f3a"
             ],
             [
              0.8888888888888888,
              "#fdca26"
             ],
             [
              1,
              "#f0f921"
             ]
            ],
            "type": "heatmap"
           }
          ],
          "heatmapgl": [
           {
            "colorbar": {
             "outlinewidth": 0,
             "ticks": ""
            },
            "colorscale": [
             [
              0,
              "#0d0887"
             ],
             [
              0.1111111111111111,
              "#46039f"
             ],
             [
              0.2222222222222222,
              "#7201a8"
             ],
             [
              0.3333333333333333,
              "#9c179e"
             ],
             [
              0.4444444444444444,
              "#bd3786"
             ],
             [
              0.5555555555555556,
              "#d8576b"
             ],
             [
              0.6666666666666666,
              "#ed7953"
             ],
             [
              0.7777777777777778,
              "#fb9f3a"
             ],
             [
              0.8888888888888888,
              "#fdca26"
             ],
             [
              1,
              "#f0f921"
             ]
            ],
            "type": "heatmapgl"
           }
          ],
          "histogram": [
           {
            "marker": {
             "colorbar": {
              "outlinewidth": 0,
              "ticks": ""
             }
            },
            "type": "histogram"
           }
          ],
          "histogram2d": [
           {
            "colorbar": {
             "outlinewidth": 0,
             "ticks": ""
            },
            "colorscale": [
             [
              0,
              "#0d0887"
             ],
             [
              0.1111111111111111,
              "#46039f"
             ],
             [
              0.2222222222222222,
              "#7201a8"
             ],
             [
              0.3333333333333333,
              "#9c179e"
             ],
             [
              0.4444444444444444,
              "#bd3786"
             ],
             [
              0.5555555555555556,
              "#d8576b"
             ],
             [
              0.6666666666666666,
              "#ed7953"
             ],
             [
              0.7777777777777778,
              "#fb9f3a"
             ],
             [
              0.8888888888888888,
              "#fdca26"
             ],
             [
              1,
              "#f0f921"
             ]
            ],
            "type": "histogram2d"
           }
          ],
          "histogram2dcontour": [
           {
            "colorbar": {
             "outlinewidth": 0,
             "ticks": ""
            },
            "colorscale": [
             [
              0,
              "#0d0887"
             ],
             [
              0.1111111111111111,
              "#46039f"
             ],
             [
              0.2222222222222222,
              "#7201a8"
             ],
             [
              0.3333333333333333,
              "#9c179e"
             ],
             [
              0.4444444444444444,
              "#bd3786"
             ],
             [
              0.5555555555555556,
              "#d8576b"
             ],
             [
              0.6666666666666666,
              "#ed7953"
             ],
             [
              0.7777777777777778,
              "#fb9f3a"
             ],
             [
              0.8888888888888888,
              "#fdca26"
             ],
             [
              1,
              "#f0f921"
             ]
            ],
            "type": "histogram2dcontour"
           }
          ],
          "mesh3d": [
           {
            "colorbar": {
             "outlinewidth": 0,
             "ticks": ""
            },
            "type": "mesh3d"
           }
          ],
          "parcoords": [
           {
            "line": {
             "colorbar": {
              "outlinewidth": 0,
              "ticks": ""
             }
            },
            "type": "parcoords"
           }
          ],
          "pie": [
           {
            "automargin": true,
            "type": "pie"
           }
          ],
          "scatter": [
           {
            "marker": {
             "colorbar": {
              "outlinewidth": 0,
              "ticks": ""
             }
            },
            "type": "scatter"
           }
          ],
          "scatter3d": [
           {
            "line": {
             "colorbar": {
              "outlinewidth": 0,
              "ticks": ""
             }
            },
            "marker": {
             "colorbar": {
              "outlinewidth": 0,
              "ticks": ""
             }
            },
            "type": "scatter3d"
           }
          ],
          "scattercarpet": [
           {
            "marker": {
             "colorbar": {
              "outlinewidth": 0,
              "ticks": ""
             }
            },
            "type": "scattercarpet"
           }
          ],
          "scattergeo": [
           {
            "marker": {
             "colorbar": {
              "outlinewidth": 0,
              "ticks": ""
             }
            },
            "type": "scattergeo"
           }
          ],
          "scattergl": [
           {
            "marker": {
             "colorbar": {
              "outlinewidth": 0,
              "ticks": ""
             }
            },
            "type": "scattergl"
           }
          ],
          "scattermapbox": [
           {
            "marker": {
             "colorbar": {
              "outlinewidth": 0,
              "ticks": ""
             }
            },
            "type": "scattermapbox"
           }
          ],
          "scatterpolar": [
           {
            "marker": {
             "colorbar": {
              "outlinewidth": 0,
              "ticks": ""
             }
            },
            "type": "scatterpolar"
           }
          ],
          "scatterpolargl": [
           {
            "marker": {
             "colorbar": {
              "outlinewidth": 0,
              "ticks": ""
             }
            },
            "type": "scatterpolargl"
           }
          ],
          "scatterternary": [
           {
            "marker": {
             "colorbar": {
              "outlinewidth": 0,
              "ticks": ""
             }
            },
            "type": "scatterternary"
           }
          ],
          "surface": [
           {
            "colorbar": {
             "outlinewidth": 0,
             "ticks": ""
            },
            "colorscale": [
             [
              0,
              "#0d0887"
             ],
             [
              0.1111111111111111,
              "#46039f"
             ],
             [
              0.2222222222222222,
              "#7201a8"
             ],
             [
              0.3333333333333333,
              "#9c179e"
             ],
             [
              0.4444444444444444,
              "#bd3786"
             ],
             [
              0.5555555555555556,
              "#d8576b"
             ],
             [
              0.6666666666666666,
              "#ed7953"
             ],
             [
              0.7777777777777778,
              "#fb9f3a"
             ],
             [
              0.8888888888888888,
              "#fdca26"
             ],
             [
              1,
              "#f0f921"
             ]
            ],
            "type": "surface"
           }
          ],
          "table": [
           {
            "cells": {
             "fill": {
              "color": "#EBF0F8"
             },
             "line": {
              "color": "white"
             }
            },
            "header": {
             "fill": {
              "color": "#C8D4E3"
             },
             "line": {
              "color": "white"
             }
            },
            "type": "table"
           }
          ]
         },
         "layout": {
          "annotationdefaults": {
           "arrowcolor": "#2a3f5f",
           "arrowhead": 0,
           "arrowwidth": 1
          },
          "coloraxis": {
           "colorbar": {
            "outlinewidth": 0,
            "ticks": ""
           }
          },
          "colorscale": {
           "diverging": [
            [
             0,
             "#8e0152"
            ],
            [
             0.1,
             "#c51b7d"
            ],
            [
             0.2,
             "#de77ae"
            ],
            [
             0.3,
             "#f1b6da"
            ],
            [
             0.4,
             "#fde0ef"
            ],
            [
             0.5,
             "#f7f7f7"
            ],
            [
             0.6,
             "#e6f5d0"
            ],
            [
             0.7,
             "#b8e186"
            ],
            [
             0.8,
             "#7fbc41"
            ],
            [
             0.9,
             "#4d9221"
            ],
            [
             1,
             "#276419"
            ]
           ],
           "sequential": [
            [
             0,
             "#0d0887"
            ],
            [
             0.1111111111111111,
             "#46039f"
            ],
            [
             0.2222222222222222,
             "#7201a8"
            ],
            [
             0.3333333333333333,
             "#9c179e"
            ],
            [
             0.4444444444444444,
             "#bd3786"
            ],
            [
             0.5555555555555556,
             "#d8576b"
            ],
            [
             0.6666666666666666,
             "#ed7953"
            ],
            [
             0.7777777777777778,
             "#fb9f3a"
            ],
            [
             0.8888888888888888,
             "#fdca26"
            ],
            [
             1,
             "#f0f921"
            ]
           ],
           "sequentialminus": [
            [
             0,
             "#0d0887"
            ],
            [
             0.1111111111111111,
             "#46039f"
            ],
            [
             0.2222222222222222,
             "#7201a8"
            ],
            [
             0.3333333333333333,
             "#9c179e"
            ],
            [
             0.4444444444444444,
             "#bd3786"
            ],
            [
             0.5555555555555556,
             "#d8576b"
            ],
            [
             0.6666666666666666,
             "#ed7953"
            ],
            [
             0.7777777777777778,
             "#fb9f3a"
            ],
            [
             0.8888888888888888,
             "#fdca26"
            ],
            [
             1,
             "#f0f921"
            ]
           ]
          },
          "colorway": [
           "#636efa",
           "#EF553B",
           "#00cc96",
           "#ab63fa",
           "#FFA15A",
           "#19d3f3",
           "#FF6692",
           "#B6E880",
           "#FF97FF",
           "#FECB52"
          ],
          "font": {
           "color": "#2a3f5f"
          },
          "geo": {
           "bgcolor": "white",
           "lakecolor": "white",
           "landcolor": "#E5ECF6",
           "showlakes": true,
           "showland": true,
           "subunitcolor": "white"
          },
          "hoverlabel": {
           "align": "left"
          },
          "hovermode": "closest",
          "mapbox": {
           "style": "light"
          },
          "paper_bgcolor": "white",
          "plot_bgcolor": "#E5ECF6",
          "polar": {
           "angularaxis": {
            "gridcolor": "white",
            "linecolor": "white",
            "ticks": ""
           },
           "bgcolor": "#E5ECF6",
           "radialaxis": {
            "gridcolor": "white",
            "linecolor": "white",
            "ticks": ""
           }
          },
          "scene": {
           "xaxis": {
            "backgroundcolor": "#E5ECF6",
            "gridcolor": "white",
            "gridwidth": 2,
            "linecolor": "white",
            "showbackground": true,
            "ticks": "",
            "zerolinecolor": "white"
           },
           "yaxis": {
            "backgroundcolor": "#E5ECF6",
            "gridcolor": "white",
            "gridwidth": 2,
            "linecolor": "white",
            "showbackground": true,
            "ticks": "",
            "zerolinecolor": "white"
           },
           "zaxis": {
            "backgroundcolor": "#E5ECF6",
            "gridcolor": "white",
            "gridwidth": 2,
            "linecolor": "white",
            "showbackground": true,
            "ticks": "",
            "zerolinecolor": "white"
           }
          },
          "shapedefaults": {
           "line": {
            "color": "#2a3f5f"
           }
          },
          "ternary": {
           "aaxis": {
            "gridcolor": "white",
            "linecolor": "white",
            "ticks": ""
           },
           "baxis": {
            "gridcolor": "white",
            "linecolor": "white",
            "ticks": ""
           },
           "bgcolor": "#E5ECF6",
           "caxis": {
            "gridcolor": "white",
            "linecolor": "white",
            "ticks": ""
           }
          },
          "title": {
           "x": 0.05
          },
          "xaxis": {
           "automargin": true,
           "gridcolor": "white",
           "linecolor": "white",
           "ticks": "",
           "title": {
            "standoff": 15
           },
           "zerolinecolor": "white",
           "zerolinewidth": 2
          },
          "yaxis": {
           "automargin": true,
           "gridcolor": "white",
           "linecolor": "white",
           "ticks": "",
           "title": {
            "standoff": 15
           },
           "zerolinecolor": "white",
           "zerolinewidth": 2
          }
         }
        },
        "title": {
         "text": "Source Category Diagram"
        }
       }
      },
      "text/html": [
       "<div>                            <div id=\"0e162f92-306c-4c53-b5b0-e7191aaa2ed6\" class=\"plotly-graph-div\" style=\"height:525px; width:100%;\"></div>            <script type=\"text/javascript\">                require([\"plotly\"], function(Plotly) {                    window.PLOTLYENV=window.PLOTLYENV || {};                                    if (document.getElementById(\"0e162f92-306c-4c53-b5b0-e7191aaa2ed6\")) {                    Plotly.newPlot(                        \"0e162f92-306c-4c53-b5b0-e7191aaa2ed6\",                        [{\"link\": {\"source\": [0, 0, 1, 1, 1, 2, 3, 3, 4, 4, 5, 5], \"target\": [3, 4, 3, 4, 5, 5, 6, 7, 7, 6, 6, 7], \"value\": [13, 10, 12, 8, 15, 17, 10, 15, 12, 6, 16, 16]}, \"node\": {\"label\": [\"Server\", \"Mobile\", \"Web\", \"Question\", \"Feature\", \"Bug\", \"Open\", \"Closed\"], \"line\": {\"color\": \"black\", \"width\": 0.5}, \"pad\": 15, \"thickness\": 20}, \"type\": \"sankey\"}],                        {\"font\": {\"color\": \"white\", \"size\": 10}, \"paper_bgcolor\": \"black\", \"plot_bgcolor\": \"black\", \"template\": {\"data\": {\"bar\": [{\"error_x\": {\"color\": \"#2a3f5f\"}, \"error_y\": {\"color\": \"#2a3f5f\"}, \"marker\": {\"line\": {\"color\": \"#E5ECF6\", \"width\": 0.5}}, \"type\": \"bar\"}], \"barpolar\": [{\"marker\": {\"line\": {\"color\": \"#E5ECF6\", \"width\": 0.5}}, \"type\": \"barpolar\"}], \"carpet\": [{\"aaxis\": {\"endlinecolor\": \"#2a3f5f\", \"gridcolor\": \"white\", \"linecolor\": \"white\", \"minorgridcolor\": \"white\", \"startlinecolor\": \"#2a3f5f\"}, \"baxis\": {\"endlinecolor\": \"#2a3f5f\", \"gridcolor\": \"white\", \"linecolor\": \"white\", \"minorgridcolor\": \"white\", \"startlinecolor\": \"#2a3f5f\"}, \"type\": \"carpet\"}], \"choropleth\": [{\"colorbar\": {\"outlinewidth\": 0, \"ticks\": \"\"}, \"type\": \"choropleth\"}], \"contour\": [{\"colorbar\": {\"outlinewidth\": 0, \"ticks\": \"\"}, \"colorscale\": [[0.0, \"#0d0887\"], [0.1111111111111111, \"#46039f\"], [0.2222222222222222, \"#7201a8\"], [0.3333333333333333, \"#9c179e\"], [0.4444444444444444, \"#bd3786\"], [0.5555555555555556, \"#d8576b\"], [0.6666666666666666, \"#ed7953\"], [0.7777777777777778, \"#fb9f3a\"], [0.8888888888888888, \"#fdca26\"], [1.0, \"#f0f921\"]], \"type\": \"contour\"}], \"contourcarpet\": [{\"colorbar\": {\"outlinewidth\": 0, \"ticks\": \"\"}, \"type\": \"contourcarpet\"}], \"heatmap\": [{\"colorbar\": {\"outlinewidth\": 0, \"ticks\": \"\"}, \"colorscale\": [[0.0, \"#0d0887\"], [0.1111111111111111, \"#46039f\"], [0.2222222222222222, \"#7201a8\"], [0.3333333333333333, \"#9c179e\"], [0.4444444444444444, \"#bd3786\"], [0.5555555555555556, \"#d8576b\"], [0.6666666666666666, \"#ed7953\"], [0.7777777777777778, \"#fb9f3a\"], [0.8888888888888888, \"#fdca26\"], [1.0, \"#f0f921\"]], \"type\": \"heatmap\"}], \"heatmapgl\": [{\"colorbar\": {\"outlinewidth\": 0, \"ticks\": \"\"}, \"colorscale\": [[0.0, \"#0d0887\"], [0.1111111111111111, \"#46039f\"], [0.2222222222222222, \"#7201a8\"], [0.3333333333333333, \"#9c179e\"], [0.4444444444444444, \"#bd3786\"], [0.5555555555555556, \"#d8576b\"], [0.6666666666666666, \"#ed7953\"], [0.7777777777777778, \"#fb9f3a\"], [0.8888888888888888, \"#fdca26\"], [1.0, \"#f0f921\"]], \"type\": \"heatmapgl\"}], \"histogram\": [{\"marker\": {\"colorbar\": {\"outlinewidth\": 0, \"ticks\": \"\"}}, \"type\": \"histogram\"}], \"histogram2d\": [{\"colorbar\": {\"outlinewidth\": 0, \"ticks\": \"\"}, \"colorscale\": [[0.0, \"#0d0887\"], [0.1111111111111111, \"#46039f\"], [0.2222222222222222, \"#7201a8\"], [0.3333333333333333, \"#9c179e\"], [0.4444444444444444, \"#bd3786\"], [0.5555555555555556, \"#d8576b\"], [0.6666666666666666, \"#ed7953\"], [0.7777777777777778, \"#fb9f3a\"], [0.8888888888888888, \"#fdca26\"], [1.0, \"#f0f921\"]], \"type\": \"histogram2d\"}], \"histogram2dcontour\": [{\"colorbar\": {\"outlinewidth\": 0, \"ticks\": \"\"}, \"colorscale\": [[0.0, \"#0d0887\"], [0.1111111111111111, \"#46039f\"], [0.2222222222222222, \"#7201a8\"], [0.3333333333333333, \"#9c179e\"], [0.4444444444444444, \"#bd3786\"], [0.5555555555555556, \"#d8576b\"], [0.6666666666666666, \"#ed7953\"], [0.7777777777777778, \"#fb9f3a\"], [0.8888888888888888, \"#fdca26\"], [1.0, \"#f0f921\"]], \"type\": \"histogram2dcontour\"}], \"mesh3d\": [{\"colorbar\": {\"outlinewidth\": 0, \"ticks\": \"\"}, \"type\": \"mesh3d\"}], \"parcoords\": [{\"line\": {\"colorbar\": {\"outlinewidth\": 0, \"ticks\": \"\"}}, \"type\": \"parcoords\"}], \"pie\": [{\"automargin\": true, \"type\": \"pie\"}], \"scatter\": [{\"marker\": {\"colorbar\": {\"outlinewidth\": 0, \"ticks\": \"\"}}, \"type\": \"scatter\"}], \"scatter3d\": [{\"line\": {\"colorbar\": {\"outlinewidth\": 0, \"ticks\": \"\"}}, \"marker\": {\"colorbar\": {\"outlinewidth\": 0, \"ticks\": \"\"}}, \"type\": \"scatter3d\"}], \"scattercarpet\": [{\"marker\": {\"colorbar\": {\"outlinewidth\": 0, \"ticks\": \"\"}}, \"type\": \"scattercarpet\"}], \"scattergeo\": [{\"marker\": {\"colorbar\": {\"outlinewidth\": 0, \"ticks\": \"\"}}, \"type\": \"scattergeo\"}], \"scattergl\": [{\"marker\": {\"colorbar\": {\"outlinewidth\": 0, \"ticks\": \"\"}}, \"type\": \"scattergl\"}], \"scattermapbox\": [{\"marker\": {\"colorbar\": {\"outlinewidth\": 0, \"ticks\": \"\"}}, \"type\": \"scattermapbox\"}], \"scatterpolar\": [{\"marker\": {\"colorbar\": {\"outlinewidth\": 0, \"ticks\": \"\"}}, \"type\": \"scatterpolar\"}], \"scatterpolargl\": [{\"marker\": {\"colorbar\": {\"outlinewidth\": 0, \"ticks\": \"\"}}, \"type\": \"scatterpolargl\"}], \"scatterternary\": [{\"marker\": {\"colorbar\": {\"outlinewidth\": 0, \"ticks\": \"\"}}, \"type\": \"scatterternary\"}], \"surface\": [{\"colorbar\": {\"outlinewidth\": 0, \"ticks\": \"\"}, \"colorscale\": [[0.0, \"#0d0887\"], [0.1111111111111111, \"#46039f\"], [0.2222222222222222, \"#7201a8\"], [0.3333333333333333, \"#9c179e\"], [0.4444444444444444, \"#bd3786\"], [0.5555555555555556, \"#d8576b\"], [0.6666666666666666, \"#ed7953\"], [0.7777777777777778, \"#fb9f3a\"], [0.8888888888888888, \"#fdca26\"], [1.0, \"#f0f921\"]], \"type\": \"surface\"}], \"table\": [{\"cells\": {\"fill\": {\"color\": \"#EBF0F8\"}, \"line\": {\"color\": \"white\"}}, \"header\": {\"fill\": {\"color\": \"#C8D4E3\"}, \"line\": {\"color\": \"white\"}}, \"type\": \"table\"}]}, \"layout\": {\"annotationdefaults\": {\"arrowcolor\": \"#2a3f5f\", \"arrowhead\": 0, \"arrowwidth\": 1}, \"coloraxis\": {\"colorbar\": {\"outlinewidth\": 0, \"ticks\": \"\"}}, \"colorscale\": {\"diverging\": [[0, \"#8e0152\"], [0.1, \"#c51b7d\"], [0.2, \"#de77ae\"], [0.3, \"#f1b6da\"], [0.4, \"#fde0ef\"], [0.5, \"#f7f7f7\"], [0.6, \"#e6f5d0\"], [0.7, \"#b8e186\"], [0.8, \"#7fbc41\"], [0.9, \"#4d9221\"], [1, \"#276419\"]], \"sequential\": [[0.0, \"#0d0887\"], [0.1111111111111111, \"#46039f\"], [0.2222222222222222, \"#7201a8\"], [0.3333333333333333, \"#9c179e\"], [0.4444444444444444, \"#bd3786\"], [0.5555555555555556, \"#d8576b\"], [0.6666666666666666, \"#ed7953\"], [0.7777777777777778, \"#fb9f3a\"], [0.8888888888888888, \"#fdca26\"], [1.0, \"#f0f921\"]], \"sequentialminus\": [[0.0, \"#0d0887\"], [0.1111111111111111, \"#46039f\"], [0.2222222222222222, \"#7201a8\"], [0.3333333333333333, \"#9c179e\"], [0.4444444444444444, \"#bd3786\"], [0.5555555555555556, \"#d8576b\"], [0.6666666666666666, \"#ed7953\"], [0.7777777777777778, \"#fb9f3a\"], [0.8888888888888888, \"#fdca26\"], [1.0, \"#f0f921\"]]}, \"colorway\": [\"#636efa\", \"#EF553B\", \"#00cc96\", \"#ab63fa\", \"#FFA15A\", \"#19d3f3\", \"#FF6692\", \"#B6E880\", \"#FF97FF\", \"#FECB52\"], \"font\": {\"color\": \"#2a3f5f\"}, \"geo\": {\"bgcolor\": \"white\", \"lakecolor\": \"white\", \"landcolor\": \"#E5ECF6\", \"showlakes\": true, \"showland\": true, \"subunitcolor\": \"white\"}, \"hoverlabel\": {\"align\": \"left\"}, \"hovermode\": \"closest\", \"mapbox\": {\"style\": \"light\"}, \"paper_bgcolor\": \"white\", \"plot_bgcolor\": \"#E5ECF6\", \"polar\": {\"angularaxis\": {\"gridcolor\": \"white\", \"linecolor\": \"white\", \"ticks\": \"\"}, \"bgcolor\": \"#E5ECF6\", \"radialaxis\": {\"gridcolor\": \"white\", \"linecolor\": \"white\", \"ticks\": \"\"}}, \"scene\": {\"xaxis\": {\"backgroundcolor\": \"#E5ECF6\", \"gridcolor\": \"white\", \"gridwidth\": 2, \"linecolor\": \"white\", \"showbackground\": true, \"ticks\": \"\", \"zerolinecolor\": \"white\"}, \"yaxis\": {\"backgroundcolor\": \"#E5ECF6\", \"gridcolor\": \"white\", \"gridwidth\": 2, \"linecolor\": \"white\", \"showbackground\": true, \"ticks\": \"\", \"zerolinecolor\": \"white\"}, \"zaxis\": {\"backgroundcolor\": \"#E5ECF6\", \"gridcolor\": \"white\", \"gridwidth\": 2, \"linecolor\": \"white\", \"showbackground\": true, \"ticks\": \"\", \"zerolinecolor\": \"white\"}}, \"shapedefaults\": {\"line\": {\"color\": \"#2a3f5f\"}}, \"ternary\": {\"aaxis\": {\"gridcolor\": \"white\", \"linecolor\": \"white\", \"ticks\": \"\"}, \"baxis\": {\"gridcolor\": \"white\", \"linecolor\": \"white\", \"ticks\": \"\"}, \"bgcolor\": \"#E5ECF6\", \"caxis\": {\"gridcolor\": \"white\", \"linecolor\": \"white\", \"ticks\": \"\"}}, \"title\": {\"x\": 0.05}, \"xaxis\": {\"automargin\": true, \"gridcolor\": \"white\", \"linecolor\": \"white\", \"ticks\": \"\", \"title\": {\"standoff\": 15}, \"zerolinecolor\": \"white\", \"zerolinewidth\": 2}, \"yaxis\": {\"automargin\": true, \"gridcolor\": \"white\", \"linecolor\": \"white\", \"ticks\": \"\", \"title\": {\"standoff\": 15}, \"zerolinecolor\": \"white\", \"zerolinewidth\": 2}}}, \"title\": {\"text\": \"Source Category Diagram\"}},                        {\"responsive\": true}                    ).then(function(){\n",
       "                            \n",
       "var gd = document.getElementById('0e162f92-306c-4c53-b5b0-e7191aaa2ed6');\n",
       "var x = new MutationObserver(function (mutations, observer) {{\n",
       "        var display = window.getComputedStyle(gd).display;\n",
       "        if (!display || display === 'none') {{\n",
       "            console.log([gd, 'removed!']);\n",
       "            Plotly.purge(gd);\n",
       "            observer.disconnect();\n",
       "        }}\n",
       "}});\n",
       "\n",
       "// Listen for the removal of the full notebook cells\n",
       "var notebookContainer = gd.closest('#notebook-container');\n",
       "if (notebookContainer) {{\n",
       "    x.observe(notebookContainer, {childList: true});\n",
       "}}\n",
       "\n",
       "// Listen for the clearing of the current output cell\n",
       "var outputEl = gd.closest('.output');\n",
       "if (outputEl) {{\n",
       "    x.observe(outputEl, {childList: true});\n",
       "}}\n",
       "\n",
       "                        })                };                });            </script>        </div>"
      ]
     },
     "metadata": {},
     "output_type": "display_data"
    }
   ],
   "source": [
    "import plotly.graph_objects as go\n",
    "\n",
    "fig = go.Figure(data=[go.Sankey(\n",
    "    node = dict(\n",
    "      pad = 15,\n",
    "      thickness = 20,\n",
    "      line = dict(color = \"black\", width = 0.5),\n",
    "      label = [\"Server\", \"Mobile\", \"Web\", \"Question\", \"Feature\", \"Bug\", \"Open\", \"Closed\"]\n",
    "    ),\n",
    "    link = dict(\n",
    "      source = [0, 0, 1, 1, 1, 2, 3, 3, 4, 4, 5, 5], # indices correspond to labels, eg A1, A2, A1, B1, ...\n",
    "      target = [3, 4, 3, 4, 5, 5, 6, 7, 7, 6, 6, 7],\n",
    "      value = [13, 10, 12, 8, 15, 17, 10, 15, 12, 6, 16, 16]\n",
    "  ))])\n",
    "\n",
    "fig.update_layout(title_text=\"Source Category Diagram\", font_size=10,\n",
    "                 font=dict(size = 10, color = 'white'),\n",
    "                 plot_bgcolor='black',\n",
    "                 paper_bgcolor='black')\n",
    "\n",
    "fig.show()"
   ]
  },
  {
   "cell_type": "markdown",
   "metadata": {},
   "source": [
    "# Candlestick Chart"
   ]
  },
  {
   "cell_type": "markdown",
   "metadata": {},
   "source": [
    "Data load"
   ]
  },
  {
   "cell_type": "code",
   "execution_count": 83,
   "metadata": {},
   "outputs": [
    {
     "data": {
      "text/html": [
       "<div>\n",
       "<style scoped>\n",
       "    .dataframe tbody tr th:only-of-type {\n",
       "        vertical-align: middle;\n",
       "    }\n",
       "\n",
       "    .dataframe tbody tr th {\n",
       "        vertical-align: top;\n",
       "    }\n",
       "\n",
       "    .dataframe thead th {\n",
       "        text-align: right;\n",
       "    }\n",
       "</style>\n",
       "<table border=\"1\" class=\"dataframe\">\n",
       "  <thead>\n",
       "    <tr style=\"text-align: right;\">\n",
       "      <th></th>\n",
       "      <th>High</th>\n",
       "      <th>Low</th>\n",
       "      <th>Open</th>\n",
       "      <th>Close</th>\n",
       "      <th>Volume</th>\n",
       "      <th>Adj Close</th>\n",
       "    </tr>\n",
       "    <tr>\n",
       "      <th>Date</th>\n",
       "      <th></th>\n",
       "      <th></th>\n",
       "      <th></th>\n",
       "      <th></th>\n",
       "      <th></th>\n",
       "      <th></th>\n",
       "    </tr>\n",
       "  </thead>\n",
       "  <tbody>\n",
       "    <tr>\n",
       "      <th>2019-01-02</th>\n",
       "      <td>1553.359985</td>\n",
       "      <td>1460.930054</td>\n",
       "      <td>1465.199951</td>\n",
       "      <td>1539.130005</td>\n",
       "      <td>7983100</td>\n",
       "      <td>1539.130005</td>\n",
       "    </tr>\n",
       "    <tr>\n",
       "      <th>2019-01-03</th>\n",
       "      <td>1538.000000</td>\n",
       "      <td>1497.109985</td>\n",
       "      <td>1520.010010</td>\n",
       "      <td>1500.280029</td>\n",
       "      <td>6975600</td>\n",
       "      <td>1500.280029</td>\n",
       "    </tr>\n",
       "    <tr>\n",
       "      <th>2019-01-04</th>\n",
       "      <td>1594.000000</td>\n",
       "      <td>1518.310059</td>\n",
       "      <td>1530.000000</td>\n",
       "      <td>1575.390015</td>\n",
       "      <td>9182600</td>\n",
       "      <td>1575.390015</td>\n",
       "    </tr>\n",
       "  </tbody>\n",
       "</table>\n",
       "</div>"
      ],
      "text/plain": [
       "                   High          Low         Open        Close   Volume    Adj Close\n",
       "Date                                                                                \n",
       "2019-01-02  1553.359985  1460.930054  1465.199951  1539.130005  7983100  1539.130005\n",
       "2019-01-03  1538.000000  1497.109985  1520.010010  1500.280029  6975600  1500.280029\n",
       "2019-01-04  1594.000000  1518.310059  1530.000000  1575.390015  9182600  1575.390015"
      ]
     },
     "execution_count": 83,
     "metadata": {},
     "output_type": "execute_result"
    }
   ],
   "source": [
    "from pandas_datareader import data\n",
    "AMAZ = data.DataReader('AMZN', 'yahoo')\n",
    "AMAZ = AMAZ.loc['2019-01-01':]\n",
    "AMAZ.head(3)"
   ]
  },
  {
   "cell_type": "code",
   "execution_count": 87,
   "metadata": {},
   "outputs": [
    {
     "data": {
      "application/vnd.plotly.v1+json": {
       "config": {
        "plotlyServerURL": "https://plotly.com"
       },
       "data": [
        {
         "close": [
          1539.1300048828125,
          1500.280029296875,
          1575.3900146484375,
          1629.510009765625,
          1656.5799560546875,
          1659.4200439453125,
          1656.219970703125,
          1640.56005859375,
          1617.2099609375,
          1674.56005859375,
          1683.780029296875,
          1693.219970703125,
          1696.199951171875,
          1632.1700439453125,
          1640.02001953125,
          1654.9300537109375,
          1670.5699462890625,
          1637.8900146484375,
          1593.8800048828125,
          1670.4300537109375,
          1718.72998046875,
          1626.22998046875,
          1633.31005859375,
          1658.81005859375,
          1640.260009765625,
          1614.3699951171875,
          1588.219970703125,
          1591,
          1638.010009765625,
          1640,
          1622.6500244140625,
          1607.949951171875,
          1627.5799560546875,
          1622.0999755859375,
          1619.43994140625,
          1631.56005859375,
          1633,
          1636.4000244140625,
          1641.0899658203125,
          1639.8299560546875,
          1671.72998046875,
          1696.1700439453125,
          1692.4300537109375,
          1668.949951171875,
          1625.949951171875,
          1620.800048828125,
          1670.6199951171875,
          1673.0999755859375,
          1690.81005859375,
          1686.219970703125,
          1712.3599853515625,
          1742.1500244140625,
          1761.8499755859375,
          1797.27001953125,
          1819.260009765625,
          1764.77001953125,
          1774.260009765625,
          1783.760009765625,
          1765.699951171875,
          1773.4200439453125,
          1780.75,
          1814.18994140625,
          1813.97998046875,
          1820.699951171875,
          1818.8599853515625,
          1837.280029296875,
          1849.8599853515625,
          1835.8399658203125,
          1847.3299560546875,
          1844.0699462890625,
          1843.06005859375,
          1844.8699951171875,
          1863.0400390625,
          1864.8199462890625,
          1861.68994140625,
          1887.31005859375,
          1923.77001953125,
          1901.75,
          1902.25,
          1950.6300048828125,
          1938.4300537109375,
          1926.52001953125,
          1911.52001953125,
          1900.8199462890625,
          1962.4599609375,
          1950.550048828125,
          1921,
          1917.77001953125,
          1899.8699951171875,
          1889.97998046875,
          1822.6800537109375,
          1840.1199951171875,
          1871.1500244140625,
          1907.5699462890625,
          1869,
          1858.969970703125,
          1857.52001953125,
          1859.6800537109375,
          1815.47998046875,
          1823.280029296875,
          1836.4300537109375,
          1819.18994140625,
          1816.3199462890625,
          1775.0699462890625,
          1692.68994140625,
          1729.56005859375,
          1738.5,
          1754.3599853515625,
          1804.030029296875,
          1860.6300048828125,
          1863.699951171875,
          1855.3199462890625,
          1870.300048828125,
          1869.6700439453125,
          1886.030029296875,
          1901.3699951171875,
          1908.7900390625,
          1918.18994140625,
          1911.300048828125,
          1913.9000244140625,
          1878.27001953125,
          1897.8299560546875,
          1904.280029296875,
          1893.6300048828125,
          1922.18994140625,
          1934.31005859375,
          1939,
          1942.9100341796875,
          1952.3199462890625,
          1988.300048828125,
          2017.4100341796875,
          2001.0699462890625,
          2011,
          2020.989990234375,
          2009.9000244140625,
          1992.030029296875,
          1977.9000244140625,
          1964.52001953125,
          1985.6300048828125,
          1994.489990234375,
          2000.81005859375,
          1973.8199462890625,
          1943.050048828125,
          1912.449951171875,
          1898.530029296875,
          1866.780029296875,
          1855.3199462890625,
          1823.239990234375,
          1765.1300048828125,
          1787.8299560546875,
          1793.4000244140625,
          1832.8900146484375,
          1807.5799560546875,
          1784.9200439453125,
          1824.3399658203125,
          1762.9599609375,
          1776.1199951171875,
          1792.5699462890625,
          1816.1199951171875,
          1801.3800048828125,
          1823.5400390625,
          1804.6600341796875,
          1749.6199951171875,
          1768.8699951171875,
          1761.8299560546875,
          1764.25,
          1786.4000244140625,
          1776.2900390625,
          1789.8399658203125,
          1800.6199951171875,
          1840.719970703125,
          1833.510009765625,
          1831.3499755859375,
          1820.550048828125,
          1822.989990234375,
          1843.550048828125,
          1839.3399658203125,
          1807.8399658203125,
          1822.550048828125,
          1817.4599609375,
          1821.5,
          1794.1600341796875,
          1785.300048828125,
          1741.6099853515625,
          1768.3299560546875,
          1739.8399658203125,
          1725.449951171875,
          1735.9100341796875,
          1735.6500244140625,
          1713.22998046875,
          1724.4200439453125,
          1739.6500244140625,
          1732.6600341796875,
          1705.510009765625,
          1721.989990234375,
          1720.260009765625,
          1731.9200439453125,
          1736.4300537109375,
          1767.3800048828125,
          1777.4300537109375,
          1787.47998046875,
          1757.510009765625,
          1785.6600341796875,
          1765.72998046875,
          1762.1700439453125,
          1780.780029296875,
          1761.3299560546875,
          1777.0799560546875,
          1762.7099609375,
          1779.989990234375,
          1776.6600341796875,
          1791.43994140625,
          1804.6600341796875,
          1801.7099609375,
          1795.77001953125,
          1788.199951171875,
          1785.8800048828125,
          1771.6500244140625,
          1778,
          1753.1099853515625,
          1754.5999755859375,
          1739.489990234375,
          1752.530029296875,
          1752.7900390625,
          1745.530029296875,
          1734.7099609375,
          1745.719970703125,
          1773.8399658203125,
          1796.93994140625,
          1818.510009765625,
          1800.800048828125,
          1781.5999755859375,
          1769.9599609375,
          1760.68994140625,
          1740.47998046875,
          1751.5999755859375,
          1749.510009765625,
          1739.2099609375,
          1748.719970703125,
          1760.3299560546875,
          1760.93994140625,
          1769.2099609375,
          1790.6600341796875,
          1784.030029296875,
          1792.280029296875,
          1786.5,
          1793,
          1789.2099609375,
          1868.77001953125,
          1869.800048828125,
          1846.8900146484375,
          1847.8399658203125,
          1898.010009765625,
          1874.969970703125,
          1902.8800048828125,
          1906.8599853515625,
          1891.969970703125,
          1901.050048828125,
          1883.1600341796875,
          1891.300048828125,
          1869.43994140625,
          1862.02001953125,
          1877.93994140625,
          1864.719970703125,
          1892,
          1887.4599609375,
          1884.5799560546875,
          1861.6400146484375,
          1828.3399658203125,
          1853.25,
          1858,
          1870.6800537109375,
          2008.719970703125,
          2004.199951171875,
          2049.669921875,
          2039.8699951171875,
          2050.22998046875,
          2079.280029296875,
          2133.909912109375,
          2150.800048828125,
          2160,
          2149.8701171875,
          2134.8701171875,
          2155.669921875,
          2170.219970703125,
          2153.10009765625,
          2095.969970703125,
          2009.2900390625,
          1972.739990234375,
          1979.5899658203125,
          1884.300048828125,
          1883.75,
          1953.949951171875,
          1908.989990234375,
          1975.8299560546875,
          1924.030029296875,
          1901.0899658203125,
          1800.6099853515625,
          1891.8199462890625,
          1820.8599853515625,
          1676.6099853515625,
          1785,
          1689.1500244140625,
          1807.8399658203125,
          1830,
          1880.9300537109375,
          1846.0899658203125,
          1902.8299560546875,
          1940.0999755859375,
          1885.8399658203125,
          1955.489990234375,
          1900.0999755859375,
          1963.949951171875,
          1949.719970703125,
          1907.699951171875,
          1918.8299560546875,
          1906.5899658203125,
          1997.5899658203125,
          2011.5999755859375,
          2043,
          2042.760009765625,
          2168.8701171875,
          2283.320068359375,
          2307.679931640625,
          2408.18994140625,
          2375,
          2393.610107421875,
          2328.1201171875,
          2363.489990234375,
          2399.449951171875,
          2410.219970703125,
          2376,
          2314.080078125,
          2372.7099609375,
          2474,
          2286.0400390625,
          2315.989990234375,
          2317.800048828125,
          2351.260009765625,
          2367.610107421875,
          2379.610107421875,
          2409,
          2356.949951171875,
          2367.919921875,
          2388.85009765625,
          2409.780029296875,
          2426.260009765625,
          2449.330078125,
          2497.93994140625,
          2446.739990234375,
          2436.8798828125,
          2421.860107421875,
          2410.389892578125,
          2401.10009765625,
          2442.3701171875,
          2471.0400390625,
          2472.409912109375,
          2478.39990234375,
          2460.60009765625,
          2483,
          2524.06005859375,
          2600.860107421875,
          2647.449951171875,
          2557.9599609375,
          2545.02001953125,
          2572.679931640625,
          2615.27001953125,
          2640.97998046875,
          2653.97998046875,
          2675.010009765625,
          2713.820068359375,
          2764.409912109375,
          2734.39990234375,
          2754.580078125,
          2692.8701171875,
          2680.3798828125,
          2758.820068359375,
          2878.699951171875,
          2890.300048828125,
          3057.0400390625,
          3000.1201171875,
          3081.110107421875,
          3182.6298828125,
          3200,
          3104,
          3084,
          3008.8701171875,
          2999.89990234375,
          2961.969970703125,
          3196.840087890625,
          3138.2900390625,
          3099.909912109375,
          2986.550048828125,
          3008.909912109375,
          3055.2099609375,
          3000.330078125,
          3033.530029296875,
          3051.8798828125,
          3164.679931640625,
          3111.889892578125,
          3138.830078125,
          3205.030029296875,
          3225,
          3167.4599609375,
          3148.159912109375,
          3080.669921875,
          3162.239990234375,
          3161.02001953125,
          3148.02001953125,
          3182.409912109375,
          3312.489990234375,
          3260.47998046875,
          3297.3701171875,
          3284.719970703125,
          3307.4599609375,
          3346.489990234375,
          3441.85009765625,
          3400,
          3401.800048828125,
          3450.9599609375,
          3499.1201171875,
          3531.449951171875,
          3368,
          3294.6201171875,
          3149.840087890625,
          3268.610107421875,
          3175.110107421875,
          3116.219970703125,
          3102.969970703125,
          3156.1298828125,
          3078.10009765625,
          3008.72998046875,
          2954.909912109375,
          2960.469970703125,
          3128.989990234375,
          2999.860107421875,
          3019.7900390625,
          3095.1298828125,
          3174.050048828125,
          3144.8798828125,
          3148.72998046875,
          3221.260009765625,
          3125,
          3199.199951171875,
          3099.9599609375,
          3195.68994140625,
          3190.550048828125,
          3286.64990234375,
          3442.929931640625,
          3443.6298828125,
          3363.7099609375,
          3338.64990234375,
          3272.7099609375,
          3207.2099609375,
          3217.010009765625,
          3184.93994140625,
          3176.39990234375,
          3204.39990234375,
          3207.0400390625,
          3286.330078125,
          3162.780029296875,
          3211.010009765625,
          3036.14990234375,
          3004.47998046875,
          3048.409912109375,
          3241.159912109375,
          3322,
          3311.3701171875,
          3143.739990234375,
          3035.02001953125,
          3137.389892578125,
          3110.280029296875,
          3128.81005859375,
          3131.06005859375,
          3135.659912109375,
          3105.4599609375,
          3117.02001953125,
          3099.39990234375
         ],
         "high": [
          1553.3599853515625,
          1538,
          1594,
          1634.56005859375,
          1676.6099853515625,
          1667.800048828125,
          1663.25,
          1660.2900390625,
          1648.199951171875,
          1675.1600341796875,
          1705,
          1700.1700439453125,
          1716.199951171875,
          1681.8699951171875,
          1657.4300537109375,
          1657.260009765625,
          1683.47998046875,
          1645,
          1632.3800048828125,
          1676.949951171875,
          1736.4100341796875,
          1673.06005859375,
          1649.6300048828125,
          1665.260009765625,
          1672.260009765625,
          1625.5400390625,
          1588.5899658203125,
          1609.2900390625,
          1639.4000244140625,
          1656.3800048828125,
          1637.9000244140625,
          1628.9100341796875,
          1634,
          1634.9300537109375,
          1623.56005859375,
          1634.93994140625,
          1654.5999755859375,
          1639.989990234375,
          1641.81005859375,
          1651.77001953125,
          1674.260009765625,
          1709.4300537109375,
          1707.800048828125,
          1697.75,
          1669.75,
          1622.719970703125,
          1672.2900390625,
          1684.27001953125,
          1700,
          1702,
          1718.800048828125,
          1750,
          1784.1600341796875,
          1799.5,
          1823.75,
          1818.97998046875,
          1782.6800537109375,
          1805.77001953125,
          1787.5,
          1777.9300537109375,
          1792.8599853515625,
          1815.6700439453125,
          1820,
          1830,
          1828.75,
          1838.5799560546875,
          1850.199951171875,
          1853.0899658203125,
          1848,
          1849.949951171875,
          1851.5,
          1846.8499755859375,
          1869.77001953125,
          1876.469970703125,
          1870.8199462890625,
          1888.4200439453125,
          1929.260009765625,
          1929.68994140625,
          1922.449951171875,
          1951,
          1956.3399658203125,
          1935.7099609375,
          1943.6400146484375,
          1921.550048828125,
          1964.4000244140625,
          1959,
          1949.0999755859375,
          1935.3699951171875,
          1909.4000244140625,
          1903.7900390625,
          1846.5400390625,
          1852.43994140625,
          1874.4300537109375,
          1917.510009765625,
          1910.530029296875,
          1867.780029296875,
          1879,
          1871.489990234375,
          1844,
          1841.760009765625,
          1849.27001953125,
          1830,
          1829.469970703125,
          1795.5899658203125,
          1766.2900390625,
          1730.8199462890625,
          1752,
          1760,
          1806.25,
          1884.8699951171875,
          1893.699951171875,
          1865,
          1883.0899658203125,
          1876,
          1895.68994140625,
          1921.6700439453125,
          1919.5799560546875,
          1935.199951171875,
          1925.949951171875,
          1916.8599853515625,
          1916.3900146484375,
          1903.800048828125,
          1911.239990234375,
          1912.93994140625,
          1929.8199462890625,
          1934.7900390625,
          1941.5899658203125,
          1945.9000244140625,
          1956,
          1990.010009765625,
          2024.93994140625,
          2035.800048828125,
          2017,
          2022.9000244140625,
          2026.3199462890625,
          2012,
          1987.5,
          1996,
          1989,
          1997.7900390625,
          2001.300048828125,
          2001.199951171875,
          1950.9000244140625,
          1932.22998046875,
          1909.8900146484375,
          1899.550048828125,
          1897.9200439453125,
          1846.3599853515625,
          1788.6700439453125,
          1793.77001953125,
          1798.9300537109375,
          1834.260009765625,
          1831.0899658203125,
          1800.97998046875,
          1831.739990234375,
          1795.6500244140625,
          1788,
          1802.9100341796875,
          1826,
          1816.8199462890625,
          1829.5799560546875,
          1829.4100341796875,
          1804.9000244140625,
          1770,
          1779.4000244140625,
          1767.8599853515625,
          1798.550048828125,
          1799.739990234375,
          1800.800048828125,
          1807.6300048828125,
          1842,
          1840.6500244140625,
          1850,
          1825.81005859375,
          1833.4200439453125,
          1853.6600341796875,
          1846.1199951171875,
          1825.68994140625,
          1823.989990234375,
          1822.06005859375,
          1832.5699462890625,
          1830.6300048828125,
          1792.699951171875,
          1795.7099609375,
          1773,
          1763.3699951171875,
          1749.1199951171875,
          1737.4599609375,
          1755.5999755859375,
          1728.8900146484375,
          1725,
          1740.5799560546875,
          1747.8299560546875,
          1727,
          1729.949951171875,
          1738.2900390625,
          1745.449951171875,
          1741.8900146484375,
          1776.449951171875,
          1786.239990234375,
          1798.8499755859375,
          1793.97998046875,
          1785.8800048828125,
          1789.780029296875,
          1770.050048828125,
          1788.3399658203125,
          1764.2099609375,
          1778.699951171875,
          1777,
          1782.3800048828125,
          1792,
          1797.449951171875,
          1815.06005859375,
          1810.25,
          1802.5,
          1805.9000244140625,
          1789.8800048828125,
          1780,
          1786.219970703125,
          1775,
          1766.5899658203125,
          1761.6800537109375,
          1753.699951171875,
          1760.6800537109375,
          1762.52001953125,
          1746.8699951171875,
          1746.4300537109375,
          1777.4200439453125,
          1797.030029296875,
          1824.5,
          1824.68994140625,
          1805.550048828125,
          1772.8699951171875,
          1789.0899658203125,
          1763.5,
          1754.4000244140625,
          1766.8900146484375,
          1750.6700439453125,
          1750,
          1764,
          1768.989990234375,
          1769.5,
          1792,
          1798.199951171875,
          1792.989990234375,
          1802.969970703125,
          1793,
          1795.5699462890625,
          1870.4599609375,
          1901.4000244140625,
          1884,
          1853.260009765625,
          1898.010009765625,
          1886.199951171875,
          1903.68994140625,
          1913.8900146484375,
          1911,
          1917.8199462890625,
          1906.93994140625,
          1898,
          1887.1099853515625,
          1878.8599853515625,
          1885.5899658203125,
          1886.6400146484375,
          1894.27001953125,
          1902.5,
          1889.97998046875,
          1894.989990234375,
          1841,
          1858.1099853515625,
          1874.75,
          1872.8699951171875,
          2055.719970703125,
          2048.5,
          2059.800048828125,
          2071.02001953125,
          2056.300048828125,
          2098.530029296875,
          2135.60009765625,
          2185.949951171875,
          2180.25,
          2170.280029296875,
          2159.0400390625,
          2166.070068359375,
          2185.10009765625,
          2176.7900390625,
          2144.550048828125,
          2039.300048828125,
          2034.5999755859375,
          2014.6700439453125,
          1975,
          1889.760009765625,
          1954.510009765625,
          1996.3299560546875,
          1978,
          1960.719970703125,
          1910.8699951171875,
          1862.77001953125,
          1894.27001953125,
          1871.3199462890625,
          1765,
          1786.31005859375,
          1759.449951171875,
          1857.780029296875,
          1841.6600341796875,
          1945,
          1957,
          1919.4000244140625,
          1955,
          1950.260009765625,
          1956.489990234375,
          1939.7900390625,
          1973.6300048828125,
          1993.02001953125,
          1944.9599609375,
          1927.530029296875,
          1926.3299560546875,
          1998.52001953125,
          2035.719970703125,
          2044,
          2053,
          2180,
          2292,
          2333.3701171875,
          2461,
          2400,
          2444.97998046875,
          2428.31005859375,
          2394,
          2424.219970703125,
          2420.429931640625,
          2444.8798828125,
          2373.5,
          2391.889892578125,
          2475,
          2362.43994140625,
          2326.97998046875,
          2351,
          2357.449951171875,
          2376,
          2387.239990234375,
          2419.669921875,
          2419,
          2407.699951171875,
          2391.3701171875,
          2411,
          2433,
          2485,
          2500.010009765625,
          2525.449951171875,
          2469.85009765625,
          2462,
          2413.580078125,
          2436.969970703125,
          2442.3701171875,
          2476.929931640625,
          2473.530029296875,
          2488,
          2507.5400390625,
          2488.64990234375,
          2530,
          2626.429931640625,
          2722.35009765625,
          2671.3798828125,
          2621.47998046875,
          2584,
          2620,
          2655,
          2659.639892578125,
          2697.429931640625,
          2715,
          2783.110107421875,
          2796,
          2756.22998046875,
          2782.570068359375,
          2696.800048828125,
          2769.6298828125,
          2895,
          2955.56005859375,
          3059.8798828125,
          3069.550048828125,
          3083.969970703125,
          3193.8798828125,
          3215,
          3344.2900390625,
          3127.3798828125,
          3098.35009765625,
          3032,
          3024,
          3201.360107421875,
          3240.580078125,
          3150,
          3098.27001953125,
          3031.580078125,
          3098,
          3077.090087890625,
          3039.159912109375,
          3092,
          3246.820068359375,
          3184,
          3167.239990234375,
          3213.590087890625,
          3247.469970703125,
          3240.81005859375,
          3172.510009765625,
          3159.219970703125,
          3174.389892578125,
          3217.52001953125,
          3178.239990234375,
          3194.969970703125,
          3320,
          3315.89990234375,
          3312.6201171875,
          3314.39990234375,
          3380.320068359375,
          3357.39990234375,
          3451.739990234375,
          3453,
          3433.3701171875,
          3495,
          3513.8701171875,
          3552.25,
          3488.409912109375,
          3381.5,
          3250.85009765625,
          3303.179931640625,
          3349.889892578125,
          3217.340087890625,
          3187.389892578125,
          3175.02001953125,
          3187.239990234375,
          3029.429931640625,
          3037.800048828125,
          2962,
          3133.989990234375,
          3127,
          3069.300048828125,
          3101.5400390625,
          3175.0400390625,
          3188.260009765625,
          3212.8798828125,
          3224,
          3195.800048828125,
          3202.530029296875,
          3182,
          3200,
          3233.2900390625,
          3288.989990234375,
          3496.239990234375,
          3492.3798828125,
          3464.8798828125,
          3355.8798828125,
          3399.659912109375,
          3329,
          3266,
          3233.8798828125,
          3198.75,
          3205.330078125,
          3282.97998046875,
          3291.659912109375,
          3264.02001953125,
          3257.25,
          3167,
          3079.7099609375,
          3074.89990234375,
          3244.85009765625,
          3366.800048828125,
          3322,
          3289,
          3114,
          3139.14990234375,
          3175.8798828125,
          3141.719970703125,
          3142.699951171875,
          3189.25,
          3140,
          3125,
          3132.889892578125
         ],
         "low": [
          1460.9300537109375,
          1497.1099853515625,
          1518.31005859375,
          1589.18994140625,
          1616.6099853515625,
          1641.4000244140625,
          1621.6199951171875,
          1636.219970703125,
          1595.1500244140625,
          1626.010009765625,
          1675.8800048828125,
          1677.5,
          1691.5400390625,
          1610.199951171875,
          1612,
          1631.780029296875,
          1661.6099853515625,
          1614.0899658203125,
          1590.719970703125,
          1619.6800537109375,
          1679.0799560546875,
          1622.010009765625,
          1613.5,
          1642.5,
          1633.3399658203125,
          1592.9100341796875,
          1566.760009765625,
          1586,
          1598.8800048828125,
          1637.1099853515625,
          1606.06005859375,
          1604.5,
          1600.56005859375,
          1610.1199951171875,
          1600.9100341796875,
          1621.1700439453125,
          1630.3900146484375,
          1616.1300048828125,
          1615.0999755859375,
          1633.8299560546875,
          1651,
          1674.3599853515625,
          1689.010009765625,
          1668.280029296875,
          1620.510009765625,
          1586.5699462890625,
          1626.010009765625,
          1660.97998046875,
          1679.3499755859375,
          1684.3399658203125,
          1693.1300048828125,
          1712.6300048828125,
          1753.510009765625,
          1767.030029296875,
          1787.280029296875,
          1763.1099853515625,
          1747.5,
          1773.3599853515625,
          1745.6800537109375,
          1753.469970703125,
          1776.6300048828125,
          1798.72998046875,
          1805.1199951171875,
          1809.6199951171875,
          1804.199951171875,
          1825.18994140625,
          1825.1099853515625,
          1831.780029296875,
          1828.81005859375,
          1840.31005859375,
          1841.300048828125,
          1818.9000244140625,
          1848,
          1860.43994140625,
          1859.47998046875,
          1845.6400146484375,
          1889.5799560546875,
          1898.1600341796875,
          1900.31005859375,
          1898,
          1934.0899658203125,
          1906.949951171875,
          1910.550048828125,
          1881.8699951171875,
          1936,
          1910.5,
          1903.3800048828125,
          1910,
          1876,
          1856,
          1818,
          1815.75,
          1823,
          1882.2900390625,
          1867.3299560546875,
          1835.5400390625,
          1846,
          1851,
          1804.199951171875,
          1817.8499755859375,
          1827.3499755859375,
          1807.530029296875,
          1807.8299560546875,
          1772.699951171875,
          1672,
          1680.8900146484375,
          1715.25,
          1726.1300048828125,
          1759.489990234375,
          1818,
          1858,
          1844.3800048828125,
          1862.219970703125,
          1859,
          1875.449951171875,
          1899.7900390625,
          1892.469970703125,
          1905.800048828125,
          1907.5799560546875,
          1901.300048828125,
          1872.4200439453125,
          1887.3199462890625,
          1898.0400390625,
          1884,
          1914.6600341796875,
          1906.6300048828125,
          1930.5,
          1925.300048828125,
          1928.25,
          1943.47998046875,
          1995.4000244140625,
          1995.300048828125,
          2003.8699951171875,
          2001.550048828125,
          2001.219970703125,
          1992.030029296875,
          1951.550048828125,
          1962.22998046875,
          1958.260009765625,
          1973.1300048828125,
          1965.8699951171875,
          1972.719970703125,
          1924.510009765625,
          1890.5400390625,
          1883.47998046875,
          1849.43994140625,
          1844.010009765625,
          1808.02001953125,
          1748.780029296875,
          1753.4000244140625,
          1757,
          1798.1099853515625,
          1802.219970703125,
          1777,
          1780,
          1757.219970703125,
          1761.9599609375,
          1784.550048828125,
          1812.6099853515625,
          1799.8800048828125,
          1815,
          1800.0999755859375,
          1745.22998046875,
          1743.510009765625,
          1746.6800537109375,
          1744.050048828125,
          1777.25,
          1764.5699462890625,
          1768,
          1796.22998046875,
          1815.5799560546875,
          1826.4000244140625,
          1824.6099853515625,
          1805.3399658203125,
          1809.0799560546875,
          1834.280029296875,
          1835.1700439453125,
          1800.199951171875,
          1804.0999755859375,
          1795.5,
          1817.9000244140625,
          1780.9200439453125,
          1767.3199462890625,
          1735.550048828125,
          1723,
          1731.5,
          1713.8199462890625,
          1709.219970703125,
          1728.4100341796875,
          1705,
          1685.06005859375,
          1719.22998046875,
          1723.699951171875,
          1705,
          1714.3599853515625,
          1713.75,
          1729.8599853515625,
          1722,
          1740.6199951171875,
          1770.52001953125,
          1782.02001953125,
          1749.199951171875,
          1765,
          1762,
          1742,
          1760.27001953125,
          1695,
          1742.5,
          1755.81005859375,
          1759.1199951171875,
          1771.47998046875,
          1785.2099609375,
          1801.010009765625,
          1794,
          1788.5799560546875,
          1783.47998046875,
          1774.0400390625,
          1767.1300048828125,
          1771.9100341796875,
          1747.3199462890625,
          1749.56005859375,
          1732.8599853515625,
          1722.7099609375,
          1743.030029296875,
          1734.1199951171875,
          1730.3599853515625,
          1731,
          1753.239990234375,
          1778.3499755859375,
          1797.31005859375,
          1800.7900390625,
          1762.6800537109375,
          1747.22998046875,
          1760.219970703125,
          1740,
          1740.1300048828125,
          1745.6099853515625,
          1735,
          1735.7099609375,
          1745.43994140625,
          1755,
          1757.050048828125,
          1777.3900146484375,
          1782.3599853515625,
          1774.06005859375,
          1782.449951171875,
          1784.510009765625,
          1787.5799560546875,
          1799.5,
          1866.010009765625,
          1840.6199951171875,
          1832.22998046875,
          1864.1500244140625,
          1864.5,
          1860,
          1892.0400390625,
          1886.43994140625,
          1895.800048828125,
          1880,
          1880.800048828125,
          1858.550048828125,
          1855.0899658203125,
          1866.02001953125,
          1857.25,
          1860,
          1883.3399658203125,
          1872.760009765625,
          1847.43994140625,
          1815.3399658203125,
          1830.02001953125,
          1855.02001953125,
          1850.6099853515625,
          2002.27001953125,
          2000.25,
          2015.3699951171875,
          2032,
          2024.800048828125,
          2038.0999755859375,
          2084.9599609375,
          2136,
          2155.2900390625,
          2142,
          2125.889892578125,
          2124.110107421875,
          2161.1201171875,
          2127.449951171875,
          2088,
          1987.969970703125,
          1958.4200439453125,
          1960.449951171875,
          1882.760009765625,
          1811.1300048828125,
          1870,
          1888.0899658203125,
          1922,
          1910,
          1869.5,
          1761.2900390625,
          1818.1700439453125,
          1801.5,
          1675,
          1680.6199951171875,
          1626.030029296875,
          1689.239990234375,
          1745,
          1832.6500244140625,
          1820.72998046875,
          1812,
          1900.3399658203125,
          1885.780029296875,
          1889.2900390625,
          1899.9200439453125,
          1912.3399658203125,
          1944.010009765625,
          1893,
          1890,
          1889.1500244140625,
          1930.02001953125,
          1997.6199951171875,
          2011.1500244140625,
          2017.6600341796875,
          2038,
          2186.2099609375,
          2245,
          2335,
          2316.02001953125,
          2386.050048828125,
          2279.659912109375,
          2351,
          2382.080078125,
          2382,
          2363,
          2306,
          2310,
          2396.010009765625,
          2258.18994140625,
          2256.3798828125,
          2307.1298828125,
          2320,
          2343.110107421875,
          2357,
          2372.110107421875,
          2355,
          2337.800048828125,
          2353.2099609375,
          2356.3701171875,
          2384.010009765625,
          2428.969970703125,
          2467.27001953125,
          2442.5400390625,
          2430.1298828125,
          2414.06005859375,
          2330,
          2378.22998046875,
          2398.199951171875,
          2444.169921875,
          2445.31005859375,
          2461.169921875,
          2450.010009765625,
          2437.1298828125,
          2487.340087890625,
          2525,
          2626.260009765625,
          2536.22998046875,
          2503.35009765625,
          2508,
          2576,
          2631.820068359375,
          2636.110107421875,
          2659,
          2669,
          2718.0400390625,
          2721,
          2712.139892578125,
          2688,
          2630.080078125,
          2675.030029296875,
          2754,
          2871.10009765625,
          2930,
          2990,
          3012.429931640625,
          3074,
          3135.699951171875,
          3068.389892578125,
          2950,
          2973.179931640625,
          2918.22998046875,
          2948.449951171875,
          2994.02001953125,
          3105.719970703125,
          3065.260009765625,
          2970,
          2888,
          3015.77001953125,
          2995.760009765625,
          2996.77001953125,
          3005,
          3151,
          3104,
          3101.2099609375,
          3127.300048828125,
          3165.429931640625,
          3140.669921875,
          3101.52001953125,
          3073,
          3101.419921875,
          3155,
          3120,
          3154.179931640625,
          3205.820068359375,
          3256,
          3238,
          3275.389892578125,
          3257.56005859375,
          3267,
          3344.570068359375,
          3378,
          3386.5,
          3405,
          3467,
          3486.68994140625,
          3303,
          3111.1298828125,
          3130,
          3185,
          3170.550048828125,
          3083.97998046875,
          3096,
          3108.919921875,
          3074.14990234375,
          2972.550048828125,
          2905.5400390625,
          2871,
          3000.199951171875,
          2992.3798828125,
          2965,
          2999,
          3117.169921875,
          3132.5400390625,
          3133.989990234375,
          3172,
          3123,
          3140.85009765625,
          3090,
          3132.389892578125,
          3174.989990234375,
          3197.830078125,
          3339.550048828125,
          3424.219970703125,
          3340,
          3280,
          3160,
          3192.739990234375,
          3192.010009765625,
          3160,
          3121.93994140625,
          3140,
          3153.300048828125,
          3211.300048828125,
          3162.469970703125,
          3164,
          3019,
          2950.1201171875,
          2980.97998046875,
          3139.72998046875,
          3288.8798828125,
          3232,
          3112.110107421875,
          3019.47998046875,
          3050,
          3086.050048828125,
          3085.389892578125,
          3072.68994140625,
          3135.260009765625,
          3105.10009765625,
          3080.919921875,
          3098.050048828125
         ],
         "open": [
          1465.199951171875,
          1520.010009765625,
          1530,
          1602.31005859375,
          1664.68994140625,
          1652.97998046875,
          1641.010009765625,
          1640.550048828125,
          1615,
          1632,
          1684.219970703125,
          1680,
          1712,
          1681,
          1656,
          1641.0699462890625,
          1670.5,
          1643.5899658203125,
          1631.27001953125,
          1623,
          1692.8499755859375,
          1638.8800048828125,
          1623,
          1643.3399658203125,
          1670.75,
          1625,
          1586,
          1600.97998046875,
          1604,
          1647,
          1624.5,
          1627.8599853515625,
          1601,
          1630,
          1619.8499755859375,
          1623.5,
          1641.449951171875,
          1625.97998046875,
          1628.1800537109375,
          1635.25,
          1655.1300048828125,
          1685,
          1702.949951171875,
          1695.969970703125,
          1667.3699951171875,
          1604.010009765625,
          1626.1199951171875,
          1669,
          1683,
          1691.199951171875,
          1703,
          1712.699951171875,
          1753.510009765625,
          1769.93994140625,
          1796.260009765625,
          1810.1700439453125,
          1757.7900390625,
          1793,
          1784.1300048828125,
          1770,
          1786.5799560546875,
          1800.1099853515625,
          1811.02001953125,
          1826.719970703125,
          1820.6500244140625,
          1829,
          1833.22998046875,
          1845.489990234375,
          1841,
          1848.699951171875,
          1848.4000244140625,
          1842,
          1851.3499755859375,
          1872.989990234375,
          1868.7900390625,
          1855.4000244140625,
          1891.199951171875,
          1925,
          1917,
          1929,
          1949,
          1930.0999755859375,
          1933.0899658203125,
          1913.3299560546875,
          1949,
          1917.97998046875,
          1939.989990234375,
          1918.8699951171875,
          1900,
          1898,
          1836.56005859375,
          1839.5,
          1827.949951171875,
          1885.93994140625,
          1893.050048828125,
          1852.68994140625,
          1874.7900390625,
          1851.780029296875,
          1836.5899658203125,
          1835.8900146484375,
          1832.75,
          1823.1199951171875,
          1825.489990234375,
          1790.010009765625,
          1760.010009765625,
          1699.239990234375,
          1749.5999755859375,
          1737.7099609375,
          1763.699951171875,
          1822,
          1883.25,
          1853.97998046875,
          1866.719970703125,
          1864,
          1876.5,
          1901.3499755859375,
          1907.8399658203125,
          1933.3299560546875,
          1916.0999755859375,
          1912.6600341796875,
          1911.8399658203125,
          1892.47998046875,
          1902,
          1909.0999755859375,
          1922.97998046875,
          1919.3800048828125,
          1935.8900146484375,
          1928.5999755859375,
          1934.1199951171875,
          1947.800048828125,
          1996.510009765625,
          2025.6199951171875,
          2008.27001953125,
          2021.4000244140625,
          2010.5799560546875,
          2007.050048828125,
          1980.010009765625,
          1991.2099609375,
          1971.1400146484375,
          1995.989990234375,
          1969.300048828125,
          2001,
          1942,
          1930,
          1891.1199951171875,
          1898.1099853515625,
          1871.719970703125,
          1845.0699462890625,
          1770.219970703125,
          1792.22998046875,
          1773.989990234375,
          1806,
          1828.949951171875,
          1795.989990234375,
          1783,
          1793.010009765625,
          1781.989990234375,
          1792.8900146484375,
          1818.0799560546875,
          1814.5,
          1819.3900146484375,
          1828,
          1793.030029296875,
          1766.9100341796875,
          1775.72998046875,
          1755,
          1783,
          1797.489990234375,
          1770,
          1805,
          1821.949951171875,
          1838.219970703125,
          1841,
          1822.75,
          1812.1400146484375,
          1837.6300048828125,
          1842.010009765625,
          1824.02001953125,
          1807.0799560546875,
          1817.0400390625,
          1821.02001953125,
          1821.7099609375,
          1777,
          1790.6099853515625,
          1747.3599853515625,
          1762.7900390625,
          1748,
          1726.989990234375,
          1746,
          1727.739990234375,
          1713,
          1726.02001953125,
          1731.6300048828125,
          1722.489990234375,
          1719.6099853515625,
          1725.239990234375,
          1742.9200439453125,
          1728.9100341796875,
          1742.1400146484375,
          1773.3299560546875,
          1796.489990234375,
          1787.800048828125,
          1769.6600341796875,
          1788.1500244140625,
          1761.300048828125,
          1771.0899658203125,
          1697.550048828125,
          1748.06005859375,
          1774.81005859375,
          1760.239990234375,
          1775.989990234375,
          1788.010009765625,
          1801.010009765625,
          1809.1600341796875,
          1801,
          1803.760009765625,
          1787.8900146484375,
          1778,
          1774.6600341796875,
          1773.3900146484375,
          1751.4300537109375,
          1760.050048828125,
          1738.300048828125,
          1756.989990234375,
          1749.1400146484375,
          1743,
          1739.02001953125,
          1753.25,
          1779.9200439453125,
          1801,
          1817.780029296875,
          1804.4000244140625,
          1760,
          1774.010009765625,
          1763.5,
          1751.199951171875,
          1750.6600341796875,
          1747.4000244140625,
          1741.6700439453125,
          1750,
          1765,
          1767,
          1778.010009765625,
          1795.02001953125,
          1780.5,
          1799.6199951171875,
          1788.260009765625,
          1793.81005859375,
          1801.010009765625,
          1882.9200439453125,
          1874,
          1842,
          1875,
          1864.5,
          1860,
          1904.5,
          1898.0400390625,
          1909.8900146484375,
          1905.3699951171875,
          1891.31005859375,
          1885.8800048828125,
          1872.25,
          1882.989990234375,
          1885.8900146484375,
          1865,
          1896.0899658203125,
          1885.1099853515625,
          1891.3699951171875,
          1820,
          1840.5,
          1864,
          1858,
          2051.469970703125,
          2010.5999755859375,
          2029.8800048828125,
          2071.02001953125,
          2041.02001953125,
          2041.989990234375,
          2085.010009765625,
          2150.89990234375,
          2163.199951171875,
          2144.989990234375,
          2155.679931640625,
          2125.02001953125,
          2167.800048828125,
          2173.070068359375,
          2142.14990234375,
          2003.1800537109375,
          2026.4200439453125,
          1970.280029296875,
          1934.3800048828125,
          1814.6300048828125,
          1906.489990234375,
          1975.3699951171875,
          1946.5699462890625,
          1933,
          1875,
          1773.8599853515625,
          1870.8800048828125,
          1857.8499755859375,
          1721.97998046875,
          1755,
          1641.510009765625,
          1775.469970703125,
          1750,
          1860,
          1926.31005859375,
          1827.75,
          1951.5,
          1920.68994140625,
          1902,
          1930.8599853515625,
          1922.8299560546875,
          1964.3499755859375,
          1932.969970703125,
          1901.6400146484375,
          1911.1500244140625,
          1936,
          2017.1099853515625,
          2021,
          2044.300048828125,
          2040,
          2200.469970703125,
          2257.679931640625,
          2346,
          2372.330078125,
          2389.949951171875,
          2416.610107421875,
          2369,
          2399.97998046875,
          2417,
          2443.199951171875,
          2372.10009765625,
          2330.010009765625,
          2419.840087890625,
          2336.800048828125,
          2256.3798828125,
          2340,
          2329.43994140625,
          2374.780029296875,
          2372.139892578125,
          2374.699951171875,
          2411.85009765625,
          2366.800048828125,
          2361.010009765625,
          2368.52001953125,
          2404.35009765625,
          2429.830078125,
          2477.8701171875,
          2500,
          2455.010009765625,
          2458,
          2404.989990234375,
          2384.330078125,
          2415.93994140625,
          2448,
          2467,
          2468.010009765625,
          2477.429931640625,
          2444.510009765625,
          2500.199951171875,
          2529.43994140625,
          2645,
          2603.5,
          2601.2099609375,
          2526.60009765625,
          2620,
          2647.5,
          2647.010009765625,
          2678.080078125,
          2684.5,
          2726.02001953125,
          2780,
          2739.550048828125,
          2775.06005859375,
          2690.010009765625,
          2685.070068359375,
          2757.989990234375,
          2912.010009765625,
          2934.969970703125,
          3058.550048828125,
          3022.610107421875,
          3115.989990234375,
          3191.760009765625,
          3251.06005859375,
          3089,
          3080.22998046875,
          2971.06005859375,
          3009,
          3000.199951171875,
          3232.489990234375,
          3125,
          3098.27001953125,
          2930,
          3062,
          3054.27001953125,
          3030.989990234375,
          3014,
          3244,
          3180.510009765625,
          3101.2099609375,
          3143.77001953125,
          3194.360107421875,
          3224.010009765625,
          3170.31005859375,
          3113.199951171875,
          3108,
          3182.989990234375,
          3178.179931640625,
          3173.1201171875,
          3212,
          3303.010009765625,
          3252,
          3295,
          3310.14990234375,
          3294.989990234375,
          3351.110107421875,
          3450.050048828125,
          3423,
          3408.989990234375,
          3489.580078125,
          3547,
          3485,
          3318,
          3144,
          3202.989990234375,
          3307.219970703125,
          3208.68994140625,
          3172.93994140625,
          3136.159912109375,
          3179.989990234375,
          3009.25,
          3031.739990234375,
          2906.5,
          3033.840087890625,
          3120.429931640625,
          2977.7900390625,
          3054.860107421875,
          3148.85009765625,
          3175.389892578125,
          3141.139892578125,
          3208,
          3153.6298828125,
          3145.840087890625,
          3165,
          3135,
          3224.989990234375,
          3210,
          3349.93994140625,
          3467.989990234375,
          3447,
          3292.010009765625,
          3363.22998046875,
          3299.610107421875,
          3222.280029296875,
          3212.5,
          3189.8701171875,
          3191,
          3198.739990234375,
          3224.93994140625,
          3249.300048828125,
          3201.27001953125,
          3157.75,
          3061.739990234375,
          3018.530029296875,
          3159.989990234375,
          3319.969970703125,
          3304.639892578125,
          3231.030029296875,
          3095.02001953125,
          3061.780029296875,
          3159.949951171875,
          3122,
          3093.199951171875,
          3183.5400390625,
          3134,
          3105.31005859375,
          3117.02001953125
         ],
         "type": "candlestick",
         "x": [
          "2019-01-02T00:00:00",
          "2019-01-03T00:00:00",
          "2019-01-04T00:00:00",
          "2019-01-07T00:00:00",
          "2019-01-08T00:00:00",
          "2019-01-09T00:00:00",
          "2019-01-10T00:00:00",
          "2019-01-11T00:00:00",
          "2019-01-14T00:00:00",
          "2019-01-15T00:00:00",
          "2019-01-16T00:00:00",
          "2019-01-17T00:00:00",
          "2019-01-18T00:00:00",
          "2019-01-22T00:00:00",
          "2019-01-23T00:00:00",
          "2019-01-24T00:00:00",
          "2019-01-25T00:00:00",
          "2019-01-28T00:00:00",
          "2019-01-29T00:00:00",
          "2019-01-30T00:00:00",
          "2019-01-31T00:00:00",
          "2019-02-01T00:00:00",
          "2019-02-04T00:00:00",
          "2019-02-05T00:00:00",
          "2019-02-06T00:00:00",
          "2019-02-07T00:00:00",
          "2019-02-08T00:00:00",
          "2019-02-11T00:00:00",
          "2019-02-12T00:00:00",
          "2019-02-13T00:00:00",
          "2019-02-14T00:00:00",
          "2019-02-15T00:00:00",
          "2019-02-19T00:00:00",
          "2019-02-20T00:00:00",
          "2019-02-21T00:00:00",
          "2019-02-22T00:00:00",
          "2019-02-25T00:00:00",
          "2019-02-26T00:00:00",
          "2019-02-27T00:00:00",
          "2019-02-28T00:00:00",
          "2019-03-01T00:00:00",
          "2019-03-04T00:00:00",
          "2019-03-05T00:00:00",
          "2019-03-06T00:00:00",
          "2019-03-07T00:00:00",
          "2019-03-08T00:00:00",
          "2019-03-11T00:00:00",
          "2019-03-12T00:00:00",
          "2019-03-13T00:00:00",
          "2019-03-14T00:00:00",
          "2019-03-15T00:00:00",
          "2019-03-18T00:00:00",
          "2019-03-19T00:00:00",
          "2019-03-20T00:00:00",
          "2019-03-21T00:00:00",
          "2019-03-22T00:00:00",
          "2019-03-25T00:00:00",
          "2019-03-26T00:00:00",
          "2019-03-27T00:00:00",
          "2019-03-28T00:00:00",
          "2019-03-29T00:00:00",
          "2019-04-01T00:00:00",
          "2019-04-02T00:00:00",
          "2019-04-03T00:00:00",
          "2019-04-04T00:00:00",
          "2019-04-05T00:00:00",
          "2019-04-08T00:00:00",
          "2019-04-09T00:00:00",
          "2019-04-10T00:00:00",
          "2019-04-11T00:00:00",
          "2019-04-12T00:00:00",
          "2019-04-15T00:00:00",
          "2019-04-16T00:00:00",
          "2019-04-17T00:00:00",
          "2019-04-18T00:00:00",
          "2019-04-22T00:00:00",
          "2019-04-23T00:00:00",
          "2019-04-24T00:00:00",
          "2019-04-25T00:00:00",
          "2019-04-26T00:00:00",
          "2019-04-29T00:00:00",
          "2019-04-30T00:00:00",
          "2019-05-01T00:00:00",
          "2019-05-02T00:00:00",
          "2019-05-03T00:00:00",
          "2019-05-06T00:00:00",
          "2019-05-07T00:00:00",
          "2019-05-08T00:00:00",
          "2019-05-09T00:00:00",
          "2019-05-10T00:00:00",
          "2019-05-13T00:00:00",
          "2019-05-14T00:00:00",
          "2019-05-15T00:00:00",
          "2019-05-16T00:00:00",
          "2019-05-17T00:00:00",
          "2019-05-20T00:00:00",
          "2019-05-21T00:00:00",
          "2019-05-22T00:00:00",
          "2019-05-23T00:00:00",
          "2019-05-24T00:00:00",
          "2019-05-28T00:00:00",
          "2019-05-29T00:00:00",
          "2019-05-30T00:00:00",
          "2019-05-31T00:00:00",
          "2019-06-03T00:00:00",
          "2019-06-04T00:00:00",
          "2019-06-05T00:00:00",
          "2019-06-06T00:00:00",
          "2019-06-07T00:00:00",
          "2019-06-10T00:00:00",
          "2019-06-11T00:00:00",
          "2019-06-12T00:00:00",
          "2019-06-13T00:00:00",
          "2019-06-14T00:00:00",
          "2019-06-17T00:00:00",
          "2019-06-18T00:00:00",
          "2019-06-19T00:00:00",
          "2019-06-20T00:00:00",
          "2019-06-21T00:00:00",
          "2019-06-24T00:00:00",
          "2019-06-25T00:00:00",
          "2019-06-26T00:00:00",
          "2019-06-27T00:00:00",
          "2019-06-28T00:00:00",
          "2019-07-01T00:00:00",
          "2019-07-02T00:00:00",
          "2019-07-03T00:00:00",
          "2019-07-05T00:00:00",
          "2019-07-08T00:00:00",
          "2019-07-09T00:00:00",
          "2019-07-10T00:00:00",
          "2019-07-11T00:00:00",
          "2019-07-12T00:00:00",
          "2019-07-15T00:00:00",
          "2019-07-16T00:00:00",
          "2019-07-17T00:00:00",
          "2019-07-18T00:00:00",
          "2019-07-19T00:00:00",
          "2019-07-22T00:00:00",
          "2019-07-23T00:00:00",
          "2019-07-24T00:00:00",
          "2019-07-25T00:00:00",
          "2019-07-26T00:00:00",
          "2019-07-29T00:00:00",
          "2019-07-30T00:00:00",
          "2019-07-31T00:00:00",
          "2019-08-01T00:00:00",
          "2019-08-02T00:00:00",
          "2019-08-05T00:00:00",
          "2019-08-06T00:00:00",
          "2019-08-07T00:00:00",
          "2019-08-08T00:00:00",
          "2019-08-09T00:00:00",
          "2019-08-12T00:00:00",
          "2019-08-13T00:00:00",
          "2019-08-14T00:00:00",
          "2019-08-15T00:00:00",
          "2019-08-16T00:00:00",
          "2019-08-19T00:00:00",
          "2019-08-20T00:00:00",
          "2019-08-21T00:00:00",
          "2019-08-22T00:00:00",
          "2019-08-23T00:00:00",
          "2019-08-26T00:00:00",
          "2019-08-27T00:00:00",
          "2019-08-28T00:00:00",
          "2019-08-29T00:00:00",
          "2019-08-30T00:00:00",
          "2019-09-03T00:00:00",
          "2019-09-04T00:00:00",
          "2019-09-05T00:00:00",
          "2019-09-06T00:00:00",
          "2019-09-09T00:00:00",
          "2019-09-10T00:00:00",
          "2019-09-11T00:00:00",
          "2019-09-12T00:00:00",
          "2019-09-13T00:00:00",
          "2019-09-16T00:00:00",
          "2019-09-17T00:00:00",
          "2019-09-18T00:00:00",
          "2019-09-19T00:00:00",
          "2019-09-20T00:00:00",
          "2019-09-23T00:00:00",
          "2019-09-24T00:00:00",
          "2019-09-25T00:00:00",
          "2019-09-26T00:00:00",
          "2019-09-27T00:00:00",
          "2019-09-30T00:00:00",
          "2019-10-01T00:00:00",
          "2019-10-02T00:00:00",
          "2019-10-03T00:00:00",
          "2019-10-04T00:00:00",
          "2019-10-07T00:00:00",
          "2019-10-08T00:00:00",
          "2019-10-09T00:00:00",
          "2019-10-10T00:00:00",
          "2019-10-11T00:00:00",
          "2019-10-14T00:00:00",
          "2019-10-15T00:00:00",
          "2019-10-16T00:00:00",
          "2019-10-17T00:00:00",
          "2019-10-18T00:00:00",
          "2019-10-21T00:00:00",
          "2019-10-22T00:00:00",
          "2019-10-23T00:00:00",
          "2019-10-24T00:00:00",
          "2019-10-25T00:00:00",
          "2019-10-28T00:00:00",
          "2019-10-29T00:00:00",
          "2019-10-30T00:00:00",
          "2019-10-31T00:00:00",
          "2019-11-01T00:00:00",
          "2019-11-04T00:00:00",
          "2019-11-05T00:00:00",
          "2019-11-06T00:00:00",
          "2019-11-07T00:00:00",
          "2019-11-08T00:00:00",
          "2019-11-11T00:00:00",
          "2019-11-12T00:00:00",
          "2019-11-13T00:00:00",
          "2019-11-14T00:00:00",
          "2019-11-15T00:00:00",
          "2019-11-18T00:00:00",
          "2019-11-19T00:00:00",
          "2019-11-20T00:00:00",
          "2019-11-21T00:00:00",
          "2019-11-22T00:00:00",
          "2019-11-25T00:00:00",
          "2019-11-26T00:00:00",
          "2019-11-27T00:00:00",
          "2019-11-29T00:00:00",
          "2019-12-02T00:00:00",
          "2019-12-03T00:00:00",
          "2019-12-04T00:00:00",
          "2019-12-05T00:00:00",
          "2019-12-06T00:00:00",
          "2019-12-09T00:00:00",
          "2019-12-10T00:00:00",
          "2019-12-11T00:00:00",
          "2019-12-12T00:00:00",
          "2019-12-13T00:00:00",
          "2019-12-16T00:00:00",
          "2019-12-17T00:00:00",
          "2019-12-18T00:00:00",
          "2019-12-19T00:00:00",
          "2019-12-20T00:00:00",
          "2019-12-23T00:00:00",
          "2019-12-24T00:00:00",
          "2019-12-26T00:00:00",
          "2019-12-27T00:00:00",
          "2019-12-30T00:00:00",
          "2019-12-31T00:00:00",
          "2020-01-02T00:00:00",
          "2020-01-03T00:00:00",
          "2020-01-06T00:00:00",
          "2020-01-07T00:00:00",
          "2020-01-08T00:00:00",
          "2020-01-09T00:00:00",
          "2020-01-10T00:00:00",
          "2020-01-13T00:00:00",
          "2020-01-14T00:00:00",
          "2020-01-15T00:00:00",
          "2020-01-16T00:00:00",
          "2020-01-17T00:00:00",
          "2020-01-21T00:00:00",
          "2020-01-22T00:00:00",
          "2020-01-23T00:00:00",
          "2020-01-24T00:00:00",
          "2020-01-27T00:00:00",
          "2020-01-28T00:00:00",
          "2020-01-29T00:00:00",
          "2020-01-30T00:00:00",
          "2020-01-31T00:00:00",
          "2020-02-03T00:00:00",
          "2020-02-04T00:00:00",
          "2020-02-05T00:00:00",
          "2020-02-06T00:00:00",
          "2020-02-07T00:00:00",
          "2020-02-10T00:00:00",
          "2020-02-11T00:00:00",
          "2020-02-12T00:00:00",
          "2020-02-13T00:00:00",
          "2020-02-14T00:00:00",
          "2020-02-18T00:00:00",
          "2020-02-19T00:00:00",
          "2020-02-20T00:00:00",
          "2020-02-21T00:00:00",
          "2020-02-24T00:00:00",
          "2020-02-25T00:00:00",
          "2020-02-26T00:00:00",
          "2020-02-27T00:00:00",
          "2020-02-28T00:00:00",
          "2020-03-02T00:00:00",
          "2020-03-03T00:00:00",
          "2020-03-04T00:00:00",
          "2020-03-05T00:00:00",
          "2020-03-06T00:00:00",
          "2020-03-09T00:00:00",
          "2020-03-10T00:00:00",
          "2020-03-11T00:00:00",
          "2020-03-12T00:00:00",
          "2020-03-13T00:00:00",
          "2020-03-16T00:00:00",
          "2020-03-17T00:00:00",
          "2020-03-18T00:00:00",
          "2020-03-19T00:00:00",
          "2020-03-20T00:00:00",
          "2020-03-23T00:00:00",
          "2020-03-24T00:00:00",
          "2020-03-25T00:00:00",
          "2020-03-26T00:00:00",
          "2020-03-27T00:00:00",
          "2020-03-30T00:00:00",
          "2020-03-31T00:00:00",
          "2020-04-01T00:00:00",
          "2020-04-02T00:00:00",
          "2020-04-03T00:00:00",
          "2020-04-06T00:00:00",
          "2020-04-07T00:00:00",
          "2020-04-08T00:00:00",
          "2020-04-09T00:00:00",
          "2020-04-13T00:00:00",
          "2020-04-14T00:00:00",
          "2020-04-15T00:00:00",
          "2020-04-16T00:00:00",
          "2020-04-17T00:00:00",
          "2020-04-20T00:00:00",
          "2020-04-21T00:00:00",
          "2020-04-22T00:00:00",
          "2020-04-23T00:00:00",
          "2020-04-24T00:00:00",
          "2020-04-27T00:00:00",
          "2020-04-28T00:00:00",
          "2020-04-29T00:00:00",
          "2020-04-30T00:00:00",
          "2020-05-01T00:00:00",
          "2020-05-04T00:00:00",
          "2020-05-05T00:00:00",
          "2020-05-06T00:00:00",
          "2020-05-07T00:00:00",
          "2020-05-08T00:00:00",
          "2020-05-11T00:00:00",
          "2020-05-12T00:00:00",
          "2020-05-13T00:00:00",
          "2020-05-14T00:00:00",
          "2020-05-15T00:00:00",
          "2020-05-18T00:00:00",
          "2020-05-19T00:00:00",
          "2020-05-20T00:00:00",
          "2020-05-21T00:00:00",
          "2020-05-22T00:00:00",
          "2020-05-26T00:00:00",
          "2020-05-27T00:00:00",
          "2020-05-28T00:00:00",
          "2020-05-29T00:00:00",
          "2020-06-01T00:00:00",
          "2020-06-02T00:00:00",
          "2020-06-03T00:00:00",
          "2020-06-04T00:00:00",
          "2020-06-05T00:00:00",
          "2020-06-08T00:00:00",
          "2020-06-09T00:00:00",
          "2020-06-10T00:00:00",
          "2020-06-11T00:00:00",
          "2020-06-12T00:00:00",
          "2020-06-15T00:00:00",
          "2020-06-16T00:00:00",
          "2020-06-17T00:00:00",
          "2020-06-18T00:00:00",
          "2020-06-19T00:00:00",
          "2020-06-22T00:00:00",
          "2020-06-23T00:00:00",
          "2020-06-24T00:00:00",
          "2020-06-25T00:00:00",
          "2020-06-26T00:00:00",
          "2020-06-29T00:00:00",
          "2020-06-30T00:00:00",
          "2020-07-01T00:00:00",
          "2020-07-02T00:00:00",
          "2020-07-06T00:00:00",
          "2020-07-07T00:00:00",
          "2020-07-08T00:00:00",
          "2020-07-09T00:00:00",
          "2020-07-10T00:00:00",
          "2020-07-13T00:00:00",
          "2020-07-14T00:00:00",
          "2020-07-15T00:00:00",
          "2020-07-16T00:00:00",
          "2020-07-17T00:00:00",
          "2020-07-20T00:00:00",
          "2020-07-21T00:00:00",
          "2020-07-22T00:00:00",
          "2020-07-23T00:00:00",
          "2020-07-24T00:00:00",
          "2020-07-27T00:00:00",
          "2020-07-28T00:00:00",
          "2020-07-29T00:00:00",
          "2020-07-30T00:00:00",
          "2020-07-31T00:00:00",
          "2020-08-03T00:00:00",
          "2020-08-04T00:00:00",
          "2020-08-05T00:00:00",
          "2020-08-06T00:00:00",
          "2020-08-07T00:00:00",
          "2020-08-10T00:00:00",
          "2020-08-11T00:00:00",
          "2020-08-12T00:00:00",
          "2020-08-13T00:00:00",
          "2020-08-14T00:00:00",
          "2020-08-17T00:00:00",
          "2020-08-18T00:00:00",
          "2020-08-19T00:00:00",
          "2020-08-20T00:00:00",
          "2020-08-21T00:00:00",
          "2020-08-24T00:00:00",
          "2020-08-25T00:00:00",
          "2020-08-26T00:00:00",
          "2020-08-27T00:00:00",
          "2020-08-28T00:00:00",
          "2020-08-31T00:00:00",
          "2020-09-01T00:00:00",
          "2020-09-02T00:00:00",
          "2020-09-03T00:00:00",
          "2020-09-04T00:00:00",
          "2020-09-08T00:00:00",
          "2020-09-09T00:00:00",
          "2020-09-10T00:00:00",
          "2020-09-11T00:00:00",
          "2020-09-14T00:00:00",
          "2020-09-15T00:00:00",
          "2020-09-16T00:00:00",
          "2020-09-17T00:00:00",
          "2020-09-18T00:00:00",
          "2020-09-21T00:00:00",
          "2020-09-22T00:00:00",
          "2020-09-23T00:00:00",
          "2020-09-24T00:00:00",
          "2020-09-25T00:00:00",
          "2020-09-28T00:00:00",
          "2020-09-29T00:00:00",
          "2020-09-30T00:00:00",
          "2020-10-01T00:00:00",
          "2020-10-02T00:00:00",
          "2020-10-05T00:00:00",
          "2020-10-06T00:00:00",
          "2020-10-07T00:00:00",
          "2020-10-08T00:00:00",
          "2020-10-09T00:00:00",
          "2020-10-12T00:00:00",
          "2020-10-13T00:00:00",
          "2020-10-14T00:00:00",
          "2020-10-15T00:00:00",
          "2020-10-16T00:00:00",
          "2020-10-19T00:00:00",
          "2020-10-20T00:00:00",
          "2020-10-21T00:00:00",
          "2020-10-22T00:00:00",
          "2020-10-23T00:00:00",
          "2020-10-26T00:00:00",
          "2020-10-27T00:00:00",
          "2020-10-28T00:00:00",
          "2020-10-29T00:00:00",
          "2020-10-30T00:00:00",
          "2020-11-02T00:00:00",
          "2020-11-03T00:00:00",
          "2020-11-04T00:00:00",
          "2020-11-05T00:00:00",
          "2020-11-06T00:00:00",
          "2020-11-09T00:00:00",
          "2020-11-10T00:00:00",
          "2020-11-11T00:00:00",
          "2020-11-12T00:00:00",
          "2020-11-13T00:00:00",
          "2020-11-16T00:00:00",
          "2020-11-17T00:00:00",
          "2020-11-18T00:00:00",
          "2020-11-19T00:00:00",
          "2020-11-20T00:00:00"
         ]
        }
       ],
       "layout": {
        "template": {
         "data": {
          "bar": [
           {
            "error_x": {
             "color": "#f2f5fa"
            },
            "error_y": {
             "color": "#f2f5fa"
            },
            "marker": {
             "line": {
              "color": "rgb(17,17,17)",
              "width": 0.5
             }
            },
            "type": "bar"
           }
          ],
          "barpolar": [
           {
            "marker": {
             "line": {
              "color": "rgb(17,17,17)",
              "width": 0.5
             }
            },
            "type": "barpolar"
           }
          ],
          "carpet": [
           {
            "aaxis": {
             "endlinecolor": "#A2B1C6",
             "gridcolor": "#506784",
             "linecolor": "#506784",
             "minorgridcolor": "#506784",
             "startlinecolor": "#A2B1C6"
            },
            "baxis": {
             "endlinecolor": "#A2B1C6",
             "gridcolor": "#506784",
             "linecolor": "#506784",
             "minorgridcolor": "#506784",
             "startlinecolor": "#A2B1C6"
            },
            "type": "carpet"
           }
          ],
          "choropleth": [
           {
            "colorbar": {
             "outlinewidth": 0,
             "ticks": ""
            },
            "type": "choropleth"
           }
          ],
          "contour": [
           {
            "colorbar": {
             "outlinewidth": 0,
             "ticks": ""
            },
            "colorscale": [
             [
              0,
              "#0d0887"
             ],
             [
              0.1111111111111111,
              "#46039f"
             ],
             [
              0.2222222222222222,
              "#7201a8"
             ],
             [
              0.3333333333333333,
              "#9c179e"
             ],
             [
              0.4444444444444444,
              "#bd3786"
             ],
             [
              0.5555555555555556,
              "#d8576b"
             ],
             [
              0.6666666666666666,
              "#ed7953"
             ],
             [
              0.7777777777777778,
              "#fb9f3a"
             ],
             [
              0.8888888888888888,
              "#fdca26"
             ],
             [
              1,
              "#f0f921"
             ]
            ],
            "type": "contour"
           }
          ],
          "contourcarpet": [
           {
            "colorbar": {
             "outlinewidth": 0,
             "ticks": ""
            },
            "type": "contourcarpet"
           }
          ],
          "heatmap": [
           {
            "colorbar": {
             "outlinewidth": 0,
             "ticks": ""
            },
            "colorscale": [
             [
              0,
              "#0d0887"
             ],
             [
              0.1111111111111111,
              "#46039f"
             ],
             [
              0.2222222222222222,
              "#7201a8"
             ],
             [
              0.3333333333333333,
              "#9c179e"
             ],
             [
              0.4444444444444444,
              "#bd3786"
             ],
             [
              0.5555555555555556,
              "#d8576b"
             ],
             [
              0.6666666666666666,
              "#ed7953"
             ],
             [
              0.7777777777777778,
              "#fb9f3a"
             ],
             [
              0.8888888888888888,
              "#fdca26"
             ],
             [
              1,
              "#f0f921"
             ]
            ],
            "type": "heatmap"
           }
          ],
          "heatmapgl": [
           {
            "colorbar": {
             "outlinewidth": 0,
             "ticks": ""
            },
            "colorscale": [
             [
              0,
              "#0d0887"
             ],
             [
              0.1111111111111111,
              "#46039f"
             ],
             [
              0.2222222222222222,
              "#7201a8"
             ],
             [
              0.3333333333333333,
              "#9c179e"
             ],
             [
              0.4444444444444444,
              "#bd3786"
             ],
             [
              0.5555555555555556,
              "#d8576b"
             ],
             [
              0.6666666666666666,
              "#ed7953"
             ],
             [
              0.7777777777777778,
              "#fb9f3a"
             ],
             [
              0.8888888888888888,
              "#fdca26"
             ],
             [
              1,
              "#f0f921"
             ]
            ],
            "type": "heatmapgl"
           }
          ],
          "histogram": [
           {
            "marker": {
             "colorbar": {
              "outlinewidth": 0,
              "ticks": ""
             }
            },
            "type": "histogram"
           }
          ],
          "histogram2d": [
           {
            "colorbar": {
             "outlinewidth": 0,
             "ticks": ""
            },
            "colorscale": [
             [
              0,
              "#0d0887"
             ],
             [
              0.1111111111111111,
              "#46039f"
             ],
             [
              0.2222222222222222,
              "#7201a8"
             ],
             [
              0.3333333333333333,
              "#9c179e"
             ],
             [
              0.4444444444444444,
              "#bd3786"
             ],
             [
              0.5555555555555556,
              "#d8576b"
             ],
             [
              0.6666666666666666,
              "#ed7953"
             ],
             [
              0.7777777777777778,
              "#fb9f3a"
             ],
             [
              0.8888888888888888,
              "#fdca26"
             ],
             [
              1,
              "#f0f921"
             ]
            ],
            "type": "histogram2d"
           }
          ],
          "histogram2dcontour": [
           {
            "colorbar": {
             "outlinewidth": 0,
             "ticks": ""
            },
            "colorscale": [
             [
              0,
              "#0d0887"
             ],
             [
              0.1111111111111111,
              "#46039f"
             ],
             [
              0.2222222222222222,
              "#7201a8"
             ],
             [
              0.3333333333333333,
              "#9c179e"
             ],
             [
              0.4444444444444444,
              "#bd3786"
             ],
             [
              0.5555555555555556,
              "#d8576b"
             ],
             [
              0.6666666666666666,
              "#ed7953"
             ],
             [
              0.7777777777777778,
              "#fb9f3a"
             ],
             [
              0.8888888888888888,
              "#fdca26"
             ],
             [
              1,
              "#f0f921"
             ]
            ],
            "type": "histogram2dcontour"
           }
          ],
          "mesh3d": [
           {
            "colorbar": {
             "outlinewidth": 0,
             "ticks": ""
            },
            "type": "mesh3d"
           }
          ],
          "parcoords": [
           {
            "line": {
             "colorbar": {
              "outlinewidth": 0,
              "ticks": ""
             }
            },
            "type": "parcoords"
           }
          ],
          "pie": [
           {
            "automargin": true,
            "type": "pie"
           }
          ],
          "scatter": [
           {
            "marker": {
             "line": {
              "color": "#283442"
             }
            },
            "type": "scatter"
           }
          ],
          "scatter3d": [
           {
            "line": {
             "colorbar": {
              "outlinewidth": 0,
              "ticks": ""
             }
            },
            "marker": {
             "colorbar": {
              "outlinewidth": 0,
              "ticks": ""
             }
            },
            "type": "scatter3d"
           }
          ],
          "scattercarpet": [
           {
            "marker": {
             "colorbar": {
              "outlinewidth": 0,
              "ticks": ""
             }
            },
            "type": "scattercarpet"
           }
          ],
          "scattergeo": [
           {
            "marker": {
             "colorbar": {
              "outlinewidth": 0,
              "ticks": ""
             }
            },
            "type": "scattergeo"
           }
          ],
          "scattergl": [
           {
            "marker": {
             "line": {
              "color": "#283442"
             }
            },
            "type": "scattergl"
           }
          ],
          "scattermapbox": [
           {
            "marker": {
             "colorbar": {
              "outlinewidth": 0,
              "ticks": ""
             }
            },
            "type": "scattermapbox"
           }
          ],
          "scatterpolar": [
           {
            "marker": {
             "colorbar": {
              "outlinewidth": 0,
              "ticks": ""
             }
            },
            "type": "scatterpolar"
           }
          ],
          "scatterpolargl": [
           {
            "marker": {
             "colorbar": {
              "outlinewidth": 0,
              "ticks": ""
             }
            },
            "type": "scatterpolargl"
           }
          ],
          "scatterternary": [
           {
            "marker": {
             "colorbar": {
              "outlinewidth": 0,
              "ticks": ""
             }
            },
            "type": "scatterternary"
           }
          ],
          "surface": [
           {
            "colorbar": {
             "outlinewidth": 0,
             "ticks": ""
            },
            "colorscale": [
             [
              0,
              "#0d0887"
             ],
             [
              0.1111111111111111,
              "#46039f"
             ],
             [
              0.2222222222222222,
              "#7201a8"
             ],
             [
              0.3333333333333333,
              "#9c179e"
             ],
             [
              0.4444444444444444,
              "#bd3786"
             ],
             [
              0.5555555555555556,
              "#d8576b"
             ],
             [
              0.6666666666666666,
              "#ed7953"
             ],
             [
              0.7777777777777778,
              "#fb9f3a"
             ],
             [
              0.8888888888888888,
              "#fdca26"
             ],
             [
              1,
              "#f0f921"
             ]
            ],
            "type": "surface"
           }
          ],
          "table": [
           {
            "cells": {
             "fill": {
              "color": "#506784"
             },
             "line": {
              "color": "rgb(17,17,17)"
             }
            },
            "header": {
             "fill": {
              "color": "#2a3f5f"
             },
             "line": {
              "color": "rgb(17,17,17)"
             }
            },
            "type": "table"
           }
          ]
         },
         "layout": {
          "annotationdefaults": {
           "arrowcolor": "#f2f5fa",
           "arrowhead": 0,
           "arrowwidth": 1
          },
          "coloraxis": {
           "colorbar": {
            "outlinewidth": 0,
            "ticks": ""
           }
          },
          "colorscale": {
           "diverging": [
            [
             0,
             "#8e0152"
            ],
            [
             0.1,
             "#c51b7d"
            ],
            [
             0.2,
             "#de77ae"
            ],
            [
             0.3,
             "#f1b6da"
            ],
            [
             0.4,
             "#fde0ef"
            ],
            [
             0.5,
             "#f7f7f7"
            ],
            [
             0.6,
             "#e6f5d0"
            ],
            [
             0.7,
             "#b8e186"
            ],
            [
             0.8,
             "#7fbc41"
            ],
            [
             0.9,
             "#4d9221"
            ],
            [
             1,
             "#276419"
            ]
           ],
           "sequential": [
            [
             0,
             "#0d0887"
            ],
            [
             0.1111111111111111,
             "#46039f"
            ],
            [
             0.2222222222222222,
             "#7201a8"
            ],
            [
             0.3333333333333333,
             "#9c179e"
            ],
            [
             0.4444444444444444,
             "#bd3786"
            ],
            [
             0.5555555555555556,
             "#d8576b"
            ],
            [
             0.6666666666666666,
             "#ed7953"
            ],
            [
             0.7777777777777778,
             "#fb9f3a"
            ],
            [
             0.8888888888888888,
             "#fdca26"
            ],
            [
             1,
             "#f0f921"
            ]
           ],
           "sequentialminus": [
            [
             0,
             "#0d0887"
            ],
            [
             0.1111111111111111,
             "#46039f"
            ],
            [
             0.2222222222222222,
             "#7201a8"
            ],
            [
             0.3333333333333333,
             "#9c179e"
            ],
            [
             0.4444444444444444,
             "#bd3786"
            ],
            [
             0.5555555555555556,
             "#d8576b"
            ],
            [
             0.6666666666666666,
             "#ed7953"
            ],
            [
             0.7777777777777778,
             "#fb9f3a"
            ],
            [
             0.8888888888888888,
             "#fdca26"
            ],
            [
             1,
             "#f0f921"
            ]
           ]
          },
          "colorway": [
           "#636efa",
           "#EF553B",
           "#00cc96",
           "#ab63fa",
           "#FFA15A",
           "#19d3f3",
           "#FF6692",
           "#B6E880",
           "#FF97FF",
           "#FECB52"
          ],
          "font": {
           "color": "#f2f5fa"
          },
          "geo": {
           "bgcolor": "rgb(17,17,17)",
           "lakecolor": "rgb(17,17,17)",
           "landcolor": "rgb(17,17,17)",
           "showlakes": true,
           "showland": true,
           "subunitcolor": "#506784"
          },
          "hoverlabel": {
           "align": "left"
          },
          "hovermode": "closest",
          "mapbox": {
           "style": "dark"
          },
          "paper_bgcolor": "rgb(17,17,17)",
          "plot_bgcolor": "rgb(17,17,17)",
          "polar": {
           "angularaxis": {
            "gridcolor": "#506784",
            "linecolor": "#506784",
            "ticks": ""
           },
           "bgcolor": "rgb(17,17,17)",
           "radialaxis": {
            "gridcolor": "#506784",
            "linecolor": "#506784",
            "ticks": ""
           }
          },
          "scene": {
           "xaxis": {
            "backgroundcolor": "rgb(17,17,17)",
            "gridcolor": "#506784",
            "gridwidth": 2,
            "linecolor": "#506784",
            "showbackground": true,
            "ticks": "",
            "zerolinecolor": "#C8D4E3"
           },
           "yaxis": {
            "backgroundcolor": "rgb(17,17,17)",
            "gridcolor": "#506784",
            "gridwidth": 2,
            "linecolor": "#506784",
            "showbackground": true,
            "ticks": "",
            "zerolinecolor": "#C8D4E3"
           },
           "zaxis": {
            "backgroundcolor": "rgb(17,17,17)",
            "gridcolor": "#506784",
            "gridwidth": 2,
            "linecolor": "#506784",
            "showbackground": true,
            "ticks": "",
            "zerolinecolor": "#C8D4E3"
           }
          },
          "shapedefaults": {
           "line": {
            "color": "#f2f5fa"
           }
          },
          "sliderdefaults": {
           "bgcolor": "#C8D4E3",
           "bordercolor": "rgb(17,17,17)",
           "borderwidth": 1,
           "tickwidth": 0
          },
          "ternary": {
           "aaxis": {
            "gridcolor": "#506784",
            "linecolor": "#506784",
            "ticks": ""
           },
           "baxis": {
            "gridcolor": "#506784",
            "linecolor": "#506784",
            "ticks": ""
           },
           "bgcolor": "rgb(17,17,17)",
           "caxis": {
            "gridcolor": "#506784",
            "linecolor": "#506784",
            "ticks": ""
           }
          },
          "title": {
           "x": 0.05
          },
          "updatemenudefaults": {
           "bgcolor": "#506784",
           "borderwidth": 0
          },
          "xaxis": {
           "automargin": true,
           "gridcolor": "#283442",
           "linecolor": "#506784",
           "ticks": "",
           "title": {
            "standoff": 15
           },
           "zerolinecolor": "#283442",
           "zerolinewidth": 2
          },
          "yaxis": {
           "automargin": true,
           "gridcolor": "#283442",
           "linecolor": "#506784",
           "ticks": "",
           "title": {
            "standoff": 15
           },
           "zerolinecolor": "#283442",
           "zerolinewidth": 2
          }
         }
        },
        "title": {
         "text": "Amazon Stocks"
        },
        "yaxis": {
         "title": {
          "text": "Value in $"
         }
        }
       }
      },
      "text/html": [
       "<div>                            <div id=\"f20008a3-6e09-4bf6-895f-f3bd94e73a98\" class=\"plotly-graph-div\" style=\"height:525px; width:100%;\"></div>            <script type=\"text/javascript\">                require([\"plotly\"], function(Plotly) {                    window.PLOTLYENV=window.PLOTLYENV || {};                                    if (document.getElementById(\"f20008a3-6e09-4bf6-895f-f3bd94e73a98\")) {                    Plotly.newPlot(                        \"f20008a3-6e09-4bf6-895f-f3bd94e73a98\",                        [{\"close\": [1539.1300048828125, 1500.280029296875, 1575.3900146484375, 1629.510009765625, 1656.5799560546875, 1659.4200439453125, 1656.219970703125, 1640.56005859375, 1617.2099609375, 1674.56005859375, 1683.780029296875, 1693.219970703125, 1696.199951171875, 1632.1700439453125, 1640.02001953125, 1654.9300537109375, 1670.5699462890625, 1637.8900146484375, 1593.8800048828125, 1670.4300537109375, 1718.72998046875, 1626.22998046875, 1633.31005859375, 1658.81005859375, 1640.260009765625, 1614.3699951171875, 1588.219970703125, 1591.0, 1638.010009765625, 1640.0, 1622.6500244140625, 1607.949951171875, 1627.5799560546875, 1622.0999755859375, 1619.43994140625, 1631.56005859375, 1633.0, 1636.4000244140625, 1641.0899658203125, 1639.8299560546875, 1671.72998046875, 1696.1700439453125, 1692.4300537109375, 1668.949951171875, 1625.949951171875, 1620.800048828125, 1670.6199951171875, 1673.0999755859375, 1690.81005859375, 1686.219970703125, 1712.3599853515625, 1742.1500244140625, 1761.8499755859375, 1797.27001953125, 1819.260009765625, 1764.77001953125, 1774.260009765625, 1783.760009765625, 1765.699951171875, 1773.4200439453125, 1780.75, 1814.18994140625, 1813.97998046875, 1820.699951171875, 1818.8599853515625, 1837.280029296875, 1849.8599853515625, 1835.8399658203125, 1847.3299560546875, 1844.0699462890625, 1843.06005859375, 1844.8699951171875, 1863.0400390625, 1864.8199462890625, 1861.68994140625, 1887.31005859375, 1923.77001953125, 1901.75, 1902.25, 1950.6300048828125, 1938.4300537109375, 1926.52001953125, 1911.52001953125, 1900.8199462890625, 1962.4599609375, 1950.550048828125, 1921.0, 1917.77001953125, 1899.8699951171875, 1889.97998046875, 1822.6800537109375, 1840.1199951171875, 1871.1500244140625, 1907.5699462890625, 1869.0, 1858.969970703125, 1857.52001953125, 1859.6800537109375, 1815.47998046875, 1823.280029296875, 1836.4300537109375, 1819.18994140625, 1816.3199462890625, 1775.0699462890625, 1692.68994140625, 1729.56005859375, 1738.5, 1754.3599853515625, 1804.030029296875, 1860.6300048828125, 1863.699951171875, 1855.3199462890625, 1870.300048828125, 1869.6700439453125, 1886.030029296875, 1901.3699951171875, 1908.7900390625, 1918.18994140625, 1911.300048828125, 1913.9000244140625, 1878.27001953125, 1897.8299560546875, 1904.280029296875, 1893.6300048828125, 1922.18994140625, 1934.31005859375, 1939.0, 1942.9100341796875, 1952.3199462890625, 1988.300048828125, 2017.4100341796875, 2001.0699462890625, 2011.0, 2020.989990234375, 2009.9000244140625, 1992.030029296875, 1977.9000244140625, 1964.52001953125, 1985.6300048828125, 1994.489990234375, 2000.81005859375, 1973.8199462890625, 1943.050048828125, 1912.449951171875, 1898.530029296875, 1866.780029296875, 1855.3199462890625, 1823.239990234375, 1765.1300048828125, 1787.8299560546875, 1793.4000244140625, 1832.8900146484375, 1807.5799560546875, 1784.9200439453125, 1824.3399658203125, 1762.9599609375, 1776.1199951171875, 1792.5699462890625, 1816.1199951171875, 1801.3800048828125, 1823.5400390625, 1804.6600341796875, 1749.6199951171875, 1768.8699951171875, 1761.8299560546875, 1764.25, 1786.4000244140625, 1776.2900390625, 1789.8399658203125, 1800.6199951171875, 1840.719970703125, 1833.510009765625, 1831.3499755859375, 1820.550048828125, 1822.989990234375, 1843.550048828125, 1839.3399658203125, 1807.8399658203125, 1822.550048828125, 1817.4599609375, 1821.5, 1794.1600341796875, 1785.300048828125, 1741.6099853515625, 1768.3299560546875, 1739.8399658203125, 1725.449951171875, 1735.9100341796875, 1735.6500244140625, 1713.22998046875, 1724.4200439453125, 1739.6500244140625, 1732.6600341796875, 1705.510009765625, 1721.989990234375, 1720.260009765625, 1731.9200439453125, 1736.4300537109375, 1767.3800048828125, 1777.4300537109375, 1787.47998046875, 1757.510009765625, 1785.6600341796875, 1765.72998046875, 1762.1700439453125, 1780.780029296875, 1761.3299560546875, 1777.0799560546875, 1762.7099609375, 1779.989990234375, 1776.6600341796875, 1791.43994140625, 1804.6600341796875, 1801.7099609375, 1795.77001953125, 1788.199951171875, 1785.8800048828125, 1771.6500244140625, 1778.0, 1753.1099853515625, 1754.5999755859375, 1739.489990234375, 1752.530029296875, 1752.7900390625, 1745.530029296875, 1734.7099609375, 1745.719970703125, 1773.8399658203125, 1796.93994140625, 1818.510009765625, 1800.800048828125, 1781.5999755859375, 1769.9599609375, 1760.68994140625, 1740.47998046875, 1751.5999755859375, 1749.510009765625, 1739.2099609375, 1748.719970703125, 1760.3299560546875, 1760.93994140625, 1769.2099609375, 1790.6600341796875, 1784.030029296875, 1792.280029296875, 1786.5, 1793.0, 1789.2099609375, 1868.77001953125, 1869.800048828125, 1846.8900146484375, 1847.8399658203125, 1898.010009765625, 1874.969970703125, 1902.8800048828125, 1906.8599853515625, 1891.969970703125, 1901.050048828125, 1883.1600341796875, 1891.300048828125, 1869.43994140625, 1862.02001953125, 1877.93994140625, 1864.719970703125, 1892.0, 1887.4599609375, 1884.5799560546875, 1861.6400146484375, 1828.3399658203125, 1853.25, 1858.0, 1870.6800537109375, 2008.719970703125, 2004.199951171875, 2049.669921875, 2039.8699951171875, 2050.22998046875, 2079.280029296875, 2133.909912109375, 2150.800048828125, 2160.0, 2149.8701171875, 2134.8701171875, 2155.669921875, 2170.219970703125, 2153.10009765625, 2095.969970703125, 2009.2900390625, 1972.739990234375, 1979.5899658203125, 1884.300048828125, 1883.75, 1953.949951171875, 1908.989990234375, 1975.8299560546875, 1924.030029296875, 1901.0899658203125, 1800.6099853515625, 1891.8199462890625, 1820.8599853515625, 1676.6099853515625, 1785.0, 1689.1500244140625, 1807.8399658203125, 1830.0, 1880.9300537109375, 1846.0899658203125, 1902.8299560546875, 1940.0999755859375, 1885.8399658203125, 1955.489990234375, 1900.0999755859375, 1963.949951171875, 1949.719970703125, 1907.699951171875, 1918.8299560546875, 1906.5899658203125, 1997.5899658203125, 2011.5999755859375, 2043.0, 2042.760009765625, 2168.8701171875, 2283.320068359375, 2307.679931640625, 2408.18994140625, 2375.0, 2393.610107421875, 2328.1201171875, 2363.489990234375, 2399.449951171875, 2410.219970703125, 2376.0, 2314.080078125, 2372.7099609375, 2474.0, 2286.0400390625, 2315.989990234375, 2317.800048828125, 2351.260009765625, 2367.610107421875, 2379.610107421875, 2409.0, 2356.949951171875, 2367.919921875, 2388.85009765625, 2409.780029296875, 2426.260009765625, 2449.330078125, 2497.93994140625, 2446.739990234375, 2436.8798828125, 2421.860107421875, 2410.389892578125, 2401.10009765625, 2442.3701171875, 2471.0400390625, 2472.409912109375, 2478.39990234375, 2460.60009765625, 2483.0, 2524.06005859375, 2600.860107421875, 2647.449951171875, 2557.9599609375, 2545.02001953125, 2572.679931640625, 2615.27001953125, 2640.97998046875, 2653.97998046875, 2675.010009765625, 2713.820068359375, 2764.409912109375, 2734.39990234375, 2754.580078125, 2692.8701171875, 2680.3798828125, 2758.820068359375, 2878.699951171875, 2890.300048828125, 3057.0400390625, 3000.1201171875, 3081.110107421875, 3182.6298828125, 3200.0, 3104.0, 3084.0, 3008.8701171875, 2999.89990234375, 2961.969970703125, 3196.840087890625, 3138.2900390625, 3099.909912109375, 2986.550048828125, 3008.909912109375, 3055.2099609375, 3000.330078125, 3033.530029296875, 3051.8798828125, 3164.679931640625, 3111.889892578125, 3138.830078125, 3205.030029296875, 3225.0, 3167.4599609375, 3148.159912109375, 3080.669921875, 3162.239990234375, 3161.02001953125, 3148.02001953125, 3182.409912109375, 3312.489990234375, 3260.47998046875, 3297.3701171875, 3284.719970703125, 3307.4599609375, 3346.489990234375, 3441.85009765625, 3400.0, 3401.800048828125, 3450.9599609375, 3499.1201171875, 3531.449951171875, 3368.0, 3294.6201171875, 3149.840087890625, 3268.610107421875, 3175.110107421875, 3116.219970703125, 3102.969970703125, 3156.1298828125, 3078.10009765625, 3008.72998046875, 2954.909912109375, 2960.469970703125, 3128.989990234375, 2999.860107421875, 3019.7900390625, 3095.1298828125, 3174.050048828125, 3144.8798828125, 3148.72998046875, 3221.260009765625, 3125.0, 3199.199951171875, 3099.9599609375, 3195.68994140625, 3190.550048828125, 3286.64990234375, 3442.929931640625, 3443.6298828125, 3363.7099609375, 3338.64990234375, 3272.7099609375, 3207.2099609375, 3217.010009765625, 3184.93994140625, 3176.39990234375, 3204.39990234375, 3207.0400390625, 3286.330078125, 3162.780029296875, 3211.010009765625, 3036.14990234375, 3004.47998046875, 3048.409912109375, 3241.159912109375, 3322.0, 3311.3701171875, 3143.739990234375, 3035.02001953125, 3137.389892578125, 3110.280029296875, 3128.81005859375, 3131.06005859375, 3135.659912109375, 3105.4599609375, 3117.02001953125, 3099.39990234375], \"high\": [1553.3599853515625, 1538.0, 1594.0, 1634.56005859375, 1676.6099853515625, 1667.800048828125, 1663.25, 1660.2900390625, 1648.199951171875, 1675.1600341796875, 1705.0, 1700.1700439453125, 1716.199951171875, 1681.8699951171875, 1657.4300537109375, 1657.260009765625, 1683.47998046875, 1645.0, 1632.3800048828125, 1676.949951171875, 1736.4100341796875, 1673.06005859375, 1649.6300048828125, 1665.260009765625, 1672.260009765625, 1625.5400390625, 1588.5899658203125, 1609.2900390625, 1639.4000244140625, 1656.3800048828125, 1637.9000244140625, 1628.9100341796875, 1634.0, 1634.9300537109375, 1623.56005859375, 1634.93994140625, 1654.5999755859375, 1639.989990234375, 1641.81005859375, 1651.77001953125, 1674.260009765625, 1709.4300537109375, 1707.800048828125, 1697.75, 1669.75, 1622.719970703125, 1672.2900390625, 1684.27001953125, 1700.0, 1702.0, 1718.800048828125, 1750.0, 1784.1600341796875, 1799.5, 1823.75, 1818.97998046875, 1782.6800537109375, 1805.77001953125, 1787.5, 1777.9300537109375, 1792.8599853515625, 1815.6700439453125, 1820.0, 1830.0, 1828.75, 1838.5799560546875, 1850.199951171875, 1853.0899658203125, 1848.0, 1849.949951171875, 1851.5, 1846.8499755859375, 1869.77001953125, 1876.469970703125, 1870.8199462890625, 1888.4200439453125, 1929.260009765625, 1929.68994140625, 1922.449951171875, 1951.0, 1956.3399658203125, 1935.7099609375, 1943.6400146484375, 1921.550048828125, 1964.4000244140625, 1959.0, 1949.0999755859375, 1935.3699951171875, 1909.4000244140625, 1903.7900390625, 1846.5400390625, 1852.43994140625, 1874.4300537109375, 1917.510009765625, 1910.530029296875, 1867.780029296875, 1879.0, 1871.489990234375, 1844.0, 1841.760009765625, 1849.27001953125, 1830.0, 1829.469970703125, 1795.5899658203125, 1766.2900390625, 1730.8199462890625, 1752.0, 1760.0, 1806.25, 1884.8699951171875, 1893.699951171875, 1865.0, 1883.0899658203125, 1876.0, 1895.68994140625, 1921.6700439453125, 1919.5799560546875, 1935.199951171875, 1925.949951171875, 1916.8599853515625, 1916.3900146484375, 1903.800048828125, 1911.239990234375, 1912.93994140625, 1929.8199462890625, 1934.7900390625, 1941.5899658203125, 1945.9000244140625, 1956.0, 1990.010009765625, 2024.93994140625, 2035.800048828125, 2017.0, 2022.9000244140625, 2026.3199462890625, 2012.0, 1987.5, 1996.0, 1989.0, 1997.7900390625, 2001.300048828125, 2001.199951171875, 1950.9000244140625, 1932.22998046875, 1909.8900146484375, 1899.550048828125, 1897.9200439453125, 1846.3599853515625, 1788.6700439453125, 1793.77001953125, 1798.9300537109375, 1834.260009765625, 1831.0899658203125, 1800.97998046875, 1831.739990234375, 1795.6500244140625, 1788.0, 1802.9100341796875, 1826.0, 1816.8199462890625, 1829.5799560546875, 1829.4100341796875, 1804.9000244140625, 1770.0, 1779.4000244140625, 1767.8599853515625, 1798.550048828125, 1799.739990234375, 1800.800048828125, 1807.6300048828125, 1842.0, 1840.6500244140625, 1850.0, 1825.81005859375, 1833.4200439453125, 1853.6600341796875, 1846.1199951171875, 1825.68994140625, 1823.989990234375, 1822.06005859375, 1832.5699462890625, 1830.6300048828125, 1792.699951171875, 1795.7099609375, 1773.0, 1763.3699951171875, 1749.1199951171875, 1737.4599609375, 1755.5999755859375, 1728.8900146484375, 1725.0, 1740.5799560546875, 1747.8299560546875, 1727.0, 1729.949951171875, 1738.2900390625, 1745.449951171875, 1741.8900146484375, 1776.449951171875, 1786.239990234375, 1798.8499755859375, 1793.97998046875, 1785.8800048828125, 1789.780029296875, 1770.050048828125, 1788.3399658203125, 1764.2099609375, 1778.699951171875, 1777.0, 1782.3800048828125, 1792.0, 1797.449951171875, 1815.06005859375, 1810.25, 1802.5, 1805.9000244140625, 1789.8800048828125, 1780.0, 1786.219970703125, 1775.0, 1766.5899658203125, 1761.6800537109375, 1753.699951171875, 1760.6800537109375, 1762.52001953125, 1746.8699951171875, 1746.4300537109375, 1777.4200439453125, 1797.030029296875, 1824.5, 1824.68994140625, 1805.550048828125, 1772.8699951171875, 1789.0899658203125, 1763.5, 1754.4000244140625, 1766.8900146484375, 1750.6700439453125, 1750.0, 1764.0, 1768.989990234375, 1769.5, 1792.0, 1798.199951171875, 1792.989990234375, 1802.969970703125, 1793.0, 1795.5699462890625, 1870.4599609375, 1901.4000244140625, 1884.0, 1853.260009765625, 1898.010009765625, 1886.199951171875, 1903.68994140625, 1913.8900146484375, 1911.0, 1917.8199462890625, 1906.93994140625, 1898.0, 1887.1099853515625, 1878.8599853515625, 1885.5899658203125, 1886.6400146484375, 1894.27001953125, 1902.5, 1889.97998046875, 1894.989990234375, 1841.0, 1858.1099853515625, 1874.75, 1872.8699951171875, 2055.719970703125, 2048.5, 2059.800048828125, 2071.02001953125, 2056.300048828125, 2098.530029296875, 2135.60009765625, 2185.949951171875, 2180.25, 2170.280029296875, 2159.0400390625, 2166.070068359375, 2185.10009765625, 2176.7900390625, 2144.550048828125, 2039.300048828125, 2034.5999755859375, 2014.6700439453125, 1975.0, 1889.760009765625, 1954.510009765625, 1996.3299560546875, 1978.0, 1960.719970703125, 1910.8699951171875, 1862.77001953125, 1894.27001953125, 1871.3199462890625, 1765.0, 1786.31005859375, 1759.449951171875, 1857.780029296875, 1841.6600341796875, 1945.0, 1957.0, 1919.4000244140625, 1955.0, 1950.260009765625, 1956.489990234375, 1939.7900390625, 1973.6300048828125, 1993.02001953125, 1944.9599609375, 1927.530029296875, 1926.3299560546875, 1998.52001953125, 2035.719970703125, 2044.0, 2053.0, 2180.0, 2292.0, 2333.3701171875, 2461.0, 2400.0, 2444.97998046875, 2428.31005859375, 2394.0, 2424.219970703125, 2420.429931640625, 2444.8798828125, 2373.5, 2391.889892578125, 2475.0, 2362.43994140625, 2326.97998046875, 2351.0, 2357.449951171875, 2376.0, 2387.239990234375, 2419.669921875, 2419.0, 2407.699951171875, 2391.3701171875, 2411.0, 2433.0, 2485.0, 2500.010009765625, 2525.449951171875, 2469.85009765625, 2462.0, 2413.580078125, 2436.969970703125, 2442.3701171875, 2476.929931640625, 2473.530029296875, 2488.0, 2507.5400390625, 2488.64990234375, 2530.0, 2626.429931640625, 2722.35009765625, 2671.3798828125, 2621.47998046875, 2584.0, 2620.0, 2655.0, 2659.639892578125, 2697.429931640625, 2715.0, 2783.110107421875, 2796.0, 2756.22998046875, 2782.570068359375, 2696.800048828125, 2769.6298828125, 2895.0, 2955.56005859375, 3059.8798828125, 3069.550048828125, 3083.969970703125, 3193.8798828125, 3215.0, 3344.2900390625, 3127.3798828125, 3098.35009765625, 3032.0, 3024.0, 3201.360107421875, 3240.580078125, 3150.0, 3098.27001953125, 3031.580078125, 3098.0, 3077.090087890625, 3039.159912109375, 3092.0, 3246.820068359375, 3184.0, 3167.239990234375, 3213.590087890625, 3247.469970703125, 3240.81005859375, 3172.510009765625, 3159.219970703125, 3174.389892578125, 3217.52001953125, 3178.239990234375, 3194.969970703125, 3320.0, 3315.89990234375, 3312.6201171875, 3314.39990234375, 3380.320068359375, 3357.39990234375, 3451.739990234375, 3453.0, 3433.3701171875, 3495.0, 3513.8701171875, 3552.25, 3488.409912109375, 3381.5, 3250.85009765625, 3303.179931640625, 3349.889892578125, 3217.340087890625, 3187.389892578125, 3175.02001953125, 3187.239990234375, 3029.429931640625, 3037.800048828125, 2962.0, 3133.989990234375, 3127.0, 3069.300048828125, 3101.5400390625, 3175.0400390625, 3188.260009765625, 3212.8798828125, 3224.0, 3195.800048828125, 3202.530029296875, 3182.0, 3200.0, 3233.2900390625, 3288.989990234375, 3496.239990234375, 3492.3798828125, 3464.8798828125, 3355.8798828125, 3399.659912109375, 3329.0, 3266.0, 3233.8798828125, 3198.75, 3205.330078125, 3282.97998046875, 3291.659912109375, 3264.02001953125, 3257.25, 3167.0, 3079.7099609375, 3074.89990234375, 3244.85009765625, 3366.800048828125, 3322.0, 3289.0, 3114.0, 3139.14990234375, 3175.8798828125, 3141.719970703125, 3142.699951171875, 3189.25, 3140.0, 3125.0, 3132.889892578125], \"low\": [1460.9300537109375, 1497.1099853515625, 1518.31005859375, 1589.18994140625, 1616.6099853515625, 1641.4000244140625, 1621.6199951171875, 1636.219970703125, 1595.1500244140625, 1626.010009765625, 1675.8800048828125, 1677.5, 1691.5400390625, 1610.199951171875, 1612.0, 1631.780029296875, 1661.6099853515625, 1614.0899658203125, 1590.719970703125, 1619.6800537109375, 1679.0799560546875, 1622.010009765625, 1613.5, 1642.5, 1633.3399658203125, 1592.9100341796875, 1566.760009765625, 1586.0, 1598.8800048828125, 1637.1099853515625, 1606.06005859375, 1604.5, 1600.56005859375, 1610.1199951171875, 1600.9100341796875, 1621.1700439453125, 1630.3900146484375, 1616.1300048828125, 1615.0999755859375, 1633.8299560546875, 1651.0, 1674.3599853515625, 1689.010009765625, 1668.280029296875, 1620.510009765625, 1586.5699462890625, 1626.010009765625, 1660.97998046875, 1679.3499755859375, 1684.3399658203125, 1693.1300048828125, 1712.6300048828125, 1753.510009765625, 1767.030029296875, 1787.280029296875, 1763.1099853515625, 1747.5, 1773.3599853515625, 1745.6800537109375, 1753.469970703125, 1776.6300048828125, 1798.72998046875, 1805.1199951171875, 1809.6199951171875, 1804.199951171875, 1825.18994140625, 1825.1099853515625, 1831.780029296875, 1828.81005859375, 1840.31005859375, 1841.300048828125, 1818.9000244140625, 1848.0, 1860.43994140625, 1859.47998046875, 1845.6400146484375, 1889.5799560546875, 1898.1600341796875, 1900.31005859375, 1898.0, 1934.0899658203125, 1906.949951171875, 1910.550048828125, 1881.8699951171875, 1936.0, 1910.5, 1903.3800048828125, 1910.0, 1876.0, 1856.0, 1818.0, 1815.75, 1823.0, 1882.2900390625, 1867.3299560546875, 1835.5400390625, 1846.0, 1851.0, 1804.199951171875, 1817.8499755859375, 1827.3499755859375, 1807.530029296875, 1807.8299560546875, 1772.699951171875, 1672.0, 1680.8900146484375, 1715.25, 1726.1300048828125, 1759.489990234375, 1818.0, 1858.0, 1844.3800048828125, 1862.219970703125, 1859.0, 1875.449951171875, 1899.7900390625, 1892.469970703125, 1905.800048828125, 1907.5799560546875, 1901.300048828125, 1872.4200439453125, 1887.3199462890625, 1898.0400390625, 1884.0, 1914.6600341796875, 1906.6300048828125, 1930.5, 1925.300048828125, 1928.25, 1943.47998046875, 1995.4000244140625, 1995.300048828125, 2003.8699951171875, 2001.550048828125, 2001.219970703125, 1992.030029296875, 1951.550048828125, 1962.22998046875, 1958.260009765625, 1973.1300048828125, 1965.8699951171875, 1972.719970703125, 1924.510009765625, 1890.5400390625, 1883.47998046875, 1849.43994140625, 1844.010009765625, 1808.02001953125, 1748.780029296875, 1753.4000244140625, 1757.0, 1798.1099853515625, 1802.219970703125, 1777.0, 1780.0, 1757.219970703125, 1761.9599609375, 1784.550048828125, 1812.6099853515625, 1799.8800048828125, 1815.0, 1800.0999755859375, 1745.22998046875, 1743.510009765625, 1746.6800537109375, 1744.050048828125, 1777.25, 1764.5699462890625, 1768.0, 1796.22998046875, 1815.5799560546875, 1826.4000244140625, 1824.6099853515625, 1805.3399658203125, 1809.0799560546875, 1834.280029296875, 1835.1700439453125, 1800.199951171875, 1804.0999755859375, 1795.5, 1817.9000244140625, 1780.9200439453125, 1767.3199462890625, 1735.550048828125, 1723.0, 1731.5, 1713.8199462890625, 1709.219970703125, 1728.4100341796875, 1705.0, 1685.06005859375, 1719.22998046875, 1723.699951171875, 1705.0, 1714.3599853515625, 1713.75, 1729.8599853515625, 1722.0, 1740.6199951171875, 1770.52001953125, 1782.02001953125, 1749.199951171875, 1765.0, 1762.0, 1742.0, 1760.27001953125, 1695.0, 1742.5, 1755.81005859375, 1759.1199951171875, 1771.47998046875, 1785.2099609375, 1801.010009765625, 1794.0, 1788.5799560546875, 1783.47998046875, 1774.0400390625, 1767.1300048828125, 1771.9100341796875, 1747.3199462890625, 1749.56005859375, 1732.8599853515625, 1722.7099609375, 1743.030029296875, 1734.1199951171875, 1730.3599853515625, 1731.0, 1753.239990234375, 1778.3499755859375, 1797.31005859375, 1800.7900390625, 1762.6800537109375, 1747.22998046875, 1760.219970703125, 1740.0, 1740.1300048828125, 1745.6099853515625, 1735.0, 1735.7099609375, 1745.43994140625, 1755.0, 1757.050048828125, 1777.3900146484375, 1782.3599853515625, 1774.06005859375, 1782.449951171875, 1784.510009765625, 1787.5799560546875, 1799.5, 1866.010009765625, 1840.6199951171875, 1832.22998046875, 1864.1500244140625, 1864.5, 1860.0, 1892.0400390625, 1886.43994140625, 1895.800048828125, 1880.0, 1880.800048828125, 1858.550048828125, 1855.0899658203125, 1866.02001953125, 1857.25, 1860.0, 1883.3399658203125, 1872.760009765625, 1847.43994140625, 1815.3399658203125, 1830.02001953125, 1855.02001953125, 1850.6099853515625, 2002.27001953125, 2000.25, 2015.3699951171875, 2032.0, 2024.800048828125, 2038.0999755859375, 2084.9599609375, 2136.0, 2155.2900390625, 2142.0, 2125.889892578125, 2124.110107421875, 2161.1201171875, 2127.449951171875, 2088.0, 1987.969970703125, 1958.4200439453125, 1960.449951171875, 1882.760009765625, 1811.1300048828125, 1870.0, 1888.0899658203125, 1922.0, 1910.0, 1869.5, 1761.2900390625, 1818.1700439453125, 1801.5, 1675.0, 1680.6199951171875, 1626.030029296875, 1689.239990234375, 1745.0, 1832.6500244140625, 1820.72998046875, 1812.0, 1900.3399658203125, 1885.780029296875, 1889.2900390625, 1899.9200439453125, 1912.3399658203125, 1944.010009765625, 1893.0, 1890.0, 1889.1500244140625, 1930.02001953125, 1997.6199951171875, 2011.1500244140625, 2017.6600341796875, 2038.0, 2186.2099609375, 2245.0, 2335.0, 2316.02001953125, 2386.050048828125, 2279.659912109375, 2351.0, 2382.080078125, 2382.0, 2363.0, 2306.0, 2310.0, 2396.010009765625, 2258.18994140625, 2256.3798828125, 2307.1298828125, 2320.0, 2343.110107421875, 2357.0, 2372.110107421875, 2355.0, 2337.800048828125, 2353.2099609375, 2356.3701171875, 2384.010009765625, 2428.969970703125, 2467.27001953125, 2442.5400390625, 2430.1298828125, 2414.06005859375, 2330.0, 2378.22998046875, 2398.199951171875, 2444.169921875, 2445.31005859375, 2461.169921875, 2450.010009765625, 2437.1298828125, 2487.340087890625, 2525.0, 2626.260009765625, 2536.22998046875, 2503.35009765625, 2508.0, 2576.0, 2631.820068359375, 2636.110107421875, 2659.0, 2669.0, 2718.0400390625, 2721.0, 2712.139892578125, 2688.0, 2630.080078125, 2675.030029296875, 2754.0, 2871.10009765625, 2930.0, 2990.0, 3012.429931640625, 3074.0, 3135.699951171875, 3068.389892578125, 2950.0, 2973.179931640625, 2918.22998046875, 2948.449951171875, 2994.02001953125, 3105.719970703125, 3065.260009765625, 2970.0, 2888.0, 3015.77001953125, 2995.760009765625, 2996.77001953125, 3005.0, 3151.0, 3104.0, 3101.2099609375, 3127.300048828125, 3165.429931640625, 3140.669921875, 3101.52001953125, 3073.0, 3101.419921875, 3155.0, 3120.0, 3154.179931640625, 3205.820068359375, 3256.0, 3238.0, 3275.389892578125, 3257.56005859375, 3267.0, 3344.570068359375, 3378.0, 3386.5, 3405.0, 3467.0, 3486.68994140625, 3303.0, 3111.1298828125, 3130.0, 3185.0, 3170.550048828125, 3083.97998046875, 3096.0, 3108.919921875, 3074.14990234375, 2972.550048828125, 2905.5400390625, 2871.0, 3000.199951171875, 2992.3798828125, 2965.0, 2999.0, 3117.169921875, 3132.5400390625, 3133.989990234375, 3172.0, 3123.0, 3140.85009765625, 3090.0, 3132.389892578125, 3174.989990234375, 3197.830078125, 3339.550048828125, 3424.219970703125, 3340.0, 3280.0, 3160.0, 3192.739990234375, 3192.010009765625, 3160.0, 3121.93994140625, 3140.0, 3153.300048828125, 3211.300048828125, 3162.469970703125, 3164.0, 3019.0, 2950.1201171875, 2980.97998046875, 3139.72998046875, 3288.8798828125, 3232.0, 3112.110107421875, 3019.47998046875, 3050.0, 3086.050048828125, 3085.389892578125, 3072.68994140625, 3135.260009765625, 3105.10009765625, 3080.919921875, 3098.050048828125], \"open\": [1465.199951171875, 1520.010009765625, 1530.0, 1602.31005859375, 1664.68994140625, 1652.97998046875, 1641.010009765625, 1640.550048828125, 1615.0, 1632.0, 1684.219970703125, 1680.0, 1712.0, 1681.0, 1656.0, 1641.0699462890625, 1670.5, 1643.5899658203125, 1631.27001953125, 1623.0, 1692.8499755859375, 1638.8800048828125, 1623.0, 1643.3399658203125, 1670.75, 1625.0, 1586.0, 1600.97998046875, 1604.0, 1647.0, 1624.5, 1627.8599853515625, 1601.0, 1630.0, 1619.8499755859375, 1623.5, 1641.449951171875, 1625.97998046875, 1628.1800537109375, 1635.25, 1655.1300048828125, 1685.0, 1702.949951171875, 1695.969970703125, 1667.3699951171875, 1604.010009765625, 1626.1199951171875, 1669.0, 1683.0, 1691.199951171875, 1703.0, 1712.699951171875, 1753.510009765625, 1769.93994140625, 1796.260009765625, 1810.1700439453125, 1757.7900390625, 1793.0, 1784.1300048828125, 1770.0, 1786.5799560546875, 1800.1099853515625, 1811.02001953125, 1826.719970703125, 1820.6500244140625, 1829.0, 1833.22998046875, 1845.489990234375, 1841.0, 1848.699951171875, 1848.4000244140625, 1842.0, 1851.3499755859375, 1872.989990234375, 1868.7900390625, 1855.4000244140625, 1891.199951171875, 1925.0, 1917.0, 1929.0, 1949.0, 1930.0999755859375, 1933.0899658203125, 1913.3299560546875, 1949.0, 1917.97998046875, 1939.989990234375, 1918.8699951171875, 1900.0, 1898.0, 1836.56005859375, 1839.5, 1827.949951171875, 1885.93994140625, 1893.050048828125, 1852.68994140625, 1874.7900390625, 1851.780029296875, 1836.5899658203125, 1835.8900146484375, 1832.75, 1823.1199951171875, 1825.489990234375, 1790.010009765625, 1760.010009765625, 1699.239990234375, 1749.5999755859375, 1737.7099609375, 1763.699951171875, 1822.0, 1883.25, 1853.97998046875, 1866.719970703125, 1864.0, 1876.5, 1901.3499755859375, 1907.8399658203125, 1933.3299560546875, 1916.0999755859375, 1912.6600341796875, 1911.8399658203125, 1892.47998046875, 1902.0, 1909.0999755859375, 1922.97998046875, 1919.3800048828125, 1935.8900146484375, 1928.5999755859375, 1934.1199951171875, 1947.800048828125, 1996.510009765625, 2025.6199951171875, 2008.27001953125, 2021.4000244140625, 2010.5799560546875, 2007.050048828125, 1980.010009765625, 1991.2099609375, 1971.1400146484375, 1995.989990234375, 1969.300048828125, 2001.0, 1942.0, 1930.0, 1891.1199951171875, 1898.1099853515625, 1871.719970703125, 1845.0699462890625, 1770.219970703125, 1792.22998046875, 1773.989990234375, 1806.0, 1828.949951171875, 1795.989990234375, 1783.0, 1793.010009765625, 1781.989990234375, 1792.8900146484375, 1818.0799560546875, 1814.5, 1819.3900146484375, 1828.0, 1793.030029296875, 1766.9100341796875, 1775.72998046875, 1755.0, 1783.0, 1797.489990234375, 1770.0, 1805.0, 1821.949951171875, 1838.219970703125, 1841.0, 1822.75, 1812.1400146484375, 1837.6300048828125, 1842.010009765625, 1824.02001953125, 1807.0799560546875, 1817.0400390625, 1821.02001953125, 1821.7099609375, 1777.0, 1790.6099853515625, 1747.3599853515625, 1762.7900390625, 1748.0, 1726.989990234375, 1746.0, 1727.739990234375, 1713.0, 1726.02001953125, 1731.6300048828125, 1722.489990234375, 1719.6099853515625, 1725.239990234375, 1742.9200439453125, 1728.9100341796875, 1742.1400146484375, 1773.3299560546875, 1796.489990234375, 1787.800048828125, 1769.6600341796875, 1788.1500244140625, 1761.300048828125, 1771.0899658203125, 1697.550048828125, 1748.06005859375, 1774.81005859375, 1760.239990234375, 1775.989990234375, 1788.010009765625, 1801.010009765625, 1809.1600341796875, 1801.0, 1803.760009765625, 1787.8900146484375, 1778.0, 1774.6600341796875, 1773.3900146484375, 1751.4300537109375, 1760.050048828125, 1738.300048828125, 1756.989990234375, 1749.1400146484375, 1743.0, 1739.02001953125, 1753.25, 1779.9200439453125, 1801.0, 1817.780029296875, 1804.4000244140625, 1760.0, 1774.010009765625, 1763.5, 1751.199951171875, 1750.6600341796875, 1747.4000244140625, 1741.6700439453125, 1750.0, 1765.0, 1767.0, 1778.010009765625, 1795.02001953125, 1780.5, 1799.6199951171875, 1788.260009765625, 1793.81005859375, 1801.010009765625, 1882.9200439453125, 1874.0, 1842.0, 1875.0, 1864.5, 1860.0, 1904.5, 1898.0400390625, 1909.8900146484375, 1905.3699951171875, 1891.31005859375, 1885.8800048828125, 1872.25, 1882.989990234375, 1885.8900146484375, 1865.0, 1896.0899658203125, 1885.1099853515625, 1891.3699951171875, 1820.0, 1840.5, 1864.0, 1858.0, 2051.469970703125, 2010.5999755859375, 2029.8800048828125, 2071.02001953125, 2041.02001953125, 2041.989990234375, 2085.010009765625, 2150.89990234375, 2163.199951171875, 2144.989990234375, 2155.679931640625, 2125.02001953125, 2167.800048828125, 2173.070068359375, 2142.14990234375, 2003.1800537109375, 2026.4200439453125, 1970.280029296875, 1934.3800048828125, 1814.6300048828125, 1906.489990234375, 1975.3699951171875, 1946.5699462890625, 1933.0, 1875.0, 1773.8599853515625, 1870.8800048828125, 1857.8499755859375, 1721.97998046875, 1755.0, 1641.510009765625, 1775.469970703125, 1750.0, 1860.0, 1926.31005859375, 1827.75, 1951.5, 1920.68994140625, 1902.0, 1930.8599853515625, 1922.8299560546875, 1964.3499755859375, 1932.969970703125, 1901.6400146484375, 1911.1500244140625, 1936.0, 2017.1099853515625, 2021.0, 2044.300048828125, 2040.0, 2200.469970703125, 2257.679931640625, 2346.0, 2372.330078125, 2389.949951171875, 2416.610107421875, 2369.0, 2399.97998046875, 2417.0, 2443.199951171875, 2372.10009765625, 2330.010009765625, 2419.840087890625, 2336.800048828125, 2256.3798828125, 2340.0, 2329.43994140625, 2374.780029296875, 2372.139892578125, 2374.699951171875, 2411.85009765625, 2366.800048828125, 2361.010009765625, 2368.52001953125, 2404.35009765625, 2429.830078125, 2477.8701171875, 2500.0, 2455.010009765625, 2458.0, 2404.989990234375, 2384.330078125, 2415.93994140625, 2448.0, 2467.0, 2468.010009765625, 2477.429931640625, 2444.510009765625, 2500.199951171875, 2529.43994140625, 2645.0, 2603.5, 2601.2099609375, 2526.60009765625, 2620.0, 2647.5, 2647.010009765625, 2678.080078125, 2684.5, 2726.02001953125, 2780.0, 2739.550048828125, 2775.06005859375, 2690.010009765625, 2685.070068359375, 2757.989990234375, 2912.010009765625, 2934.969970703125, 3058.550048828125, 3022.610107421875, 3115.989990234375, 3191.760009765625, 3251.06005859375, 3089.0, 3080.22998046875, 2971.06005859375, 3009.0, 3000.199951171875, 3232.489990234375, 3125.0, 3098.27001953125, 2930.0, 3062.0, 3054.27001953125, 3030.989990234375, 3014.0, 3244.0, 3180.510009765625, 3101.2099609375, 3143.77001953125, 3194.360107421875, 3224.010009765625, 3170.31005859375, 3113.199951171875, 3108.0, 3182.989990234375, 3178.179931640625, 3173.1201171875, 3212.0, 3303.010009765625, 3252.0, 3295.0, 3310.14990234375, 3294.989990234375, 3351.110107421875, 3450.050048828125, 3423.0, 3408.989990234375, 3489.580078125, 3547.0, 3485.0, 3318.0, 3144.0, 3202.989990234375, 3307.219970703125, 3208.68994140625, 3172.93994140625, 3136.159912109375, 3179.989990234375, 3009.25, 3031.739990234375, 2906.5, 3033.840087890625, 3120.429931640625, 2977.7900390625, 3054.860107421875, 3148.85009765625, 3175.389892578125, 3141.139892578125, 3208.0, 3153.6298828125, 3145.840087890625, 3165.0, 3135.0, 3224.989990234375, 3210.0, 3349.93994140625, 3467.989990234375, 3447.0, 3292.010009765625, 3363.22998046875, 3299.610107421875, 3222.280029296875, 3212.5, 3189.8701171875, 3191.0, 3198.739990234375, 3224.93994140625, 3249.300048828125, 3201.27001953125, 3157.75, 3061.739990234375, 3018.530029296875, 3159.989990234375, 3319.969970703125, 3304.639892578125, 3231.030029296875, 3095.02001953125, 3061.780029296875, 3159.949951171875, 3122.0, 3093.199951171875, 3183.5400390625, 3134.0, 3105.31005859375, 3117.02001953125], \"type\": \"candlestick\", \"x\": [\"2019-01-02T00:00:00\", \"2019-01-03T00:00:00\", \"2019-01-04T00:00:00\", \"2019-01-07T00:00:00\", \"2019-01-08T00:00:00\", \"2019-01-09T00:00:00\", \"2019-01-10T00:00:00\", \"2019-01-11T00:00:00\", \"2019-01-14T00:00:00\", \"2019-01-15T00:00:00\", \"2019-01-16T00:00:00\", \"2019-01-17T00:00:00\", \"2019-01-18T00:00:00\", \"2019-01-22T00:00:00\", \"2019-01-23T00:00:00\", \"2019-01-24T00:00:00\", \"2019-01-25T00:00:00\", \"2019-01-28T00:00:00\", \"2019-01-29T00:00:00\", \"2019-01-30T00:00:00\", \"2019-01-31T00:00:00\", \"2019-02-01T00:00:00\", \"2019-02-04T00:00:00\", \"2019-02-05T00:00:00\", \"2019-02-06T00:00:00\", \"2019-02-07T00:00:00\", \"2019-02-08T00:00:00\", \"2019-02-11T00:00:00\", \"2019-02-12T00:00:00\", \"2019-02-13T00:00:00\", \"2019-02-14T00:00:00\", \"2019-02-15T00:00:00\", \"2019-02-19T00:00:00\", \"2019-02-20T00:00:00\", \"2019-02-21T00:00:00\", \"2019-02-22T00:00:00\", \"2019-02-25T00:00:00\", \"2019-02-26T00:00:00\", \"2019-02-27T00:00:00\", \"2019-02-28T00:00:00\", \"2019-03-01T00:00:00\", \"2019-03-04T00:00:00\", \"2019-03-05T00:00:00\", \"2019-03-06T00:00:00\", \"2019-03-07T00:00:00\", \"2019-03-08T00:00:00\", \"2019-03-11T00:00:00\", \"2019-03-12T00:00:00\", \"2019-03-13T00:00:00\", \"2019-03-14T00:00:00\", \"2019-03-15T00:00:00\", \"2019-03-18T00:00:00\", \"2019-03-19T00:00:00\", \"2019-03-20T00:00:00\", \"2019-03-21T00:00:00\", \"2019-03-22T00:00:00\", \"2019-03-25T00:00:00\", \"2019-03-26T00:00:00\", \"2019-03-27T00:00:00\", \"2019-03-28T00:00:00\", \"2019-03-29T00:00:00\", \"2019-04-01T00:00:00\", \"2019-04-02T00:00:00\", \"2019-04-03T00:00:00\", \"2019-04-04T00:00:00\", \"2019-04-05T00:00:00\", \"2019-04-08T00:00:00\", \"2019-04-09T00:00:00\", \"2019-04-10T00:00:00\", \"2019-04-11T00:00:00\", \"2019-04-12T00:00:00\", \"2019-04-15T00:00:00\", \"2019-04-16T00:00:00\", \"2019-04-17T00:00:00\", \"2019-04-18T00:00:00\", \"2019-04-22T00:00:00\", \"2019-04-23T00:00:00\", \"2019-04-24T00:00:00\", \"2019-04-25T00:00:00\", \"2019-04-26T00:00:00\", \"2019-04-29T00:00:00\", \"2019-04-30T00:00:00\", \"2019-05-01T00:00:00\", \"2019-05-02T00:00:00\", \"2019-05-03T00:00:00\", \"2019-05-06T00:00:00\", \"2019-05-07T00:00:00\", \"2019-05-08T00:00:00\", \"2019-05-09T00:00:00\", \"2019-05-10T00:00:00\", \"2019-05-13T00:00:00\", \"2019-05-14T00:00:00\", \"2019-05-15T00:00:00\", \"2019-05-16T00:00:00\", \"2019-05-17T00:00:00\", \"2019-05-20T00:00:00\", \"2019-05-21T00:00:00\", \"2019-05-22T00:00:00\", \"2019-05-23T00:00:00\", \"2019-05-24T00:00:00\", \"2019-05-28T00:00:00\", \"2019-05-29T00:00:00\", \"2019-05-30T00:00:00\", \"2019-05-31T00:00:00\", \"2019-06-03T00:00:00\", \"2019-06-04T00:00:00\", \"2019-06-05T00:00:00\", \"2019-06-06T00:00:00\", \"2019-06-07T00:00:00\", \"2019-06-10T00:00:00\", \"2019-06-11T00:00:00\", \"2019-06-12T00:00:00\", \"2019-06-13T00:00:00\", \"2019-06-14T00:00:00\", \"2019-06-17T00:00:00\", \"2019-06-18T00:00:00\", \"2019-06-19T00:00:00\", \"2019-06-20T00:00:00\", \"2019-06-21T00:00:00\", \"2019-06-24T00:00:00\", \"2019-06-25T00:00:00\", \"2019-06-26T00:00:00\", \"2019-06-27T00:00:00\", \"2019-06-28T00:00:00\", \"2019-07-01T00:00:00\", \"2019-07-02T00:00:00\", \"2019-07-03T00:00:00\", \"2019-07-05T00:00:00\", \"2019-07-08T00:00:00\", \"2019-07-09T00:00:00\", \"2019-07-10T00:00:00\", \"2019-07-11T00:00:00\", \"2019-07-12T00:00:00\", \"2019-07-15T00:00:00\", \"2019-07-16T00:00:00\", \"2019-07-17T00:00:00\", \"2019-07-18T00:00:00\", \"2019-07-19T00:00:00\", \"2019-07-22T00:00:00\", \"2019-07-23T00:00:00\", \"2019-07-24T00:00:00\", \"2019-07-25T00:00:00\", \"2019-07-26T00:00:00\", \"2019-07-29T00:00:00\", \"2019-07-30T00:00:00\", \"2019-07-31T00:00:00\", \"2019-08-01T00:00:00\", \"2019-08-02T00:00:00\", \"2019-08-05T00:00:00\", \"2019-08-06T00:00:00\", \"2019-08-07T00:00:00\", \"2019-08-08T00:00:00\", \"2019-08-09T00:00:00\", \"2019-08-12T00:00:00\", \"2019-08-13T00:00:00\", \"2019-08-14T00:00:00\", \"2019-08-15T00:00:00\", \"2019-08-16T00:00:00\", \"2019-08-19T00:00:00\", \"2019-08-20T00:00:00\", \"2019-08-21T00:00:00\", \"2019-08-22T00:00:00\", \"2019-08-23T00:00:00\", \"2019-08-26T00:00:00\", \"2019-08-27T00:00:00\", \"2019-08-28T00:00:00\", \"2019-08-29T00:00:00\", \"2019-08-30T00:00:00\", \"2019-09-03T00:00:00\", \"2019-09-04T00:00:00\", \"2019-09-05T00:00:00\", \"2019-09-06T00:00:00\", \"2019-09-09T00:00:00\", \"2019-09-10T00:00:00\", \"2019-09-11T00:00:00\", \"2019-09-12T00:00:00\", \"2019-09-13T00:00:00\", \"2019-09-16T00:00:00\", \"2019-09-17T00:00:00\", \"2019-09-18T00:00:00\", \"2019-09-19T00:00:00\", \"2019-09-20T00:00:00\", \"2019-09-23T00:00:00\", \"2019-09-24T00:00:00\", \"2019-09-25T00:00:00\", \"2019-09-26T00:00:00\", \"2019-09-27T00:00:00\", \"2019-09-30T00:00:00\", \"2019-10-01T00:00:00\", \"2019-10-02T00:00:00\", \"2019-10-03T00:00:00\", \"2019-10-04T00:00:00\", \"2019-10-07T00:00:00\", \"2019-10-08T00:00:00\", \"2019-10-09T00:00:00\", \"2019-10-10T00:00:00\", \"2019-10-11T00:00:00\", \"2019-10-14T00:00:00\", \"2019-10-15T00:00:00\", \"2019-10-16T00:00:00\", \"2019-10-17T00:00:00\", \"2019-10-18T00:00:00\", \"2019-10-21T00:00:00\", \"2019-10-22T00:00:00\", \"2019-10-23T00:00:00\", \"2019-10-24T00:00:00\", \"2019-10-25T00:00:00\", \"2019-10-28T00:00:00\", \"2019-10-29T00:00:00\", \"2019-10-30T00:00:00\", \"2019-10-31T00:00:00\", \"2019-11-01T00:00:00\", \"2019-11-04T00:00:00\", \"2019-11-05T00:00:00\", \"2019-11-06T00:00:00\", \"2019-11-07T00:00:00\", \"2019-11-08T00:00:00\", \"2019-11-11T00:00:00\", \"2019-11-12T00:00:00\", \"2019-11-13T00:00:00\", \"2019-11-14T00:00:00\", \"2019-11-15T00:00:00\", \"2019-11-18T00:00:00\", \"2019-11-19T00:00:00\", \"2019-11-20T00:00:00\", \"2019-11-21T00:00:00\", \"2019-11-22T00:00:00\", \"2019-11-25T00:00:00\", \"2019-11-26T00:00:00\", \"2019-11-27T00:00:00\", \"2019-11-29T00:00:00\", \"2019-12-02T00:00:00\", \"2019-12-03T00:00:00\", \"2019-12-04T00:00:00\", \"2019-12-05T00:00:00\", \"2019-12-06T00:00:00\", \"2019-12-09T00:00:00\", \"2019-12-10T00:00:00\", \"2019-12-11T00:00:00\", \"2019-12-12T00:00:00\", \"2019-12-13T00:00:00\", \"2019-12-16T00:00:00\", \"2019-12-17T00:00:00\", \"2019-12-18T00:00:00\", \"2019-12-19T00:00:00\", \"2019-12-20T00:00:00\", \"2019-12-23T00:00:00\", \"2019-12-24T00:00:00\", \"2019-12-26T00:00:00\", \"2019-12-27T00:00:00\", \"2019-12-30T00:00:00\", \"2019-12-31T00:00:00\", \"2020-01-02T00:00:00\", \"2020-01-03T00:00:00\", \"2020-01-06T00:00:00\", \"2020-01-07T00:00:00\", \"2020-01-08T00:00:00\", \"2020-01-09T00:00:00\", \"2020-01-10T00:00:00\", \"2020-01-13T00:00:00\", \"2020-01-14T00:00:00\", \"2020-01-15T00:00:00\", \"2020-01-16T00:00:00\", \"2020-01-17T00:00:00\", \"2020-01-21T00:00:00\", \"2020-01-22T00:00:00\", \"2020-01-23T00:00:00\", \"2020-01-24T00:00:00\", \"2020-01-27T00:00:00\", \"2020-01-28T00:00:00\", \"2020-01-29T00:00:00\", \"2020-01-30T00:00:00\", \"2020-01-31T00:00:00\", \"2020-02-03T00:00:00\", \"2020-02-04T00:00:00\", \"2020-02-05T00:00:00\", \"2020-02-06T00:00:00\", \"2020-02-07T00:00:00\", \"2020-02-10T00:00:00\", \"2020-02-11T00:00:00\", \"2020-02-12T00:00:00\", \"2020-02-13T00:00:00\", \"2020-02-14T00:00:00\", \"2020-02-18T00:00:00\", \"2020-02-19T00:00:00\", \"2020-02-20T00:00:00\", \"2020-02-21T00:00:00\", \"2020-02-24T00:00:00\", \"2020-02-25T00:00:00\", \"2020-02-26T00:00:00\", \"2020-02-27T00:00:00\", \"2020-02-28T00:00:00\", \"2020-03-02T00:00:00\", \"2020-03-03T00:00:00\", \"2020-03-04T00:00:00\", \"2020-03-05T00:00:00\", \"2020-03-06T00:00:00\", \"2020-03-09T00:00:00\", \"2020-03-10T00:00:00\", \"2020-03-11T00:00:00\", \"2020-03-12T00:00:00\", \"2020-03-13T00:00:00\", \"2020-03-16T00:00:00\", \"2020-03-17T00:00:00\", \"2020-03-18T00:00:00\", \"2020-03-19T00:00:00\", \"2020-03-20T00:00:00\", \"2020-03-23T00:00:00\", \"2020-03-24T00:00:00\", \"2020-03-25T00:00:00\", \"2020-03-26T00:00:00\", \"2020-03-27T00:00:00\", \"2020-03-30T00:00:00\", \"2020-03-31T00:00:00\", \"2020-04-01T00:00:00\", \"2020-04-02T00:00:00\", \"2020-04-03T00:00:00\", \"2020-04-06T00:00:00\", \"2020-04-07T00:00:00\", \"2020-04-08T00:00:00\", \"2020-04-09T00:00:00\", \"2020-04-13T00:00:00\", \"2020-04-14T00:00:00\", \"2020-04-15T00:00:00\", \"2020-04-16T00:00:00\", \"2020-04-17T00:00:00\", \"2020-04-20T00:00:00\", \"2020-04-21T00:00:00\", \"2020-04-22T00:00:00\", \"2020-04-23T00:00:00\", \"2020-04-24T00:00:00\", \"2020-04-27T00:00:00\", \"2020-04-28T00:00:00\", \"2020-04-29T00:00:00\", \"2020-04-30T00:00:00\", \"2020-05-01T00:00:00\", \"2020-05-04T00:00:00\", \"2020-05-05T00:00:00\", \"2020-05-06T00:00:00\", \"2020-05-07T00:00:00\", \"2020-05-08T00:00:00\", \"2020-05-11T00:00:00\", \"2020-05-12T00:00:00\", \"2020-05-13T00:00:00\", \"2020-05-14T00:00:00\", \"2020-05-15T00:00:00\", \"2020-05-18T00:00:00\", \"2020-05-19T00:00:00\", \"2020-05-20T00:00:00\", \"2020-05-21T00:00:00\", \"2020-05-22T00:00:00\", \"2020-05-26T00:00:00\", \"2020-05-27T00:00:00\", \"2020-05-28T00:00:00\", \"2020-05-29T00:00:00\", \"2020-06-01T00:00:00\", \"2020-06-02T00:00:00\", \"2020-06-03T00:00:00\", \"2020-06-04T00:00:00\", \"2020-06-05T00:00:00\", \"2020-06-08T00:00:00\", \"2020-06-09T00:00:00\", \"2020-06-10T00:00:00\", \"2020-06-11T00:00:00\", \"2020-06-12T00:00:00\", \"2020-06-15T00:00:00\", \"2020-06-16T00:00:00\", \"2020-06-17T00:00:00\", \"2020-06-18T00:00:00\", \"2020-06-19T00:00:00\", \"2020-06-22T00:00:00\", \"2020-06-23T00:00:00\", \"2020-06-24T00:00:00\", \"2020-06-25T00:00:00\", \"2020-06-26T00:00:00\", \"2020-06-29T00:00:00\", \"2020-06-30T00:00:00\", \"2020-07-01T00:00:00\", \"2020-07-02T00:00:00\", \"2020-07-06T00:00:00\", \"2020-07-07T00:00:00\", \"2020-07-08T00:00:00\", \"2020-07-09T00:00:00\", \"2020-07-10T00:00:00\", \"2020-07-13T00:00:00\", \"2020-07-14T00:00:00\", \"2020-07-15T00:00:00\", \"2020-07-16T00:00:00\", \"2020-07-17T00:00:00\", \"2020-07-20T00:00:00\", \"2020-07-21T00:00:00\", \"2020-07-22T00:00:00\", \"2020-07-23T00:00:00\", \"2020-07-24T00:00:00\", \"2020-07-27T00:00:00\", \"2020-07-28T00:00:00\", \"2020-07-29T00:00:00\", \"2020-07-30T00:00:00\", \"2020-07-31T00:00:00\", \"2020-08-03T00:00:00\", \"2020-08-04T00:00:00\", \"2020-08-05T00:00:00\", \"2020-08-06T00:00:00\", \"2020-08-07T00:00:00\", \"2020-08-10T00:00:00\", \"2020-08-11T00:00:00\", \"2020-08-12T00:00:00\", \"2020-08-13T00:00:00\", \"2020-08-14T00:00:00\", \"2020-08-17T00:00:00\", \"2020-08-18T00:00:00\", \"2020-08-19T00:00:00\", \"2020-08-20T00:00:00\", \"2020-08-21T00:00:00\", \"2020-08-24T00:00:00\", \"2020-08-25T00:00:00\", \"2020-08-26T00:00:00\", \"2020-08-27T00:00:00\", \"2020-08-28T00:00:00\", \"2020-08-31T00:00:00\", \"2020-09-01T00:00:00\", \"2020-09-02T00:00:00\", \"2020-09-03T00:00:00\", \"2020-09-04T00:00:00\", \"2020-09-08T00:00:00\", \"2020-09-09T00:00:00\", \"2020-09-10T00:00:00\", \"2020-09-11T00:00:00\", \"2020-09-14T00:00:00\", \"2020-09-15T00:00:00\", \"2020-09-16T00:00:00\", \"2020-09-17T00:00:00\", \"2020-09-18T00:00:00\", \"2020-09-21T00:00:00\", \"2020-09-22T00:00:00\", \"2020-09-23T00:00:00\", \"2020-09-24T00:00:00\", \"2020-09-25T00:00:00\", \"2020-09-28T00:00:00\", \"2020-09-29T00:00:00\", \"2020-09-30T00:00:00\", \"2020-10-01T00:00:00\", \"2020-10-02T00:00:00\", \"2020-10-05T00:00:00\", \"2020-10-06T00:00:00\", \"2020-10-07T00:00:00\", \"2020-10-08T00:00:00\", \"2020-10-09T00:00:00\", \"2020-10-12T00:00:00\", \"2020-10-13T00:00:00\", \"2020-10-14T00:00:00\", \"2020-10-15T00:00:00\", \"2020-10-16T00:00:00\", \"2020-10-19T00:00:00\", \"2020-10-20T00:00:00\", \"2020-10-21T00:00:00\", \"2020-10-22T00:00:00\", \"2020-10-23T00:00:00\", \"2020-10-26T00:00:00\", \"2020-10-27T00:00:00\", \"2020-10-28T00:00:00\", \"2020-10-29T00:00:00\", \"2020-10-30T00:00:00\", \"2020-11-02T00:00:00\", \"2020-11-03T00:00:00\", \"2020-11-04T00:00:00\", \"2020-11-05T00:00:00\", \"2020-11-06T00:00:00\", \"2020-11-09T00:00:00\", \"2020-11-10T00:00:00\", \"2020-11-11T00:00:00\", \"2020-11-12T00:00:00\", \"2020-11-13T00:00:00\", \"2020-11-16T00:00:00\", \"2020-11-17T00:00:00\", \"2020-11-18T00:00:00\", \"2020-11-19T00:00:00\", \"2020-11-20T00:00:00\"]}],                        {\"template\": {\"data\": {\"bar\": [{\"error_x\": {\"color\": \"#f2f5fa\"}, \"error_y\": {\"color\": \"#f2f5fa\"}, \"marker\": {\"line\": {\"color\": \"rgb(17,17,17)\", \"width\": 0.5}}, \"type\": \"bar\"}], \"barpolar\": [{\"marker\": {\"line\": {\"color\": \"rgb(17,17,17)\", \"width\": 0.5}}, \"type\": \"barpolar\"}], \"carpet\": [{\"aaxis\": {\"endlinecolor\": \"#A2B1C6\", \"gridcolor\": \"#506784\", \"linecolor\": \"#506784\", \"minorgridcolor\": \"#506784\", \"startlinecolor\": \"#A2B1C6\"}, \"baxis\": {\"endlinecolor\": \"#A2B1C6\", \"gridcolor\": \"#506784\", \"linecolor\": \"#506784\", \"minorgridcolor\": \"#506784\", \"startlinecolor\": \"#A2B1C6\"}, \"type\": \"carpet\"}], \"choropleth\": [{\"colorbar\": {\"outlinewidth\": 0, \"ticks\": \"\"}, \"type\": \"choropleth\"}], \"contour\": [{\"colorbar\": {\"outlinewidth\": 0, \"ticks\": \"\"}, \"colorscale\": [[0.0, \"#0d0887\"], [0.1111111111111111, \"#46039f\"], [0.2222222222222222, \"#7201a8\"], [0.3333333333333333, \"#9c179e\"], [0.4444444444444444, \"#bd3786\"], [0.5555555555555556, \"#d8576b\"], [0.6666666666666666, \"#ed7953\"], [0.7777777777777778, \"#fb9f3a\"], [0.8888888888888888, \"#fdca26\"], [1.0, \"#f0f921\"]], \"type\": \"contour\"}], \"contourcarpet\": [{\"colorbar\": {\"outlinewidth\": 0, \"ticks\": \"\"}, \"type\": \"contourcarpet\"}], \"heatmap\": [{\"colorbar\": {\"outlinewidth\": 0, \"ticks\": \"\"}, \"colorscale\": [[0.0, \"#0d0887\"], [0.1111111111111111, \"#46039f\"], [0.2222222222222222, \"#7201a8\"], [0.3333333333333333, \"#9c179e\"], [0.4444444444444444, \"#bd3786\"], [0.5555555555555556, \"#d8576b\"], [0.6666666666666666, \"#ed7953\"], [0.7777777777777778, \"#fb9f3a\"], [0.8888888888888888, \"#fdca26\"], [1.0, \"#f0f921\"]], \"type\": \"heatmap\"}], \"heatmapgl\": [{\"colorbar\": {\"outlinewidth\": 0, \"ticks\": \"\"}, \"colorscale\": [[0.0, \"#0d0887\"], [0.1111111111111111, \"#46039f\"], [0.2222222222222222, \"#7201a8\"], [0.3333333333333333, \"#9c179e\"], [0.4444444444444444, \"#bd3786\"], [0.5555555555555556, \"#d8576b\"], [0.6666666666666666, \"#ed7953\"], [0.7777777777777778, \"#fb9f3a\"], [0.8888888888888888, \"#fdca26\"], [1.0, \"#f0f921\"]], \"type\": \"heatmapgl\"}], \"histogram\": [{\"marker\": {\"colorbar\": {\"outlinewidth\": 0, \"ticks\": \"\"}}, \"type\": \"histogram\"}], \"histogram2d\": [{\"colorbar\": {\"outlinewidth\": 0, \"ticks\": \"\"}, \"colorscale\": [[0.0, \"#0d0887\"], [0.1111111111111111, \"#46039f\"], [0.2222222222222222, \"#7201a8\"], [0.3333333333333333, \"#9c179e\"], [0.4444444444444444, \"#bd3786\"], [0.5555555555555556, \"#d8576b\"], [0.6666666666666666, \"#ed7953\"], [0.7777777777777778, \"#fb9f3a\"], [0.8888888888888888, \"#fdca26\"], [1.0, \"#f0f921\"]], \"type\": \"histogram2d\"}], \"histogram2dcontour\": [{\"colorbar\": {\"outlinewidth\": 0, \"ticks\": \"\"}, \"colorscale\": [[0.0, \"#0d0887\"], [0.1111111111111111, \"#46039f\"], [0.2222222222222222, \"#7201a8\"], [0.3333333333333333, \"#9c179e\"], [0.4444444444444444, \"#bd3786\"], [0.5555555555555556, \"#d8576b\"], [0.6666666666666666, \"#ed7953\"], [0.7777777777777778, \"#fb9f3a\"], [0.8888888888888888, \"#fdca26\"], [1.0, \"#f0f921\"]], \"type\": \"histogram2dcontour\"}], \"mesh3d\": [{\"colorbar\": {\"outlinewidth\": 0, \"ticks\": \"\"}, \"type\": \"mesh3d\"}], \"parcoords\": [{\"line\": {\"colorbar\": {\"outlinewidth\": 0, \"ticks\": \"\"}}, \"type\": \"parcoords\"}], \"pie\": [{\"automargin\": true, \"type\": \"pie\"}], \"scatter\": [{\"marker\": {\"line\": {\"color\": \"#283442\"}}, \"type\": \"scatter\"}], \"scatter3d\": [{\"line\": {\"colorbar\": {\"outlinewidth\": 0, \"ticks\": \"\"}}, \"marker\": {\"colorbar\": {\"outlinewidth\": 0, \"ticks\": \"\"}}, \"type\": \"scatter3d\"}], \"scattercarpet\": [{\"marker\": {\"colorbar\": {\"outlinewidth\": 0, \"ticks\": \"\"}}, \"type\": \"scattercarpet\"}], \"scattergeo\": [{\"marker\": {\"colorbar\": {\"outlinewidth\": 0, \"ticks\": \"\"}}, \"type\": \"scattergeo\"}], \"scattergl\": [{\"marker\": {\"line\": {\"color\": \"#283442\"}}, \"type\": \"scattergl\"}], \"scattermapbox\": [{\"marker\": {\"colorbar\": {\"outlinewidth\": 0, \"ticks\": \"\"}}, \"type\": \"scattermapbox\"}], \"scatterpolar\": [{\"marker\": {\"colorbar\": {\"outlinewidth\": 0, \"ticks\": \"\"}}, \"type\": \"scatterpolar\"}], \"scatterpolargl\": [{\"marker\": {\"colorbar\": {\"outlinewidth\": 0, \"ticks\": \"\"}}, \"type\": \"scatterpolargl\"}], \"scatterternary\": [{\"marker\": {\"colorbar\": {\"outlinewidth\": 0, \"ticks\": \"\"}}, \"type\": \"scatterternary\"}], \"surface\": [{\"colorbar\": {\"outlinewidth\": 0, \"ticks\": \"\"}, \"colorscale\": [[0.0, \"#0d0887\"], [0.1111111111111111, \"#46039f\"], [0.2222222222222222, \"#7201a8\"], [0.3333333333333333, \"#9c179e\"], [0.4444444444444444, \"#bd3786\"], [0.5555555555555556, \"#d8576b\"], [0.6666666666666666, \"#ed7953\"], [0.7777777777777778, \"#fb9f3a\"], [0.8888888888888888, \"#fdca26\"], [1.0, \"#f0f921\"]], \"type\": \"surface\"}], \"table\": [{\"cells\": {\"fill\": {\"color\": \"#506784\"}, \"line\": {\"color\": \"rgb(17,17,17)\"}}, \"header\": {\"fill\": {\"color\": \"#2a3f5f\"}, \"line\": {\"color\": \"rgb(17,17,17)\"}}, \"type\": \"table\"}]}, \"layout\": {\"annotationdefaults\": {\"arrowcolor\": \"#f2f5fa\", \"arrowhead\": 0, \"arrowwidth\": 1}, \"coloraxis\": {\"colorbar\": {\"outlinewidth\": 0, \"ticks\": \"\"}}, \"colorscale\": {\"diverging\": [[0, \"#8e0152\"], [0.1, \"#c51b7d\"], [0.2, \"#de77ae\"], [0.3, \"#f1b6da\"], [0.4, \"#fde0ef\"], [0.5, \"#f7f7f7\"], [0.6, \"#e6f5d0\"], [0.7, \"#b8e186\"], [0.8, \"#7fbc41\"], [0.9, \"#4d9221\"], [1, \"#276419\"]], \"sequential\": [[0.0, \"#0d0887\"], [0.1111111111111111, \"#46039f\"], [0.2222222222222222, \"#7201a8\"], [0.3333333333333333, \"#9c179e\"], [0.4444444444444444, \"#bd3786\"], [0.5555555555555556, \"#d8576b\"], [0.6666666666666666, \"#ed7953\"], [0.7777777777777778, \"#fb9f3a\"], [0.8888888888888888, \"#fdca26\"], [1.0, \"#f0f921\"]], \"sequentialminus\": [[0.0, \"#0d0887\"], [0.1111111111111111, \"#46039f\"], [0.2222222222222222, \"#7201a8\"], [0.3333333333333333, \"#9c179e\"], [0.4444444444444444, \"#bd3786\"], [0.5555555555555556, \"#d8576b\"], [0.6666666666666666, \"#ed7953\"], [0.7777777777777778, \"#fb9f3a\"], [0.8888888888888888, \"#fdca26\"], [1.0, \"#f0f921\"]]}, \"colorway\": [\"#636efa\", \"#EF553B\", \"#00cc96\", \"#ab63fa\", \"#FFA15A\", \"#19d3f3\", \"#FF6692\", \"#B6E880\", \"#FF97FF\", \"#FECB52\"], \"font\": {\"color\": \"#f2f5fa\"}, \"geo\": {\"bgcolor\": \"rgb(17,17,17)\", \"lakecolor\": \"rgb(17,17,17)\", \"landcolor\": \"rgb(17,17,17)\", \"showlakes\": true, \"showland\": true, \"subunitcolor\": \"#506784\"}, \"hoverlabel\": {\"align\": \"left\"}, \"hovermode\": \"closest\", \"mapbox\": {\"style\": \"dark\"}, \"paper_bgcolor\": \"rgb(17,17,17)\", \"plot_bgcolor\": \"rgb(17,17,17)\", \"polar\": {\"angularaxis\": {\"gridcolor\": \"#506784\", \"linecolor\": \"#506784\", \"ticks\": \"\"}, \"bgcolor\": \"rgb(17,17,17)\", \"radialaxis\": {\"gridcolor\": \"#506784\", \"linecolor\": \"#506784\", \"ticks\": \"\"}}, \"scene\": {\"xaxis\": {\"backgroundcolor\": \"rgb(17,17,17)\", \"gridcolor\": \"#506784\", \"gridwidth\": 2, \"linecolor\": \"#506784\", \"showbackground\": true, \"ticks\": \"\", \"zerolinecolor\": \"#C8D4E3\"}, \"yaxis\": {\"backgroundcolor\": \"rgb(17,17,17)\", \"gridcolor\": \"#506784\", \"gridwidth\": 2, \"linecolor\": \"#506784\", \"showbackground\": true, \"ticks\": \"\", \"zerolinecolor\": \"#C8D4E3\"}, \"zaxis\": {\"backgroundcolor\": \"rgb(17,17,17)\", \"gridcolor\": \"#506784\", \"gridwidth\": 2, \"linecolor\": \"#506784\", \"showbackground\": true, \"ticks\": \"\", \"zerolinecolor\": \"#C8D4E3\"}}, \"shapedefaults\": {\"line\": {\"color\": \"#f2f5fa\"}}, \"sliderdefaults\": {\"bgcolor\": \"#C8D4E3\", \"bordercolor\": \"rgb(17,17,17)\", \"borderwidth\": 1, \"tickwidth\": 0}, \"ternary\": {\"aaxis\": {\"gridcolor\": \"#506784\", \"linecolor\": \"#506784\", \"ticks\": \"\"}, \"baxis\": {\"gridcolor\": \"#506784\", \"linecolor\": \"#506784\", \"ticks\": \"\"}, \"bgcolor\": \"rgb(17,17,17)\", \"caxis\": {\"gridcolor\": \"#506784\", \"linecolor\": \"#506784\", \"ticks\": \"\"}}, \"title\": {\"x\": 0.05}, \"updatemenudefaults\": {\"bgcolor\": \"#506784\", \"borderwidth\": 0}, \"xaxis\": {\"automargin\": true, \"gridcolor\": \"#283442\", \"linecolor\": \"#506784\", \"ticks\": \"\", \"title\": {\"standoff\": 15}, \"zerolinecolor\": \"#283442\", \"zerolinewidth\": 2}, \"yaxis\": {\"automargin\": true, \"gridcolor\": \"#283442\", \"linecolor\": \"#506784\", \"ticks\": \"\", \"title\": {\"standoff\": 15}, \"zerolinecolor\": \"#283442\", \"zerolinewidth\": 2}}}, \"title\": {\"text\": \"Amazon Stocks\"}, \"yaxis\": {\"title\": {\"text\": \"Value in $\"}}},                        {\"responsive\": true}                    ).then(function(){\n",
       "                            \n",
       "var gd = document.getElementById('f20008a3-6e09-4bf6-895f-f3bd94e73a98');\n",
       "var x = new MutationObserver(function (mutations, observer) {{\n",
       "        var display = window.getComputedStyle(gd).display;\n",
       "        if (!display || display === 'none') {{\n",
       "            console.log([gd, 'removed!']);\n",
       "            Plotly.purge(gd);\n",
       "            observer.disconnect();\n",
       "        }}\n",
       "}});\n",
       "\n",
       "// Listen for the removal of the full notebook cells\n",
       "var notebookContainer = gd.closest('#notebook-container');\n",
       "if (notebookContainer) {{\n",
       "    x.observe(notebookContainer, {childList: true});\n",
       "}}\n",
       "\n",
       "// Listen for the clearing of the current output cell\n",
       "var outputEl = gd.closest('.output');\n",
       "if (outputEl) {{\n",
       "    x.observe(outputEl, {childList: true});\n",
       "}}\n",
       "\n",
       "                        })                };                });            </script>        </div>"
      ]
     },
     "metadata": {},
     "output_type": "display_data"
    }
   ],
   "source": [
    "fig = go.Figure(data=[go.Candlestick(x=AMAZ.index,\n",
    "                open=AMAZ['Open'],\n",
    "                high=AMAZ['High'],\n",
    "                low=AMAZ['Low'],\n",
    "                close=AMAZ['Close'])])\n",
    "\n",
    "fig.update_layout(\n",
    "    title='Amazon Stocks',\n",
    "    yaxis_title='Value in $',\n",
    "    template = 'plotly_dark')\n",
    "\n",
    "fig.show()"
   ]
  }
 ],
 "metadata": {
  "kernelspec": {
   "display_name": "Python 3",
   "language": "python",
   "name": "python3"
  },
  "language_info": {
   "codemirror_mode": {
    "name": "ipython",
    "version": 3
   },
   "file_extension": ".py",
   "mimetype": "text/x-python",
   "name": "python",
   "nbconvert_exporter": "python",
   "pygments_lexer": "ipython3",
   "version": "3.8.5"
  }
 },
 "nbformat": 4,
 "nbformat_minor": 4
}
