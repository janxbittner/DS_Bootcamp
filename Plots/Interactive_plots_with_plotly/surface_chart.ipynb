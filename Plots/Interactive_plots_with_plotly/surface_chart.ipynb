{
 "cells": [
  {
   "cell_type": "markdown",
   "metadata": {
    "id": "GuUNAX-c9omj"
   },
   "source": [
    "Importing modules."
   ]
  },
  {
   "cell_type": "code",
   "execution_count": 1,
   "metadata": {
    "executionInfo": {
     "elapsed": 727,
     "status": "ok",
     "timestamp": 1601454541449,
     "user": {
      "displayName": "Jan Bittner",
      "photoUrl": "https://lh3.googleusercontent.com/a-/AOh14Ghj5jfRab4Qm2b_tF6wFh2RwNvsNNEVmQn36_ovJQ=s64",
      "userId": "03051414017914357011"
     },
     "user_tz": -120
    },
    "id": "jYcHiXKp8FDH"
   },
   "outputs": [],
   "source": [
    "import plotly.express as px\n",
    "import pandas as pd\n",
    "import pandas_datareader.data as web"
   ]
  },
  {
   "cell_type": "markdown",
   "metadata": {
    "id": "loMbxbYo-Aya"
   },
   "source": [
    "Load data about amazon stocks using pandas data reader and show first 3 rows."
   ]
  },
  {
   "cell_type": "code",
   "execution_count": 2,
   "metadata": {
    "colab": {
     "base_uri": "https://localhost:8080/",
     "height": 166
    },
    "executionInfo": {
     "elapsed": 1677,
     "status": "ok",
     "timestamp": 1601454542447,
     "user": {
      "displayName": "Jan Bittner",
      "photoUrl": "https://lh3.googleusercontent.com/a-/AOh14Ghj5jfRab4Qm2b_tF6wFh2RwNvsNNEVmQn36_ovJQ=s64",
      "userId": "03051414017914357011"
     },
     "user_tz": -120
    },
    "id": "_kEcz8FU8hiu",
    "outputId": "4d5cb7aa-d8fb-4d5a-f5b8-d809e3e1f0b6"
   },
   "outputs": [
    {
     "data": {
      "text/html": [
       "<div>\n",
       "<style scoped>\n",
       "    .dataframe tbody tr th:only-of-type {\n",
       "        vertical-align: middle;\n",
       "    }\n",
       "\n",
       "    .dataframe tbody tr th {\n",
       "        vertical-align: top;\n",
       "    }\n",
       "\n",
       "    .dataframe thead th {\n",
       "        text-align: right;\n",
       "    }\n",
       "</style>\n",
       "<table border=\"1\" class=\"dataframe\">\n",
       "  <thead>\n",
       "    <tr style=\"text-align: right;\">\n",
       "      <th></th>\n",
       "      <th>Open</th>\n",
       "      <th>High</th>\n",
       "      <th>Low</th>\n",
       "      <th>Close</th>\n",
       "      <th>Volume</th>\n",
       "    </tr>\n",
       "    <tr>\n",
       "      <th>Date</th>\n",
       "      <th></th>\n",
       "      <th></th>\n",
       "      <th></th>\n",
       "      <th></th>\n",
       "      <th></th>\n",
       "    </tr>\n",
       "  </thead>\n",
       "  <tbody>\n",
       "    <tr>\n",
       "      <th>2020-10-13</th>\n",
       "      <td>3467.99</td>\n",
       "      <td>3492.38</td>\n",
       "      <td>3424.217</td>\n",
       "      <td>3443.63</td>\n",
       "      <td>5744697</td>\n",
       "    </tr>\n",
       "    <tr>\n",
       "      <th>2020-10-12</th>\n",
       "      <td>3349.94</td>\n",
       "      <td>3496.24</td>\n",
       "      <td>3339.550</td>\n",
       "      <td>3442.93</td>\n",
       "      <td>8364198</td>\n",
       "    </tr>\n",
       "    <tr>\n",
       "      <th>2020-10-09</th>\n",
       "      <td>3210.00</td>\n",
       "      <td>3288.99</td>\n",
       "      <td>3197.830</td>\n",
       "      <td>3286.65</td>\n",
       "      <td>4907871</td>\n",
       "    </tr>\n",
       "  </tbody>\n",
       "</table>\n",
       "</div>"
      ],
      "text/plain": [
       "               Open     High       Low    Close   Volume\n",
       "Date                                                    \n",
       "2020-10-13  3467.99  3492.38  3424.217  3443.63  5744697\n",
       "2020-10-12  3349.94  3496.24  3339.550  3442.93  8364198\n",
       "2020-10-09  3210.00  3288.99  3197.830  3286.65  4907871"
      ]
     },
     "execution_count": 2,
     "metadata": {},
     "output_type": "execute_result"
    }
   ],
   "source": [
    "data = web.DataReader('AMZN', 'stooq')\n",
    "data.head(3)"
   ]
  },
  {
   "cell_type": "markdown",
   "metadata": {
    "id": "Dh6QwUCr_ban"
   },
   "source": [
    "Show statistics about numerical data."
   ]
  },
  {
   "cell_type": "code",
   "execution_count": 3,
   "metadata": {
    "colab": {
     "base_uri": "https://localhost:8080/",
     "height": 284
    },
    "executionInfo": {
     "elapsed": 1632,
     "status": "ok",
     "timestamp": 1601454542448,
     "user": {
      "displayName": "Jan Bittner",
      "photoUrl": "https://lh3.googleusercontent.com/a-/AOh14Ghj5jfRab4Qm2b_tF6wFh2RwNvsNNEVmQn36_ovJQ=s64",
      "userId": "03051414017914357011"
     },
     "user_tz": -120
    },
    "id": "heA0xsoU_frK",
    "outputId": "4347741b-38ce-4709-e0e6-78f915500a67"
   },
   "outputs": [
    {
     "data": {
      "text/html": [
       "<div>\n",
       "<style scoped>\n",
       "    .dataframe tbody tr th:only-of-type {\n",
       "        vertical-align: middle;\n",
       "    }\n",
       "\n",
       "    .dataframe tbody tr th {\n",
       "        vertical-align: top;\n",
       "    }\n",
       "\n",
       "    .dataframe thead th {\n",
       "        text-align: right;\n",
       "    }\n",
       "</style>\n",
       "<table border=\"1\" class=\"dataframe\">\n",
       "  <thead>\n",
       "    <tr style=\"text-align: right;\">\n",
       "      <th></th>\n",
       "      <th>Open</th>\n",
       "      <th>High</th>\n",
       "      <th>Low</th>\n",
       "      <th>Close</th>\n",
       "      <th>Volume</th>\n",
       "    </tr>\n",
       "  </thead>\n",
       "  <tbody>\n",
       "    <tr>\n",
       "      <th>count</th>\n",
       "      <td>1257.000000</td>\n",
       "      <td>1257.000000</td>\n",
       "      <td>1257.000000</td>\n",
       "      <td>1257.000000</td>\n",
       "      <td>1.257000e+03</td>\n",
       "    </tr>\n",
       "    <tr>\n",
       "      <th>mean</th>\n",
       "      <td>1447.789900</td>\n",
       "      <td>1462.933687</td>\n",
       "      <td>1430.857825</td>\n",
       "      <td>1447.758484</td>\n",
       "      <td>4.304860e+06</td>\n",
       "    </tr>\n",
       "    <tr>\n",
       "      <th>std</th>\n",
       "      <td>681.121168</td>\n",
       "      <td>691.049914</td>\n",
       "      <td>670.465957</td>\n",
       "      <td>681.100495</td>\n",
       "      <td>2.155881e+06</td>\n",
       "    </tr>\n",
       "    <tr>\n",
       "      <th>min</th>\n",
       "      <td>478.010000</td>\n",
       "      <td>493.500000</td>\n",
       "      <td>474.000000</td>\n",
       "      <td>482.070000</td>\n",
       "      <td>8.813370e+05</td>\n",
       "    </tr>\n",
       "    <tr>\n",
       "      <th>25%</th>\n",
       "      <td>829.000000</td>\n",
       "      <td>833.500000</td>\n",
       "      <td>822.210000</td>\n",
       "      <td>829.050000</td>\n",
       "      <td>2.849491e+06</td>\n",
       "    </tr>\n",
       "    <tr>\n",
       "      <th>50%</th>\n",
       "      <td>1524.500000</td>\n",
       "      <td>1542.130000</td>\n",
       "      <td>1499.250000</td>\n",
       "      <td>1517.860000</td>\n",
       "      <td>3.735683e+06</td>\n",
       "    </tr>\n",
       "    <tr>\n",
       "      <th>75%</th>\n",
       "      <td>1836.590000</td>\n",
       "      <td>1850.000000</td>\n",
       "      <td>1818.000000</td>\n",
       "      <td>1837.280000</td>\n",
       "      <td>5.155732e+06</td>\n",
       "    </tr>\n",
       "    <tr>\n",
       "      <th>max</th>\n",
       "      <td>3547.000000</td>\n",
       "      <td>3552.250000</td>\n",
       "      <td>3486.685000</td>\n",
       "      <td>3531.450000</td>\n",
       "      <td>1.655260e+07</td>\n",
       "    </tr>\n",
       "  </tbody>\n",
       "</table>\n",
       "</div>"
      ],
      "text/plain": [
       "              Open         High          Low        Close        Volume\n",
       "count  1257.000000  1257.000000  1257.000000  1257.000000  1.257000e+03\n",
       "mean   1447.789900  1462.933687  1430.857825  1447.758484  4.304860e+06\n",
       "std     681.121168   691.049914   670.465957   681.100495  2.155881e+06\n",
       "min     478.010000   493.500000   474.000000   482.070000  8.813370e+05\n",
       "25%     829.000000   833.500000   822.210000   829.050000  2.849491e+06\n",
       "50%    1524.500000  1542.130000  1499.250000  1517.860000  3.735683e+06\n",
       "75%    1836.590000  1850.000000  1818.000000  1837.280000  5.155732e+06\n",
       "max    3547.000000  3552.250000  3486.685000  3531.450000  1.655260e+07"
      ]
     },
     "execution_count": 3,
     "metadata": {},
     "output_type": "execute_result"
    }
   ],
   "source": [
    "data.describe()"
   ]
  },
  {
   "cell_type": "markdown",
   "metadata": {
    "id": "vECmwLIMH4mk"
   },
   "source": [
    "Create column with date, show first 2 rows."
   ]
  },
  {
   "cell_type": "code",
   "execution_count": 4,
   "metadata": {
    "colab": {
     "base_uri": "https://localhost:8080/",
     "height": 106
    },
    "executionInfo": {
     "elapsed": 1605,
     "status": "ok",
     "timestamp": 1601454542449,
     "user": {
      "displayName": "Jan Bittner",
      "photoUrl": "https://lh3.googleusercontent.com/a-/AOh14Ghj5jfRab4Qm2b_tF6wFh2RwNvsNNEVmQn36_ovJQ=s64",
      "userId": "03051414017914357011"
     },
     "user_tz": -120
    },
    "id": "-xwONLWkH9FP",
    "outputId": "7ad9bd7f-b1a0-4916-b81b-3b4f990c45db"
   },
   "outputs": [
    {
     "data": {
      "text/html": [
       "<div>\n",
       "<style scoped>\n",
       "    .dataframe tbody tr th:only-of-type {\n",
       "        vertical-align: middle;\n",
       "    }\n",
       "\n",
       "    .dataframe tbody tr th {\n",
       "        vertical-align: top;\n",
       "    }\n",
       "\n",
       "    .dataframe thead th {\n",
       "        text-align: right;\n",
       "    }\n",
       "</style>\n",
       "<table border=\"1\" class=\"dataframe\">\n",
       "  <thead>\n",
       "    <tr style=\"text-align: right;\">\n",
       "      <th></th>\n",
       "      <th>Date</th>\n",
       "      <th>Open</th>\n",
       "      <th>High</th>\n",
       "      <th>Low</th>\n",
       "      <th>Close</th>\n",
       "      <th>Volume</th>\n",
       "    </tr>\n",
       "  </thead>\n",
       "  <tbody>\n",
       "    <tr>\n",
       "      <th>0</th>\n",
       "      <td>2020-10-13</td>\n",
       "      <td>3467.99</td>\n",
       "      <td>3492.38</td>\n",
       "      <td>3424.217</td>\n",
       "      <td>3443.63</td>\n",
       "      <td>5744697</td>\n",
       "    </tr>\n",
       "    <tr>\n",
       "      <th>1</th>\n",
       "      <td>2020-10-12</td>\n",
       "      <td>3349.94</td>\n",
       "      <td>3496.24</td>\n",
       "      <td>3339.550</td>\n",
       "      <td>3442.93</td>\n",
       "      <td>8364198</td>\n",
       "    </tr>\n",
       "  </tbody>\n",
       "</table>\n",
       "</div>"
      ],
      "text/plain": [
       "        Date     Open     High       Low    Close   Volume\n",
       "0 2020-10-13  3467.99  3492.38  3424.217  3443.63  5744697\n",
       "1 2020-10-12  3349.94  3496.24  3339.550  3442.93  8364198"
      ]
     },
     "execution_count": 4,
     "metadata": {},
     "output_type": "execute_result"
    }
   ],
   "source": [
    "data = data.reset_index()\n",
    "data.head(2)"
   ]
  },
  {
   "cell_type": "markdown",
   "metadata": {
    "id": "djl1sT0B-vXw"
   },
   "source": [
    "Create area chart with information about close price in 2020."
   ]
  },
  {
   "cell_type": "code",
   "execution_count": 6,
   "metadata": {
    "colab": {
     "base_uri": "https://localhost:8080/",
     "height": 542
    },
    "executionInfo": {
     "elapsed": 1314,
     "status": "ok",
     "timestamp": 1601454941395,
     "user": {
      "displayName": "Jan Bittner",
      "photoUrl": "https://lh3.googleusercontent.com/a-/AOh14Ghj5jfRab4Qm2b_tF6wFh2RwNvsNNEVmQn36_ovJQ=s64",
      "userId": "03051414017914357011"
     },
     "user_tz": -120
    },
    "id": "FYaniI2S-St8",
    "outputId": "7a9380aa-0b6d-486f-ac93-32212b908495"
   },
   "outputs": [
    {
     "data": {
      "application/vnd.plotly.v1+json": {
       "config": {
        "plotlyServerURL": "https://plotly.com"
       },
       "data": [
        {
         "hovertemplate": "Date=%{x}<br>Close=%{y}<extra></extra>",
         "legendgroup": "",
         "line": {
          "color": "#F8766D"
         },
         "mode": "lines",
         "name": "",
         "orientation": "v",
         "showlegend": false,
         "stackgroup": "1",
         "type": "scatter",
         "x": [
          "2020-10-13T00:00:00",
          "2020-10-12T00:00:00",
          "2020-10-09T00:00:00",
          "2020-10-08T00:00:00",
          "2020-10-07T00:00:00",
          "2020-10-06T00:00:00",
          "2020-10-05T00:00:00",
          "2020-10-02T00:00:00",
          "2020-10-01T00:00:00",
          "2020-09-30T00:00:00",
          "2020-09-29T00:00:00",
          "2020-09-28T00:00:00",
          "2020-09-25T00:00:00",
          "2020-09-24T00:00:00",
          "2020-09-23T00:00:00",
          "2020-09-22T00:00:00",
          "2020-09-21T00:00:00",
          "2020-09-18T00:00:00",
          "2020-09-17T00:00:00",
          "2020-09-16T00:00:00",
          "2020-09-15T00:00:00",
          "2020-09-14T00:00:00",
          "2020-09-11T00:00:00",
          "2020-09-10T00:00:00",
          "2020-09-09T00:00:00",
          "2020-09-08T00:00:00",
          "2020-09-04T00:00:00",
          "2020-09-03T00:00:00",
          "2020-09-02T00:00:00",
          "2020-09-01T00:00:00",
          "2020-08-31T00:00:00",
          "2020-08-28T00:00:00",
          "2020-08-27T00:00:00",
          "2020-08-26T00:00:00",
          "2020-08-25T00:00:00",
          "2020-08-24T00:00:00",
          "2020-08-21T00:00:00",
          "2020-08-20T00:00:00",
          "2020-08-19T00:00:00",
          "2020-08-18T00:00:00",
          "2020-08-17T00:00:00",
          "2020-08-14T00:00:00",
          "2020-08-13T00:00:00",
          "2020-08-12T00:00:00",
          "2020-08-11T00:00:00",
          "2020-08-10T00:00:00",
          "2020-08-07T00:00:00",
          "2020-08-06T00:00:00",
          "2020-08-05T00:00:00",
          "2020-08-04T00:00:00",
          "2020-08-03T00:00:00",
          "2020-07-31T00:00:00",
          "2020-07-30T00:00:00",
          "2020-07-29T00:00:00",
          "2020-07-28T00:00:00",
          "2020-07-27T00:00:00",
          "2020-07-24T00:00:00",
          "2020-07-23T00:00:00",
          "2020-07-22T00:00:00",
          "2020-07-21T00:00:00",
          "2020-07-20T00:00:00",
          "2020-07-17T00:00:00",
          "2020-07-16T00:00:00",
          "2020-07-15T00:00:00",
          "2020-07-14T00:00:00",
          "2020-07-13T00:00:00",
          "2020-07-10T00:00:00",
          "2020-07-09T00:00:00",
          "2020-07-08T00:00:00",
          "2020-07-07T00:00:00",
          "2020-07-06T00:00:00",
          "2020-07-02T00:00:00",
          "2020-07-01T00:00:00",
          "2020-06-30T00:00:00",
          "2020-06-29T00:00:00",
          "2020-06-26T00:00:00",
          "2020-06-25T00:00:00",
          "2020-06-24T00:00:00",
          "2020-06-23T00:00:00",
          "2020-06-22T00:00:00",
          "2020-06-19T00:00:00",
          "2020-06-18T00:00:00",
          "2020-06-17T00:00:00",
          "2020-06-16T00:00:00",
          "2020-06-15T00:00:00",
          "2020-06-12T00:00:00",
          "2020-06-11T00:00:00",
          "2020-06-10T00:00:00",
          "2020-06-09T00:00:00",
          "2020-06-08T00:00:00",
          "2020-06-05T00:00:00",
          "2020-06-04T00:00:00",
          "2020-06-03T00:00:00",
          "2020-06-02T00:00:00",
          "2020-06-01T00:00:00",
          "2020-05-29T00:00:00",
          "2020-05-28T00:00:00",
          "2020-05-27T00:00:00",
          "2020-05-26T00:00:00",
          "2020-05-22T00:00:00",
          "2020-05-21T00:00:00",
          "2020-05-20T00:00:00",
          "2020-05-19T00:00:00",
          "2020-05-18T00:00:00",
          "2020-05-15T00:00:00",
          "2020-05-14T00:00:00",
          "2020-05-13T00:00:00",
          "2020-05-12T00:00:00",
          "2020-05-11T00:00:00",
          "2020-05-08T00:00:00",
          "2020-05-07T00:00:00",
          "2020-05-06T00:00:00",
          "2020-05-05T00:00:00",
          "2020-05-04T00:00:00",
          "2020-05-01T00:00:00",
          "2020-04-30T00:00:00",
          "2020-04-29T00:00:00",
          "2020-04-28T00:00:00",
          "2020-04-27T00:00:00",
          "2020-04-24T00:00:00",
          "2020-04-23T00:00:00",
          "2020-04-22T00:00:00",
          "2020-04-21T00:00:00",
          "2020-04-20T00:00:00",
          "2020-04-17T00:00:00",
          "2020-04-16T00:00:00",
          "2020-04-15T00:00:00",
          "2020-04-14T00:00:00",
          "2020-04-13T00:00:00",
          "2020-04-09T00:00:00",
          "2020-04-08T00:00:00",
          "2020-04-07T00:00:00",
          "2020-04-06T00:00:00",
          "2020-04-03T00:00:00",
          "2020-04-02T00:00:00",
          "2020-04-01T00:00:00",
          "2020-03-31T00:00:00",
          "2020-03-30T00:00:00",
          "2020-03-27T00:00:00",
          "2020-03-26T00:00:00",
          "2020-03-25T00:00:00",
          "2020-03-24T00:00:00",
          "2020-03-23T00:00:00",
          "2020-03-20T00:00:00",
          "2020-03-19T00:00:00",
          "2020-03-18T00:00:00",
          "2020-03-17T00:00:00",
          "2020-03-16T00:00:00",
          "2020-03-13T00:00:00",
          "2020-03-12T00:00:00",
          "2020-03-11T00:00:00",
          "2020-03-10T00:00:00",
          "2020-03-09T00:00:00",
          "2020-03-06T00:00:00",
          "2020-03-05T00:00:00",
          "2020-03-04T00:00:00",
          "2020-03-03T00:00:00",
          "2020-03-02T00:00:00",
          "2020-02-28T00:00:00",
          "2020-02-27T00:00:00",
          "2020-02-26T00:00:00",
          "2020-02-25T00:00:00",
          "2020-02-24T00:00:00",
          "2020-02-21T00:00:00",
          "2020-02-20T00:00:00",
          "2020-02-19T00:00:00",
          "2020-02-18T00:00:00",
          "2020-02-14T00:00:00",
          "2020-02-13T00:00:00",
          "2020-02-12T00:00:00",
          "2020-02-11T00:00:00",
          "2020-02-10T00:00:00",
          "2020-02-07T00:00:00",
          "2020-02-06T00:00:00",
          "2020-02-05T00:00:00",
          "2020-02-04T00:00:00",
          "2020-02-03T00:00:00",
          "2020-01-31T00:00:00",
          "2020-01-30T00:00:00",
          "2020-01-29T00:00:00",
          "2020-01-28T00:00:00",
          "2020-01-27T00:00:00",
          "2020-01-24T00:00:00",
          "2020-01-23T00:00:00",
          "2020-01-22T00:00:00",
          "2020-01-21T00:00:00",
          "2020-01-17T00:00:00",
          "2020-01-16T00:00:00",
          "2020-01-15T00:00:00",
          "2020-01-14T00:00:00",
          "2020-01-13T00:00:00",
          "2020-01-10T00:00:00",
          "2020-01-09T00:00:00",
          "2020-01-08T00:00:00",
          "2020-01-07T00:00:00",
          "2020-01-06T00:00:00",
          "2020-01-03T00:00:00",
          "2020-01-02T00:00:00"
         ],
         "xaxis": "x",
         "y": [
          3443.63,
          3442.93,
          3286.65,
          3190.55,
          3195.69,
          3099.96,
          3199.2,
          3125,
          3221.26,
          3148.73,
          3144.88,
          3174.05,
          3095.13,
          3019.79,
          2999.86,
          3128.99,
          2960.47,
          2954.91,
          3008.73,
          3078.1,
          3156.13,
          3102.97,
          3116.22,
          3175.11,
          3268.61,
          3149.84,
          3294.62,
          3368,
          3531.45,
          3499.12,
          3450.96,
          3401.8,
          3400,
          3441.85,
          3346.49,
          3307.46,
          3284.72,
          3297.37,
          3260.48,
          3312.49,
          3182.41,
          3148.02,
          3161.02,
          3162.24,
          3080.67,
          3148.16,
          3167.46,
          3225,
          3205.03,
          3138.83,
          3111.89,
          3164.68,
          3051.88,
          3033.53,
          3000.33,
          3055.21,
          3008.91,
          2986.55,
          3099.91,
          3138.29,
          3196.84,
          2961.97,
          2999.9,
          3008.87,
          3084,
          3104,
          3200,
          3182.63,
          3081.11,
          3000.12,
          3057.04,
          2890.3,
          2878.7,
          2758.82,
          2680.38,
          2692.87,
          2754.58,
          2734.4,
          2764.41,
          2713.82,
          2675.01,
          2653.98,
          2640.98,
          2615.27,
          2572.68,
          2545.02,
          2557.96,
          2647.45,
          2600.86,
          2524.06,
          2483,
          2460.6,
          2478.4,
          2472.41,
          2471.04,
          2442.37,
          2401.1,
          2410.39,
          2421.86,
          2436.88,
          2446.74,
          2497.94,
          2449.33,
          2426.26,
          2409.78,
          2388.85,
          2367.92,
          2356.95,
          2409,
          2379.61,
          2367.61,
          2351.26,
          2317.8,
          2315.99,
          2286.04,
          2474,
          2372.71,
          2314.08,
          2376,
          2410.22,
          2399.45,
          2363.49,
          2328.12,
          2393.61,
          2375,
          2408.19,
          2307.68,
          2283.32,
          2168.87,
          2042.76,
          2043,
          2011.6,
          1997.59,
          1906.59,
          1918.83,
          1907.7,
          1949.72,
          1963.95,
          1900.1,
          1955.49,
          1885.84,
          1940.1,
          1902.83,
          1846.09,
          1880.93,
          1830,
          1807.84,
          1689.15,
          1785,
          1676.61,
          1820.86,
          1891.82,
          1800.61,
          1901.09,
          1924.03,
          1975.83,
          1908.99,
          1953.95,
          1883.75,
          1884.3,
          1979.59,
          1972.74,
          2009.29,
          2095.97,
          2153.1,
          2170.22,
          2155.67,
          2134.87,
          2149.87,
          2160,
          2150.8,
          2133.91,
          2079.28,
          2050.23,
          2039.87,
          2049.67,
          2004.2,
          2008.72,
          1870.68,
          1858,
          1853.25,
          1828.34,
          1861.64,
          1884.58,
          1887.46,
          1892,
          1864.72,
          1877.94,
          1862.02,
          1869.44,
          1891.3,
          1883.16,
          1901.05,
          1891.97,
          1906.86,
          1902.88,
          1874.97,
          1898.01
         ],
         "yaxis": "y"
        }
       ],
       "layout": {
        "legend": {
         "tracegroupgap": 0
        },
        "template": {
         "data": {
          "bar": [
           {
            "error_x": {
             "color": "rgb(51,51,51)"
            },
            "error_y": {
             "color": "rgb(51,51,51)"
            },
            "marker": {
             "line": {
              "color": "rgb(237,237,237)",
              "width": 0.5
             }
            },
            "type": "bar"
           }
          ],
          "barpolar": [
           {
            "marker": {
             "line": {
              "color": "rgb(237,237,237)",
              "width": 0.5
             }
            },
            "type": "barpolar"
           }
          ],
          "carpet": [
           {
            "aaxis": {
             "endlinecolor": "rgb(51,51,51)",
             "gridcolor": "white",
             "linecolor": "white",
             "minorgridcolor": "white",
             "startlinecolor": "rgb(51,51,51)"
            },
            "baxis": {
             "endlinecolor": "rgb(51,51,51)",
             "gridcolor": "white",
             "linecolor": "white",
             "minorgridcolor": "white",
             "startlinecolor": "rgb(51,51,51)"
            },
            "type": "carpet"
           }
          ],
          "choropleth": [
           {
            "colorbar": {
             "outlinewidth": 0,
             "tickcolor": "rgb(237,237,237)",
             "ticklen": 6,
             "ticks": "inside"
            },
            "type": "choropleth"
           }
          ],
          "contour": [
           {
            "colorbar": {
             "outlinewidth": 0,
             "tickcolor": "rgb(237,237,237)",
             "ticklen": 6,
             "ticks": "inside"
            },
            "colorscale": [
             [
              0,
              "rgb(20,44,66)"
             ],
             [
              1,
              "rgb(90,179,244)"
             ]
            ],
            "type": "contour"
           }
          ],
          "contourcarpet": [
           {
            "colorbar": {
             "outlinewidth": 0,
             "tickcolor": "rgb(237,237,237)",
             "ticklen": 6,
             "ticks": "inside"
            },
            "type": "contourcarpet"
           }
          ],
          "heatmap": [
           {
            "colorbar": {
             "outlinewidth": 0,
             "tickcolor": "rgb(237,237,237)",
             "ticklen": 6,
             "ticks": "inside"
            },
            "colorscale": [
             [
              0,
              "rgb(20,44,66)"
             ],
             [
              1,
              "rgb(90,179,244)"
             ]
            ],
            "type": "heatmap"
           }
          ],
          "heatmapgl": [
           {
            "colorbar": {
             "outlinewidth": 0,
             "tickcolor": "rgb(237,237,237)",
             "ticklen": 6,
             "ticks": "inside"
            },
            "colorscale": [
             [
              0,
              "rgb(20,44,66)"
             ],
             [
              1,
              "rgb(90,179,244)"
             ]
            ],
            "type": "heatmapgl"
           }
          ],
          "histogram": [
           {
            "marker": {
             "colorbar": {
              "outlinewidth": 0,
              "tickcolor": "rgb(237,237,237)",
              "ticklen": 6,
              "ticks": "inside"
             }
            },
            "type": "histogram"
           }
          ],
          "histogram2d": [
           {
            "colorbar": {
             "outlinewidth": 0,
             "tickcolor": "rgb(237,237,237)",
             "ticklen": 6,
             "ticks": "inside"
            },
            "colorscale": [
             [
              0,
              "rgb(20,44,66)"
             ],
             [
              1,
              "rgb(90,179,244)"
             ]
            ],
            "type": "histogram2d"
           }
          ],
          "histogram2dcontour": [
           {
            "colorbar": {
             "outlinewidth": 0,
             "tickcolor": "rgb(237,237,237)",
             "ticklen": 6,
             "ticks": "inside"
            },
            "colorscale": [
             [
              0,
              "rgb(20,44,66)"
             ],
             [
              1,
              "rgb(90,179,244)"
             ]
            ],
            "type": "histogram2dcontour"
           }
          ],
          "mesh3d": [
           {
            "colorbar": {
             "outlinewidth": 0,
             "tickcolor": "rgb(237,237,237)",
             "ticklen": 6,
             "ticks": "inside"
            },
            "type": "mesh3d"
           }
          ],
          "parcoords": [
           {
            "line": {
             "colorbar": {
              "outlinewidth": 0,
              "tickcolor": "rgb(237,237,237)",
              "ticklen": 6,
              "ticks": "inside"
             }
            },
            "type": "parcoords"
           }
          ],
          "pie": [
           {
            "automargin": true,
            "type": "pie"
           }
          ],
          "scatter": [
           {
            "marker": {
             "colorbar": {
              "outlinewidth": 0,
              "tickcolor": "rgb(237,237,237)",
              "ticklen": 6,
              "ticks": "inside"
             }
            },
            "type": "scatter"
           }
          ],
          "scatter3d": [
           {
            "line": {
             "colorbar": {
              "outlinewidth": 0,
              "tickcolor": "rgb(237,237,237)",
              "ticklen": 6,
              "ticks": "inside"
             }
            },
            "marker": {
             "colorbar": {
              "outlinewidth": 0,
              "tickcolor": "rgb(237,237,237)",
              "ticklen": 6,
              "ticks": "inside"
             }
            },
            "type": "scatter3d"
           }
          ],
          "scattercarpet": [
           {
            "marker": {
             "colorbar": {
              "outlinewidth": 0,
              "tickcolor": "rgb(237,237,237)",
              "ticklen": 6,
              "ticks": "inside"
             }
            },
            "type": "scattercarpet"
           }
          ],
          "scattergeo": [
           {
            "marker": {
             "colorbar": {
              "outlinewidth": 0,
              "tickcolor": "rgb(237,237,237)",
              "ticklen": 6,
              "ticks": "inside"
             }
            },
            "type": "scattergeo"
           }
          ],
          "scattergl": [
           {
            "marker": {
             "colorbar": {
              "outlinewidth": 0,
              "tickcolor": "rgb(237,237,237)",
              "ticklen": 6,
              "ticks": "inside"
             }
            },
            "type": "scattergl"
           }
          ],
          "scattermapbox": [
           {
            "marker": {
             "colorbar": {
              "outlinewidth": 0,
              "tickcolor": "rgb(237,237,237)",
              "ticklen": 6,
              "ticks": "inside"
             }
            },
            "type": "scattermapbox"
           }
          ],
          "scatterpolar": [
           {
            "marker": {
             "colorbar": {
              "outlinewidth": 0,
              "tickcolor": "rgb(237,237,237)",
              "ticklen": 6,
              "ticks": "inside"
             }
            },
            "type": "scatterpolar"
           }
          ],
          "scatterpolargl": [
           {
            "marker": {
             "colorbar": {
              "outlinewidth": 0,
              "tickcolor": "rgb(237,237,237)",
              "ticklen": 6,
              "ticks": "inside"
             }
            },
            "type": "scatterpolargl"
           }
          ],
          "scatterternary": [
           {
            "marker": {
             "colorbar": {
              "outlinewidth": 0,
              "tickcolor": "rgb(237,237,237)",
              "ticklen": 6,
              "ticks": "inside"
             }
            },
            "type": "scatterternary"
           }
          ],
          "surface": [
           {
            "colorbar": {
             "outlinewidth": 0,
             "tickcolor": "rgb(237,237,237)",
             "ticklen": 6,
             "ticks": "inside"
            },
            "colorscale": [
             [
              0,
              "rgb(20,44,66)"
             ],
             [
              1,
              "rgb(90,179,244)"
             ]
            ],
            "type": "surface"
           }
          ],
          "table": [
           {
            "cells": {
             "fill": {
              "color": "rgb(237,237,237)"
             },
             "line": {
              "color": "white"
             }
            },
            "header": {
             "fill": {
              "color": "rgb(217,217,217)"
             },
             "line": {
              "color": "white"
             }
            },
            "type": "table"
           }
          ]
         },
         "layout": {
          "annotationdefaults": {
           "arrowhead": 0,
           "arrowwidth": 1
          },
          "coloraxis": {
           "colorbar": {
            "outlinewidth": 0,
            "tickcolor": "rgb(237,237,237)",
            "ticklen": 6,
            "ticks": "inside"
           }
          },
          "colorscale": {
           "sequential": [
            [
             0,
             "rgb(20,44,66)"
            ],
            [
             1,
             "rgb(90,179,244)"
            ]
           ],
           "sequentialminus": [
            [
             0,
             "rgb(20,44,66)"
            ],
            [
             1,
             "rgb(90,179,244)"
            ]
           ]
          },
          "colorway": [
           "#F8766D",
           "#A3A500",
           "#00BF7D",
           "#00B0F6",
           "#E76BF3"
          ],
          "font": {
           "color": "rgb(51,51,51)"
          },
          "geo": {
           "bgcolor": "white",
           "lakecolor": "white",
           "landcolor": "rgb(237,237,237)",
           "showlakes": true,
           "showland": true,
           "subunitcolor": "white"
          },
          "hoverlabel": {
           "align": "left"
          },
          "hovermode": "closest",
          "paper_bgcolor": "white",
          "plot_bgcolor": "rgb(237,237,237)",
          "polar": {
           "angularaxis": {
            "gridcolor": "white",
            "linecolor": "white",
            "showgrid": true,
            "tickcolor": "rgb(51,51,51)",
            "ticks": "outside"
           },
           "bgcolor": "rgb(237,237,237)",
           "radialaxis": {
            "gridcolor": "white",
            "linecolor": "white",
            "showgrid": true,
            "tickcolor": "rgb(51,51,51)",
            "ticks": "outside"
           }
          },
          "scene": {
           "xaxis": {
            "backgroundcolor": "rgb(237,237,237)",
            "gridcolor": "white",
            "gridwidth": 2,
            "linecolor": "white",
            "showbackground": true,
            "showgrid": true,
            "tickcolor": "rgb(51,51,51)",
            "ticks": "outside",
            "zerolinecolor": "white"
           },
           "yaxis": {
            "backgroundcolor": "rgb(237,237,237)",
            "gridcolor": "white",
            "gridwidth": 2,
            "linecolor": "white",
            "showbackground": true,
            "showgrid": true,
            "tickcolor": "rgb(51,51,51)",
            "ticks": "outside",
            "zerolinecolor": "white"
           },
           "zaxis": {
            "backgroundcolor": "rgb(237,237,237)",
            "gridcolor": "white",
            "gridwidth": 2,
            "linecolor": "white",
            "showbackground": true,
            "showgrid": true,
            "tickcolor": "rgb(51,51,51)",
            "ticks": "outside",
            "zerolinecolor": "white"
           }
          },
          "shapedefaults": {
           "fillcolor": "black",
           "line": {
            "width": 0
           },
           "opacity": 0.3
          },
          "ternary": {
           "aaxis": {
            "gridcolor": "white",
            "linecolor": "white",
            "showgrid": true,
            "tickcolor": "rgb(51,51,51)",
            "ticks": "outside"
           },
           "baxis": {
            "gridcolor": "white",
            "linecolor": "white",
            "showgrid": true,
            "tickcolor": "rgb(51,51,51)",
            "ticks": "outside"
           },
           "bgcolor": "rgb(237,237,237)",
           "caxis": {
            "gridcolor": "white",
            "linecolor": "white",
            "showgrid": true,
            "tickcolor": "rgb(51,51,51)",
            "ticks": "outside"
           }
          },
          "xaxis": {
           "automargin": true,
           "gridcolor": "white",
           "linecolor": "white",
           "showgrid": true,
           "tickcolor": "rgb(51,51,51)",
           "ticks": "outside",
           "title": {
            "standoff": 15
           },
           "zerolinecolor": "white"
          },
          "yaxis": {
           "automargin": true,
           "gridcolor": "white",
           "linecolor": "white",
           "showgrid": true,
           "tickcolor": "rgb(51,51,51)",
           "ticks": "outside",
           "title": {
            "standoff": 15
           },
           "zerolinecolor": "white"
          }
         }
        },
        "title": {
         "text": "Amazon stocks prices"
        },
        "xaxis": {
         "anchor": "y",
         "domain": [
          0,
          1
         ],
         "title": {
          "text": "Date"
         }
        },
        "yaxis": {
         "anchor": "x",
         "domain": [
          0,
          1
         ],
         "title": {
          "text": "Close"
         },
         "type": "log"
        }
       }
      },
      "text/html": [
       "<div>                            <div id=\"8c6466e3-823e-48bb-8171-ae823ce329e2\" class=\"plotly-graph-div\" style=\"height:525px; width:100%;\"></div>            <script type=\"text/javascript\">                require([\"plotly\"], function(Plotly) {                    window.PLOTLYENV=window.PLOTLYENV || {};                                    if (document.getElementById(\"8c6466e3-823e-48bb-8171-ae823ce329e2\")) {                    Plotly.newPlot(                        \"8c6466e3-823e-48bb-8171-ae823ce329e2\",                        [{\"hovertemplate\": \"Date=%{x}<br>Close=%{y}<extra></extra>\", \"legendgroup\": \"\", \"line\": {\"color\": \"#F8766D\"}, \"mode\": \"lines\", \"name\": \"\", \"orientation\": \"v\", \"showlegend\": false, \"stackgroup\": \"1\", \"type\": \"scatter\", \"x\": [\"2020-10-13T00:00:00\", \"2020-10-12T00:00:00\", \"2020-10-09T00:00:00\", \"2020-10-08T00:00:00\", \"2020-10-07T00:00:00\", \"2020-10-06T00:00:00\", \"2020-10-05T00:00:00\", \"2020-10-02T00:00:00\", \"2020-10-01T00:00:00\", \"2020-09-30T00:00:00\", \"2020-09-29T00:00:00\", \"2020-09-28T00:00:00\", \"2020-09-25T00:00:00\", \"2020-09-24T00:00:00\", \"2020-09-23T00:00:00\", \"2020-09-22T00:00:00\", \"2020-09-21T00:00:00\", \"2020-09-18T00:00:00\", \"2020-09-17T00:00:00\", \"2020-09-16T00:00:00\", \"2020-09-15T00:00:00\", \"2020-09-14T00:00:00\", \"2020-09-11T00:00:00\", \"2020-09-10T00:00:00\", \"2020-09-09T00:00:00\", \"2020-09-08T00:00:00\", \"2020-09-04T00:00:00\", \"2020-09-03T00:00:00\", \"2020-09-02T00:00:00\", \"2020-09-01T00:00:00\", \"2020-08-31T00:00:00\", \"2020-08-28T00:00:00\", \"2020-08-27T00:00:00\", \"2020-08-26T00:00:00\", \"2020-08-25T00:00:00\", \"2020-08-24T00:00:00\", \"2020-08-21T00:00:00\", \"2020-08-20T00:00:00\", \"2020-08-19T00:00:00\", \"2020-08-18T00:00:00\", \"2020-08-17T00:00:00\", \"2020-08-14T00:00:00\", \"2020-08-13T00:00:00\", \"2020-08-12T00:00:00\", \"2020-08-11T00:00:00\", \"2020-08-10T00:00:00\", \"2020-08-07T00:00:00\", \"2020-08-06T00:00:00\", \"2020-08-05T00:00:00\", \"2020-08-04T00:00:00\", \"2020-08-03T00:00:00\", \"2020-07-31T00:00:00\", \"2020-07-30T00:00:00\", \"2020-07-29T00:00:00\", \"2020-07-28T00:00:00\", \"2020-07-27T00:00:00\", \"2020-07-24T00:00:00\", \"2020-07-23T00:00:00\", \"2020-07-22T00:00:00\", \"2020-07-21T00:00:00\", \"2020-07-20T00:00:00\", \"2020-07-17T00:00:00\", \"2020-07-16T00:00:00\", \"2020-07-15T00:00:00\", \"2020-07-14T00:00:00\", \"2020-07-13T00:00:00\", \"2020-07-10T00:00:00\", \"2020-07-09T00:00:00\", \"2020-07-08T00:00:00\", \"2020-07-07T00:00:00\", \"2020-07-06T00:00:00\", \"2020-07-02T00:00:00\", \"2020-07-01T00:00:00\", \"2020-06-30T00:00:00\", \"2020-06-29T00:00:00\", \"2020-06-26T00:00:00\", \"2020-06-25T00:00:00\", \"2020-06-24T00:00:00\", \"2020-06-23T00:00:00\", \"2020-06-22T00:00:00\", \"2020-06-19T00:00:00\", \"2020-06-18T00:00:00\", \"2020-06-17T00:00:00\", \"2020-06-16T00:00:00\", \"2020-06-15T00:00:00\", \"2020-06-12T00:00:00\", \"2020-06-11T00:00:00\", \"2020-06-10T00:00:00\", \"2020-06-09T00:00:00\", \"2020-06-08T00:00:00\", \"2020-06-05T00:00:00\", \"2020-06-04T00:00:00\", \"2020-06-03T00:00:00\", \"2020-06-02T00:00:00\", \"2020-06-01T00:00:00\", \"2020-05-29T00:00:00\", \"2020-05-28T00:00:00\", \"2020-05-27T00:00:00\", \"2020-05-26T00:00:00\", \"2020-05-22T00:00:00\", \"2020-05-21T00:00:00\", \"2020-05-20T00:00:00\", \"2020-05-19T00:00:00\", \"2020-05-18T00:00:00\", \"2020-05-15T00:00:00\", \"2020-05-14T00:00:00\", \"2020-05-13T00:00:00\", \"2020-05-12T00:00:00\", \"2020-05-11T00:00:00\", \"2020-05-08T00:00:00\", \"2020-05-07T00:00:00\", \"2020-05-06T00:00:00\", \"2020-05-05T00:00:00\", \"2020-05-04T00:00:00\", \"2020-05-01T00:00:00\", \"2020-04-30T00:00:00\", \"2020-04-29T00:00:00\", \"2020-04-28T00:00:00\", \"2020-04-27T00:00:00\", \"2020-04-24T00:00:00\", \"2020-04-23T00:00:00\", \"2020-04-22T00:00:00\", \"2020-04-21T00:00:00\", \"2020-04-20T00:00:00\", \"2020-04-17T00:00:00\", \"2020-04-16T00:00:00\", \"2020-04-15T00:00:00\", \"2020-04-14T00:00:00\", \"2020-04-13T00:00:00\", \"2020-04-09T00:00:00\", \"2020-04-08T00:00:00\", \"2020-04-07T00:00:00\", \"2020-04-06T00:00:00\", \"2020-04-03T00:00:00\", \"2020-04-02T00:00:00\", \"2020-04-01T00:00:00\", \"2020-03-31T00:00:00\", \"2020-03-30T00:00:00\", \"2020-03-27T00:00:00\", \"2020-03-26T00:00:00\", \"2020-03-25T00:00:00\", \"2020-03-24T00:00:00\", \"2020-03-23T00:00:00\", \"2020-03-20T00:00:00\", \"2020-03-19T00:00:00\", \"2020-03-18T00:00:00\", \"2020-03-17T00:00:00\", \"2020-03-16T00:00:00\", \"2020-03-13T00:00:00\", \"2020-03-12T00:00:00\", \"2020-03-11T00:00:00\", \"2020-03-10T00:00:00\", \"2020-03-09T00:00:00\", \"2020-03-06T00:00:00\", \"2020-03-05T00:00:00\", \"2020-03-04T00:00:00\", \"2020-03-03T00:00:00\", \"2020-03-02T00:00:00\", \"2020-02-28T00:00:00\", \"2020-02-27T00:00:00\", \"2020-02-26T00:00:00\", \"2020-02-25T00:00:00\", \"2020-02-24T00:00:00\", \"2020-02-21T00:00:00\", \"2020-02-20T00:00:00\", \"2020-02-19T00:00:00\", \"2020-02-18T00:00:00\", \"2020-02-14T00:00:00\", \"2020-02-13T00:00:00\", \"2020-02-12T00:00:00\", \"2020-02-11T00:00:00\", \"2020-02-10T00:00:00\", \"2020-02-07T00:00:00\", \"2020-02-06T00:00:00\", \"2020-02-05T00:00:00\", \"2020-02-04T00:00:00\", \"2020-02-03T00:00:00\", \"2020-01-31T00:00:00\", \"2020-01-30T00:00:00\", \"2020-01-29T00:00:00\", \"2020-01-28T00:00:00\", \"2020-01-27T00:00:00\", \"2020-01-24T00:00:00\", \"2020-01-23T00:00:00\", \"2020-01-22T00:00:00\", \"2020-01-21T00:00:00\", \"2020-01-17T00:00:00\", \"2020-01-16T00:00:00\", \"2020-01-15T00:00:00\", \"2020-01-14T00:00:00\", \"2020-01-13T00:00:00\", \"2020-01-10T00:00:00\", \"2020-01-09T00:00:00\", \"2020-01-08T00:00:00\", \"2020-01-07T00:00:00\", \"2020-01-06T00:00:00\", \"2020-01-03T00:00:00\", \"2020-01-02T00:00:00\"], \"xaxis\": \"x\", \"y\": [3443.63, 3442.93, 3286.65, 3190.55, 3195.69, 3099.96, 3199.2, 3125.0, 3221.26, 3148.73, 3144.88, 3174.05, 3095.13, 3019.79, 2999.86, 3128.99, 2960.47, 2954.91, 3008.73, 3078.1, 3156.13, 3102.97, 3116.22, 3175.11, 3268.61, 3149.84, 3294.62, 3368.0, 3531.45, 3499.12, 3450.96, 3401.8, 3400.0, 3441.85, 3346.49, 3307.46, 3284.72, 3297.37, 3260.48, 3312.49, 3182.41, 3148.02, 3161.02, 3162.24, 3080.67, 3148.16, 3167.46, 3225.0, 3205.03, 3138.83, 3111.89, 3164.68, 3051.88, 3033.53, 3000.33, 3055.21, 3008.91, 2986.55, 3099.91, 3138.29, 3196.84, 2961.97, 2999.9, 3008.87, 3084.0, 3104.0, 3200.0, 3182.63, 3081.11, 3000.12, 3057.04, 2890.3, 2878.7, 2758.82, 2680.38, 2692.87, 2754.58, 2734.4, 2764.41, 2713.82, 2675.01, 2653.98, 2640.98, 2615.27, 2572.68, 2545.02, 2557.96, 2647.45, 2600.86, 2524.06, 2483.0, 2460.6, 2478.4, 2472.41, 2471.04, 2442.37, 2401.1, 2410.39, 2421.86, 2436.88, 2446.74, 2497.94, 2449.33, 2426.26, 2409.78, 2388.85, 2367.92, 2356.95, 2409.0, 2379.61, 2367.61, 2351.26, 2317.8, 2315.99, 2286.04, 2474.0, 2372.71, 2314.08, 2376.0, 2410.22, 2399.45, 2363.49, 2328.12, 2393.61, 2375.0, 2408.19, 2307.68, 2283.32, 2168.87, 2042.76, 2043.0, 2011.6, 1997.59, 1906.59, 1918.83, 1907.7, 1949.72, 1963.95, 1900.1, 1955.49, 1885.84, 1940.1, 1902.83, 1846.09, 1880.93, 1830.0, 1807.84, 1689.15, 1785.0, 1676.61, 1820.86, 1891.82, 1800.61, 1901.09, 1924.03, 1975.83, 1908.99, 1953.95, 1883.75, 1884.3, 1979.59, 1972.74, 2009.29, 2095.97, 2153.1, 2170.22, 2155.67, 2134.87, 2149.87, 2160.0, 2150.8, 2133.91, 2079.28, 2050.23, 2039.87, 2049.67, 2004.2, 2008.72, 1870.68, 1858.0, 1853.25, 1828.34, 1861.64, 1884.58, 1887.46, 1892.0, 1864.72, 1877.94, 1862.02, 1869.44, 1891.3, 1883.16, 1901.05, 1891.97, 1906.86, 1902.88, 1874.97, 1898.01], \"yaxis\": \"y\"}],                        {\"legend\": {\"tracegroupgap\": 0}, \"template\": {\"data\": {\"bar\": [{\"error_x\": {\"color\": \"rgb(51,51,51)\"}, \"error_y\": {\"color\": \"rgb(51,51,51)\"}, \"marker\": {\"line\": {\"color\": \"rgb(237,237,237)\", \"width\": 0.5}}, \"type\": \"bar\"}], \"barpolar\": [{\"marker\": {\"line\": {\"color\": \"rgb(237,237,237)\", \"width\": 0.5}}, \"type\": \"barpolar\"}], \"carpet\": [{\"aaxis\": {\"endlinecolor\": \"rgb(51,51,51)\", \"gridcolor\": \"white\", \"linecolor\": \"white\", \"minorgridcolor\": \"white\", \"startlinecolor\": \"rgb(51,51,51)\"}, \"baxis\": {\"endlinecolor\": \"rgb(51,51,51)\", \"gridcolor\": \"white\", \"linecolor\": \"white\", \"minorgridcolor\": \"white\", \"startlinecolor\": \"rgb(51,51,51)\"}, \"type\": \"carpet\"}], \"choropleth\": [{\"colorbar\": {\"outlinewidth\": 0, \"tickcolor\": \"rgb(237,237,237)\", \"ticklen\": 6, \"ticks\": \"inside\"}, \"type\": \"choropleth\"}], \"contour\": [{\"colorbar\": {\"outlinewidth\": 0, \"tickcolor\": \"rgb(237,237,237)\", \"ticklen\": 6, \"ticks\": \"inside\"}, \"colorscale\": [[0, \"rgb(20,44,66)\"], [1, \"rgb(90,179,244)\"]], \"type\": \"contour\"}], \"contourcarpet\": [{\"colorbar\": {\"outlinewidth\": 0, \"tickcolor\": \"rgb(237,237,237)\", \"ticklen\": 6, \"ticks\": \"inside\"}, \"type\": \"contourcarpet\"}], \"heatmap\": [{\"colorbar\": {\"outlinewidth\": 0, \"tickcolor\": \"rgb(237,237,237)\", \"ticklen\": 6, \"ticks\": \"inside\"}, \"colorscale\": [[0, \"rgb(20,44,66)\"], [1, \"rgb(90,179,244)\"]], \"type\": \"heatmap\"}], \"heatmapgl\": [{\"colorbar\": {\"outlinewidth\": 0, \"tickcolor\": \"rgb(237,237,237)\", \"ticklen\": 6, \"ticks\": \"inside\"}, \"colorscale\": [[0, \"rgb(20,44,66)\"], [1, \"rgb(90,179,244)\"]], \"type\": \"heatmapgl\"}], \"histogram\": [{\"marker\": {\"colorbar\": {\"outlinewidth\": 0, \"tickcolor\": \"rgb(237,237,237)\", \"ticklen\": 6, \"ticks\": \"inside\"}}, \"type\": \"histogram\"}], \"histogram2d\": [{\"colorbar\": {\"outlinewidth\": 0, \"tickcolor\": \"rgb(237,237,237)\", \"ticklen\": 6, \"ticks\": \"inside\"}, \"colorscale\": [[0, \"rgb(20,44,66)\"], [1, \"rgb(90,179,244)\"]], \"type\": \"histogram2d\"}], \"histogram2dcontour\": [{\"colorbar\": {\"outlinewidth\": 0, \"tickcolor\": \"rgb(237,237,237)\", \"ticklen\": 6, \"ticks\": \"inside\"}, \"colorscale\": [[0, \"rgb(20,44,66)\"], [1, \"rgb(90,179,244)\"]], \"type\": \"histogram2dcontour\"}], \"mesh3d\": [{\"colorbar\": {\"outlinewidth\": 0, \"tickcolor\": \"rgb(237,237,237)\", \"ticklen\": 6, \"ticks\": \"inside\"}, \"type\": \"mesh3d\"}], \"parcoords\": [{\"line\": {\"colorbar\": {\"outlinewidth\": 0, \"tickcolor\": \"rgb(237,237,237)\", \"ticklen\": 6, \"ticks\": \"inside\"}}, \"type\": \"parcoords\"}], \"pie\": [{\"automargin\": true, \"type\": \"pie\"}], \"scatter\": [{\"marker\": {\"colorbar\": {\"outlinewidth\": 0, \"tickcolor\": \"rgb(237,237,237)\", \"ticklen\": 6, \"ticks\": \"inside\"}}, \"type\": \"scatter\"}], \"scatter3d\": [{\"line\": {\"colorbar\": {\"outlinewidth\": 0, \"tickcolor\": \"rgb(237,237,237)\", \"ticklen\": 6, \"ticks\": \"inside\"}}, \"marker\": {\"colorbar\": {\"outlinewidth\": 0, \"tickcolor\": \"rgb(237,237,237)\", \"ticklen\": 6, \"ticks\": \"inside\"}}, \"type\": \"scatter3d\"}], \"scattercarpet\": [{\"marker\": {\"colorbar\": {\"outlinewidth\": 0, \"tickcolor\": \"rgb(237,237,237)\", \"ticklen\": 6, \"ticks\": \"inside\"}}, \"type\": \"scattercarpet\"}], \"scattergeo\": [{\"marker\": {\"colorbar\": {\"outlinewidth\": 0, \"tickcolor\": \"rgb(237,237,237)\", \"ticklen\": 6, \"ticks\": \"inside\"}}, \"type\": \"scattergeo\"}], \"scattergl\": [{\"marker\": {\"colorbar\": {\"outlinewidth\": 0, \"tickcolor\": \"rgb(237,237,237)\", \"ticklen\": 6, \"ticks\": \"inside\"}}, \"type\": \"scattergl\"}], \"scattermapbox\": [{\"marker\": {\"colorbar\": {\"outlinewidth\": 0, \"tickcolor\": \"rgb(237,237,237)\", \"ticklen\": 6, \"ticks\": \"inside\"}}, \"type\": \"scattermapbox\"}], \"scatterpolar\": [{\"marker\": {\"colorbar\": {\"outlinewidth\": 0, \"tickcolor\": \"rgb(237,237,237)\", \"ticklen\": 6, \"ticks\": \"inside\"}}, \"type\": \"scatterpolar\"}], \"scatterpolargl\": [{\"marker\": {\"colorbar\": {\"outlinewidth\": 0, \"tickcolor\": \"rgb(237,237,237)\", \"ticklen\": 6, \"ticks\": \"inside\"}}, \"type\": \"scatterpolargl\"}], \"scatterternary\": [{\"marker\": {\"colorbar\": {\"outlinewidth\": 0, \"tickcolor\": \"rgb(237,237,237)\", \"ticklen\": 6, \"ticks\": \"inside\"}}, \"type\": \"scatterternary\"}], \"surface\": [{\"colorbar\": {\"outlinewidth\": 0, \"tickcolor\": \"rgb(237,237,237)\", \"ticklen\": 6, \"ticks\": \"inside\"}, \"colorscale\": [[0, \"rgb(20,44,66)\"], [1, \"rgb(90,179,244)\"]], \"type\": \"surface\"}], \"table\": [{\"cells\": {\"fill\": {\"color\": \"rgb(237,237,237)\"}, \"line\": {\"color\": \"white\"}}, \"header\": {\"fill\": {\"color\": \"rgb(217,217,217)\"}, \"line\": {\"color\": \"white\"}}, \"type\": \"table\"}]}, \"layout\": {\"annotationdefaults\": {\"arrowhead\": 0, \"arrowwidth\": 1}, \"coloraxis\": {\"colorbar\": {\"outlinewidth\": 0, \"tickcolor\": \"rgb(237,237,237)\", \"ticklen\": 6, \"ticks\": \"inside\"}}, \"colorscale\": {\"sequential\": [[0, \"rgb(20,44,66)\"], [1, \"rgb(90,179,244)\"]], \"sequentialminus\": [[0, \"rgb(20,44,66)\"], [1, \"rgb(90,179,244)\"]]}, \"colorway\": [\"#F8766D\", \"#A3A500\", \"#00BF7D\", \"#00B0F6\", \"#E76BF3\"], \"font\": {\"color\": \"rgb(51,51,51)\"}, \"geo\": {\"bgcolor\": \"white\", \"lakecolor\": \"white\", \"landcolor\": \"rgb(237,237,237)\", \"showlakes\": true, \"showland\": true, \"subunitcolor\": \"white\"}, \"hoverlabel\": {\"align\": \"left\"}, \"hovermode\": \"closest\", \"paper_bgcolor\": \"white\", \"plot_bgcolor\": \"rgb(237,237,237)\", \"polar\": {\"angularaxis\": {\"gridcolor\": \"white\", \"linecolor\": \"white\", \"showgrid\": true, \"tickcolor\": \"rgb(51,51,51)\", \"ticks\": \"outside\"}, \"bgcolor\": \"rgb(237,237,237)\", \"radialaxis\": {\"gridcolor\": \"white\", \"linecolor\": \"white\", \"showgrid\": true, \"tickcolor\": \"rgb(51,51,51)\", \"ticks\": \"outside\"}}, \"scene\": {\"xaxis\": {\"backgroundcolor\": \"rgb(237,237,237)\", \"gridcolor\": \"white\", \"gridwidth\": 2, \"linecolor\": \"white\", \"showbackground\": true, \"showgrid\": true, \"tickcolor\": \"rgb(51,51,51)\", \"ticks\": \"outside\", \"zerolinecolor\": \"white\"}, \"yaxis\": {\"backgroundcolor\": \"rgb(237,237,237)\", \"gridcolor\": \"white\", \"gridwidth\": 2, \"linecolor\": \"white\", \"showbackground\": true, \"showgrid\": true, \"tickcolor\": \"rgb(51,51,51)\", \"ticks\": \"outside\", \"zerolinecolor\": \"white\"}, \"zaxis\": {\"backgroundcolor\": \"rgb(237,237,237)\", \"gridcolor\": \"white\", \"gridwidth\": 2, \"linecolor\": \"white\", \"showbackground\": true, \"showgrid\": true, \"tickcolor\": \"rgb(51,51,51)\", \"ticks\": \"outside\", \"zerolinecolor\": \"white\"}}, \"shapedefaults\": {\"fillcolor\": \"black\", \"line\": {\"width\": 0}, \"opacity\": 0.3}, \"ternary\": {\"aaxis\": {\"gridcolor\": \"white\", \"linecolor\": \"white\", \"showgrid\": true, \"tickcolor\": \"rgb(51,51,51)\", \"ticks\": \"outside\"}, \"baxis\": {\"gridcolor\": \"white\", \"linecolor\": \"white\", \"showgrid\": true, \"tickcolor\": \"rgb(51,51,51)\", \"ticks\": \"outside\"}, \"bgcolor\": \"rgb(237,237,237)\", \"caxis\": {\"gridcolor\": \"white\", \"linecolor\": \"white\", \"showgrid\": true, \"tickcolor\": \"rgb(51,51,51)\", \"ticks\": \"outside\"}}, \"xaxis\": {\"automargin\": true, \"gridcolor\": \"white\", \"linecolor\": \"white\", \"showgrid\": true, \"tickcolor\": \"rgb(51,51,51)\", \"ticks\": \"outside\", \"title\": {\"standoff\": 15}, \"zerolinecolor\": \"white\"}, \"yaxis\": {\"automargin\": true, \"gridcolor\": \"white\", \"linecolor\": \"white\", \"showgrid\": true, \"tickcolor\": \"rgb(51,51,51)\", \"ticks\": \"outside\", \"title\": {\"standoff\": 15}, \"zerolinecolor\": \"white\"}}}, \"title\": {\"text\": \"Amazon stocks prices\"}, \"xaxis\": {\"anchor\": \"y\", \"domain\": [0.0, 1.0], \"title\": {\"text\": \"Date\"}}, \"yaxis\": {\"anchor\": \"x\", \"domain\": [0.0, 1.0], \"title\": {\"text\": \"Close\"}, \"type\": \"log\"}},                        {\"responsive\": true}                    ).then(function(){\n",
       "                            \n",
       "var gd = document.getElementById('8c6466e3-823e-48bb-8171-ae823ce329e2');\n",
       "var x = new MutationObserver(function (mutations, observer) {{\n",
       "        var display = window.getComputedStyle(gd).display;\n",
       "        if (!display || display === 'none') {{\n",
       "            console.log([gd, 'removed!']);\n",
       "            Plotly.purge(gd);\n",
       "            observer.disconnect();\n",
       "        }}\n",
       "}});\n",
       "\n",
       "// Listen for the removal of the full notebook cells\n",
       "var notebookContainer = gd.closest('#notebook-container');\n",
       "if (notebookContainer) {{\n",
       "    x.observe(notebookContainer, {childList: true});\n",
       "}}\n",
       "\n",
       "// Listen for the clearing of the current output cell\n",
       "var outputEl = gd.closest('.output');\n",
       "if (outputEl) {{\n",
       "    x.observe(outputEl, {childList: true});\n",
       "}}\n",
       "\n",
       "                        })                };                });            </script>        </div>"
      ]
     },
     "metadata": {},
     "output_type": "display_data"
    }
   ],
   "source": [
    "fig_area = px.area(data_frame= data[data.Date >= '2020-01-01'],\n",
    "           x = 'Date',\n",
    "           y = 'Close',\n",
    "           log_y = True,\n",
    "           title = 'Amazon stocks prices',\n",
    "           template = 'ggplot2')\n",
    "fig_area.show()"
   ]
  }
 ],
 "metadata": {
  "colab": {
   "authorship_tag": "ABX9TyOfiDjOH2HrL2dfl/wHr2/U",
   "collapsed_sections": [],
   "name": "surface_chart.ipynb",
   "provenance": []
  },
  "kernelspec": {
   "display_name": "Python 3",
   "language": "python",
   "name": "python3"
  },
  "language_info": {
   "codemirror_mode": {
    "name": "ipython",
    "version": 3
   },
   "file_extension": ".py",
   "mimetype": "text/x-python",
   "name": "python",
   "nbconvert_exporter": "python",
   "pygments_lexer": "ipython3",
   "version": "3.8.5"
  }
 },
 "nbformat": 4,
 "nbformat_minor": 1
}
