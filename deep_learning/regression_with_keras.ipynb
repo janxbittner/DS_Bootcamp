{
 "cells": [
  {
   "cell_type": "markdown",
   "metadata": {},
   "source": [
    "# Example of Regression with Keras:"
   ]
  },
  {
   "cell_type": "markdown",
   "metadata": {},
   "source": [
    "Import Libraries:"
   ]
  },
  {
   "cell_type": "code",
   "execution_count": 1,
   "metadata": {},
   "outputs": [],
   "source": [
    "import pandas as pd\n",
    "import numpy as np\n",
    "import plotly.express as px\n",
    "import tensorflow as tf"
   ]
  },
  {
   "cell_type": "markdown",
   "metadata": {},
   "source": [
    "Create dataset:"
   ]
  },
  {
   "cell_type": "code",
   "execution_count": 2,
   "metadata": {},
   "outputs": [
    {
     "name": "stdout",
     "output_type": "stream",
     "text": [
      "Shape of data is: (10000, 150)\n",
      "Shape of labels is: (10000,)\n"
     ]
    }
   ],
   "source": [
    "data = np.random.random((10000,150))\n",
    "labels = 50 * np.random.random(10000)\n",
    "\n",
    "print(f'Shape of data is: {data.shape}')\n",
    "print(f'Shape of labels is: {labels.shape}')"
   ]
  },
  {
   "cell_type": "markdown",
   "metadata": {},
   "source": [
    "First 10 labels:"
   ]
  },
  {
   "cell_type": "code",
   "execution_count": 3,
   "metadata": {},
   "outputs": [
    {
     "data": {
      "text/plain": [
       "array([29.05666335, 31.94426137, 28.33952357, 21.16887207,  1.32690507,\n",
       "       33.60437811, 26.00525331, 32.23524376, 28.72690203,  3.26615682])"
      ]
     },
     "execution_count": 3,
     "metadata": {},
     "output_type": "execute_result"
    }
   ],
   "source": [
    "labels[0:10]"
   ]
  },
  {
   "cell_type": "markdown",
   "metadata": {},
   "source": [
    "Creating and fit model:"
   ]
  },
  {
   "cell_type": "code",
   "execution_count": 4,
   "metadata": {},
   "outputs": [],
   "source": [
    "from tensorflow.keras import Sequential\n",
    "from tensorflow.keras.layers import Dense"
   ]
  },
  {
   "cell_type": "code",
   "execution_count": 5,
   "metadata": {},
   "outputs": [
    {
     "name": "stdout",
     "output_type": "stream",
     "text": [
      "Epoch 1/30\n",
      "250/250 [==============================] - 2s 4ms/step - loss: 344.1326 - mse: 344.1326 - val_loss: 216.9554 - val_mse: 216.9554\n",
      "Epoch 2/30\n",
      "250/250 [==============================] - 0s 982us/step - loss: 214.6180 - mse: 214.6180 - val_loss: 218.0321 - val_mse: 218.0321\n",
      "Epoch 3/30\n",
      "250/250 [==============================] - 0s 935us/step - loss: 212.7767 - mse: 212.7767 - val_loss: 218.4678 - val_mse: 218.4678\n",
      "Epoch 4/30\n",
      "250/250 [==============================] - 0s 951us/step - loss: 210.8833 - mse: 210.8833 - val_loss: 218.0631 - val_mse: 218.0631\n",
      "Epoch 5/30\n",
      "250/250 [==============================] - 0s 951us/step - loss: 216.4298 - mse: 216.4298 - val_loss: 217.7462 - val_mse: 217.7462\n",
      "Epoch 6/30\n",
      "250/250 [==============================] - 0s 1ms/step - loss: 217.0080 - mse: 217.0080 - val_loss: 218.1256 - val_mse: 218.1256\n",
      "Epoch 7/30\n",
      "250/250 [==============================] - 0s 995us/step - loss: 213.1746 - mse: 213.1746 - val_loss: 217.6925 - val_mse: 217.6925\n",
      "Epoch 8/30\n",
      "250/250 [==============================] - 0s 963us/step - loss: 210.3293 - mse: 210.3293 - val_loss: 218.4869 - val_mse: 218.4869\n",
      "Epoch 9/30\n",
      "250/250 [==============================] - 0s 984us/step - loss: 212.8071 - mse: 212.8071 - val_loss: 219.0694 - val_mse: 219.0694\n",
      "Epoch 10/30\n",
      "250/250 [==============================] - 0s 1ms/step - loss: 210.4746 - mse: 210.4746 - val_loss: 218.6912 - val_mse: 218.6912\n",
      "Epoch 11/30\n",
      "250/250 [==============================] - 0s 951us/step - loss: 212.4010 - mse: 212.4010 - val_loss: 219.6578 - val_mse: 219.6578\n",
      "Epoch 12/30\n",
      "250/250 [==============================] - 0s 995us/step - loss: 216.1640 - mse: 216.1640 - val_loss: 221.5608 - val_mse: 221.5608\n",
      "Epoch 13/30\n",
      "250/250 [==============================] - 0s 1ms/step - loss: 212.4084 - mse: 212.4084 - val_loss: 220.0026 - val_mse: 220.0026\n",
      "Epoch 14/30\n",
      "250/250 [==============================] - 0s 1ms/step - loss: 213.7414 - mse: 213.7414 - val_loss: 220.5500 - val_mse: 220.5500\n",
      "Epoch 15/30\n",
      "250/250 [==============================] - 0s 953us/step - loss: 214.1002 - mse: 214.1002 - val_loss: 220.5451 - val_mse: 220.5451\n",
      "Epoch 16/30\n",
      "250/250 [==============================] - 0s 1ms/step - loss: 215.6144 - mse: 215.6144 - val_loss: 219.2793 - val_mse: 219.2793\n",
      "Epoch 17/30\n",
      "250/250 [==============================] - 0s 1ms/step - loss: 212.2777 - mse: 212.2777 - val_loss: 219.4348 - val_mse: 219.4348\n",
      "Epoch 18/30\n",
      "250/250 [==============================] - 0s 1ms/step - loss: 210.0497 - mse: 210.0497 - val_loss: 219.4377 - val_mse: 219.4377\n",
      "Epoch 19/30\n",
      "250/250 [==============================] - 0s 1ms/step - loss: 208.7642 - mse: 208.7642 - val_loss: 220.1119 - val_mse: 220.1119\n",
      "Epoch 20/30\n",
      "250/250 [==============================] - 0s 1ms/step - loss: 211.9174 - mse: 211.9174 - val_loss: 221.3017 - val_mse: 221.3017\n",
      "Epoch 21/30\n",
      "250/250 [==============================] - 0s 955us/step - loss: 212.7087 - mse: 212.7087 - val_loss: 219.8523 - val_mse: 219.8523\n",
      "Epoch 22/30\n",
      "250/250 [==============================] - 0s 1ms/step - loss: 212.6959 - mse: 212.6959 - val_loss: 220.3188 - val_mse: 220.3188\n",
      "Epoch 23/30\n",
      "250/250 [==============================] - 0s 959us/step - loss: 211.6937 - mse: 211.6937 - val_loss: 221.3548 - val_mse: 221.3548\n",
      "Epoch 24/30\n",
      "250/250 [==============================] - 0s 956us/step - loss: 211.3358 - mse: 211.3358 - val_loss: 221.5123 - val_mse: 221.5123\n",
      "Epoch 25/30\n",
      "250/250 [==============================] - 0s 943us/step - loss: 213.2540 - mse: 213.2540 - val_loss: 220.7932 - val_mse: 220.7932\n",
      "Epoch 26/30\n",
      "250/250 [==============================] - 0s 963us/step - loss: 211.4322 - mse: 211.4322 - val_loss: 222.0219 - val_mse: 222.0219\n",
      "Epoch 27/30\n",
      "250/250 [==============================] - 0s 963us/step - loss: 213.2885 - mse: 213.2885 - val_loss: 223.1477 - val_mse: 223.1477\n",
      "Epoch 28/30\n",
      "250/250 [==============================] - 0s 959us/step - loss: 211.4693 - mse: 211.4693 - val_loss: 222.2612 - val_mse: 222.2612\n",
      "Epoch 29/30\n",
      "250/250 [==============================] - 0s 947us/step - loss: 208.4555 - mse: 208.4555 - val_loss: 224.3214 - val_mse: 224.3214\n",
      "Epoch 30/30\n",
      "250/250 [==============================] - 0s 1ms/step - loss: 214.4889 - mse: 214.4889 - val_loss: 220.4734 - val_mse: 220.4734\n"
     ]
    },
    {
     "data": {
      "text/plain": [
       "<tensorflow.python.keras.callbacks.History at 0x259e032f5b0>"
      ]
     },
     "execution_count": 5,
     "metadata": {},
     "output_type": "execute_result"
    }
   ],
   "source": [
    "model = Sequential()\n",
    "model.add(Dense(units = 32,activation = 'relu',\n",
    "               input_shape = (150,)))\n",
    "model.add(Dense(units = 1))\n",
    "\n",
    "model.compile(optimizer='rmsprop',\n",
    "             loss = 'mse',\n",
    "             metrics = ['mse'])\n",
    "model.fit(data,labels,batch_size = 32, epochs = 30,\n",
    "         validation_split=0.2)"
   ]
  },
  {
   "cell_type": "markdown",
   "metadata": {},
   "source": [
    "Model prediction:"
   ]
  },
  {
   "cell_type": "code",
   "execution_count": 6,
   "metadata": {},
   "outputs": [
    {
     "data": {
      "text/plain": [
       "array([[23.638546],\n",
       "       [28.845291],\n",
       "       [23.196854],\n",
       "       [25.537605],\n",
       "       [27.419882],\n",
       "       [23.370705],\n",
       "       [25.506483],\n",
       "       [20.145544],\n",
       "       [26.620975],\n",
       "       [20.790365]], dtype=float32)"
      ]
     },
     "execution_count": 6,
     "metadata": {},
     "output_type": "execute_result"
    }
   ],
   "source": [
    "test_data = np.random.random((10,150))\n",
    "model.predict(test_data)"
   ]
  },
  {
   "cell_type": "markdown",
   "metadata": {},
   "source": [
    "Result of model prediction:"
   ]
  },
  {
   "cell_type": "code",
   "execution_count": 7,
   "metadata": {},
   "outputs": [
    {
     "data": {
      "text/plain": [
       "array([23.638546], dtype=float32)"
      ]
     },
     "execution_count": 7,
     "metadata": {},
     "output_type": "execute_result"
    }
   ],
   "source": [
    "model.predict(test_data)[0]"
   ]
  }
 ],
 "metadata": {
  "kernelspec": {
   "display_name": "Python 3",
   "language": "python",
   "name": "python3"
  },
  "language_info": {
   "codemirror_mode": {
    "name": "ipython",
    "version": 3
   },
   "file_extension": ".py",
   "mimetype": "text/x-python",
   "name": "python",
   "nbconvert_exporter": "python",
   "pygments_lexer": "ipython3",
   "version": "3.8.5"
  }
 },
 "nbformat": 4,
 "nbformat_minor": 4
}
