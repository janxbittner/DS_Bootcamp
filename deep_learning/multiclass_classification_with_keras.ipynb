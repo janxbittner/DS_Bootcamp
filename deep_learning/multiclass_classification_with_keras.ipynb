{
 "cells": [
  {
   "cell_type": "markdown",
   "metadata": {},
   "source": [
    "# Example of Binary Clasification:"
   ]
  },
  {
   "cell_type": "markdown",
   "metadata": {},
   "source": [
    "Import Libraries:"
   ]
  },
  {
   "cell_type": "code",
   "execution_count": 1,
   "metadata": {},
   "outputs": [],
   "source": [
    "import pandas as pd\n",
    "import numpy as np\n",
    "import plotly.express as px\n",
    "import tensorflow as tf"
   ]
  },
  {
   "cell_type": "markdown",
   "metadata": {},
   "source": [
    "Create dataset:"
   ]
  },
  {
   "cell_type": "code",
   "execution_count": 2,
   "metadata": {},
   "outputs": [
    {
     "name": "stdout",
     "output_type": "stream",
     "text": [
      "Shape of data is: (10000, 150)\n",
      "Shape of labels is: (10000, 1)\n"
     ]
    }
   ],
   "source": [
    "data = np.random.rand(10000,150)\n",
    "labels = np.random.randint(10,size = (10000,1))\n",
    "\n",
    "print(f'Shape of data is: {data.shape}')\n",
    "print(f'Shape of labels is: {labels.shape}')"
   ]
  },
  {
   "cell_type": "markdown",
   "metadata": {},
   "source": [
    "First 10 labels:"
   ]
  },
  {
   "cell_type": "code",
   "execution_count": 3,
   "metadata": {},
   "outputs": [
    {
     "data": {
      "text/plain": [
       "array([[0],\n",
       "       [2],\n",
       "       [0],\n",
       "       [4],\n",
       "       [9],\n",
       "       [9],\n",
       "       [1],\n",
       "       [2],\n",
       "       [6],\n",
       "       [0]])"
      ]
     },
     "execution_count": 3,
     "metadata": {},
     "output_type": "execute_result"
    }
   ],
   "source": [
    "labels[0:10]"
   ]
  },
  {
   "cell_type": "markdown",
   "metadata": {},
   "source": [
    "Transform labels:"
   ]
  },
  {
   "cell_type": "code",
   "execution_count": 4,
   "metadata": {},
   "outputs": [],
   "source": [
    "from tensorflow.keras.utils import to_categorical\n",
    "\n",
    "labels = to_categorical(labels,num_classes = np.unique(labels).size)"
   ]
  },
  {
   "cell_type": "code",
   "execution_count": 5,
   "metadata": {},
   "outputs": [
    {
     "data": {
      "text/plain": [
       "array([[1., 0., 0., 0., 0., 0., 0., 0., 0., 0.],\n",
       "       [0., 0., 1., 0., 0., 0., 0., 0., 0., 0.],\n",
       "       [1., 0., 0., 0., 0., 0., 0., 0., 0., 0.]], dtype=float32)"
      ]
     },
     "execution_count": 5,
     "metadata": {},
     "output_type": "execute_result"
    }
   ],
   "source": [
    "labels[:3]"
   ]
  },
  {
   "cell_type": "markdown",
   "metadata": {},
   "source": [
    "Creating and fit model:"
   ]
  },
  {
   "cell_type": "code",
   "execution_count": 6,
   "metadata": {},
   "outputs": [],
   "source": [
    "from tensorflow.keras import Sequential\n",
    "from tensorflow.keras.layers import Dense"
   ]
  },
  {
   "cell_type": "code",
   "execution_count": 7,
   "metadata": {},
   "outputs": [
    {
     "name": "stdout",
     "output_type": "stream",
     "text": [
      "Epoch 1/30\n",
      "250/250 [==============================] - 1s 4ms/step - loss: 2.3479 - accuracy: 0.0998 - val_loss: 2.3077 - val_accuracy: 0.1030\n",
      "Epoch 2/30\n",
      "250/250 [==============================] - 0s 971us/step - loss: 2.3064 - accuracy: 0.1051 - val_loss: 2.3050 - val_accuracy: 0.0990\n",
      "Epoch 3/30\n",
      "250/250 [==============================] - 0s 978us/step - loss: 2.3014 - accuracy: 0.1110 - val_loss: 2.3050 - val_accuracy: 0.0990\n",
      "Epoch 4/30\n",
      "250/250 [==============================] - 0s 971us/step - loss: 2.2973 - accuracy: 0.1190 - val_loss: 2.3068 - val_accuracy: 0.1025\n",
      "Epoch 5/30\n",
      "250/250 [==============================] - 0s 955us/step - loss: 2.2997 - accuracy: 0.1076 - val_loss: 2.3098 - val_accuracy: 0.0950\n",
      "Epoch 6/30\n",
      "250/250 [==============================] - 0s 1ms/step - loss: 2.2953 - accuracy: 0.1126 - val_loss: 2.3142 - val_accuracy: 0.0925\n",
      "Epoch 7/30\n",
      "250/250 [==============================] - 0s 983us/step - loss: 2.2895 - accuracy: 0.1280 - val_loss: 2.3233 - val_accuracy: 0.1015\n",
      "Epoch 8/30\n",
      "250/250 [==============================] - 0s 963us/step - loss: 2.2862 - accuracy: 0.1250 - val_loss: 2.3131 - val_accuracy: 0.0970\n",
      "Epoch 9/30\n",
      "250/250 [==============================] - 0s 963us/step - loss: 2.2812 - accuracy: 0.1384 - val_loss: 2.3197 - val_accuracy: 0.1010\n",
      "Epoch 10/30\n",
      "250/250 [==============================] - 0s 970us/step - loss: 2.2736 - accuracy: 0.1415 - val_loss: 2.3223 - val_accuracy: 0.0895\n",
      "Epoch 11/30\n",
      "250/250 [==============================] - 0s 987us/step - loss: 2.2720 - accuracy: 0.1416 - val_loss: 2.3311 - val_accuracy: 0.0930\n",
      "Epoch 12/30\n",
      "250/250 [==============================] - 0s 971us/step - loss: 2.2644 - accuracy: 0.1444 - val_loss: 2.3236 - val_accuracy: 0.1045\n",
      "Epoch 13/30\n",
      "250/250 [==============================] - 0s 1ms/step - loss: 2.2608 - accuracy: 0.1496 - val_loss: 2.3351 - val_accuracy: 0.1060\n",
      "Epoch 14/30\n",
      "250/250 [==============================] - 0s 983us/step - loss: 2.2557 - accuracy: 0.1461 - val_loss: 2.3367 - val_accuracy: 0.1040\n",
      "Epoch 15/30\n",
      "250/250 [==============================] - 0s 947us/step - loss: 2.2456 - accuracy: 0.1538 - val_loss: 2.3339 - val_accuracy: 0.0990\n",
      "Epoch 16/30\n",
      "250/250 [==============================] - 0s 966us/step - loss: 2.2392 - accuracy: 0.1696 - val_loss: 2.3346 - val_accuracy: 0.1090\n",
      "Epoch 17/30\n",
      "250/250 [==============================] - 0s 1ms/step - loss: 2.2315 - accuracy: 0.1703 - val_loss: 2.3481 - val_accuracy: 0.1015\n",
      "Epoch 18/30\n",
      "250/250 [==============================] - 0s 967us/step - loss: 2.2292 - accuracy: 0.1733 - val_loss: 2.3517 - val_accuracy: 0.1100\n",
      "Epoch 19/30\n",
      "250/250 [==============================] - 0s 979us/step - loss: 2.2280 - accuracy: 0.1724 - val_loss: 2.3490 - val_accuracy: 0.1090\n",
      "Epoch 20/30\n",
      "250/250 [==============================] - 0s 993us/step - loss: 2.2176 - accuracy: 0.1832 - val_loss: 2.3590 - val_accuracy: 0.1115\n",
      "Epoch 21/30\n",
      "250/250 [==============================] - 0s 1ms/step - loss: 2.2128 - accuracy: 0.1801 - val_loss: 2.3541 - val_accuracy: 0.1105\n",
      "Epoch 22/30\n",
      "250/250 [==============================] - 0s 1ms/step - loss: 2.2044 - accuracy: 0.1888 - val_loss: 2.3554 - val_accuracy: 0.1065\n",
      "Epoch 23/30\n",
      "250/250 [==============================] - 0s 954us/step - loss: 2.1958 - accuracy: 0.2019 - val_loss: 2.3720 - val_accuracy: 0.1060\n",
      "Epoch 24/30\n",
      "250/250 [==============================] - 0s 977us/step - loss: 2.2040 - accuracy: 0.1859 - val_loss: 2.3808 - val_accuracy: 0.1050\n",
      "Epoch 25/30\n",
      "250/250 [==============================] - 0s 1ms/step - loss: 2.2016 - accuracy: 0.1814 - val_loss: 2.3714 - val_accuracy: 0.1120\n",
      "Epoch 26/30\n",
      "250/250 [==============================] - 0s 1ms/step - loss: 2.1853 - accuracy: 0.2038 - val_loss: 2.3839 - val_accuracy: 0.1045\n",
      "Epoch 27/30\n",
      "250/250 [==============================] - 0s 1ms/step - loss: 2.1794 - accuracy: 0.1970 - val_loss: 2.3922 - val_accuracy: 0.1070\n",
      "Epoch 28/30\n",
      "250/250 [==============================] - 0s 979us/step - loss: 2.1808 - accuracy: 0.2005 - val_loss: 2.3993 - val_accuracy: 0.1125\n",
      "Epoch 29/30\n",
      "250/250 [==============================] - 0s 992us/step - loss: 2.1787 - accuracy: 0.2010 - val_loss: 2.4000 - val_accuracy: 0.1070\n",
      "Epoch 30/30\n",
      "250/250 [==============================] - 0s 983us/step - loss: 2.1733 - accuracy: 0.2114 - val_loss: 2.3977 - val_accuracy: 0.1065\n"
     ]
    },
    {
     "data": {
      "text/plain": [
       "<tensorflow.python.keras.callbacks.History at 0x1d5ea7ffd60>"
      ]
     },
     "execution_count": 7,
     "metadata": {},
     "output_type": "execute_result"
    }
   ],
   "source": [
    "model = Sequential()\n",
    "model.add(Dense(units = 32,activation = 'relu',\n",
    "               input_shape = (150,)))\n",
    "model.add(Dense(units = 10, activation = 'softmax'))\n",
    "\n",
    "model.compile(optimizer='rmsprop',\n",
    "             loss = 'categorical_crossentropy',\n",
    "             metrics = ['accuracy'])\n",
    "model.fit(data,labels,batch_size = 32, epochs = 30,\n",
    "         validation_split=0.2)"
   ]
  },
  {
   "cell_type": "markdown",
   "metadata": {},
   "source": [
    "Model prediction:"
   ]
  },
  {
   "cell_type": "code",
   "execution_count": 8,
   "metadata": {},
   "outputs": [
    {
     "data": {
      "text/plain": [
       "array([[0.06477346, 0.13823393, 0.07827655, 0.0942414 , 0.1627205 ,\n",
       "        0.0649778 , 0.08944164, 0.13526438, 0.05411867, 0.11795159],\n",
       "       [0.09322909, 0.10132886, 0.12094113, 0.11085437, 0.09405636,\n",
       "        0.11494919, 0.06609003, 0.07738329, 0.12360779, 0.09755991],\n",
       "       [0.06588955, 0.06049091, 0.13288023, 0.09716542, 0.09424546,\n",
       "        0.09215257, 0.14719544, 0.14168869, 0.05564263, 0.11264905],\n",
       "       [0.12368207, 0.07396173, 0.07792704, 0.12378768, 0.11884189,\n",
       "        0.06130612, 0.08668667, 0.06785095, 0.14415441, 0.12180144],\n",
       "       [0.11620728, 0.08879122, 0.04515128, 0.13504098, 0.11904419,\n",
       "        0.1410423 , 0.09117757, 0.07444729, 0.09138212, 0.09771581],\n",
       "       [0.10187653, 0.10274068, 0.09289145, 0.09087482, 0.12270129,\n",
       "        0.08432733, 0.09873701, 0.0945913 , 0.10114563, 0.1101139 ],\n",
       "       [0.15964487, 0.17558247, 0.09125747, 0.07154799, 0.05199504,\n",
       "        0.0757632 , 0.07409249, 0.05834332, 0.11480427, 0.1269689 ],\n",
       "       [0.11195675, 0.11079769, 0.05527018, 0.2642321 , 0.14884193,\n",
       "        0.07662342, 0.04522738, 0.07302732, 0.05478344, 0.0592398 ],\n",
       "       [0.03958468, 0.10065826, 0.10264825, 0.05666423, 0.17222857,\n",
       "        0.08895405, 0.10897585, 0.12389008, 0.09842148, 0.10797453],\n",
       "       [0.10815664, 0.0930697 , 0.10515258, 0.10046642, 0.10571469,\n",
       "        0.10914518, 0.0814198 , 0.07152627, 0.13153382, 0.09381491]],\n",
       "      dtype=float32)"
      ]
     },
     "execution_count": 8,
     "metadata": {},
     "output_type": "execute_result"
    }
   ],
   "source": [
    "test_data = np.random.random((10,150))\n",
    "model.predict(test_data)"
   ]
  },
  {
   "cell_type": "markdown",
   "metadata": {},
   "source": [
    "Result of model prediction:"
   ]
  },
  {
   "cell_type": "code",
   "execution_count": 9,
   "metadata": {},
   "outputs": [
    {
     "data": {
      "text/plain": [
       "array([0.06477346, 0.13823393, 0.07827655, 0.0942414 , 0.1627205 ,\n",
       "       0.0649778 , 0.08944164, 0.13526438, 0.05411867, 0.11795159],\n",
       "      dtype=float32)"
      ]
     },
     "execution_count": 9,
     "metadata": {},
     "output_type": "execute_result"
    }
   ],
   "source": [
    "model.predict(test_data)[0]"
   ]
  },
  {
   "cell_type": "code",
   "execution_count": 11,
   "metadata": {},
   "outputs": [
    {
     "data": {
      "text/plain": [
       "4"
      ]
     },
     "execution_count": 11,
     "metadata": {},
     "output_type": "execute_result"
    }
   ],
   "source": [
    "np.argmax(model.predict(test_data)[0])"
   ]
  }
 ],
 "metadata": {
  "kernelspec": {
   "display_name": "Python 3",
   "language": "python",
   "name": "python3"
  },
  "language_info": {
   "codemirror_mode": {
    "name": "ipython",
    "version": 3
   },
   "file_extension": ".py",
   "mimetype": "text/x-python",
   "name": "python",
   "nbconvert_exporter": "python",
   "pygments_lexer": "ipython3",
   "version": "3.8.5"
  }
 },
 "nbformat": 4,
 "nbformat_minor": 4
}
