{
 "cells": [
  {
   "cell_type": "markdown",
   "metadata": {
    "id": "WLEgCW5F1hho",
    "lang": "en"
   },
   "source": [
    "## Numpy\n",
    "\n",
    "### Spis treści:\n",
    "* [Import biblioteki](#0)\n",
    "* [Exercise 51](#1)\n",
    "* [Exercise 52](#2)\n",
    "* [Exercise 53](#3)\n",
    "* [Exercise 54](#4)\n",
    "* [Exercise 55](#5)\n",
    "* [Exercise 56](#6)\n",
    "* [Exercise 57](#7)\n",
    "* [Exercise 58](#8)\n",
    "* [Exercise 59](#9)\n",
    "* [Exercise 60](#10)"
   ]
  },
  {
   "cell_type": "markdown",
   "metadata": {
    "lang": "en"
   },
   "source": [
    "## Numpy\n",
    "\n",
    "### Spis treści:\n",
    "* [Import biblioteki](#0)\n",
    "* [Exercise 51](#1)\n",
    "* [Exercise 52](#2)\n",
    "* [Exercise 53](#3)\n",
    "* [Exercise 54](#4)\n",
    "* [Exercise 55](#5)\n",
    "* [Exercise 56](#6)\n",
    "* [Exercise 57](#7)\n",
    "* [Exercise 58](#8)\n",
    "* [Exercise 59](#9)\n",
    "* [Exercise 60](#10)"
   ]
  },
  {
   "cell_type": "markdown",
   "metadata": {
    "lang": "en"
   },
   "source": [
    "## Numpy\n",
    "\n",
    "### Spis treści:\n",
    "*[Import biblioteki](#0)* [Exercise 51](#1)\n",
    "*[Exercise 52](#2)* [Exercise 53](#3)\n",
    "*[Exercise 54](#4)* [Exercise 55](#5)\n",
    "*[Exercise 56](#6)* [Exercise 57](#7)\n",
    "*[Exercise 58](#8)* [Exercise 59](#9)\n",
    "* [Exercise 60](#10)"
   ]
  },
  {
   "cell_type": "markdown",
   "metadata": {
    "lang": "en"
   },
   "source": [
    "## Numpy\n",
    "\n",
    "### Spis treści:\n",
    "*[Import biblioteki](#0)* [Exercise 51](#1)\n",
    "*[Exercise 52](#2)* [Exercise 53](#3)\n",
    "*[Exercise 54](#4)* [Exercise 55](#5)\n",
    "*[Exercise 56](#6)* [Exercise 57](#7)\n",
    "*[Exercise 58](#8)* [Exercise 59](#9)\n",
    "* [Exercise 60](#10)"
   ]
  },
  {
   "cell_type": "markdown",
   "metadata": {
    "lang": "en"
   },
   "source": [
    "## Numpy\n",
    "\n",
    "### Table of Contents:\n",
    "*[Library import] (# 0)* [Exercise 51] (# 1)\n",
    "*[Exercise 52] (# 2)* [Exercise 53] (# 3)\n",
    "*[Exercise 54] (# 4)* [Exercise 55] (# 5)\n",
    "*[Exercise 56] (# 6)* [Exercise 57] (# 7)\n",
    "*[Exercise 58] (# 8)* [Exercise 59] (# 9)\n",
    "* [Exercise 60] (# 10)"
   ]
  },
  {
   "cell_type": "markdown",
   "metadata": {
    "lang": "en"
   },
   "source": [
    "## Numpy\n",
    "\n",
    "### Table of Contents:\n",
    "*[Library import] (# 0)* [Exercise 51] (# 1)\n",
    "*[Exercise 52] (# 2)* [Exercise 53] (# 3)\n",
    "*[Exercise 54] (# 4)* [Exercise 55] (# 5)\n",
    "*[Exercise 56] (# 6)* [Exercise 57] (# 7)\n",
    "*[Exercise 58] (# 8)* [Exercise 59] (# 9)\n",
    "* [Exercise 60] (# 10)"
   ]
  },
  {
   "cell_type": "markdown",
   "metadata": {
    "id": "zeLOLmTj1kBM"
   },
   "source": [
    "### <a name='0'></a>Import libraries"
   ]
  },
  {
   "cell_type": "code",
   "execution_count": 1,
   "metadata": {
    "id": "HXMB7SMe1Wnz"
   },
   "outputs": [
    {
     "data": {
      "text/plain": [
       "'1.19.2'"
      ]
     },
     "execution_count": 1,
     "metadata": {},
     "output_type": "execute_result"
    }
   ],
   "source": [
    "import numpy as np\n",
    "\n",
    "np.random.seed(42)\n",
    "np.__version__"
   ]
  },
  {
   "cell_type": "markdown",
   "metadata": {
    "id": "cyc70pMe1oCg"
   },
   "source": [
    "### <a name='1'></a> Exercise 51\n",
    "Two table are given $A$ i $B$:\n",
    "\n",
    "\n",
    "```\n",
    "A = np.array([[3, 4, 5],\n",
    "              [8, 3, 1]])\n",
    "B = np.array([[0, 5, 2],\n",
    "              [4, 2, 1]])\n",
    "```\n",
    "* Connect table to recive table as showed below:\n",
    "\n",
    "\n",
    "```\n",
    "array([[3, 4, 5],\n",
    "       [8, 3, 1],\n",
    "       [0, 5, 2],\n",
    "       [4, 2, 1]])\n",
    "```"
   ]
  },
  {
   "cell_type": "code",
   "execution_count": 2,
   "metadata": {
    "id": "G06kZluT8eIh"
   },
   "outputs": [
    {
     "data": {
      "text/plain": [
       "array([[3, 4, 5],\n",
       "       [8, 3, 1],\n",
       "       [0, 5, 2],\n",
       "       [4, 2, 1]])"
      ]
     },
     "execution_count": 2,
     "metadata": {},
     "output_type": "execute_result"
    }
   ],
   "source": [
    "# Array assagin\n",
    "A = np.array([[3, 4, 5],\n",
    "              [8, 3, 1]])\n",
    "B = np.array([[0, 5, 2],\n",
    "              [4, 2, 1]])\n",
    "\n",
    "# Solution\n",
    "\n",
    "np.concatenate((A,B))"
   ]
  },
  {
   "cell_type": "markdown",
   "metadata": {
    "id": "ODw_gitA98Ul"
   },
   "source": [
    "* Connect table A and B in way showed below:\n",
    "\n",
    "\n",
    "```\n",
    "array([[3, 4, 5, 0, 5, 2],\n",
    "       [8, 3, 1, 4, 2, 1]])\n",
    "```"
   ]
  },
  {
   "cell_type": "code",
   "execution_count": 3,
   "metadata": {
    "id": "1pmGjLj88tcf"
   },
   "outputs": [
    {
     "data": {
      "text/plain": [
       "array([[3, 4, 5, 0, 5, 2],\n",
       "       [8, 3, 1, 4, 2, 1]])"
      ]
     },
     "execution_count": 3,
     "metadata": {},
     "output_type": "execute_result"
    }
   ],
   "source": [
    "# Solution\n",
    "np.concatenate((A,B),axis = 1)"
   ]
  },
  {
   "cell_type": "markdown",
   "metadata": {
    "id": "J9pY1rtr1sC0"
   },
   "source": [
    "### <a name='2'></a> Exercise 52\n",
    "Connect table _data_ and table _target_:\n",
    "\n",
    "```\n",
    "data = np.array([[4.3, 4.2],\n",
    "                 [3.1, 3.6]])\n",
    "target = np.array([[0],\n",
    "                   [1]])\n",
    "```\n",
    "\n"
   ]
  },
  {
   "cell_type": "markdown",
   "metadata": {
    "id": "8cAKF7ok-RjX"
   },
   "source": [
    "Connect table to recive result:\n",
    "\n",
    "\n",
    "```\n",
    "array([[4.3, 4.2, 0. ],\n",
    "       [3.1, 3.6, 1. ]])\n",
    "```\n",
    "\n"
   ]
  },
  {
   "cell_type": "code",
   "execution_count": 4,
   "metadata": {
    "id": "4lc68Wfr8z3u"
   },
   "outputs": [
    {
     "data": {
      "text/plain": [
       "array([[4.3, 4.2, 0. ],\n",
       "       [3.1, 3.6, 1. ]])"
      ]
     },
     "execution_count": 4,
     "metadata": {},
     "output_type": "execute_result"
    }
   ],
   "source": [
    "# Array assign\n",
    "data = np.array([[4.3, 4.2],\n",
    "                 [3.1, 3.6]])\n",
    "target = np.array([[0],\n",
    "                   [1]])\n",
    "# Solution\n",
    "np.concatenate((data,target),axis = 1)"
   ]
  },
  {
   "cell_type": "markdown",
   "metadata": {
    "id": "XQLYT2m11wVG"
   },
   "source": [
    "### <a name='3'></a> Exercise 53\n",
    "Three the same dimensional arrays are given:  \n",
    "\n",
    "\n",
    "```\n",
    "feature1 = np.array([1.6, 0.9, 2.2])\n",
    "feature2 = np.array([0.4, 1.3, 3.2])\n",
    "feature3 = np.array([1.4, 0.3, 1.2])\n",
    "```\n",
    "Transform each array to to achieve result.\n",
    "\n",
    "__Expected result:__\n",
    "\n",
    "\n",
    "```\n",
    "array([[1.6, 0.4, 1.4],\n",
    "       [0.9, 1.3, 0.3],\n",
    "       [2.2, 3.2, 1.2]])\n",
    "```"
   ]
  },
  {
   "cell_type": "code",
   "execution_count": 5,
   "metadata": {
    "id": "xfPf_vq7-jBP"
   },
   "outputs": [
    {
     "data": {
      "text/plain": [
       "array([[1.6, 0.4, 1.4],\n",
       "       [0.9, 1.3, 0.3],\n",
       "       [2.2, 3.2, 1.2]])"
      ]
     },
     "execution_count": 5,
     "metadata": {},
     "output_type": "execute_result"
    }
   ],
   "source": [
    "# Create table\n",
    "feature1 = np.array([1.6, 0.9, 2.2])\n",
    "feature2 = np.array([0.4, 1.3, 3.2])\n",
    "feature3 = np.array([1.4, 0.3, 1.2])\n",
    "\n",
    "# Solution\n",
    "\n",
    "np.concatenate((feature1.reshape(-1,1),feature2.reshape(-1,1),feature3.reshape(-1,1)), axis = 1)"
   ]
  },
  {
   "cell_type": "markdown",
   "metadata": {
    "id": "4xTKSUzg10MK"
   },
   "source": [
    "### <a name='4'></a> Exercise 54\n",
    "Table is given:\n",
    "\n",
    "```\n",
    "A = np.random.randint(low=0, high=7, size=(5, 8))\n",
    "A[:, :2] = 0\n",
    "A[:, -2:] = 1\n",
    "A\n",
    "```\n",
    "```\n",
    "array([[0, 0, 4, 6, 2, 4, 1, 1],\n",
    "       [0, 0, 6, 2, 2, 4, 1, 1],\n",
    "       [0, 0, 1, 3, 5, 5, 1, 1],\n",
    "       [0, 0, 3, 1, 5, 4, 1, 1],\n",
    "       [0, 0, 2, 6, 1, 3, 1, 1]])\n",
    "```\n",
    "\n",
    "Devide table to recive table $A1$ with two first columns, table $A2$ with four next columns and last 2 columns make table $A3$."
   ]
  },
  {
   "cell_type": "code",
   "execution_count": 6,
   "metadata": {
    "id": "U5MFrLUHBsEf"
   },
   "outputs": [
    {
     "name": "stdout",
     "output_type": "stream",
     "text": [
      "[[0 0]\n",
      " [0 0]\n",
      " [0 0]\n",
      " [0 0]\n",
      " [0 0]]\n"
     ]
    }
   ],
   "source": [
    "# Create array\n",
    "A = np.random.randint(low=0, high=7, size=(5, 8))\n",
    "A[:, :2] = 0\n",
    "A[:, -2:] = 1\n",
    "\n",
    "# Solution\n",
    "A1 = A[:,:2]\n",
    "print(A1)"
   ]
  },
  {
   "cell_type": "code",
   "execution_count": 7,
   "metadata": {},
   "outputs": [
    {
     "name": "stdout",
     "output_type": "stream",
     "text": [
      "[[4 6 2 4]\n",
      " [6 2 2 4]\n",
      " [1 3 5 5]\n",
      " [3 1 5 4]\n",
      " [2 6 1 3]]\n"
     ]
    }
   ],
   "source": [
    "# Solution\n",
    "A2 = A[:,2:6]\n",
    "print(A2)"
   ]
  },
  {
   "cell_type": "code",
   "execution_count": 8,
   "metadata": {},
   "outputs": [
    {
     "name": "stdout",
     "output_type": "stream",
     "text": [
      "[[1 1]\n",
      " [1 1]\n",
      " [1 1]\n",
      " [1 1]\n",
      " [1 1]]\n"
     ]
    }
   ],
   "source": [
    "# Solution\n",
    "A3 = A[:,-2:]\n",
    "print(A3)"
   ]
  },
  {
   "cell_type": "markdown",
   "metadata": {
    "id": "o3HKIKlP15Ro"
   },
   "source": [
    "### <a name='5'></a> Exercise 55\n",
    "Table $A$ is generated:\n",
    "\n",
    "```\n",
    "A = np.random.randint(low=0, high=2, size=(10, 6))\n",
    "```\n",
    "Return number of not null elements."
   ]
  },
  {
   "cell_type": "code",
   "execution_count": 9,
   "metadata": {
    "id": "j5E2nOFyDy1b"
   },
   "outputs": [
    {
     "data": {
      "text/plain": [
       "38"
      ]
     },
     "execution_count": 9,
     "metadata": {},
     "output_type": "execute_result"
    }
   ],
   "source": [
    "# Create array\n",
    "A = np.random.randint(low=0, high=2, size=(10, 6))\n",
    "\n",
    "# Solution\n",
    "np.count_nonzero(A)"
   ]
  },
  {
   "cell_type": "markdown",
   "metadata": {
    "id": "wJde65uYhJ2f"
   },
   "source": [
    "Return number of not null elements in rows."
   ]
  },
  {
   "cell_type": "code",
   "execution_count": 10,
   "metadata": {
    "id": "BWG-icQuEEPS"
   },
   "outputs": [
    {
     "data": {
      "text/plain": [
       "array([4, 2, 1, 5, 4, 3, 3, 6, 4, 6], dtype=int64)"
      ]
     },
     "execution_count": 10,
     "metadata": {},
     "output_type": "execute_result"
    }
   ],
   "source": [
    "# Solution\n",
    "np.count_nonzero(A,axis = 1)"
   ]
  },
  {
   "cell_type": "markdown",
   "metadata": {
    "id": "PunXd_Ey16so"
   },
   "source": [
    "### <a name='6'></a> Exercise 56\n",
    "Random table is given $A$:\n",
    "\n",
    "```\n",
    "A = np.random.randn(10, 4)\n",
    "```\n",
    "\n",
    "```\n",
    "array([[-0.53441645, -1.49505387, -0.78925833,  0.74371128],\n",
    "       [-0.21216142, -0.42686879,  0.50144833,  1.15818665],\n",
    "       [ 0.25711687,  0.3145129 ,  1.37186213,  0.17555329],\n",
    "       [-0.30928855,  0.6731255 , -0.25663018, -0.36782572],\n",
    "       [ 1.27373362, -0.29195267, -2.65517605,  0.34551794],\n",
    "       [-0.39551645, -0.28913686,  0.45293633, -0.16606091],\n",
    "       [ 0.21493883, -2.02231493, -0.94305681,  1.40395874],\n",
    "       [-0.0185508 , -1.67350462, -1.07253183, -0.99258618],\n",
    "       [ 0.10234768, -0.43260928, -0.6591823 ,  0.0039373 ],\n",
    "       [ 0.4777541 , -0.25902864, -0.57470921, -0.42149822]])\n",
    "```\n",
    "\n",
    "\n",
    "Set printing precision to 4 digits after dot and print table $A$."
   ]
  },
  {
   "cell_type": "code",
   "execution_count": 11,
   "metadata": {
    "id": "aL6C9MYSYkaL"
   },
   "outputs": [
    {
     "data": {
      "text/plain": [
       "array([[ 0.7385,  0.1714, -0.1156, -0.3011],\n",
       "       [-1.4785, -0.7198, -0.4606,  1.0571],\n",
       "       [ 0.3436, -1.763 ,  0.3241, -0.3851],\n",
       "       [-0.6769,  0.6117,  1.031 ,  0.9313],\n",
       "       [-0.8392, -0.3092,  0.3313,  0.9755],\n",
       "       [-0.4792, -0.1857, -1.1063, -1.1962],\n",
       "       [ 0.8125,  1.3562, -0.072 ,  1.0035],\n",
       "       [ 0.3616, -0.6451,  0.3614,  1.538 ],\n",
       "       [-0.0358,  1.5646, -2.6197,  0.8219],\n",
       "       [ 0.087 , -0.299 ,  0.0918, -1.9876]])"
      ]
     },
     "execution_count": 11,
     "metadata": {},
     "output_type": "execute_result"
    }
   ],
   "source": [
    "# Table assign \n",
    "A = np.random.randn(10, 4)\n",
    "\n",
    "# Solution\n",
    "np.set_printoptions(precision= 4)\n",
    "A"
   ]
  },
  {
   "cell_type": "markdown",
   "metadata": {
    "id": "hOhqDRz618Tx"
   },
   "source": [
    "### <a name='7'></a> Exercise 57\n",
    "Table $A$ is given:\n",
    "\n",
    "```\n",
    "A = np.array([1.2e-6, 1.7e-7])\n",
    "```\n",
    "\n",
    "Set printing precision to 8 numbers then remove e notation from matrix. Print table $A$.\n",
    "\n",
    "__Excepted value:__\n",
    "\n",
    "\n",
    "```\n",
    "array([0.0000012 , 0.00000017])\n",
    "```\n",
    "\n",
    "\n",
    "\n"
   ]
  },
  {
   "cell_type": "code",
   "execution_count": 12,
   "metadata": {
    "id": "BUr3XXiWdUWi"
   },
   "outputs": [
    {
     "data": {
      "text/plain": [
       "array([0.0000012 , 0.00000017])"
      ]
     },
     "execution_count": 12,
     "metadata": {},
     "output_type": "execute_result"
    }
   ],
   "source": [
    "A = np.array([1.2e-6, 1.7e-7])\n",
    "\n",
    "# Solution\n",
    "np.set_printoptions(precision= 8,suppress = True)\n",
    "A"
   ]
  },
  {
   "cell_type": "markdown",
   "metadata": {
    "id": "TXUd_4631-gw"
   },
   "source": [
    "### <a name='8'></a> Exercise 58\n",
    "The table $A$ is given:\n",
    "\n",
    "```\n",
    "A = np.random.randn(8, 4)\n",
    "```\n",
    "Remove third column from table $A$.\n",
    "\n",
    "__Excepted_result:__\n",
    "\n",
    "\n",
    "```\n",
    "array([[-0.55692881, -0.66003196,  0.70856031],\n",
    "       [ 0.22378737, -0.19796576, -0.16889332],\n",
    "       [ 0.26062786,  0.29865445, -0.92259267],\n",
    "       [-2.40317659,  1.79961876, -1.96495796],\n",
    "       [ 0.13051561, -1.7085185 ,  0.54885043],\n",
    "       [ 1.77268727,  0.38751181, -0.05141955],\n",
    "       [-1.80858596, -0.45075211,  0.15332866],\n",
    "       [ 1.94218961, -1.93679529, -1.83350954]])\n",
    "```"
   ]
  },
  {
   "cell_type": "code",
   "execution_count": 13,
   "metadata": {
    "id": "o5PxnILogU6z"
   },
   "outputs": [
    {
     "data": {
      "text/plain": [
       "array([[-0.21967189,  0.35711257, -0.51827022],\n",
       "       [-0.8084936 , -0.50175704,  0.32875111],\n",
       "       [-0.5297602 ,  0.51326743,  0.96864499],\n",
       "       [-0.70205309, -0.32766215, -1.46351495],\n",
       "       [ 0.29612028,  0.26105527, -0.23458713],\n",
       "       [-1.41537074, -0.42064532, -0.80227727],\n",
       "       [-0.16128571,  0.40405086,  0.17457781],\n",
       "       [ 0.25755039, -0.07444592, -0.02651388]])"
      ]
     },
     "execution_count": 13,
     "metadata": {},
     "output_type": "execute_result"
    }
   ],
   "source": [
    "A = np.random.randn(8, 4)\n",
    "# Solution\n",
    "np.delete(A, 2, axis=1)"
   ]
  },
  {
   "cell_type": "markdown",
   "metadata": {
    "id": "tgI6xEn-2AQo"
   },
   "source": [
    "### <a name='9'></a> Exercise 59\n",
    "The table $v$ as vector is given:\n",
    "\n",
    "```\n",
    "v = np.array([3, 4, -2])\n",
    "```\n",
    "Calculate norm of $v$.\n"
   ]
  },
  {
   "cell_type": "code",
   "execution_count": 14,
   "metadata": {
    "id": "TYPzAZCwi-Ky"
   },
   "outputs": [
    {
     "data": {
      "text/plain": [
       "5.385164807134504"
      ]
     },
     "execution_count": 14,
     "metadata": {},
     "output_type": "execute_result"
    }
   ],
   "source": [
    "v = np.array([3, 4, -2])\n",
    "# Solution\n",
    "np.linalg.norm(v)"
   ]
  },
  {
   "cell_type": "markdown",
   "metadata": {
    "id": "wxhpf-uq2B1I"
   },
   "source": [
    "### <a name='10'></a> Exercise 60\n",
    "The table $A$ is given as example:\n",
    "\n",
    "\n",
    "```\n",
    "A = np.random.randint(10, size=(100, 30))\n",
    "```\n",
    "Set numpy option to return ten extreme elements from the table. Print table $A$.\n"
   ]
  },
  {
   "cell_type": "code",
   "execution_count": 15,
   "metadata": {
    "id": "liJX2nIBk-gO",
    "lang": "en"
   },
   "outputs": [
    {
     "data": {
      "text/plain": [
       "array([[0, 7, 0, 0, 1, 1, 5, 6, 4, 0, ..., 0, 5, 7, 4, 3, 1, 5, 5, 0, 8],\n",
       "       [5, 2, 3, 3, 2, 9, 2, 2, 3, 6, ..., 1, 6, 9, 2, 6, 9, 8, 3, 0, 1],\n",
       "       [0, 4, 4, 6, 8, 8, 2, 2, 2, 3, ..., 7, 3, 2, 8, 2, 8, 1, 1, 1, 5],\n",
       "       [2, 8, 3, 0, 3, 0, 4, 3, 7, 7, ..., 2, 5, 7, 1, 4, 0, 0, 4, 2, 3],\n",
       "       [2, 0, 0, 4, 5, 2, 8, 4, 7, 0, ..., 9, 5, 9, 2, 7, 7, 1, 5, 6, 1],\n",
       "       [9, 1, 9, 0, 7, 0, 8, 5, 6, 9, ..., 3, 0, 7, 2, 6, 1, 1, 6, 5, 2],\n",
       "       [8, 9, 5, 9, 9, 5, 0, 3, 9, 5, ..., 2, 6, 7, 3, 1, 9, 2, 0, 7, 2],\n",
       "       [9, 6, 9, 4, 9, 4, 6, 8, 4, 0, ..., 4, 5, 6, 2, 9, 2, 4, 5, 8, 4],\n",
       "       [0, 3, 4, 9, 9, 4, 6, 3, 0, 4, ..., 2, 9, 0, 7, 4, 3, 7, 6, 1, 0],\n",
       "       [3, 7, 1, 2, 0, 0, 2, 4, 2, 0, ..., 7, 9, 9, 9, 1, 2, 8, 6, 3, 9],\n",
       "       ...,\n",
       "       [6, 3, 5, 2, 5, 1, 7, 1, 6, 8, ..., 9, 7, 2, 9, 0, 8, 0, 2, 7, 2],\n",
       "       [3, 7, 0, 5, 0, 0, 7, 3, 0, 9, ..., 0, 8, 0, 7, 4, 2, 6, 6, 8, 6],\n",
       "       [2, 0, 7, 2, 7, 7, 4, 0, 9, 6, ..., 1, 3, 0, 3, 1, 4, 2, 7, 3, 0],\n",
       "       [0, 9, 2, 8, 6, 1, 8, 9, 1, 2, ..., 4, 1, 5, 2, 7, 1, 0, 8, 2, 0],\n",
       "       [6, 9, 4, 4, 0, 8, 6, 7, 8, 5, ..., 1, 2, 2, 8, 6, 7, 9, 8, 5, 3],\n",
       "       [0, 7, 6, 1, 7, 4, 6, 3, 4, 7, ..., 4, 7, 1, 3, 7, 5, 0, 3, 0, 1],\n",
       "       [4, 7, 7, 2, 3, 9, 5, 9, 2, 1, ..., 5, 3, 1, 8, 0, 3, 0, 5, 3, 4],\n",
       "       [4, 8, 0, 1, 5, 4, 6, 2, 2, 9, ..., 7, 2, 1, 3, 2, 0, 2, 1, 7, 5],\n",
       "       [8, 7, 9, 2, 4, 6, 4, 7, 4, 0, ..., 6, 4, 0, 7, 3, 8, 9, 5, 0, 2],\n",
       "       [2, 9, 3, 5, 6, 9, 3, 5, 0, 7, ..., 6, 2, 8, 7, 3, 0, 0, 0, 0, 7]])"
      ]
     },
     "execution_count": 15,
     "metadata": {},
     "output_type": "execute_result"
    }
   ],
   "source": [
    "A = np.random.randint(10, size=(100, 30))\n",
    "# Solution\n",
    "np.set_printoptions(edgeitems=10)\n",
    "A"
   ]
  },
  {
   "cell_type": "markdown",
   "metadata": {
    "lang": "en"
   },
   "source": [
    "# enter your solution here"
   ]
  }
 ],
 "metadata": {
  "colab": {
   "collapsed_sections": [],
   "name": "051-060_exercises.ipynb",
   "provenance": []
  },
  "kernelspec": {
   "display_name": "Python 3",
   "language": "python",
   "name": "python3"
  },
  "language_info": {
   "codemirror_mode": {
    "name": "ipython",
    "version": 3
   },
   "file_extension": ".py",
   "mimetype": "text/x-python",
   "name": "python",
   "nbconvert_exporter": "python",
   "pygments_lexer": "ipython3",
   "version": "3.8.5"
  },
  "nbTranslate": {
   "displayLangs": [
    "pl"
   ],
   "hotkey": "alt-t",
   "langInMainMenu": true,
   "sourceLang": "en",
   "targetLang": "en",
   "useGoogleTranslate": false
  }
 },
 "nbformat": 4,
 "nbformat_minor": 1
}
