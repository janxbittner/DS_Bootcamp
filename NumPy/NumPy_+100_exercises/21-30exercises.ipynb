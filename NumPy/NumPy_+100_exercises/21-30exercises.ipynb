{
 "cells": [
  {
   "cell_type": "markdown",
   "metadata": {
    "id": "zeLOLmTj1kBM"
   },
   "source": [
    "### <a name='0'></a>Import libraries"
   ]
  },
  {
   "cell_type": "code",
   "execution_count": 1,
   "metadata": {
    "id": "HXMB7SMe1Wnz"
   },
   "outputs": [
    {
     "data": {
      "text/plain": [
       "'1.19.2'"
      ]
     },
     "execution_count": 1,
     "metadata": {},
     "output_type": "execute_result"
    }
   ],
   "source": [
    "import numpy as np\n",
    "\n",
    "np.__version__"
   ]
  },
  {
   "cell_type": "markdown",
   "metadata": {
    "id": "cyc70pMe1oCg"
   },
   "source": [
    "### <a name='1'></a> Exercise 21\n",
    "Generate table below. Save the table to file: _'array.npy'_ and then load the file to another variable.\n",
    "\n",
    "\n",
    "```\n",
    "array([[ 0,  1,  2,  3],\n",
    "       [ 4,  5,  6,  7],\n",
    "       [ 8,  9, 10, 11]])\n",
    "```"
   ]
  },
  {
   "cell_type": "code",
   "execution_count": 2,
   "metadata": {
    "id": "MhvZKgtPKAOF"
   },
   "outputs": [
    {
     "data": {
      "text/plain": [
       "array([[ 0,  1,  2,  3],\n",
       "       [ 4,  5,  6,  7],\n",
       "       [ 8,  9, 10, 11]])"
      ]
     },
     "execution_count": 2,
     "metadata": {},
     "output_type": "execute_result"
    }
   ],
   "source": [
    "# Create table\n",
    "table = np.arange(0,12,1,dtype ='int').reshape(3,4)\n",
    "\n",
    "# Save table to file\n",
    "np.save('array.npy', table, allow_pickle=True, fix_imports=True)\n",
    "\n",
    "# Load table from file\n",
    "Load_arr = np.load('array.npy', mmap_mode=None, allow_pickle=True, fix_imports=True, encoding='ASCII')\n",
    "Load_arr"
   ]
  },
  {
   "cell_type": "markdown",
   "metadata": {
    "id": "J9pY1rtr1sC0"
   },
   "source": [
    "### <a name='2'></a> Exercise 22\n",
    "Generate table as below:\n",
    "\n",
    "\n",
    "```\n",
    "array([[ 0,  1,  2,  3],\n",
    "       [ 4,  5,  6,  7],\n",
    "       [ 8,  9, 10, 11]])\n",
    "```\n",
    "\n",
    "\n",
    "Then save the table to file _'array.txt'_ with two letter precision after dot.Then load table to another variable."
   ]
  },
  {
   "cell_type": "code",
   "execution_count": 3,
   "metadata": {
    "id": "Ac7M7bDhLAlf"
   },
   "outputs": [
    {
     "data": {
      "text/plain": [
       "array([[ 0.,  1.,  2.,  3.],\n",
       "       [ 4.,  5.,  6.,  7.],\n",
       "       [ 8.,  9., 10., 11.]])"
      ]
     },
     "execution_count": 3,
     "metadata": {},
     "output_type": "execute_result"
    }
   ],
   "source": [
    "# Create table\n",
    "table = np.arange(0,12,1,dtype ='int').reshape(3,4)\n",
    "\n",
    "# Save table to file\n",
    "np.savetxt('array.txt', table, fmt='%.2f', delimiter=' ', newline='\\n', header='', footer='', comments='# ', encoding=None)\n",
    "\n",
    "# Load, save and print the variable\n",
    "load_arr = np.loadtxt('array.txt', comments='#', delimiter=' '\n",
    "              , converters=None, skiprows=0, usecols=None, unpack=False, ndmin=0, encoding=None, max_rows=None)\n",
    "load_arr"
   ]
  },
  {
   "cell_type": "markdown",
   "metadata": {
    "id": "XQLYT2m11wVG"
   },
   "source": [
    "### <a name='3'></a> Exercise 23\n",
    "Generate table as below. Then convert the table to list.\n",
    "\n",
    "```\n",
    "array([[ 0,  1,  2,  3],\n",
    "       [ 4,  5,  6,  7],\n",
    "       [ 8,  9, 10, 11]])\n",
    "```"
   ]
  },
  {
   "cell_type": "code",
   "execution_count": 4,
   "metadata": {
    "id": "Dtu-EJViT1Os"
   },
   "outputs": [
    {
     "data": {
      "text/plain": [
       "[[0, 1, 2, 3], [4, 5, 6, 7], [8, 9, 10, 11]]"
      ]
     },
     "execution_count": 4,
     "metadata": {},
     "output_type": "execute_result"
    }
   ],
   "source": [
    "# Solution\n",
    "table = np.arange(0,12,1,dtype ='int').reshape(3,4)\n",
    "table.tolist()"
   ]
  },
  {
   "cell_type": "markdown",
   "metadata": {
    "id": "4xTKSUzg10MK"
   },
   "source": [
    "### <a name='4'></a> Exercise 24\n",
    "Array is given:\n",
    "\n",
    "```\n",
    "array([[ 0,  1,  2,  3],\n",
    "       [ 4,  5,  6,  7],\n",
    "       [ 8,  9, 10, 11]])\n",
    "```\n",
    "Using cutting operator transform table to form below:\n",
    "\n",
    "```\n",
    "array([[ 8,  9, 10, 11],\n",
    "       [ 4,  5,  6,  7],\n",
    "       [ 0,  1,  2,  3]])\n",
    "```\n",
    "\n",
    "\n",
    "\n",
    "\n",
    "\n"
   ]
  },
  {
   "cell_type": "code",
   "execution_count": 5,
   "metadata": {
    "id": "1iqUDmG3V7sM"
   },
   "outputs": [
    {
     "data": {
      "text/plain": [
       "array([[ 8,  9, 10, 11],\n",
       "       [ 4,  5,  6,  7],\n",
       "       [ 0,  1,  2,  3]])"
      ]
     },
     "execution_count": 5,
     "metadata": {},
     "output_type": "execute_result"
    }
   ],
   "source": [
    "# Solution\n",
    "table = np.arange(0,12,1,dtype ='int').reshape(3,4)\n",
    "table[::-1]"
   ]
  },
  {
   "cell_type": "markdown",
   "metadata": {
    "id": "QwFXH2dIEhMp"
   },
   "source": [
    "* Column change (inverted order)\n",
    "\n",
    "\n",
    "```\n",
    "array([[ 3,  2,  1,  0],\n",
    "       [ 7,  6,  5,  4],\n",
    "       [11, 10,  9,  8]])\n",
    "```\n"
   ]
  },
  {
   "cell_type": "code",
   "execution_count": 6,
   "metadata": {
    "id": "dux6cn8YV-q_"
   },
   "outputs": [
    {
     "data": {
      "text/plain": [
       "array([[ 3,  2,  1,  0],\n",
       "       [ 7,  6,  5,  4],\n",
       "       [11, 10,  9,  8]])"
      ]
     },
     "execution_count": 6,
     "metadata": {},
     "output_type": "execute_result"
    }
   ],
   "source": [
    "# Solution\n",
    "table[:,::-1]\n"
   ]
  },
  {
   "cell_type": "markdown",
   "metadata": {
    "id": "i5mm0dexEoDe"
   },
   "source": [
    "* Change the rows and columns order to inverted:\n",
    "\n",
    "\n",
    "```\n",
    "array([[11, 10,  9,  8],\n",
    "       [ 7,  6,  5,  4],\n",
    "       [ 3,  2,  1,  0]])\n",
    "```       "
   ]
  },
  {
   "cell_type": "code",
   "execution_count": 7,
   "metadata": {
    "id": "ZqkvfYoKWHLp"
   },
   "outputs": [
    {
     "data": {
      "text/plain": [
       "array([[11, 10,  9,  8],\n",
       "       [ 7,  6,  5,  4],\n",
       "       [ 3,  2,  1,  0]])"
      ]
     },
     "execution_count": 7,
     "metadata": {},
     "output_type": "execute_result"
    }
   ],
   "source": [
    "# Solution\n",
    "table[::-1,::-1]"
   ]
  },
  {
   "cell_type": "markdown",
   "metadata": {
    "id": "o3HKIKlP15Ro"
   },
   "source": [
    "### <a name='5'></a> Exercise 25\n",
    "Load the table as below:\n",
    "\n",
    "```\n",
    "array([[1., 1., 1., 1.],\n",
    "       [1., 1., 1., 1.],\n",
    "       [1., 1., 1., 1.],\n",
    "       [1., 1., 1., 1.]])\n",
    "```\n",
    "Transform above table to table below:\n",
    "\n",
    "\n",
    "```\n",
    "array([[0., 0., 0., 0., 0., 0.],\n",
    "       [0., 1., 1., 1., 1., 0.],\n",
    "       [0., 1., 1., 1., 1., 0.],\n",
    "       [0., 1., 1., 1., 1., 0.],\n",
    "       [0., 1., 1., 1., 1., 0.],\n",
    "       [0., 0., 0., 0., 0., 0.]])\n",
    "```"
   ]
  },
  {
   "cell_type": "code",
   "execution_count": 9,
   "metadata": {
    "id": "enLY_Qz4qGdJ"
   },
   "outputs": [
    {
     "data": {
      "text/plain": [
       "array([[0., 0., 0., 0., 0., 0.],\n",
       "       [0., 0., 0., 0., 0., 0.],\n",
       "       [0., 0., 0., 0., 0., 0.],\n",
       "       [0., 0., 0., 0., 0., 0.],\n",
       "       [0., 0., 0., 0., 0., 0.],\n",
       "       [0., 0., 0., 0., 0., 0.]])"
      ]
     },
     "execution_count": 9,
     "metadata": {},
     "output_type": "execute_result"
    }
   ],
   "source": [
    "# Solution\n",
    "table = np.ones((4,4))\n",
    "result = np.zeros((6,6))\n",
    "np.zeros((6,6))[1:-1,1:-1]  = np.ones((4,4))\n",
    "result"
   ]
  },
  {
   "cell_type": "code",
   "execution_count": 10,
   "metadata": {},
   "outputs": [
    {
     "data": {
      "text/plain": [
       "array([[0., 0., 0., 0., 0., 0.],\n",
       "       [0., 1., 1., 1., 1., 0.],\n",
       "       [0., 1., 1., 1., 1., 0.],\n",
       "       [0., 1., 1., 1., 1., 0.],\n",
       "       [0., 1., 1., 1., 1., 0.],\n",
       "       [0., 0., 0., 0., 0., 0.]])"
      ]
     },
     "execution_count": 10,
     "metadata": {},
     "output_type": "execute_result"
    }
   ],
   "source": [
    "# Alternative solution\n",
    "np.pad(table, pad_width=1, constant_values=0)"
   ]
  },
  {
   "cell_type": "markdown",
   "metadata": {
    "id": "PunXd_Ey16so"
   },
   "source": [
    "### <a name='6'></a> Exercise 26\n",
    "The table is given:\n",
    "\n",
    "```\n",
    "array([[0, 0, 0, 0, 0, 0],\n",
    "       [0, 0, 0, 0, 0, 0],\n",
    "       [0, 0, 0, 0, 0, 0],\n",
    "       [0, 0, 0, 0, 0, 0],\n",
    "       [0, 0, 0, 0, 0, 0],\n",
    "       [0, 0, 0, 0, 0, 0]])\n",
    "```\n",
    "Transform the table to:\n",
    "\n",
    "\n",
    "```\n",
    "array([[10,  0, 10,  0, 10,  0],\n",
    "       [ 5,  0,  5,  0,  5,  0],\n",
    "       [10,  0, 10,  0, 10,  0],\n",
    "       [ 5,  0,  5,  0,  5,  0],\n",
    "       [10,  0, 10,  0, 10,  0],\n",
    "       [ 5,  0,  5,  0,  5,  0]])\n",
    "```"
   ]
  },
  {
   "cell_type": "code",
   "execution_count": 11,
   "metadata": {
    "id": "xOVKpjvMr7bX"
   },
   "outputs": [
    {
     "data": {
      "text/plain": [
       "array([[10,  0, 10,  0, 10,  0],\n",
       "       [ 5,  0,  5,  0,  5,  0],\n",
       "       [10,  0, 10,  0, 10,  0],\n",
       "       [ 5,  0,  5,  0,  5,  0],\n",
       "       [10,  0, 10,  0, 10,  0],\n",
       "       [ 5,  0,  5,  0,  5,  0]])"
      ]
     },
     "execution_count": 11,
     "metadata": {},
     "output_type": "execute_result"
    }
   ],
   "source": [
    "# Solution\n",
    "zeros = np.zeros((6,6),dtype = 'int')\n",
    "zeros[::2,::2] = 10\n",
    "zeros[1::2,0::2] = 5\n",
    "zeros"
   ]
  },
  {
   "cell_type": "markdown",
   "metadata": {
    "id": "hOhqDRz618Tx"
   },
   "source": [
    "### <a name='7'></a> Exercise 27\n",
    "Connect tables $A$ na $B$ to one.\n",
    "\n",
    "\n",
    "```\n",
    "A = np.arange(12).reshape(-1, 4)\n",
    "B = np.array([[4, 3, 7, 2],\n",
    "              [0, 5, 2, 6]])\n",
    "```\n",
    "\n",
    "__Excepted result:__\n",
    "\n",
    "\n",
    "```\n",
    "array([[ 0,  1,  2,  3],\n",
    "       [ 4,  5,  6,  7],\n",
    "       [ 8,  9, 10, 11],\n",
    "       [ 4,  3,  7,  2],\n",
    "       [ 0,  5,  2,  6]])\n",
    "```"
   ]
  },
  {
   "cell_type": "code",
   "execution_count": 12,
   "metadata": {
    "id": "CCHfKU4Y3Z-X"
   },
   "outputs": [
    {
     "data": {
      "text/plain": [
       "array([[ 0,  1,  2,  3],\n",
       "       [ 4,  5,  6,  7],\n",
       "       [ 8,  9, 10, 11],\n",
       "       [ 4,  3,  7,  2],\n",
       "       [ 0,  5,  2,  6]])"
      ]
     },
     "execution_count": 12,
     "metadata": {},
     "output_type": "execute_result"
    }
   ],
   "source": [
    "# Assign variable\n",
    "A = np.arange(12).reshape(-1, 4)\n",
    "B = np.array([[4, 3, 7, 2],\n",
    "              [0, 5, 2, 6]])\n",
    "\n",
    "# Solution\n",
    "np.concatenate((A,B))"
   ]
  },
  {
   "cell_type": "code",
   "execution_count": 13,
   "metadata": {},
   "outputs": [
    {
     "data": {
      "text/plain": [
       "array([[ 0,  1,  2,  3],\n",
       "       [ 4,  5,  6,  7],\n",
       "       [ 8,  9, 10, 11],\n",
       "       [ 4,  3,  7,  2],\n",
       "       [ 0,  5,  2,  6]])"
      ]
     },
     "execution_count": 13,
     "metadata": {},
     "output_type": "execute_result"
    }
   ],
   "source": [
    "# Alternative solution\n",
    "np.append(A,B,axis = 0)"
   ]
  },
  {
   "cell_type": "markdown",
   "metadata": {
    "id": "TXUd_4631-gw"
   },
   "source": [
    "### <a name='8'></a> Exercise 28\n",
    "From tables $A$ and $B$ choice the same elements.\n",
    "\n",
    "```\n",
    "A = np.arange(8).reshape(-1, 4)\n",
    "B = np.array([[9, 10, 11, 3],\n",
    "              [2, 8, 0, 9]])      \n",
    "```"
   ]
  },
  {
   "cell_type": "code",
   "execution_count": 14,
   "metadata": {
    "id": "pgvyad4UCI6Q"
   },
   "outputs": [
    {
     "data": {
      "text/plain": [
       "array([0, 2, 3])"
      ]
     },
     "execution_count": 14,
     "metadata": {},
     "output_type": "execute_result"
    }
   ],
   "source": [
    "# Defining arrays\n",
    "A = np.arange(8).reshape(-1, 4)\n",
    "B = np.array([[9, 10, 11, 3],\n",
    "              [2, 8, 0, 9]]) \n",
    "\n",
    "# Solution\n",
    "np.intersect1d(A, B, assume_unique=False, return_indices=False)"
   ]
  },
  {
   "cell_type": "markdown",
   "metadata": {
    "id": "tgI6xEn-2AQo"
   },
   "source": [
    "### <a name='9'></a> Exercise 29\n",
    "Find unique values form table $A$.\n",
    "\n",
    "```\n",
    "A = np.array([[5, 1, 2, 1, 2],\n",
    "              [9, 1, 9, 7, 5],\n",
    "              [4, 1, 5, 7, 9]])\n",
    "```"
   ]
  },
  {
   "cell_type": "code",
   "execution_count": 15,
   "metadata": {
    "id": "h3Q6RADIELkH"
   },
   "outputs": [
    {
     "data": {
      "text/plain": [
       "array([1, 2, 4, 5, 7, 9])"
      ]
     },
     "execution_count": 15,
     "metadata": {},
     "output_type": "execute_result"
    }
   ],
   "source": [
    "# Table definition\n",
    "A = np.array([[5, 1, 2, 1, 2],\n",
    "              [9, 1, 9, 7, 5],\n",
    "              [4, 1, 5, 7, 9]])\n",
    "\n",
    "# Solution\n",
    "np.unique(A)"
   ]
  },
  {
   "cell_type": "markdown",
   "metadata": {
    "id": "wxhpf-uq2B1I"
   },
   "source": [
    "### <a name='10'></a> Exercise 30\n",
    "From table:\n",
    "\n",
    "\n",
    "```\n",
    "A = np.array([[0.4, 0.3, 0.3],\n",
    "              [0.1, 0.1, 0.8],\n",
    "              [0.2, 0.5, 0.3]])\n",
    "```\n",
    "\n",
    "\n",
    "\n",
    "Return indexes of max value from each rows."
   ]
  },
  {
   "cell_type": "code",
   "execution_count": 16,
   "metadata": {
    "id": "YcQFRYUyFWbY"
   },
   "outputs": [
    {
     "data": {
      "text/plain": [
       "array([0, 2, 1], dtype=int64)"
      ]
     },
     "execution_count": 16,
     "metadata": {},
     "output_type": "execute_result"
    }
   ],
   "source": [
    "# Array\n",
    "A = np.array([[0.4, 0.3, 0.3],\n",
    "              [0.1, 0.1, 0.8],\n",
    "              [0.2, 0.5, 0.3]])\n",
    "\n",
    "# Solution\n",
    "A.argmax(axis =1)"
   ]
  }
 ],
 "metadata": {
  "colab": {
   "collapsed_sections": [],
   "name": "021-030_exercises.ipynb",
   "provenance": []
  },
  "kernelspec": {
   "display_name": "Python 3",
   "language": "python",
   "name": "python3"
  },
  "language_info": {
   "codemirror_mode": {
    "name": "ipython",
    "version": 3
   },
   "file_extension": ".py",
   "mimetype": "text/x-python",
   "name": "python",
   "nbconvert_exporter": "python",
   "pygments_lexer": "ipython3",
   "version": "3.8.5"
  }
 },
 "nbformat": 4,
 "nbformat_minor": 1
}
