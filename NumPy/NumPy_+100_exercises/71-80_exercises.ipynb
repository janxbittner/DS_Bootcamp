{
 "cells": [
  {
   "cell_type": "markdown",
   "metadata": {
    "id": "zeLOLmTj1kBM"
   },
   "source": [
    "### <a name='0'></a>Import libraries"
   ]
  },
  {
   "cell_type": "code",
   "execution_count": 1,
   "metadata": {
    "id": "HXMB7SMe1Wnz"
   },
   "outputs": [
    {
     "data": {
      "text/plain": [
       "'1.19.2'"
      ]
     },
     "execution_count": 1,
     "metadata": {},
     "output_type": "execute_result"
    }
   ],
   "source": [
    "import numpy as np\n",
    "\n",
    "np.random.seed(42)\n",
    "np.__version__"
   ]
  },
  {
   "cell_type": "markdown",
   "metadata": {
    "id": "cyc70pMe1oCg"
   },
   "source": [
    "### <a name='1'></a> Exercise 71\n",
    "Table $A$ is given:\n",
    "\n",
    "```\n",
    "A = np.array([['id', 'price'],\n",
    "              ['001', 14.99],\n",
    "              ['002', 4.99],\n",
    "              ['003', 7.99],\n",
    "              ['004', 2.49],\n",
    "              ['005', 1.49]])\n",
    "```\n",
    "Shuffle randomly table $A$ starting form second row."
   ]
  },
  {
   "cell_type": "code",
   "execution_count": 2,
   "metadata": {
    "id": "RFIhGhiJtLW5"
   },
   "outputs": [
    {
     "data": {
      "text/plain": [
       "array([['id', 'price'],\n",
       "       ['002', '4.99'],\n",
       "       ['005', '1.49'],\n",
       "       ['003', '7.99'],\n",
       "       ['001', '14.99'],\n",
       "       ['004', '2.49']], dtype='<U5')"
      ]
     },
     "execution_count": 2,
     "metadata": {},
     "output_type": "execute_result"
    }
   ],
   "source": [
    "A = np.array([['id', 'price'],\n",
    "              ['001', 14.99],\n",
    "              ['002', 4.99],\n",
    "              ['003', 7.99],\n",
    "              ['004', 2.49],\n",
    "              ['005', 1.49]])\n",
    "# Solution\n",
    "np.random.shuffle(A[1:])\n",
    "A"
   ]
  },
  {
   "cell_type": "markdown",
   "metadata": {
    "id": "J9pY1rtr1sC0"
   },
   "source": [
    "### <a name='2'></a> Exercise 72\n",
    "The table $A$ is given:\n",
    "\n",
    "```\n",
    "A = np.array([0.2, 0.15, 0.1, 0.3, 0.2, 0.05])\n",
    "```\n",
    "Return table of indexes sorted ascending by values in table $A$.\n",
    "\n",
    "__Expected result:__\n",
    "\n",
    "\n",
    "```\n",
    "array([5, 2, 1, 0, 4, 3])\n",
    "```\n"
   ]
  },
  {
   "cell_type": "code",
   "execution_count": 3,
   "metadata": {
    "id": "JXEkxNh_wAwB"
   },
   "outputs": [
    {
     "data": {
      "text/plain": [
       "array([5, 2, 1, 0, 4, 3], dtype=int64)"
      ]
     },
     "execution_count": 3,
     "metadata": {},
     "output_type": "execute_result"
    }
   ],
   "source": [
    "A = np.array([0.2, 0.15, 0.1, 0.3, 0.2, 0.05])\n",
    "# Solution\n",
    "np.argsort(A)"
   ]
  },
  {
   "cell_type": "markdown",
   "metadata": {
    "id": "XQLYT2m11wVG"
   },
   "source": [
    "### <a name='3'></a> Exercise 73\n",
    "The table $A$ is given:\n",
    "\n",
    "```\n",
    "A = np.random.randn(10, 8)\n",
    "```\n",
    "\n",
    "Round values from table A to 3 decimal number."
   ]
  },
  {
   "cell_type": "code",
   "execution_count": 4,
   "metadata": {
    "id": "oh4E35mU0ikP"
   },
   "outputs": [
    {
     "data": {
      "text/plain": [
       "array([[ 0.474,  1.368, -0.917, -0.124, -2.011, -0.493,  0.393, -0.929],\n",
       "       [ 0.08 , -0.16 ,  0.022, -0.428, -0.532, -0.117,  0.222, -0.768],\n",
       "       [ 0.142, -0.035,  1.134, -0.105, -0.525,  1.913, -2.027,  1.119],\n",
       "       [ 0.779, -1.101,  1.13 ,  0.373, -0.386, -1.159,  0.566, -0.704],\n",
       "       [-1.378, -0.353, -0.461,  0.067, -0.176,  1.201,  0.698, -0.172],\n",
       "       [-0.907,  1.189,  0.786,  2.656,  0.263,  1.642,  0.461,  0.086],\n",
       "       [-1.51 ,  0.722, -0.843, -0.513, -0.044, -0.275, -1.563, -0.796],\n",
       "       [ 0.931,  0.678,  0.698,  0.174,  0.662,  0.241, -0.168,  1.165],\n",
       "       [-0.246, -0.77 ,  1.212,  1.233, -1.574,  0.638, -2.044,  1.069],\n",
       "       [-0.934,  0.784, -0.615,  0.333, -1.381, -0.281, -0.06 ,  0.961]])"
      ]
     },
     "execution_count": 4,
     "metadata": {},
     "output_type": "execute_result"
    }
   ],
   "source": [
    "A = np.random.randn(10, 8)\n",
    "# Solution\n",
    "np.round(A,3)"
   ]
  },
  {
   "cell_type": "markdown",
   "metadata": {
    "id": "4xTKSUzg10MK"
   },
   "source": [
    "### <a name='4'></a> Exercise 74\n",
    "Find the roots of the polynomial:\n",
    "* $W(x) = 4x^2 + 5x + 1$"
   ]
  },
  {
   "cell_type": "code",
   "execution_count": 5,
   "metadata": {
    "id": "RjwHkYO86qeM"
   },
   "outputs": [
    {
     "data": {
      "text/plain": [
       "array([-1.  , -0.25])"
      ]
     },
     "execution_count": 5,
     "metadata": {},
     "output_type": "execute_result"
    }
   ],
   "source": [
    "# Solution\n",
    "result = np.roots([4,5,1])\n",
    "result"
   ]
  },
  {
   "cell_type": "markdown",
   "metadata": {
    "id": "YDKyTjl59GcT"
   },
   "source": [
    "Check."
   ]
  },
  {
   "cell_type": "code",
   "execution_count": 6,
   "metadata": {
    "id": "8ryP41w78rvf"
   },
   "outputs": [
    {
     "name": "stdout",
     "output_type": "stream",
     "text": [
      "For element -1.0 root is true\n",
      "For element -0.25 root is true\n"
     ]
    }
   ],
   "source": [
    "# Solution\n",
    "for element in result:\n",
    "    if 4 * element **2 + 5* element +1 == 0:\n",
    "        print(f'For element {element} root is true')"
   ]
  },
  {
   "cell_type": "markdown",
   "metadata": {
    "id": "o3HKIKlP15Ro"
   },
   "source": [
    "### <a name='5'></a> Exercise 75\n",
    "Find the roots of the polynomial:\n",
    "* $Q(x) = 2x^3 + 4x^2 -5x + 1$\n",
    "* $R(x) = 2x^3 -5x + 1$\n"
   ]
  },
  {
   "cell_type": "code",
   "execution_count": 7,
   "metadata": {
    "id": "Kxjx96O57wTY"
   },
   "outputs": [
    {
     "name": "stdout",
     "output_type": "stream",
     "text": [
      "Roots of Q polynominal are: [-2.91610583  0.65388685  0.26221898]\n",
      "Roots of P polynominal are: [-1.67298165  1.46961743  0.20336421]\n"
     ]
    }
   ],
   "source": [
    "# Solution\n",
    "Q = np.array([2,4,-5,1])\n",
    "result_of_Q = np.roots(Q)\n",
    "print(f'Roots of Q polynominal are: {result_of_Q}')\n",
    "\n",
    "P = np.array([2,0,-5,1])\n",
    "result_of_P = np.roots(P)\n",
    "print(f'Roots of P polynominal are: {result_of_P}')"
   ]
  },
  {
   "cell_type": "markdown",
   "metadata": {
    "id": "PunXd_Ey16so"
   },
   "source": [
    "### <a name='6'></a> Exercise 76\n",
    "Polynomials are given:\n",
    "\n",
    "* $W(x) = 4x^2 + 5x + 1$\n",
    "* $Q(x) = 2x^3 + 4x^2 -5x + 1$\n"
   ]
  },
  {
   "cell_type": "code",
   "execution_count": 8,
   "metadata": {
    "id": "D-XbUU9Nln5y"
   },
   "outputs": [],
   "source": [
    "W = np.array([4, 5, 1])\n",
    "Q = np.array([2, 4, -5, 1])"
   ]
  },
  {
   "cell_type": "markdown",
   "metadata": {
    "id": "vYiT4ikklqaQ"
   },
   "source": [
    "Make:\n",
    "* $W(x) + Q(x)$"
   ]
  },
  {
   "cell_type": "code",
   "execution_count": 9,
   "metadata": {
    "id": "9JKvun7C9raH"
   },
   "outputs": [
    {
     "data": {
      "text/plain": [
       "array([2, 8, 0, 2])"
      ]
     },
     "execution_count": 9,
     "metadata": {},
     "output_type": "execute_result"
    }
   ],
   "source": [
    "# Solution\n",
    "np.polyadd(W,Q)"
   ]
  },
  {
   "cell_type": "markdown",
   "metadata": {
    "id": "f6qXMj30lhrn"
   },
   "source": [
    "* $W(x) - Q(x)$\n"
   ]
  },
  {
   "cell_type": "code",
   "execution_count": 10,
   "metadata": {
    "id": "HFlLC37f94Lr"
   },
   "outputs": [
    {
     "data": {
      "text/plain": [
       "array([-2,  0, 10,  0])"
      ]
     },
     "execution_count": 10,
     "metadata": {},
     "output_type": "execute_result"
    }
   ],
   "source": [
    "# Solution\n",
    "np.polysub(W,Q)"
   ]
  },
  {
   "cell_type": "markdown",
   "metadata": {
    "id": "o8xnmuwfljHU"
   },
   "source": [
    "* $W(x) * Q(x)$\n"
   ]
  },
  {
   "cell_type": "code",
   "execution_count": 11,
   "metadata": {
    "id": "Z4B28oMe-p8J"
   },
   "outputs": [
    {
     "data": {
      "text/plain": [
       "array([  8,  26,   2, -17,   0,   1])"
      ]
     },
     "execution_count": 11,
     "metadata": {},
     "output_type": "execute_result"
    }
   ],
   "source": [
    "# Solution\n",
    "np.polymul(W,Q)"
   ]
  },
  {
   "cell_type": "markdown",
   "metadata": {
    "id": "BIHBf0PllkXe"
   },
   "source": [
    "* $W(x) + 2Q(x)$"
   ]
  },
  {
   "cell_type": "code",
   "execution_count": 12,
   "metadata": {
    "id": "UbaoDx6E-90V"
   },
   "outputs": [
    {
     "data": {
      "text/plain": [
       "array([ 4, 12, -5,  3])"
      ]
     },
     "execution_count": 12,
     "metadata": {},
     "output_type": "execute_result"
    }
   ],
   "source": [
    "# Solution\n",
    "np.polyadd(W,2*Q)"
   ]
  },
  {
   "cell_type": "markdown",
   "metadata": {
    "id": "hOhqDRz618Tx"
   },
   "source": [
    "### <a name='7'></a> Exercise 77\n",
    "Table is given:\n",
    "\n",
    "```\n",
    "A = np.array([[-4, 3, 0, 1, -5],\n",
    "              [6, -4, -2, 1, 3]])\n",
    "```\n",
    "\n",
    "Use function (_sign function_) on table $A$. Dla przypomnienia funkcja działa nastpująco: dla wartości ujemnych zwraca -1, dla zera wartość zero, dla wartości dodatnich 1.\n",
    "\n",
    "__Excepted result:__\n",
    "\n",
    "\n",
    "```\n",
    "array([[-1,  1,  0,  1, -1],\n",
    "       [ 1, -1, -1,  1,  1]])\n",
    "```"
   ]
  },
  {
   "cell_type": "code",
   "execution_count": 13,
   "metadata": {
    "id": "bo-L_-_1AF0o"
   },
   "outputs": [
    {
     "data": {
      "text/plain": [
       "array([[-1,  1,  0,  1, -1],\n",
       "       [ 1, -1, -1,  1,  1]])"
      ]
     },
     "execution_count": 13,
     "metadata": {},
     "output_type": "execute_result"
    }
   ],
   "source": [
    "A = np.array([[-4, 3, 0, 1, -5],\n",
    "              [6, -4, -2, 1, 3]])\n",
    "# Solution\n",
    "np.sign(A)"
   ]
  },
  {
   "cell_type": "markdown",
   "metadata": {
    "id": "TXUd_4631-gw"
   },
   "source": [
    "### <a name='8'></a> Exercise 78\n",
    "Using function _np.arange()_ generate table as showed below:\n",
    "\n",
    "\n",
    "```\n",
    "array(['2021-01-01', '2021-01-02', '2021-01-03', '2021-01-04',\n",
    "       '2021-01-05', '2021-01-06', '2021-01-07', '2021-01-08',\n",
    "       '2021-01-09', '2021-01-10', '2021-01-11', '2021-01-12',\n",
    "       '2021-01-13', '2021-01-14', '2021-01-15', '2021-01-16',\n",
    "       '2021-01-17', '2021-01-18', '2021-01-19', '2021-01-20',\n",
    "       '2021-01-21', '2021-01-22', '2021-01-23', '2021-01-24',\n",
    "       '2021-01-25', '2021-01-26', '2021-01-27', '2021-01-28',\n",
    "       '2021-01-29', '2021-01-30', '2021-01-31'], dtype='datetime64[D]')\n",
    "```\n",
    "\n"
   ]
  },
  {
   "cell_type": "code",
   "execution_count": 14,
   "metadata": {
    "id": "oAdYOzbJDFmv"
   },
   "outputs": [
    {
     "data": {
      "text/plain": [
       "array(['2021-01-01', '2021-01-02', '2021-01-03', '2021-01-04',\n",
       "       '2021-01-05', '2021-01-06', '2021-01-07', '2021-01-08',\n",
       "       '2021-01-09', '2021-01-10', '2021-01-11', '2021-01-12',\n",
       "       '2021-01-13', '2021-01-14', '2021-01-15', '2021-01-16',\n",
       "       '2021-01-17', '2021-01-18', '2021-01-19', '2021-01-20',\n",
       "       '2021-01-21', '2021-01-22', '2021-01-23', '2021-01-24',\n",
       "       '2021-01-25', '2021-01-26', '2021-01-27', '2021-01-28',\n",
       "       '2021-01-29', '2021-01-30', '2021-01-31'], dtype='datetime64[D]')"
      ]
     },
     "execution_count": 14,
     "metadata": {},
     "output_type": "execute_result"
    }
   ],
   "source": [
    "# Solution\n",
    "np.arange(np.datetime64('2021-01-01'), np.datetime64('2021-02-01'),dtype='datetime64')"
   ]
  },
  {
   "cell_type": "markdown",
   "metadata": {
    "id": "tgI6xEn-2AQo"
   },
   "source": [
    "\n",
    "### <a name='9'></a> Exercise 79\n",
    "\n",
    "Using function _np.arange()_ Generate table as below:\n",
    "\n",
    "\n",
    "\n",
    "```\n",
    "array([['2021-01', '2021-02', '2021-03'],\n",
    "       ['2021-04', '2021-05', '2021-06'],\n",
    "       ['2021-07', '2021-08', '2021-09'],\n",
    "       ['2021-10', '2021-11', '2021-12']], dtype='datetime64[M]')\n",
    "```\n",
    "\n"
   ]
  },
  {
   "cell_type": "code",
   "execution_count": 15,
   "metadata": {
    "id": "oJRlRIThDehG"
   },
   "outputs": [
    {
     "data": {
      "text/plain": [
       "array([['2021-01', '2021-02', '2021-03'],\n",
       "       ['2021-04', '2021-05', '2021-06'],\n",
       "       ['2021-07', '2021-08', '2021-09'],\n",
       "       ['2021-10', '2021-11', '2021-12']], dtype='datetime64[M]')"
      ]
     },
     "execution_count": 15,
     "metadata": {},
     "output_type": "execute_result"
    }
   ],
   "source": [
    "# Solution\n",
    "np.arange(np.datetime64('2021-01'), np.datetime64('2022-01'),dtype='datetime64').reshape(4,-1)"
   ]
  },
  {
   "cell_type": "markdown",
   "metadata": {
    "id": "wxhpf-uq2B1I"
   },
   "source": [
    "### <a name='10'></a> Exercise 80\n",
    "\n",
    "Using function _np.datetime64()_ generate present date."
   ]
  },
  {
   "cell_type": "code",
   "execution_count": 16,
   "metadata": {
    "id": "YFc0KW6URsuc"
   },
   "outputs": [
    {
     "data": {
      "text/plain": [
       "numpy.datetime64('2021-02-15')"
      ]
     },
     "execution_count": 16,
     "metadata": {},
     "output_type": "execute_result"
    }
   ],
   "source": [
    "# Solution\n",
    "np.datetime64('today') "
   ]
  }
 ],
 "metadata": {
  "colab": {
   "collapsed_sections": [],
   "name": "071-080_exercises.ipynb",
   "provenance": []
  },
  "kernelspec": {
   "display_name": "Python 3",
   "language": "python",
   "name": "python3"
  },
  "language_info": {
   "codemirror_mode": {
    "name": "ipython",
    "version": 3
   },
   "file_extension": ".py",
   "mimetype": "text/x-python",
   "name": "python",
   "nbconvert_exporter": "python",
   "pygments_lexer": "ipython3",
   "version": "3.8.5"
  },
  "nbTranslate": {
   "displayLangs": [
    "*"
   ],
   "hotkey": "alt-t",
   "langInMainMenu": true,
   "sourceLang": "en",
   "targetLang": "fr",
   "useGoogleTranslate": true
  }
 },
 "nbformat": 4,
 "nbformat_minor": 1
}
