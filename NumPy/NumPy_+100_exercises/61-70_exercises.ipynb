{
 "cells": [
  {
   "cell_type": "markdown",
   "metadata": {
    "id": "zeLOLmTj1kBM"
   },
   "source": [
    "### <a name='0'></a>Import libraries"
   ]
  },
  {
   "cell_type": "code",
   "execution_count": 1,
   "metadata": {
    "id": "HXMB7SMe1Wnz"
   },
   "outputs": [
    {
     "data": {
      "text/plain": [
       "'1.19.2'"
      ]
     },
     "execution_count": 1,
     "metadata": {},
     "output_type": "execute_result"
    }
   ],
   "source": [
    "import numpy as np\n",
    "\n",
    "np.set_printoptions(suppress=True, precision=4)\n",
    "np.random.seed(42)\n",
    "np.__version__"
   ]
  },
  {
   "cell_type": "markdown",
   "metadata": {
    "id": "cyc70pMe1oCg"
   },
   "source": [
    "### <a name='1'></a> Exercise 61\n",
    "Tables $A$ i $B$ are given:\n",
    "\n",
    "```\n",
    "A = np.array([[3, 4, 9, 2],\n",
    "              [5, 3, 2, 5]])\n",
    "B = np.array([[4, 3, 2, 5],\n",
    "              [6, 3, 1, 6]])\n",
    "```\n",
    "\n",
    "Create table with aritmetic mean from each element of table $A$ and $B$ .\n",
    "\n",
    "__Excepted result:__\n",
    "\n",
    "\n",
    "```\n",
    "array([[3.5, 3.5, 5.5, 3.5],\n",
    "       [5.5, 3. , 1.5, 5.5]])\n",
    "```"
   ]
  },
  {
   "cell_type": "code",
   "execution_count": 2,
   "metadata": {
    "id": "9zMjVYfP-tI6"
   },
   "outputs": [
    {
     "data": {
      "text/plain": [
       "array([[3.5, 3.5, 5.5, 3.5],\n",
       "       [5.5, 3. , 1.5, 5.5]])"
      ]
     },
     "execution_count": 2,
     "metadata": {},
     "output_type": "execute_result"
    }
   ],
   "source": [
    "A = np.array([[3, 4, 9, 2],\n",
    "              [5, 3, 2, 5]])\n",
    "B = np.array([[4, 3, 2, 5],\n",
    "              [6, 3, 1, 6]])\n",
    "\n",
    "# Solution\n",
    "np.mean( np.array([ A, B ]), axis=0 )"
   ]
  },
  {
   "cell_type": "markdown",
   "metadata": {
    "id": "J9pY1rtr1sC0"
   },
   "source": [
    "### <a name='2'></a> Exercise 62\n",
    "Two tables $A$ and $B$ are given: \n",
    "\n",
    "```\n",
    "A = np.array([[3, 4, 9, 2],\n",
    "              [5, 3, 2, 5]])\n",
    "B = np.array([[4, 3, 2, 5],\n",
    "              [6, 3, 1, 6]])\n",
    "```\n",
    "Multyply each element of tables."
   ]
  },
  {
   "cell_type": "code",
   "execution_count": 3,
   "metadata": {
    "id": "9b_Bhik1Jqo7"
   },
   "outputs": [
    {
     "data": {
      "text/plain": [
       "array([[12, 12, 18, 10],\n",
       "       [30,  9,  2, 30]])"
      ]
     },
     "execution_count": 3,
     "metadata": {},
     "output_type": "execute_result"
    }
   ],
   "source": [
    "A = np.array([[3, 4, 9, 2],\n",
    "              [5, 3, 2, 5]])\n",
    "B = np.array([[4, 3, 2, 5],\n",
    "              [6, 3, 1, 6]])\n",
    "\n",
    "# Solution\n",
    "np.multiply(A,B)"
   ]
  },
  {
   "cell_type": "markdown",
   "metadata": {
    "id": "XQLYT2m11wVG"
   },
   "source": [
    "### <a name='3'></a> Exercise 63\n",
    "Table $A$ is given:\n",
    "\n",
    "```\n",
    "A = np.array([[3, 4, 9, 2],\n",
    "              [5, 3, 2, 5]])\n",
    "```\n",
    "Calculate square root of each element from table $A$."
   ]
  },
  {
   "cell_type": "code",
   "execution_count": 4,
   "metadata": {
    "id": "vcAGgYGhKOTd"
   },
   "outputs": [
    {
     "data": {
      "text/plain": [
       "array([[1.7321, 2.    , 3.    , 1.4142],\n",
       "       [2.2361, 1.7321, 1.4142, 2.2361]])"
      ]
     },
     "execution_count": 4,
     "metadata": {},
     "output_type": "execute_result"
    }
   ],
   "source": [
    "A = np.array([[3, 4, 9, 2],\n",
    "              [5, 3, 2, 5]])\n",
    "# Solution\n",
    "np.sqrt(A)"
   ]
  },
  {
   "cell_type": "markdown",
   "metadata": {
    "id": "4xTKSUzg10MK"
   },
   "source": [
    "### <a name='4'></a> Exercise 64\n",
    "Tables $A$ and $B$ are given:\n",
    "\n",
    "\n",
    "```\n",
    "A = np.linspace(0, np.pi / 2, 20)\n",
    "B = np.full(shape=(20,), fill_value=1, dtype='float')\n",
    "```\n",
    "Check arithmetic one function on table $A$ and then compare result to table $B$.\n",
    "__Arithmetic one:__ For any degree $\\alpha \\in R$ makes:\n",
    "$$sin^2\\alpha + cos^2\\alpha = 1$$\n",
    "\n"
   ]
  },
  {
   "cell_type": "code",
   "execution_count": 5,
   "metadata": {
    "id": "jI143TodMDId"
   },
   "outputs": [
    {
     "name": "stdout",
     "output_type": "stream",
     "text": [
      " Whitout tolerance the result is False\n"
     ]
    }
   ],
   "source": [
    "A = np.linspace(0, np.pi / 2, 20)\n",
    "B = np.full(shape=(20,), fill_value=1, dtype='float')\n",
    "# Solution\n",
    "A = np.power(np.sin(A),2) + np.power(np.cos(A),2)\n",
    "print(f' Whitout tolerance the result is {np.equal(A,B).all()}')"
   ]
  },
  {
   "cell_type": "code",
   "execution_count": 6,
   "metadata": {},
   "outputs": [
    {
     "name": "stdout",
     "output_type": "stream",
     "text": [
      "With tolerance the result is: True\n"
     ]
    }
   ],
   "source": [
    "A = np.linspace(0, np.pi / 2, 20)\n",
    "B = np.full(shape=(20,), fill_value=1, dtype='float')\n",
    "# Solution\n",
    "print(f'With tolerance the result is: '\n",
    "      f'{np.allclose(np.power(np.sin(A),2) + np.power(np.cos(A),2),B)}')"
   ]
  },
  {
   "cell_type": "markdown",
   "metadata": {
    "id": "cDCQVpQUr6qb"
   },
   "source": [
    "### <a name='5'></a> Exercise 65\n",
    "\n",
    "Two tables $A$ and $B$ are given.  \n",
    "$A$ - array of shape $(3, 2)$  \n",
    "$B$ - array of shape $(2, 3)$\n",
    "\n",
    "```\n",
    "A = np.array([[2, 3],\n",
    "              [-4, 2],\n",
    "              [5, 0]])\n",
    "B = np.array([[4, 3, 2],\n",
    "              [-1, 0, 2]])\n",
    "```\n",
    "Make arrays multiply $A$ i $B$."
   ]
  },
  {
   "cell_type": "code",
   "execution_count": 7,
   "metadata": {
    "id": "wXd9qiJLQyfs"
   },
   "outputs": [
    {
     "data": {
      "text/plain": [
       "array([[  5,   6,  10],\n",
       "       [-18, -12,  -4],\n",
       "       [ 20,  15,  10]])"
      ]
     },
     "execution_count": 7,
     "metadata": {},
     "output_type": "execute_result"
    }
   ],
   "source": [
    "A = np.array([[2, 3],\n",
    "              [-4, 2],\n",
    "              [5, 0]])\n",
    "B = np.array([[4, 3, 2],\n",
    "              [-1, 0, 2]])\n",
    "# Solution\n",
    "A @ B"
   ]
  },
  {
   "cell_type": "markdown",
   "metadata": {
    "id": "PunXd_Ey16so"
   },
   "source": [
    "### <a name='6'></a> Exercise 66\n",
    "The table $A$ of shape $(x,x)$ is given:\n",
    "\n",
    "```\n",
    "A = np.array([[-2, 0, 4],\n",
    "              [5, 2, -1],\n",
    "              [-4, 2, 4]])\n",
    "```\n",
    "Compute the determinant of array $A$."
   ]
  },
  {
   "cell_type": "code",
   "execution_count": 8,
   "metadata": {
    "id": "90J6eB4RSmAG"
   },
   "outputs": [
    {
     "data": {
      "text/plain": [
       "51.999999999999986"
      ]
     },
     "execution_count": 8,
     "metadata": {},
     "output_type": "execute_result"
    }
   ],
   "source": [
    "A = np.array([[-2, 0, 4],\n",
    "              [5, 2, -1],\n",
    "              [-4, 2, 4]])\n",
    "# Solution\n",
    "np.linalg.det(A)"
   ]
  },
  {
   "cell_type": "markdown",
   "metadata": {
    "id": "hOhqDRz618Tx"
   },
   "source": [
    "### <a name='7'></a> Exercise 67\n",
    "The square shape table named $A$ is given:\n",
    "\n",
    "```\n",
    "A = np.array([[5, 8, 16],\n",
    "              [4, 1, 8],\n",
    "              [-4, 4, -11]])\n",
    "```\n",
    "Compute the eigenvalues and right eigenvectors of a square array $A$."
   ]
  },
  {
   "cell_type": "code",
   "execution_count": 9,
   "metadata": {
    "id": "DYG72PcWTvPT"
   },
   "outputs": [
    {
     "name": "stdout",
     "output_type": "stream",
     "text": [
      "[-9.2462 -3.      7.2462]\n",
      "[[-0.6262 -0.8944  0.8902]\n",
      " [-0.3131  0.      0.4451]\n",
      " [ 0.7141  0.4472 -0.0976]]\n"
     ]
    }
   ],
   "source": [
    "A = np.array([[5, 8, 16],\n",
    "              [4, 1, 8],\n",
    "              [-4, 4, -11]])\n",
    "# Solution\n",
    "eigenvalues,eigenvectors = np.linalg.eig(A)\n",
    "print(eigenvalues)\n",
    "print(eigenvectors)"
   ]
  },
  {
   "cell_type": "markdown",
   "metadata": {
    "id": "TXUd_4631-gw"
   },
   "source": [
    "### <a name='8'></a> Exercise 68\n",
    "The table of square size and name $A$ is given:\n",
    "\n",
    "```\n",
    "A = np.array([[5, 8, 16],\n",
    "              [4, 1, 8],\n",
    "              [-4, 4, -11]])\n",
    "```\n",
    "Calculate inverted array to $A$.\n"
   ]
  },
  {
   "cell_type": "code",
   "execution_count": 10,
   "metadata": {
    "id": "l0duTp0Db7EM"
   },
   "outputs": [
    {
     "data": {
      "text/plain": [
       "array([[-0.2139,  0.7562,  0.2388],\n",
       "       [ 0.0597,  0.0448,  0.1194],\n",
       "       [ 0.0995, -0.2587, -0.1343]])"
      ]
     },
     "execution_count": 10,
     "metadata": {},
     "output_type": "execute_result"
    }
   ],
   "source": [
    "A = np.array([[5, 8, 16],\n",
    "              [4, 1, 8],\n",
    "              [-4, 4, -11]])\n",
    "\n",
    "# Solution\n",
    "np.linalg.inv(A)"
   ]
  },
  {
   "cell_type": "markdown",
   "metadata": {
    "id": "tgI6xEn-2AQo"
   },
   "source": [
    "### <a name='9'></a> Exercise 69\n",
    "The table of square size and name $A$ is given:\n",
    "\n",
    "```\n",
    "A = np.array([[5, 8, 16],\n",
    "              [4, 1, 8],\n",
    "              [-4, 4, -11]])\n",
    "```\n",
    "Compute the trace of array $A$.\n"
   ]
  },
  {
   "cell_type": "code",
   "execution_count": 11,
   "metadata": {
    "id": "XiuQkuNTcYkC"
   },
   "outputs": [
    {
     "data": {
      "text/plain": [
       "-5"
      ]
     },
     "execution_count": 11,
     "metadata": {},
     "output_type": "execute_result"
    }
   ],
   "source": [
    "A = np.array([[5, 8, 16],\n",
    "              [4, 1, 8],\n",
    "              [-4, 4, -11]])\n",
    "# Solution\n",
    "np.trace(A)"
   ]
  },
  {
   "cell_type": "markdown",
   "metadata": {
    "id": "7tGnMHu7uXOe"
   },
   "source": [
    "### Exercise 69 B\n",
    "Transpose the $A$."
   ]
  },
  {
   "cell_type": "code",
   "execution_count": 12,
   "metadata": {
    "id": "SA2K4h0bufDc"
   },
   "outputs": [
    {
     "data": {
      "text/plain": [
       "array([[  5,   4,  -4],\n",
       "       [  8,   1,   4],\n",
       "       [ 16,   8, -11]])"
      ]
     },
     "execution_count": 12,
     "metadata": {},
     "output_type": "execute_result"
    }
   ],
   "source": [
    "# Solution\n",
    "np.transpose(A)"
   ]
  },
  {
   "cell_type": "markdown",
   "metadata": {
    "id": "wxhpf-uq2B1I"
   },
   "source": [
    "### <a name='10'></a> Exercise 70\n",
    "There are two tables $A$ and $B$:   \n",
    "$A$ - is shape of $(4, 2)$  \n",
    "$B$ - is shape of $(1, 8)$\n",
    "\n",
    "```\n",
    "A = np.array([[2, 0],\n",
    "              [4, 2],\n",
    "              [5, 3],\n",
    "              [4, 2]])\n",
    "B = np.array([[4, 0, 2, 1, 1, 0, 2, 9]])\n",
    "```\n",
    "Transform table $B$ and make array multyply $A \\cdot B$. Return result.\n",
    "\n",
    "__Excepted result:__\n",
    "\n",
    "\n",
    "```\n",
    "array([[ 8,  0,  4,  2],\n",
    "       [18,  0, 12, 22],\n",
    "       [23,  0, 16, 32],\n",
    "       [18,  0, 12, 22]])\n",
    "```\n",
    "\n",
    "\n"
   ]
  },
  {
   "cell_type": "code",
   "execution_count": 13,
   "metadata": {
    "id": "bALDEEmGdAbD"
   },
   "outputs": [
    {
     "name": "stdout",
     "output_type": "stream",
     "text": [
      "Shape of array A is: (4, 2)\n",
      "Shape of array B is: (1, 8)\n",
      "Shape B needs reshaping\n",
      "After reshape array B is: (2, 4)\n"
     ]
    },
    {
     "data": {
      "text/plain": [
       "array([[ 8,  0,  4,  2],\n",
       "       [18,  0, 12, 22],\n",
       "       [23,  0, 16, 32],\n",
       "       [18,  0, 12, 22]])"
      ]
     },
     "execution_count": 13,
     "metadata": {},
     "output_type": "execute_result"
    }
   ],
   "source": [
    "A = np.array([[2, 0],\n",
    "              [4, 2],\n",
    "              [5, 3],\n",
    "              [4, 2]])\n",
    "B = np.array([[4, 0, 2, 1, 1, 0, 2, 9]])\n",
    "\n",
    "# Solution\n",
    "print(f'Shape of array A is: {A.shape}')\n",
    "print(f'Shape of array B is: {B.shape}')\n",
    "\n",
    "if A.shape[1] != B.shape[0]:\n",
    "    print('Shape B needs reshaping')\n",
    "    B = B.reshape(A.shape[1],-1)\n",
    "    print(f'After reshape array B is: {B.shape}')\n",
    "    \n",
    "A@B"
   ]
  }
 ],
 "metadata": {
  "colab": {
   "collapsed_sections": [],
   "name": "061-070_exercises.ipynb",
   "provenance": []
  },
  "kernelspec": {
   "display_name": "Python 3",
   "language": "python",
   "name": "python3"
  },
  "language_info": {
   "codemirror_mode": {
    "name": "ipython",
    "version": 3
   },
   "file_extension": ".py",
   "mimetype": "text/x-python",
   "name": "python",
   "nbconvert_exporter": "python",
   "pygments_lexer": "ipython3",
   "version": "3.8.5"
  },
  "nbTranslate": {
   "displayLangs": [
    "*"
   ],
   "hotkey": "alt-t",
   "langInMainMenu": true,
   "sourceLang": "en",
   "targetLang": "fr",
   "useGoogleTranslate": true
  }
 },
 "nbformat": 4,
 "nbformat_minor": 1
}
