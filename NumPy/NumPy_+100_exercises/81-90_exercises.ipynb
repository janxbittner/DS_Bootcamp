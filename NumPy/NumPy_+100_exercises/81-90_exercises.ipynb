{
 "cells": [
  {
   "cell_type": "markdown",
   "metadata": {
    "id": "zeLOLmTj1kBM"
   },
   "source": [
    "### <a name='0'></a>Import libraries"
   ]
  },
  {
   "cell_type": "code",
   "execution_count": 1,
   "metadata": {
    "id": "HXMB7SMe1Wnz"
   },
   "outputs": [
    {
     "data": {
      "text/plain": [
       "'1.19.2'"
      ]
     },
     "execution_count": 1,
     "metadata": {},
     "output_type": "execute_result"
    }
   ],
   "source": [
    "import numpy as np\n",
    "\n",
    "np.set_printoptions(linewidth=100)\n",
    "np.__version__"
   ]
  },
  {
   "cell_type": "markdown",
   "metadata": {
    "id": "cyc70pMe1oCg"
   },
   "source": [
    "### <a name='1'></a> Exercise 81\n",
    "Generate dates of all mondays from months january and feburary 2020 roku as numpy table.\n",
    "\n",
    "__Excepted result:__\n",
    "\n",
    "\n",
    "```\n",
    "array(['2020-01-06', '2020-01-13', '2020-01-20', '2020-01-27', '2020-02-03', '2020-02-10',\n",
    "       '2020-02-17', '2020-02-24'], dtype='datetime64[D]')\n",
    "```\n",
    "\n"
   ]
  },
  {
   "cell_type": "code",
   "execution_count": 2,
   "metadata": {
    "id": "wM7QarQ-PABK"
   },
   "outputs": [
    {
     "data": {
      "text/plain": [
       "array(['2020-01-06', '2020-01-13', '2020-01-20', '2020-01-27', '2020-02-03', '2020-02-10',\n",
       "       '2020-02-17', '2020-02-24'], dtype='datetime64[D]')"
      ]
     },
     "execution_count": 2,
     "metadata": {},
     "output_type": "execute_result"
    }
   ],
   "source": [
    "import pandas as pd\n",
    "# Solution\n",
    "\n",
    "np.array(pd.date_range('2020-01-01', '2020-03-01', freq=\"W-MON\"), dtype=np.datetime64('2005-02', 'D'))"
   ]
  },
  {
   "cell_type": "code",
   "execution_count": 3,
   "metadata": {},
   "outputs": [
    {
     "data": {
      "text/plain": [
       "array(['2020-01-06', '2020-01-13', '2020-01-20', '2020-01-27', '2020-02-03', '2020-02-10',\n",
       "       '2020-02-17', '2020-02-24'], dtype='datetime64[D]')"
      ]
     },
     "execution_count": 3,
     "metadata": {},
     "output_type": "execute_result"
    }
   ],
   "source": [
    "# Cheat solution\n",
    "np.arange('2020-01-06', '2020-03', dtype='datetime64[D]')[::7]"
   ]
  },
  {
   "cell_type": "markdown",
   "metadata": {
    "id": "J9pY1rtr1sC0"
   },
   "source": [
    "### <a name='2'></a> Exercise 82\n",
    "Tables $A$ and $B$ re given:\n",
    "\n",
    "```\n",
    "A = np.array(['001', '002', '003'], dtype=np.str)\n",
    "B = np.array(['XC', 'YC', 'ZC'], dtype=np.str)\n",
    "```\n",
    "Connect the tables as showed below:\n",
    "\n",
    "\n",
    "```\n",
    "array(['001XC', '002YC', '003ZC'], dtype='<U5')\n",
    "```\n",
    "\n"
   ]
  },
  {
   "cell_type": "code",
   "execution_count": 4,
   "metadata": {
    "id": "Bf0nC1iaYIOI"
   },
   "outputs": [
    {
     "data": {
      "text/plain": [
       "array(['001XC', '002YC', '003ZC'], dtype='<U5')"
      ]
     },
     "execution_count": 4,
     "metadata": {},
     "output_type": "execute_result"
    }
   ],
   "source": [
    "A = np.array(['001', '002', '003'], dtype=np.str)\n",
    "B = np.array(['XC', 'YC', 'ZC'], dtype=np.str)\n",
    "# Solution\n",
    "np.char.add(A, B) "
   ]
  },
  {
   "cell_type": "markdown",
   "metadata": {
    "id": "XQLYT2m11wVG"
   },
   "source": [
    "### <a name='3'></a> Exercise 83\n",
    "Below is given the table:\n",
    "\n",
    "```\n",
    "A = np.array(['1', '2', '3'], dtype=np.str)\n",
    "```\n",
    "Add '000' to each element of array.\n"
   ]
  },
  {
   "cell_type": "code",
   "execution_count": 5,
   "metadata": {
    "id": "FmHs7GduY_vF"
   },
   "outputs": [
    {
     "data": {
      "text/plain": [
       "array(['0001', '0002', '0003'], dtype='<U4')"
      ]
     },
     "execution_count": 5,
     "metadata": {},
     "output_type": "execute_result"
    }
   ],
   "source": [
    "A = np.array(['1', '2', '3'], dtype=np.str)\n",
    "\n",
    "# Solution\n",
    "np.char.add('000', A) "
   ]
  },
  {
   "cell_type": "markdown",
   "metadata": {
    "id": "4xTKSUzg10MK"
   },
   "source": [
    "### <a name='4'></a> Exercise 84\n",
    "Below is given the table:\n",
    "\n",
    "```\n",
    "A = np.array([['PLW CDR 11B TEN', 'AMC LPP'],\n",
    "              ['CDR PKO KGH', 'CCC QMK']], dtype=np.str)\n",
    "```\n",
    "Devide the table A by space.\n",
    "\n",
    "__Excepted result:__\n",
    "\n",
    "\n",
    "```\n",
    "array([[list(['PLW', 'CDR', '11B', 'TEN']), list(['AMC', 'LPP'])],\n",
    "       [list(['CDR', 'PKO', 'KGH']), list(['CCC', 'QMK'])]], dtype=object)\n",
    "```\n",
    "\n"
   ]
  },
  {
   "cell_type": "code",
   "execution_count": 6,
   "metadata": {
    "id": "x6iSU8O4b5N9"
   },
   "outputs": [
    {
     "data": {
      "text/plain": [
       "array([[list(['PLW', 'CDR', '11B', 'TEN']), list(['AMC', 'LPP'])],\n",
       "       [list(['CDR', 'PKO', 'KGH']), list(['CCC', 'QMK'])]], dtype=object)"
      ]
     },
     "execution_count": 6,
     "metadata": {},
     "output_type": "execute_result"
    }
   ],
   "source": [
    "A = np.array([['PLW CDR 11B TEN', 'AMC LPP'],\n",
    "              ['CDR PKO KGH', 'CCC QMK']], dtype=np.str)\n",
    "# Solution\n",
    "np.char.split(A) "
   ]
  },
  {
   "cell_type": "markdown",
   "metadata": {
    "lang": "en"
   },
   "source": [
    "### <a name='5'></a> Exercise 85\n",
    "The table is given:\n",
    "\n",
    "```\n",
    "A = np.array([['#summer#time#mood'],\n",
    "              ['#sport#time']])\n",
    "```\n",
    "Replace all # characters with spaces and then remove any unnecessary spaces around the text.\n",
    "\n",
    "__Expected result:__\n",
    "\n",
    "\n",
    "```\n",
    "array ([['summer time mood'],\n",
    "       ['sport time']], dtype = '<U17')\n",
    "```"
   ]
  },
  {
   "cell_type": "markdown",
   "metadata": {
    "lang": "fr"
   },
   "source": [
    "### <a name='5'></a> Exercice 85\n",
    "Le tableau suivant est donné:\n",
    "\n",
    "''\n",
    "A = par exemple, tableau ([['# summer # time # mood'],\n",
    "              ['# c'est l'heure du sport']])\n",
    "''\n",
    "Remplacez tous les caractères # par des espaces, puis supprimez tous les espaces inutiles autour du texte.\n",
    "\n",
    "__Résultat attendu:__\n",
    "\n",
    "\n",
    "''\n",
    "array ([['summer time mood'],\n",
    "       ['sport time']], dtype = '<U17')\n",
    "''"
   ]
  },
  {
   "cell_type": "markdown",
   "metadata": {
    "lang": "fr"
   },
   "source": [
    "### <a name='5'></a> Exercice 85\n",
    "Le tableau suivant est donné:\n",
    "\n",
    "''\n",
    "A = par exemple, tableau ([['# summer # time # mood'],\n",
    "              ['# c'est l'heure du sport']])\n",
    "''\n",
    "Remplacez tous les caractères # par des espaces, puis supprimez tous les espaces inutiles autour du texte.\n",
    "\n",
    "__Résultat attendu:__\n",
    "\n",
    "\n",
    "''\n",
    "array ([['summer time mood'],\n",
    "       ['sport time']], dtype = '<U17')\n",
    "''"
   ]
  },
  {
   "cell_type": "markdown",
   "metadata": {
    "lang": "fr"
   },
   "source": [
    "### <a name='5'></a> Exercice 85\n",
    "Podana jest poniższa tablica:\n",
    "\n",
    "''\n",
    "A = np.array ([['# summer # time # mood'],\n",
    "              ['#c'est l'heure du sport']])\n",
    "''\n",
    "Zamień wszystkie znaki # na spacje i nastepnie usuń niepotrzebne spacje dookoła tekstu.\n",
    "\n",
    "__Oczekiwany wynik:__\n",
    "\n",
    "\n",
    "''\n",
    "array ([['summer time mood'],\n",
    "       ['sport time']], dtype = '<U17')\n",
    "''"
   ]
  },
  {
   "cell_type": "code",
   "execution_count": 7,
   "metadata": {
    "id": "smSCIHNNdjWQ"
   },
   "outputs": [
    {
     "data": {
      "text/plain": [
       "array([['summer time mood'],\n",
       "       ['sport time']], dtype='<U17')"
      ]
     },
     "execution_count": 7,
     "metadata": {},
     "output_type": "execute_result"
    }
   ],
   "source": [
    "A = np.array([['#summer#time#mood'],\n",
    "              ['#sport#time']])\n",
    "# Solution\n",
    "np.char.lstrip(np.char.replace(A,'#',' '),' ')"
   ]
  },
  {
   "cell_type": "markdown",
   "metadata": {
    "id": "PunXd_Ey16so",
    "lang": "auto"
   },
   "source": [
    "### <a name='6'></a> Exercise 86\n",
    "Podana jest poniższa tabilca:\n",
    "\n",
    "```\n",
    "A = np.array([['#summer#time#mood', '#vibe'],\n",
    "              ['#sport#time', '#good#time'],\n",
    "              ['#event#summer', '#fast#move']])\n",
    "```\n",
    "Policz liczbę wystąpień słowa 'time' w każdym elemencie tablicy $A$.\n",
    "\n",
    "__Wskazówka:__ Użyj funkcji _np.char.count()_.\n"
   ]
  },
  {
   "cell_type": "markdown",
   "metadata": {
    "lang": "pl"
   },
   "source": [
    "### <a name='6'></a> Exercise 86\n",
    "The table is given below:\n",
    "\n",
    "```\n",
    "A = np.array([['#summer#time#mood', '#vibe'],\n",
    "              ['#sport#time', '#good#time'],\n",
    "              ['#event#summer', '#fast#move']])\n",
    "```\n",
    "Count word 'time' in all elements of table $A$.\n"
   ]
  },
  {
   "cell_type": "code",
   "execution_count": 8,
   "metadata": {},
   "outputs": [
    {
     "name": "stdout",
     "output_type": "stream",
     "text": [
      "Word time is used in array A: 3 times\n"
     ]
    }
   ],
   "source": [
    "A = np.array([['#summer#time#mood', '#vibe'],\n",
    "              ['#sport#time', '#good#time'],\n",
    "              ['#event#summer', '#fast#move']])\n",
    "\n",
    "print(f'Word time is used in array A: {np.char.count(A,\"time\").sum()} times')"
   ]
  },
  {
   "cell_type": "markdown",
   "metadata": {
    "id": "hOhqDRz618Tx"
   },
   "source": [
    "### <a name='7'></a> Exercise 87\n",
    "The text from Polish stocks WIG20 is given:\n",
    "\n",
    "\n",
    "```\n",
    "text = \"\"\"ALIOR\tPLALIOR00045\t88 860 000\t1 386 216 000\t0,891\t2,16\t14\n",
    "CCC\tPLCCC0000016\t27 918 000\t1 292 603 400\t0,831\t5,28\t42\n",
    "CDPROJEKT\tPLOPTTC00011\t67 348 000\t22 864 646 000\t14,702\t7,39\t7\n",
    "CYFRPLSAT\tPLCFRPT00013\t275 301 000\t6 854 994 900\t4,408\t1,17\t14\n",
    "DINOPL\tPLDINPL00011\t47 937 000\t8 916 282 000\t5,733\t9,13\t12\n",
    "JSW\tPLJSW0000015\t52 636 000\t716 902 320\t0,461\t1,51\t24\n",
    "KGHM\tPLKGHM000017\t136 410 000\t9 881 540 400\t6,354\t4,78\t8\n",
    "LOTOS\tPLLOTOS00025\t86 543 000\t5 609 717 260\t3,607\t2,91\t16\n",
    "LPP\tPLLPP0000011\t1 306 000\t7 444 200 000\t4,787\t1,43\t19\n",
    "MBANK\tPLBRE0000012\t12 997 000\t2 830 746 600\t1,820\t0,42\t24\n",
    "ORANGEPL\tPLTLKPL00017\t647 357 000\t4 285 503 340\t2,756\t1,16\t13\n",
    "PEKAO\tPLPEKAO00016\t176 379 000\t9 619 710 660\t6,185\t5,27\t9\n",
    "PGE\tPLPGER000010\t796 776 000\t3 561 588 720\t2,290\t2,88\t18\n",
    "PGNIG\tPLPGNIG00014\t1 624 608 000\t6 072 784 704\t3,905\t1,56\t12\n",
    "PKNORLEN\tPLPKN0000018\t289 049 000\t17 701 360 760\t11,382\t12,44\t8\n",
    "PKOBP\tPLPKO0000016\t857 593 000\t18 807 014 490\t12,093\t10,49\t9\n",
    "PLAY\tLU1642887738\t114 151 000\t3 696 209 380\t2,377\t1,47\t16\n",
    "PZU\tPLPZU0000011\t568 305 000\t17 515 160 100\t11,262\t6,64\t6\n",
    "SANPL\tPLBZ00000044\t33 207 000\t5 213 499 000\t3,352\t1,91\t18\n",
    "TAURONPE\tPLTAURN00011\t1 043 590 000\t1 252 308 000\t0,805\t1,21\t33\"\"\"\n",
    "```\n",
    "\n",
    "\n",
    "__Columns in order mean:__\n",
    "\n",
    "Instrument | ISIN code | Package | Package (PLN) | Share in the portfolio (%) | Share in share and allotment rights trading during the session (%) | Average spread per session\n",
    "\n",
    "Create two dimenssional table from text, where rows are line of text and columns its values.\n",
    "Assign the result table as _result_.\n",
    "\n",
    "__Excepted result:__\n",
    "\n",
    "\n",
    "```\n",
    "array([['ALIOR', 'PLALIOR00045', '88 860 000', '1 386 216 000', '0,891', '2,16', '14'],\n",
    "       ['CCC', 'PLCCC0000016', '27 918 000', '1 292 603 400', '0,831', '5,28', '42'],\n",
    "       ['CDPROJEKT', 'PLOPTTC00011', '67 348 000', '22 864 646 000', '14,702', '7,39', '7'],\n",
    "       ['CYFRPLSAT', 'PLCFRPT00013', '275 301 000', '6 854 994 900', '4,408', '1,17', '14'],\n",
    "       ['DINOPL', 'PLDINPL00011', '47 937 000', '8 916 282 000', '5,733', '9,13', '12'],\n",
    "       ['JSW', 'PLJSW0000015', '52 636 000', '716 902 320', '0,461', '1,51', '24'],\n",
    "       ['KGHM', 'PLKGHM000017', '136 410 000', '9 881 540 400', '6,354', '4,78', '8'],\n",
    "       ['LOTOS', 'PLLOTOS00025', '86 543 000', '5 609 717 260', '3,607', '2,91', '16'],\n",
    "       ['LPP', 'PLLPP0000011', '1 306 000', '7 444 200 000', '4,787', '1,43', '19'],\n",
    "       ['MBANK', 'PLBRE0000012', '12 997 000', '2 830 746 600', '1,820', '0,42', '24'],\n",
    "       ['ORANGEPL', 'PLTLKPL00017', '647 357 000', '4 285 503 340', '2,756', '1,16', '13'],\n",
    "       ['PEKAO', 'PLPEKAO00016', '176 379 000', '9 619 710 660', '6,185', '5,27', '9'],\n",
    "       ['PGE', 'PLPGER000010', '796 776 000', '3 561 588 720', '2,290', '2,88', '18'],\n",
    "       ['PGNIG', 'PLPGNIG00014', '1 624 608 000', '6 072 784 704', '3,905', '1,56', '12'],\n",
    "       ['PKNORLEN', 'PLPKN0000018', '289 049 000', '17 701 360 760', '11,382', '12,44', '8'],\n",
    "       ['PKOBP', 'PLPKO0000016', '857 593 000', '18 807 014 490', '12,093', '10,49', '9'],\n",
    "       ['PLAY', 'LU1642887738', '114 151 000', '3 696 209 380', '2,377', '1,47', '16'],\n",
    "       ['PZU', 'PLPZU0000011', '568 305 000', '17 515 160 100', '11,262', '6,64', '6'],\n",
    "       ['SANPL', 'PLBZ00000044', '33 207 000', '5 213 499 000', '3,352', '1,91', '18'],\n",
    "       ['TAURONPE', 'PLTAURN00011', '1 043 590 000', '1 252 308 000', '0,805', '1,21', '33']],\n",
    "      dtype='<U14')\n",
    "```\n",
    "\n",
    "\n"
   ]
  },
  {
   "cell_type": "code",
   "execution_count": 9,
   "metadata": {},
   "outputs": [
    {
     "data": {
      "text/plain": [
       "array([['ALIOR', 'PLALIOR00045', '88 860 000', '1 386 216 000', '0,891', '2,16', '14'],\n",
       "       ['CCC', 'PLCCC0000016', '27 918 000', '1 292 603 400', '0,831', '5,28', '42'],\n",
       "       ['CDPROJEKT', 'PLOPTTC00011', '67 348 000', '22 864 646 000', '14,702', '7,39', '7'],\n",
       "       ['CYFRPLSAT', 'PLCFRPT00013', '275 301 000', '6 854 994 900', '4,408', '1,17', '14'],\n",
       "       ['DINOPL', 'PLDINPL00011', '47 937 000', '8 916 282 000', '5,733', '9,13', '12'],\n",
       "       ['JSW', 'PLJSW0000015', '52 636 000', '716 902 320', '0,461', '1,51', '24'],\n",
       "       ['KGHM', 'PLKGHM000017', '136 410 000', '9 881 540 400', '6,354', '4,78', '8'],\n",
       "       ['LOTOS', 'PLLOTOS00025', '86 543 000', '5 609 717 260', '3,607', '2,91', '16'],\n",
       "       ['LPP', 'PLLPP0000011', '1 306 000', '7 444 200 000', '4,787', '1,43', '19'],\n",
       "       ['MBANK', 'PLBRE0000012', '12 997 000', '2 830 746 600', '1,820', '0,42', '24'],\n",
       "       ['ORANGEPL', 'PLTLKPL00017', '647 357 000', '4 285 503 340', '2,756', '1,16', '13'],\n",
       "       ['PEKAO', 'PLPEKAO00016', '176 379 000', '9 619 710 660', '6,185', '5,27', '9'],\n",
       "       ['PGE', 'PLPGER000010', '796 776 000', '3 561 588 720', '2,290', '2,88', '18'],\n",
       "       ['PGNIG', 'PLPGNIG00014', '1 624 608 000', '6 072 784 704', '3,905', '1,56', '12'],\n",
       "       ['PKNORLEN', 'PLPKN0000018', '289 049 000', '17 701 360 760', '11,382', '12,44', '8'],\n",
       "       ['PKOBP', 'PLPKO0000016', '857 593 000', '18 807 014 490', '12,093', '10,49', '9'],\n",
       "       ['PLAY', 'LU1642887738', '114 151 000', '3 696 209 380', '2,377', '1,47', '16'],\n",
       "       ['PZU', 'PLPZU0000011', '568 305 000', '17 515 160 100', '11,262', '6,64', '6'],\n",
       "       ['SANPL', 'PLBZ00000044', '33 207 000', '5 213 499 000', '3,352', '1,91', '18'],\n",
       "       ['TAURONPE', 'PLTAURN00011', '1 043 590 000', '1 252 308 000', '0,805', '1,21', '33']],\n",
       "      dtype='<U14')"
      ]
     },
     "execution_count": 9,
     "metadata": {},
     "output_type": "execute_result"
    }
   ],
   "source": [
    "text = \"\"\"ALIOR    PLALIOR00045    88 860 000    1 386 216 000    0,891    2,16    14\n",
    "CCC    PLCCC0000016    27 918 000    1 292 603 400    0,831    5,28    42\n",
    "CDPROJEKT    PLOPTTC00011    67 348 000    22 864 646 000    14,702    7,39    7\n",
    "CYFRPLSAT    PLCFRPT00013    275 301 000    6 854 994 900    4,408    1,17    14\n",
    "DINOPL    PLDINPL00011    47 937 000    8 916 282 000    5,733    9,13    12\n",
    "JSW    PLJSW0000015    52 636 000    716 902 320    0,461    1,51    24\n",
    "KGHM    PLKGHM000017    136 410 000    9 881 540 400    6,354    4,78    8\n",
    "LOTOS    PLLOTOS00025    86 543 000    5 609 717 260    3,607    2,91    16\n",
    "LPP    PLLPP0000011    1 306 000    7 444 200 000    4,787    1,43    19\n",
    "MBANK    PLBRE0000012    12 997 000    2 830 746 600    1,820    0,42    24\n",
    "ORANGEPL    PLTLKPL00017    647 357 000    4 285 503 340    2,756    1,16    13\n",
    "PEKAO    PLPEKAO00016    176 379 000    9 619 710 660    6,185    5,27    9\n",
    "PGE    PLPGER000010    796 776 000    3 561 588 720    2,290    2,88    18\n",
    "PGNIG    PLPGNIG00014    1 624 608 000    6 072 784 704    3,905    1,56    12\n",
    "PKNORLEN    PLPKN0000018    289 049 000    17 701 360 760    11,382    12,44    8\n",
    "PKOBP    PLPKO0000016    857 593 000    18 807 014 490    12,093    10,49    9\n",
    "PLAY    LU1642887738    114 151 000    3 696 209 380    2,377    1,47    16\n",
    "PZU    PLPZU0000011    568 305 000    17 515 160 100    11,262    6,64    6\n",
    "SANPL    PLBZ00000044    33 207 000    5 213 499 000    3,352    1,91    18\n",
    "TAURONPE    PLTAURN00011    1 043 590 000    1 252 308 000    0,805    1,21    33\"\"\"\n",
    "\n",
    "# Solution\n",
    "arr = np.char.splitlines(text, keepends= None)\n",
    "lst = arr.item()\n",
    "for nb,element in enumerate(lst):\n",
    "    lst[nb] = element.split('    ')\n",
    "result = np.array(lst)\n",
    "result"
   ]
  },
  {
   "cell_type": "markdown",
   "metadata": {
    "id": "TXUd_4631-gw"
   },
   "source": [
    "### <a name='8'></a> Exercise 88\n",
    "From the table _result_ remove all whitespaces in the text and replace all commas with periods."
   ]
  },
  {
   "cell_type": "code",
   "execution_count": 10,
   "metadata": {
    "id": "UBLHFX5WR-oC"
   },
   "outputs": [
    {
     "data": {
      "text/plain": [
       "array([['ALIOR', 'PLALIOR00045', '88860000', '1386216000', '0.891', '2.16', '14'],\n",
       "       ['CCC', 'PLCCC0000016', '27918000', '1292603400', '0.831', '5.28', '42'],\n",
       "       ['CDPROJEKT', 'PLOPTTC00011', '67348000', '22864646000', '14.702', '7.39', '7'],\n",
       "       ['CYFRPLSAT', 'PLCFRPT00013', '275301000', '6854994900', '4.408', '1.17', '14'],\n",
       "       ['DINOPL', 'PLDINPL00011', '47937000', '8916282000', '5.733', '9.13', '12'],\n",
       "       ['JSW', 'PLJSW0000015', '52636000', '716902320', '0.461', '1.51', '24'],\n",
       "       ['KGHM', 'PLKGHM000017', '136410000', '9881540400', '6.354', '4.78', '8'],\n",
       "       ['LOTOS', 'PLLOTOS00025', '86543000', '5609717260', '3.607', '2.91', '16'],\n",
       "       ['LPP', 'PLLPP0000011', '1306000', '7444200000', '4.787', '1.43', '19'],\n",
       "       ['MBANK', 'PLBRE0000012', '12997000', '2830746600', '1.820', '0.42', '24'],\n",
       "       ['ORANGEPL', 'PLTLKPL00017', '647357000', '4285503340', '2.756', '1.16', '13'],\n",
       "       ['PEKAO', 'PLPEKAO00016', '176379000', '9619710660', '6.185', '5.27', '9'],\n",
       "       ['PGE', 'PLPGER000010', '796776000', '3561588720', '2.290', '2.88', '18'],\n",
       "       ['PGNIG', 'PLPGNIG00014', '1624608000', '6072784704', '3.905', '1.56', '12'],\n",
       "       ['PKNORLEN', 'PLPKN0000018', '289049000', '17701360760', '11.382', '12.44', '8'],\n",
       "       ['PKOBP', 'PLPKO0000016', '857593000', '18807014490', '12.093', '10.49', '9'],\n",
       "       ['PLAY', 'LU1642887738', '114151000', '3696209380', '2.377', '1.47', '16'],\n",
       "       ['PZU', 'PLPZU0000011', '568305000', '17515160100', '11.262', '6.64', '6'],\n",
       "       ['SANPL', 'PLBZ00000044', '33207000', '5213499000', '3.352', '1.91', '18'],\n",
       "       ['TAURONPE', 'PLTAURN00011', '1043590000', '1252308000', '0.805', '1.21', '33']],\n",
       "      dtype='<U12')"
      ]
     },
     "execution_count": 10,
     "metadata": {},
     "output_type": "execute_result"
    }
   ],
   "source": [
    "# Solution\n",
    "result = np.char.replace(np.char.replace(result,old = ' ',new = ''),old = ',',new = '.')\n",
    "result"
   ]
  },
  {
   "cell_type": "markdown",
   "metadata": {
    "id": "8aBDi6nKIkBN"
   },
   "source": [
    "Cut 5th column from result array, next change its type to _float_ compute sum for this column. Check if is equal to 100%."
   ]
  },
  {
   "cell_type": "code",
   "execution_count": 11,
   "metadata": {
    "id": "TfwPahysSAeI"
   },
   "outputs": [
    {
     "name": "stdout",
     "output_type": "stream",
     "text": [
      "The sum of column is: 100.001\n",
      "The sum of column != 100\n"
     ]
    }
   ],
   "source": [
    "# Solution\n",
    "sum_of_col = np.sum(result[:,4].astype('float'))\n",
    "print(f'The sum of column is: {sum_of_col}')\n",
    "print('The sum of column = 100') if sum_of_col==100 else print('The sum of column != 100')"
   ]
  },
  {
   "cell_type": "markdown",
   "metadata": {
    "id": "tgI6xEn-2AQo"
   },
   "source": [
    "### <a name='9'></a> Exercise 89\n",
    "From table _result_ cut all rows with name of stocks started with P and assign result to variable _stocks_startswith_P_.\n",
    "\n",
    "__Excepted result:__\n",
    "\n",
    "\n",
    "```\n",
    "array([['PEKAO', 'PLPEKAO00016', '176379000', '9619710660', '6.185', '5.27', '9'],\n",
    "       ['PGE', 'PLPGER000010', '796776000', '3561588720', '2.290', '2.88', '18'],\n",
    "       ['PGNIG', 'PLPGNIG00014', '1624608000', '6072784704', '3.905', '1.56', '12'],\n",
    "       ['PKNORLEN', 'PLPKN0000018', '289049000', '17701360760', '11.382', '12.44', '8'],\n",
    "       ['PKOBP', 'PLPKO0000016', '857593000', '18807014490', '12.093', '10.49', '9'],\n",
    "       ['PLAY', 'LU1642887738', '114151000', '3696209380', '2.377', '1.47', '16'],\n",
    "       ['PZU', 'PLPZU0000011', '568305000', '17515160100', '11.262', '6.64', '6']], dtype='<U12')\n",
    "```\n",
    "\n"
   ]
  },
  {
   "cell_type": "code",
   "execution_count": 12,
   "metadata": {
    "id": "ckdZrbDhT_RP"
   },
   "outputs": [
    {
     "data": {
      "text/plain": [
       "array([['PEKAO', 'PLPEKAO00016', '176379000', '9619710660', '6.185', '5.27', '9'],\n",
       "       ['PGE', 'PLPGER000010', '796776000', '3561588720', '2.290', '2.88', '18'],\n",
       "       ['PGNIG', 'PLPGNIG00014', '1624608000', '6072784704', '3.905', '1.56', '12'],\n",
       "       ['PKNORLEN', 'PLPKN0000018', '289049000', '17701360760', '11.382', '12.44', '8'],\n",
       "       ['PKOBP', 'PLPKO0000016', '857593000', '18807014490', '12.093', '10.49', '9'],\n",
       "       ['PLAY', 'LU1642887738', '114151000', '3696209380', '2.377', '1.47', '16'],\n",
       "       ['PZU', 'PLPZU0000011', '568305000', '17515160100', '11.262', '6.64', '6']], dtype='<U12')"
      ]
     },
     "execution_count": 12,
     "metadata": {},
     "output_type": "execute_result"
    }
   ],
   "source": [
    "# Solution\n",
    "stocks_startswith_P = result[np.char.startswith(result[:,0],prefix = 'P')]\n",
    "stocks_startswith_P"
   ]
  },
  {
   "cell_type": "markdown",
   "metadata": {
    "id": "wxhpf-uq2B1I"
   },
   "source": [
    "### <a name='10'></a> Exercise 90\n",
    "Uning _stocks_startswith_P_ compute the sum of column 5. Round result to 2 digits."
   ]
  },
  {
   "cell_type": "code",
   "execution_count": 13,
   "metadata": {
    "id": "YFc0KW6URsuc"
   },
   "outputs": [
    {
     "data": {
      "text/plain": [
       "49.49"
      ]
     },
     "execution_count": 13,
     "metadata": {},
     "output_type": "execute_result"
    }
   ],
   "source": [
    "# Solution\n",
    "np.round(np.sum(stocks_startswith_P[:,4].astype('float')),2)\n"
   ]
  }
 ],
 "metadata": {
  "colab": {
   "collapsed_sections": [],
   "name": "081-090_exercises.ipynb",
   "provenance": []
  },
  "kernelspec": {
   "display_name": "Python 3",
   "language": "python",
   "name": "python3"
  },
  "language_info": {
   "codemirror_mode": {
    "name": "ipython",
    "version": 3
   },
   "file_extension": ".py",
   "mimetype": "text/x-python",
   "name": "python",
   "nbconvert_exporter": "python",
   "pygments_lexer": "ipython3",
   "version": "3.8.5"
  },
  "nbTranslate": {
   "displayLangs": [
    "pl"
   ],
   "hotkey": "alt-t",
   "langInMainMenu": true,
   "sourceLang": "auto",
   "targetLang": "en",
   "useGoogleTranslate": true
  }
 },
 "nbformat": 4,
 "nbformat_minor": 1
}
