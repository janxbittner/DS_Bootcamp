{
 "cells": [
  {
   "cell_type": "markdown",
   "metadata": {
    "id": "zeLOLmTj1kBM"
   },
   "source": [
    "### <a name='0'></a>Import libraries"
   ]
  },
  {
   "cell_type": "code",
   "execution_count": 1,
   "metadata": {
    "id": "HXMB7SMe1Wnz"
   },
   "outputs": [
    {
     "data": {
      "text/plain": [
       "'1.19.2'"
      ]
     },
     "execution_count": 1,
     "metadata": {},
     "output_type": "execute_result"
    }
   ],
   "source": [
    "import numpy as np\n",
    "\n",
    "np.__version__"
   ]
  },
  {
   "cell_type": "markdown",
   "metadata": {
    "id": "cyc70pMe1oCg"
   },
   "source": [
    "### <a name='1'></a> Exercise 1\n",
    "Check if all elements in table $A, B, C$ and $D$ return logistic value _True_.\n",
    "\n",
    "\n",
    "\n",
    "```\n",
    "A = np.array([[3, 2, 1, 4],\n",
    "              [5, 2, 1, 6]])\n",
    "\n",
    "B = np.array([[3, 2, 1, 4],\n",
    "              [5, 2, 0, 6]])\n",
    "\n",
    "C = np.array([[True, False, False],\n",
    "              [True, True, True]])\n",
    "\n",
    "D = np.array([0.1, 0.3])\n",
    "```"
   ]
  },
  {
   "cell_type": "code",
   "execution_count": 2,
   "metadata": {
    "id": "IF1NmNBs1mxS"
   },
   "outputs": [
    {
     "name": "stdout",
     "output_type": "stream",
     "text": [
      "Array A return value: True\n",
      "Array B return value: False\n",
      "Array C return value: False\n",
      "Array D return value: True\n"
     ]
    }
   ],
   "source": [
    "# Defining elements\n",
    "A = np.array([[3, 2, 1, 4],\n",
    "              [5, 2, 1, 6]])\n",
    "\n",
    "B = np.array([[3, 2, 1, 4],\n",
    "              [5, 2, 0, 6]])\n",
    "\n",
    "C = np.array([[True, False, False],\n",
    "              [True, True, True]])\n",
    "\n",
    "D = np.array([0.1, 0.3])\n",
    "\n",
    "# Result\n",
    "print(f'Array A return value: {A.all()}')\n",
    "print(f'Array B return value: {B.all()}')\n",
    "print(f'Array C return value: {C.all()}')\n",
    "print(f'Array D return value: {D.all()}')"
   ]
  },
  {
   "cell_type": "markdown",
   "metadata": {
    "id": "J9pY1rtr1sC0"
   },
   "source": [
    "### <a name='2'></a> Exercise 2\n",
    "Check if all elements in array $A, B$ and $C$ return logistic value _True_ axis with index 1.\n",
    "\n",
    "\n",
    "```\n",
    "A = np.array([[3, 2, 1, 4],\n",
    "              [5, 2, 1, 6]])\n",
    "\n",
    "B = np.array([[3, 2, 1, 4],\n",
    "              [5, 2, 0, 6]])\n",
    "\n",
    "C = np.array([[True, False, False],\n",
    "              [True, True, True]])\n",
    "```"
   ]
  },
  {
   "cell_type": "code",
   "execution_count": 3,
   "metadata": {
    "id": "zpTYzL-O1qxq"
   },
   "outputs": [
    {
     "name": "stdout",
     "output_type": "stream",
     "text": [
      "Array A return value: [ True  True]\n",
      "Array B return value: [ True False]\n",
      "Array C return value: [False  True]\n"
     ]
    }
   ],
   "source": [
    "# Defining elements\n",
    "A = np.array([[3, 2, 1, 4],\n",
    "              [5, 2, 1, 6]])\n",
    "\n",
    "B = np.array([[3, 2, 1, 4],\n",
    "              [5, 2, 0, 6]])\n",
    "\n",
    "C = np.array([[True, False, False],\n",
    "              [True, True, True]])\n",
    "\n",
    "#Result\n",
    "print(f'Array A return value: {A.all(axis = 1)}')\n",
    "print(f'Array B return value: {B.all(axis = 1)}')\n",
    "print(f'Array C return value: {C.all(axis = 1)}')"
   ]
  },
  {
   "cell_type": "markdown",
   "metadata": {
    "id": "XQLYT2m11wVG"
   },
   "source": [
    "### <a name='3'></a> Exercise 3\n",
    "Check if any element in array $A, B, C$ and $D$ return value _True_.\n",
    "\n",
    "\n",
    "```\n",
    "A = np.array([[0, 0, 0],\n",
    "              [0, 0, 0]])\n",
    "\n",
    "B = np.array([[0, 0, 0],\n",
    "              [0, 1, 0]])\n",
    "\n",
    "C = np.array([[False, False, False],\n",
    "              [True, False, False]])\n",
    "\n",
    "D = np.array([[0.1, 0.0]])\n",
    "```"
   ]
  },
  {
   "cell_type": "code",
   "execution_count": 4,
   "metadata": {
    "id": "8ZdasxYF1u8f"
   },
   "outputs": [
    {
     "name": "stdout",
     "output_type": "stream",
     "text": [
      "Array A return value: False\n",
      "Array B return value: True\n",
      "Array C return value: True\n",
      "Array D return value: True\n"
     ]
    }
   ],
   "source": [
    "# Declaration of elements\n",
    "A = np.array([[0, 0, 0],\n",
    "              [0, 0, 0]])\n",
    "\n",
    "B = np.array([[0, 0, 0],\n",
    "              [0, 1, 0]])\n",
    "\n",
    "C = np.array([[False, False, False],\n",
    "              [True, False, False]])\n",
    "\n",
    "D = np.array([[0.1, 0.0]])\n",
    "\n",
    "\n",
    "# Solution\n",
    "for name, array in zip(['A','B','C','D'],[A,B,C,D]):\n",
    "    print(f'Array {name.upper()} return value: {array.any()}')"
   ]
  },
  {
   "cell_type": "markdown",
   "metadata": {
    "id": "4xTKSUzg10MK"
   },
   "source": [
    "### <a name='4'></a> Exercise 4\n",
    "Check if any element in array $A, B, C$ and $D$ return logistic value _True_ through each axis indexed 0.\n",
    "\n",
    "\n",
    "```\n",
    "A = np.array([[0, 0, 0],\n",
    "              [0, 0, 0]])\n",
    "\n",
    "B = np.array([[0, 0, 0],\n",
    "              [0, 1, 0]])\n",
    "\n",
    "C = np.array([[False, False, False],\n",
    "              [True, False, False]])\n",
    "\n",
    "D = np.array([[0.1, 0.0]])\n",
    "```"
   ]
  },
  {
   "cell_type": "code",
   "execution_count": 5,
   "metadata": {
    "id": "XdfedHWm1ynE"
   },
   "outputs": [
    {
     "name": "stdout",
     "output_type": "stream",
     "text": [
      "Array A returns value [False False False]\n",
      "Array B returns value [False  True False]\n",
      "Array C returns value [ True False False]\n",
      "Array D returns value [ True False]\n"
     ]
    }
   ],
   "source": [
    "# Array declatation\n",
    "A = np.array([[0, 0, 0],\n",
    "              [0, 0, 0]])\n",
    "\n",
    "B = np.array([[0, 0, 0],\n",
    "              [0, 1, 0]])\n",
    "\n",
    "C = np.array([[False, False, False],\n",
    "              [True, False, False]])\n",
    "\n",
    "D = np.array([[0.1, 0.0]])\n",
    "\n",
    "# Result\n",
    "for array_name, array in zip(['A','B','C','D'],[A,B,C,D]):\n",
    "    print(f'Array {array_name} returns value {array.any(axis = 0)}')"
   ]
  },
  {
   "cell_type": "markdown",
   "metadata": {
    "id": "o3HKIKlP15Ro"
   },
   "source": [
    "### <a name='5'></a> Exercise 5\n",
    "Check the array $A$ if consist numpy nan values.\n",
    "\n",
    "\n",
    "```\n",
    "A = np.array([[3, 2, 1, np.nan],\n",
    "              [5, np.nan, 1, 6]])\n",
    "```"
   ]
  },
  {
   "cell_type": "code",
   "execution_count": 6,
   "metadata": {
    "id": "pjKDpdCy12cg"
   },
   "outputs": [
    {
     "name": "stdout",
     "output_type": "stream",
     "text": [
      "Array A consist of nan values\n"
     ]
    }
   ],
   "source": [
    "# Array declaration\n",
    "A = np.array([[3, 2, 1, np.nan],\n",
    "              [5, np.nan, 1, 6]])\n",
    "\n",
    "# Result\n",
    "print('Array A consist of nan values') if np.isnan(A).all() == False else print('Array havn\\'t nan values')"
   ]
  },
  {
   "cell_type": "markdown",
   "metadata": {
    "id": "PunXd_Ey16so"
   },
   "source": [
    "### <a name='6'></a> Exercise 6\n",
    "Check if arrays $A$ oraz $B$ are similar to self with default tolerance level.\n",
    "\n",
    "\n",
    "```\n",
    "A = np.array([0.4, 0.5, 0.3])\n",
    "B = np.array([0.39999999, 0.5000001, 0.3])\n",
    "```\n"
   ]
  },
  {
   "cell_type": "code",
   "execution_count": 7,
   "metadata": {
    "id": "gJTx2KhF175d"
   },
   "outputs": [
    {
     "name": "stdout",
     "output_type": "stream",
     "text": [
      "Elements on column 0 are equal\n",
      "Elements on column 1 are equal\n",
      "Elements on column 2 are equal\n",
      "\n",
      "Elements in arrays are equal\n"
     ]
    }
   ],
   "source": [
    "# Arrays declaration\n",
    "A = np.array([0.4, 0.5, 0.3])\n",
    "B = np.array([0.39999999, 0.5000001, 0.3])\n",
    "\n",
    "# Result\n",
    "for element_nb in range(len(A)):\n",
    "    print(f'Elements on column {element_nb} are {\"equal\" if np.isclose(A,B)[element_nb] == True else \"not equal\"}')\n",
    "    \n",
    "print('\\nElements in arrays are equal' if np.isclose(A,B).all()== True else 'Elements in arrays are not equal')"
   ]
  },
  {
   "cell_type": "markdown",
   "metadata": {
    "id": "hOhqDRz618Tx"
   },
   "source": [
    "### <a name='7'></a> Ćwiczenie 7\n",
    "Check if arrays $A$ and $B$ are equal.\n",
    "\n",
    "\n",
    "```\n",
    "A = np.array([0.4, 0.5, 0.3])\n",
    "B = np.array([0.3999999999, 0.5000000001, 0.3])\n",
    "```"
   ]
  },
  {
   "cell_type": "code",
   "execution_count": 8,
   "metadata": {
    "id": "G4jvbzwe1-AH"
   },
   "outputs": [
    {
     "name": "stdout",
     "output_type": "stream",
     "text": [
      "Elements in 0 column are Not equal\n",
      "Elements in 1 column are Not equal\n",
      "Elements in 2 column are Equal\n",
      "\n",
      "\n",
      "Elements in arrays are not equal\n"
     ]
    }
   ],
   "source": [
    "# Assign array\n",
    "A = np.array([0.4, 0.5, 0.3])\n",
    "B = np.array([0.3999999999, 0.5000000001, 0.3])\n",
    "\n",
    "# Result\n",
    "Compare_array = A==B\n",
    "for element_number in range(len(A)):\n",
    "    print(f'Elements in {element_number} column are {\"Equal\" if Compare_array[element_number] == True else \"Not equal\"}')\n",
    "    \n",
    "print('\\n')\n",
    "print('Elements in arrays are equal' if Compare_array.all()== True else 'Elements in arrays are not equal')"
   ]
  },
  {
   "cell_type": "markdown",
   "metadata": {
    "id": "TXUd_4631-gw"
   },
   "source": [
    "### <a name='8'></a> Ćwiczenie 8\n",
    "Check if array $A$ has greater values than array $B$.\n",
    "\n",
    "\n",
    "```\n",
    "A = np.array([0.4, 0.5, 0.3, 0.9])\n",
    "B = np.array([0.38, 0.51, 0.3, 0.91])\n",
    "```\n",
    "\n"
   ]
  },
  {
   "cell_type": "code",
   "execution_count": 9,
   "metadata": {
    "id": "QWK7Yr671_xV"
   },
   "outputs": [
    {
     "name": "stdout",
     "output_type": "stream",
     "text": [
      "Element number 0 in array A is greather then in array B\n",
      "Element number 1 in array A is not greather then in array B\n",
      "Element number 2 in array A is not greather then in array B\n",
      "Element number 3 in array A is not greather then in array B\n"
     ]
    }
   ],
   "source": [
    "# Enter arrays\n",
    "A = np.array([0.4, 0.5, 0.3, 0.9])\n",
    "B = np.array([0.38, 0.51, 0.3, 0.91])\n",
    "\n",
    "result_array = A>B\n",
    "for number,value in enumerate(result_array):\n",
    "    if value == True:\n",
    "        print(f'Element number {number} in array A is greather then in array B')\n",
    "    else:\n",
    "        print(f'Element number {number} in array A is not greather then in array B')"
   ]
  },
  {
   "cell_type": "markdown",
   "metadata": {
    "id": "tgI6xEn-2AQo"
   },
   "source": [
    "### <a name='9'></a> Exercise 9\n",
    "Create array of shape _4x4_ filled by zeros. Set data types to _int_.\n",
    "\n",
    "__Excepted result:__\n",
    "\n",
    "\n",
    "```\n",
    "array([[0, 0, 0, 0],\n",
    "       [0, 0, 0, 0],\n",
    "       [0, 0, 0, 0],\n",
    "       [0, 0, 0, 0]])\n",
    "```"
   ]
  },
  {
   "cell_type": "code",
   "execution_count": 10,
   "metadata": {
    "id": "-_mfXExMOeSc"
   },
   "outputs": [
    {
     "data": {
      "text/plain": [
       "array([[0, 0, 0, 0],\n",
       "       [0, 0, 0, 0],\n",
       "       [0, 0, 0, 0],\n",
       "       [0, 0, 0, 0]])"
      ]
     },
     "execution_count": 10,
     "metadata": {},
     "output_type": "execute_result"
    }
   ],
   "source": [
    "# Result\n",
    "np.zeros(shape = (4,4),dtype = int)"
   ]
  },
  {
   "cell_type": "markdown",
   "metadata": {
    "id": "wxhpf-uq2B1I"
   },
   "source": [
    "### <a name='10'></a> Exercise 10\n",
    "Create numpy array shape of _10x10_ filled by values 255. Set data type to _float_.\n",
    "\n",
    "__Excepted result:__\n",
    "\n",
    "\n",
    "```\n",
    "array([[255., 255., 255., 255., 255., 255., 255., 255., 255., 255.],\n",
    "       [255., 255., 255., 255., 255., 255., 255., 255., 255., 255.],\n",
    "       [255., 255., 255., 255., 255., 255., 255., 255., 255., 255.],\n",
    "       [255., 255., 255., 255., 255., 255., 255., 255., 255., 255.],\n",
    "       [255., 255., 255., 255., 255., 255., 255., 255., 255., 255.],\n",
    "       [255., 255., 255., 255., 255., 255., 255., 255., 255., 255.],\n",
    "       [255., 255., 255., 255., 255., 255., 255., 255., 255., 255.],\n",
    "       [255., 255., 255., 255., 255., 255., 255., 255., 255., 255.],\n",
    "       [255., 255., 255., 255., 255., 255., 255., 255., 255., 255.],\n",
    "       [255., 255., 255., 255., 255., 255., 255., 255., 255., 255.]])\n",
    "```"
   ]
  },
  {
   "cell_type": "code",
   "execution_count": 11,
   "metadata": {
    "id": "49lqFGT42Dji"
   },
   "outputs": [
    {
     "data": {
      "text/plain": [
       "array([[255., 255., 255., 255., 255., 255., 255., 255., 255., 255.],\n",
       "       [255., 255., 255., 255., 255., 255., 255., 255., 255., 255.],\n",
       "       [255., 255., 255., 255., 255., 255., 255., 255., 255., 255.],\n",
       "       [255., 255., 255., 255., 255., 255., 255., 255., 255., 255.],\n",
       "       [255., 255., 255., 255., 255., 255., 255., 255., 255., 255.],\n",
       "       [255., 255., 255., 255., 255., 255., 255., 255., 255., 255.],\n",
       "       [255., 255., 255., 255., 255., 255., 255., 255., 255., 255.],\n",
       "       [255., 255., 255., 255., 255., 255., 255., 255., 255., 255.],\n",
       "       [255., 255., 255., 255., 255., 255., 255., 255., 255., 255.],\n",
       "       [255., 255., 255., 255., 255., 255., 255., 255., 255., 255.]])"
      ]
     },
     "execution_count": 11,
     "metadata": {},
     "output_type": "execute_result"
    }
   ],
   "source": [
    "# Result\n",
    "np.full(shape = (10,10),fill_value=255,dtype=float)"
   ]
  }
 ],
 "metadata": {
  "colab": {
   "collapsed_sections": [],
   "name": "001-010_exercises.ipynb",
   "provenance": []
  },
  "kernelspec": {
   "display_name": "Python 3",
   "language": "python",
   "name": "python3"
  },
  "language_info": {
   "codemirror_mode": {
    "name": "ipython",
    "version": 3
   },
   "file_extension": ".py",
   "mimetype": "text/x-python",
   "name": "python",
   "nbconvert_exporter": "python",
   "pygments_lexer": "ipython3",
   "version": "3.8.5"
  }
 },
 "nbformat": 4,
 "nbformat_minor": 1
}
