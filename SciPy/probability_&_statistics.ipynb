{
 "cells": [
  {
   "cell_type": "markdown",
   "metadata": {},
   "source": [
    "# Probability and statistics:"
   ]
  },
  {
   "cell_type": "markdown",
   "metadata": {},
   "source": [
    "Import modules:"
   ]
  },
  {
   "cell_type": "code",
   "execution_count": 165,
   "metadata": {},
   "outputs": [],
   "source": [
    "import numpy as np\n",
    "from scipy import stats\n",
    "import matplotlib.pyplot as plt\n",
    "import seaborn as sns\n",
    "from scipy.stats import norm\n",
    "sns.set()"
   ]
  },
  {
   "cell_type": "markdown",
   "metadata": {},
   "source": [
    "# Introduction:"
   ]
  },
  {
   "cell_type": "markdown",
   "metadata": {},
   "source": [
    "Discrete data example:\n",
    "(Students on year)"
   ]
  },
  {
   "cell_type": "code",
   "execution_count": 28,
   "metadata": {},
   "outputs": [
    {
     "data": {
      "text/plain": [
       "{'1-st year': 200,\n",
       " '2-sd year': 85,\n",
       " '3-rd year': 124,\n",
       " '4-th year': 103,\n",
       " '5-th year': 95}"
      ]
     },
     "execution_count": 28,
     "metadata": {},
     "output_type": "execute_result"
    }
   ],
   "source": [
    "year_of_stud = ['1-st year','2-sd year','3-rd year','4-th year','5-th year']\n",
    "nb_of_stud = np.array([200,85,124,103,95])\n",
    "students_on_year = {}\n",
    "\n",
    "for numb,item in enumerate(year_of_stud):\n",
    "    students_on_year[item] = nb_of_stud[numb]\n",
    "    \n",
    "students_on_year"
   ]
  },
  {
   "cell_type": "markdown",
   "metadata": {},
   "source": [
    "Continuous data example: (hight of students)"
   ]
  },
  {
   "cell_type": "code",
   "execution_count": 29,
   "metadata": {},
   "outputs": [
    {
     "data": {
      "text/plain": [
       "{'Stud. numb: 0': 200.0,\n",
       " 'Stud. numb: 1': 185.5,\n",
       " 'Stud. numb: 2': 146.8,\n",
       " 'Stud. numb: 3': 179.2,\n",
       " 'Stud. numb: 4': 162.5}"
      ]
     },
     "execution_count": 29,
     "metadata": {},
     "output_type": "execute_result"
    }
   ],
   "source": [
    "hight_of_stud = np.array([200,185.5,146.8,179.2,162.5])\n",
    "students_hight = {}\n",
    "\n",
    "for numb,item in enumerate(hight_of_stud):\n",
    "    students_hight['Stud. numb: '+str(numb)] = hight_of_stud[numb]\n",
    "    \n",
    "students_hight"
   ]
  },
  {
   "cell_type": "markdown",
   "metadata": {},
   "source": [
    "# Descriptive statistics:"
   ]
  },
  {
   "cell_type": "markdown",
   "metadata": {},
   "source": [
    "## Arithmetic mean example: (Students data)"
   ]
  },
  {
   "cell_type": "code",
   "execution_count": 40,
   "metadata": {},
   "outputs": [
    {
     "name": "stdout",
     "output_type": "stream",
     "text": [
      "Arithmetic mean of students on one year is: 121.4\n"
     ]
    }
   ],
   "source": [
    "result = np.mean(list(students_on_year.values()))\n",
    "print(f'Arithmetic mean of students on one year is: {result}')"
   ]
  },
  {
   "cell_type": "code",
   "execution_count": 41,
   "metadata": {},
   "outputs": [
    {
     "name": "stdout",
     "output_type": "stream",
     "text": [
      "Arithmetic mean of students hight is: 174.8 cm.\n"
     ]
    }
   ],
   "source": [
    "result = np.mean(list(students_hight.values()))\n",
    "print(f'Arithmetic mean of students hight is: {result} cm.')"
   ]
  },
  {
   "cell_type": "markdown",
   "metadata": {},
   "source": [
    "## Median example: (Students data)\n"
   ]
  },
  {
   "cell_type": "code",
   "execution_count": 42,
   "metadata": {},
   "outputs": [
    {
     "name": "stdout",
     "output_type": "stream",
     "text": [
      "Median of students on one year is: 103.0\n"
     ]
    }
   ],
   "source": [
    "result = np.median(list(students_on_year.values()))\n",
    "print(f'Median of students on one year is: {result}')"
   ]
  },
  {
   "cell_type": "code",
   "execution_count": 44,
   "metadata": {},
   "outputs": [
    {
     "name": "stdout",
     "output_type": "stream",
     "text": [
      "Median of students hight is: 179.2 cm.\n"
     ]
    }
   ],
   "source": [
    "result = np.median(list(students_hight.values()))\n",
    "print(f'Median of students hight is: {result} cm.')"
   ]
  },
  {
   "cell_type": "markdown",
   "metadata": {},
   "source": [
    "# Mode of samlpe array:"
   ]
  },
  {
   "cell_type": "code",
   "execution_count": 62,
   "metadata": {},
   "outputs": [
    {
     "name": "stdout",
     "output_type": "stream",
     "text": [
      "[7 2 8 4 4 2 5 9 8 0 2 8 2 1 2 3 3 8 5 5 9 1 6 9 6]\n"
     ]
    },
    {
     "data": {
      "text/plain": [
       "ModeResult(mode=array([2]), count=array([5]))"
      ]
     },
     "execution_count": 62,
     "metadata": {},
     "output_type": "execute_result"
    }
   ],
   "source": [
    "rand_array = np.random.randint(0,10,25)\n",
    "print(rand_array)\n",
    "scipy.stats.mode(rand_array)\n"
   ]
  },
  {
   "cell_type": "markdown",
   "metadata": {},
   "source": [
    "## Standard error of the mean:"
   ]
  },
  {
   "cell_type": "code",
   "execution_count": 80,
   "metadata": {},
   "outputs": [
    {
     "name": "stdout",
     "output_type": "stream",
     "text": [
      "Standard error of set x is: 0.2222\n",
      "Standard error of set y is: 1.1111\n"
     ]
    }
   ],
   "source": [
    "x = np.array([3.5,4,4])\n",
    "y = np.array([2,4,5])\n",
    "print(f'Standard error of set x is: {np.sum(np.abs(x - np.mean(x))/x.size):.4f}')\n",
    "print(f'Standard error of set y is: {np.sum(np.abs(y - np.mean(y))/y.size):.4f}')"
   ]
  },
  {
   "cell_type": "code",
   "execution_count": 83,
   "metadata": {},
   "outputs": [
    {
     "data": {
      "text/plain": [
       "0.23570226039551587"
      ]
     },
     "execution_count": 83,
     "metadata": {},
     "output_type": "execute_result"
    }
   ],
   "source": [
    "scipy.stats.sem(x,ddof=2)"
   ]
  },
  {
   "cell_type": "markdown",
   "metadata": {},
   "source": [
    "## Variance of sample:"
   ]
  },
  {
   "cell_type": "code",
   "execution_count": 93,
   "metadata": {},
   "outputs": [
    {
     "name": "stdout",
     "output_type": "stream",
     "text": [
      "Variance of x array is: 0.0556\n",
      "Variance of y array is: 1.5556\n"
     ]
    }
   ],
   "source": [
    "print(f'Variance of x array is: {np.var(x):.4f}')\n",
    "print(f'Variance of y array is: {np.var(y):.4f}')"
   ]
  },
  {
   "cell_type": "markdown",
   "metadata": {},
   "source": [
    "## Empirical distribution:\n"
   ]
  },
  {
   "cell_type": "code",
   "execution_count": 104,
   "metadata": {},
   "outputs": [
    {
     "data": {
      "text/plain": [
       "array([55, 58, 35, 81, 57,  7, 85, 35, 18, 34,  2,  2, 29, 20, 91, 20, 12,\n",
       "       64, 63, 73, 51, 16, 48, 70, 74, 51, 97, 50, 71, 71, 20, 35, 77, 82,\n",
       "       24, 10, 70,  2, 44,  0, 42, 83, 36,  7, 58, 64,  7, 37, 37, 25,  7,\n",
       "        5, 14, 96, 35, 50, 72, 94, 71, 93, 77, 40, 66, 11, 92, 81, 56, 98,\n",
       "       74, 39, 26,  2, 47, 81, 46, 21, 29, 82, 25, 45, 95, 55, 72, 15,  7,\n",
       "       15, 94, 19, 25, 13, 19, 23, 68, 61, 20, 71, 91, 53, 12,  0])"
      ]
     },
     "execution_count": 104,
     "metadata": {},
     "output_type": "execute_result"
    }
   ],
   "source": [
    "rand_array = np.random.randint(low = 0, high = 100,size = 100)\n",
    "rand_array"
   ]
  },
  {
   "cell_type": "markdown",
   "metadata": {},
   "source": [
    "for F(x>=50)"
   ]
  },
  {
   "cell_type": "code",
   "execution_count": 107,
   "metadata": {},
   "outputs": [
    {
     "name": "stdout",
     "output_type": "stream",
     "text": [
      "Empirical distribution of value higher or equal to 50 is: 0.47\n"
     ]
    }
   ],
   "source": [
    "prop = (rand_array[rand_array>=50].size) / rand_array.size\n",
    "print(f'Empirical distribution of value higher or equal to 50 is: {prop}')"
   ]
  },
  {
   "cell_type": "markdown",
   "metadata": {},
   "source": [
    "## Simple propability of even number in roll dice:"
   ]
  },
  {
   "cell_type": "code",
   "execution_count": 113,
   "metadata": {},
   "outputs": [
    {
     "name": "stdout",
     "output_type": "stream",
     "text": [
      "Propability of rolling even number is: 0.5\n"
     ]
    }
   ],
   "source": [
    "target = np.array([2,4,6])\n",
    "set_of_val = np.arange(1,7)\n",
    "prop = target.size/set_of_val.size\n",
    "\n",
    "print(f'Propability of rolling even number is: {prop}')"
   ]
  },
  {
   "cell_type": "markdown",
   "metadata": {},
   "source": [
    "## Check if two events are independent:"
   ]
  },
  {
   "cell_type": "code",
   "execution_count": 129,
   "metadata": {},
   "outputs": [
    {
     "name": "stdout",
     "output_type": "stream",
     "text": [
      "Two event are independent\n"
     ]
    }
   ],
   "source": [
    "A = {2,4,6}\n",
    "B = {5,6}\n",
    "elem_set = {1,2,3,4,5,6}\n",
    "intersection = set.intersection(A,B)\n",
    "prop_A = len(A) / len(elem_set)\n",
    "porp_B = len(B) / len(elem_set)\n",
    "porp_inters = len(intersection) / len(elem_set)\n",
    "check = 'Two event are independent' if porp_inters == prop_A * porp_B else 'Two event are not independent'\n",
    "print(check)"
   ]
  },
  {
   "cell_type": "code",
   "execution_count": 131,
   "metadata": {},
   "outputs": [
    {
     "name": "stdout",
     "output_type": "stream",
     "text": [
      "Two event are not independent\n"
     ]
    }
   ],
   "source": [
    "A = {2,4,6}\n",
    "C = {2,3,4,5,6}\n",
    "elem_set = {1,2,3,4,5,6}\n",
    "intersection = set.intersection(A,B)\n",
    "prop_A = len(A) / len(elem_set)\n",
    "porp_B = len(B) / len(elem_set)\n",
    "porp_inters = len(intersection) / len(elem_set)\n",
    "check = 'Two event are independent' if porp_inters == prop_A * porp_B else 'Two event are not independent'\n",
    "print(check)"
   ]
  },
  {
   "cell_type": "markdown",
   "metadata": {},
   "source": [
    "## Check conditional probability of two set:"
   ]
  },
  {
   "cell_type": "code",
   "execution_count": 132,
   "metadata": {},
   "outputs": [
    {
     "data": {
      "text/plain": [
       "0.5"
      ]
     },
     "execution_count": 132,
     "metadata": {},
     "output_type": "execute_result"
    }
   ],
   "source": [
    "A = {2,4,6}\n",
    "B = {5,6}\n",
    "elem_set = {1,2,3,4,5,6}\n",
    "prop_A = len(A) / len(elem_set)\n",
    "porp_B = len(B) / len(elem_set)\n",
    "porp_inters = len(intersection) / len(elem_set)\n",
    "prop_cond = porp_inters / porp_B\n",
    "prop_cond"
   ]
  },
  {
   "cell_type": "markdown",
   "metadata": {},
   "source": [
    "## Calculation of excepted value:"
   ]
  },
  {
   "cell_type": "code",
   "execution_count": 147,
   "metadata": {},
   "outputs": [
    {
     "name": "stdout",
     "output_type": "stream",
     "text": [
      "Excepted value of lottery is: 0.0\n",
      "Lottery is fair for both site!\n"
     ]
    }
   ],
   "source": [
    "chance = {950:0.05,-50:0.95,}\n",
    "EX = 0\n",
    "for key, val in chance.items():\n",
    "    EX += key * val\n",
    "\n",
    "print(f'Excepted value of lottery is: {EX}')\n",
    "\n",
    "if EX == 0:\n",
    "    print('Lottery is fair for both site!')\n",
    "elif EX < 0 :\n",
    "    print('Lottery is not fair for customer!')\n",
    "elif EX > 0 :\n",
    "    print('Lottery is not fair for Casino!')"
   ]
  },
  {
   "cell_type": "code",
   "execution_count": 148,
   "metadata": {},
   "outputs": [
    {
     "name": "stdout",
     "output_type": "stream",
     "text": [
      "Excepted value of lottery is: 950.5\n",
      "Lottery is not fair for Casino!\n"
     ]
    }
   ],
   "source": [
    "chance = {100000:0.01,-50:0.99,}\n",
    "EX = 0\n",
    "for key, val in chance.items():\n",
    "    EX += key * val\n",
    "\n",
    "print(f'Excepted value of lottery is: {EX}')\n",
    "\n",
    "if EX == 0:\n",
    "    print('Lottery is fair for both site!')\n",
    "elif EX < 0 :\n",
    "    print('Lottery is not fair for customer!')\n",
    "elif EX > 0 :\n",
    "    print('Lottery is not fair for Casino!')"
   ]
  },
  {
   "cell_type": "markdown",
   "metadata": {},
   "source": [
    "## Normal distibution"
   ]
  },
  {
   "cell_type": "code",
   "execution_count": 175,
   "metadata": {},
   "outputs": [
    {
     "data": {
      "text/plain": [
       "[<matplotlib.lines.Line2D at 0x1f517dda550>]"
      ]
     },
     "execution_count": 175,
     "metadata": {},
     "output_type": "execute_result"
    },
    {
     "data": {
      "image/png": "[encoded data removed]",
      "text/plain": [
       "<Figure size 432x288 with 1 Axes>"
      ]
     },
     "metadata": {},
     "output_type": "display_data"
    }
   ],
   "source": [
    "x = np.linspace(-1,1,100)\n",
    "plt.plot(x, norm.pdf(x,0,1))"
   ]
  }
 ],
 "metadata": {
  "kernelspec": {
   "display_name": "Python 3",
   "language": "python",
   "name": "python3"
  },
  "language_info": {
   "codemirror_mode": {
    "name": "ipython",
    "version": 3
   },
   "file_extension": ".py",
   "mimetype": "text/x-python",
   "name": "python",
   "nbconvert_exporter": "python",
   "pygments_lexer": "ipython3",
   "version": "3.8.5"
  }
 },
 "nbformat": 4,
 "nbformat_minor": 4
}
